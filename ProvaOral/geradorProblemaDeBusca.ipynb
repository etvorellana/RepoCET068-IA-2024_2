{
 "cells": [
  {
   "cell_type": "markdown",
   "metadata": {},
   "source": [
    "# O Problema\n",
    "\n"
   ]
  },
  {
   "cell_type": "code",
   "execution_count": 1,
   "metadata": {},
   "outputs": [],
   "source": [
    "from random import choice, seed"
   ]
  },
  {
   "cell_type": "code",
   "execution_count": 2,
   "metadata": {},
   "outputs": [],
   "source": [
    "class Cruzamento:\n",
    "\n",
    "    def __init__(self, lin, col):\n",
    "        self.saídas = {0: None, 1: None, 2: None, 3: None, 4: None, 5: None, 6: None, 7: None}\n",
    "        self.lin = lin\n",
    "        self.col = col\n",
    "        self.nome = f'([{lin}], [{col}])'\n",
    "    ''' \n",
    "        Adiciona um corredor  saída ao nó\n",
    "        @param saída: direção de saída:\n",
    "            0- Norte\n",
    "            1- Nordeste\n",
    "            2- Leste\n",
    "            3- Sudeste\n",
    "            4- Sul\n",
    "            5- Sudoeste\n",
    "            6- Oeste\n",
    "            7- Noroeste \n",
    "        @param lamps: quantidade de lâmpadas no corredor\n",
    "    '''\n",
    "    def addSaida(self, saída, lamps, destino):\n",
    "        self.saídas[saída] = (lamps, destino)\n",
    "        retorno = (saída + 4) % 8\n",
    "        if destino.saídas[retorno] == None:\n",
    "            destino.addSaida(retorno, lamps, self)\n",
    "\n",
    "    def distância(self, destino):\n",
    "        return ((self.lin - destino.lin)**2 + (self.col - destino.col)**2)**0.5\n",
    "    \n",
    "    def __str__(self):\n",
    "        node =  self.nome\n",
    "        for saída, destino in self.saídas.items():\n",
    "            if destino != None:\n",
    "                node += f' -> {saída, destino[0] ,destino[1].nome}'\n",
    "        return node\n"
   ]
  },
  {
   "cell_type": "code",
   "execution_count": 3,
   "metadata": {},
   "outputs": [],
   "source": [
    "gS = 8 # gridSize\n",
    "grade = [ ]\n",
    "for lin in range(gS):\n",
    "    linha = [ ]\n",
    "    for col in range(gS):\n",
    "        linha.append(Cruzamento(lin, col))\n",
    "    grade.append(linha)"
   ]
  },
  {
   "cell_type": "code",
   "execution_count": 4,
   "metadata": {},
   "outputs": [],
   "source": [
    "qtdLampadas = [1, 3, 5, 7] \n",
    "meuSeed = 42\n",
    "seed(meuSeed)\n",
    "\n",
    "# start: na saída temos três possíveis caminhos com quantidade de lampadas aleatórias\n",
    "grade[0][0].addSaida(2, choice(qtdLampadas), grade[0][1])\n",
    "grade[0][0].addSaida(1, choice(qtdLampadas), grade[1][1])\n",
    "grade[0][0].addSaida(0, choice(qtdLampadas), grade[1][0])\n",
    "\n",
    "# stop: na chegada temos três possíveis caminhos com quantidade de lampadas aleatórias\n",
    "grade[3][3].addSaida(6, choice(qtdLampadas), grade[gS-1][gS-2])\n",
    "grade[3][3].addSaida(5, choice(qtdLampadas), grade[gS-2][gS-2])\n",
    "grade[3][3].addSaida(4, choice(qtdLampadas), grade[gS-2][gS-1])\n",
    "\n",
    "#\n",
    "direções = [0, 1, 2, 3, 4, 5, 6, 7]\n",
    "# preenchendo os cruzamentos do interior da grade com caminhos e lampadas aleatórios\n",
    "for lin in range(1,gS-1):\n",
    "    for col in range(1,gS-1):\n",
    "        vizinhos = {0: grade[lin + 1][col    ], \n",
    "                    1: grade[lin + 1][col + 1], \n",
    "                    2: grade[lin    ][col + 1], \n",
    "                    3: grade[lin - 1][col + 1], \n",
    "                    4: grade[lin - 1][col    ], \n",
    "                    5: grade[lin - 1][col - 1], \n",
    "                    6: grade[lin    ][col - 1], \n",
    "                    7: grade[lin + 1][col - 1]}\n",
    "        for direção in direções:\n",
    "            if (grade[lin][col].saídas[direção] == None) and (choice([True, False])): \n",
    "                grade[lin][col].addSaida(direção, choice(qtdLampadas), vizinhos[direção])"
   ]
  },
  {
   "cell_type": "code",
   "execution_count": 5,
   "metadata": {},
   "outputs": [
    {
     "name": "stdout",
     "output_type": "stream",
     "text": [
      "Distância entre (0,0) e (-1,-1): 9.899494936611665\n"
     ]
    }
   ],
   "source": [
    "print(\"Distância entre (0,0) e (-1,-1):\", grade[0][0].distância(grade[-1][-1]))"
   ]
  },
  {
   "cell_type": "code",
   "execution_count": 6,
   "metadata": {},
   "outputs": [
    {
     "name": "stdout",
     "output_type": "stream",
     "text": [
      "([0], [0]) -> (0, 5, '([1], [0])') -> (1, 1, '([1], [1])') -> (2, 1, '([0], [1])')\n",
      "([0], [1]) -> (0, 1, '([1], [1])') -> (1, 3, '([1], [2])') -> (6, 1, '([0], [0])')\n",
      "([0], [2]) -> (1, 7, '([1], [3])') -> (7, 3, '([1], [1])')\n",
      "([0], [3]) -> (1, 7, '([1], [4])')\n"
     ]
    }
   ],
   "source": [
    "print(grade[0][0])\n",
    "print(grade[0][1])\n",
    "print(grade[0][2])\n",
    "print(grade[0][3])"
   ]
  },
  {
   "cell_type": "code",
   "execution_count": 7,
   "metadata": {},
   "outputs": [
    {
     "name": "stdout",
     "output_type": "stream",
     "text": [
      "([1], [0]) -> (2, 7, '([1], [1])') -> (4, 5, '([0], [0])')\n",
      "([1], [1]) -> (0, 1, '([2], [1])') -> (2, 1, '([1], [2])') -> (3, 3, '([0], [2])') -> (4, 1, '([0], [1])') -> (5, 1, '([0], [0])') -> (6, 7, '([1], [0])') -> (7, 7, '([2], [0])')\n",
      "([1], [2]) -> (1, 3, '([2], [3])') -> (2, 7, '([1], [3])') -> (5, 3, '([0], [1])') -> (6, 1, '([1], [1])') -> (7, 7, '([2], [1])')\n",
      "([1], [3]) -> (0, 1, '([2], [3])') -> (1, 5, '([2], [4])') -> (2, 5, '([1], [4])') -> (5, 7, '([0], [2])') -> (6, 7, '([1], [2])') -> (7, 5, '([2], [2])')\n"
     ]
    }
   ],
   "source": [
    "print(grade[1][0])\n",
    "print(grade[1][1])\n",
    "print(grade[1][2])\n",
    "print(grade[1][3])"
   ]
  },
  {
   "cell_type": "code",
   "execution_count": 8,
   "metadata": {},
   "outputs": [
    {
     "name": "stdout",
     "output_type": "stream",
     "text": [
      "([2], [0]) -> (1, 3, '([3], [1])') -> (3, 7, '([1], [1])')\n",
      "([2], [1]) -> (1, 3, '([3], [2])') -> (2, 3, '([2], [2])') -> (3, 7, '([1], [2])') -> (4, 1, '([1], [1])') -> (7, 5, '([3], [0])')\n",
      "([2], [2]) -> (0, 3, '([3], [2])') -> (3, 5, '([1], [3])') -> (6, 3, '([2], [1])') -> (7, 5, '([3], [1])')\n",
      "([2], [3]) -> (0, 1, '([3], [3])') -> (1, 3, '([3], [4])') -> (2, 7, '([2], [4])') -> (3, 7, '([1], [4])') -> (4, 1, '([1], [3])') -> (5, 3, '([1], [2])') -> (7, 3, '([3], [2])')\n"
     ]
    }
   ],
   "source": [
    "print(grade[2][0])\n",
    "print(grade[2][1])\n",
    "print(grade[2][2])\n",
    "print(grade[2][3])"
   ]
  },
  {
   "cell_type": "markdown",
   "metadata": {},
   "source": [
    "print(grade[3][0])\n",
    "print(grade[3][1])\n",
    "print(grade[3][2])\n",
    "print(grade[3][3])"
   ]
  },
  {
   "cell_type": "code",
   "execution_count": null,
   "metadata": {},
   "outputs": [],
   "source": []
  },
  {
   "cell_type": "markdown",
   "metadata": {},
   "source": [
    "print(grade[3][0])\n",
    "print(grade[3][1])\n",
    "print(grade[3][2])\n",
    "print(grade[3][3])"
   ]
  },
  {
   "cell_type": "code",
   "execution_count": null,
   "metadata": {},
   "outputs": [],
   "source": []
  }
 ],
 "metadata": {
  "kernelspec": {
   "display_name": "cet068IA",
   "language": "python",
   "name": "python3"
  },
  "language_info": {
   "codemirror_mode": {
    "name": "ipython",
    "version": 3
   },
   "file_extension": ".py",
   "mimetype": "text/x-python",
   "name": "python",
   "nbconvert_exporter": "python",
   "pygments_lexer": "ipython3",
   "version": "3.10.14"
  }
 },
 "nbformat": 4,
 "nbformat_minor": 2
}
