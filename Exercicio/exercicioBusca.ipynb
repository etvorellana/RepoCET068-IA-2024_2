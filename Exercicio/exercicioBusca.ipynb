{
 "cells": [
  {
   "cell_type": "markdown",
   "metadata": {},
   "source": [
    "# Um problema de otimização.\n",
    "\n",
    "Neste exercício propomos a busca pelo solução do seguinte problema\n",
    "\n",
    "Um veiculo possui um sistema de controle capaz de estabelecer a trajetória que o mesmo deve seguir. O mecanismo define a coordenada $y$ do veiculo como função da coordenada $x$, para um percurso que vai desde $x = 0$ até $x = 10$. O sistema de controle é uma caixa preta, ou seja, um mecanismo desconhecido que, dada uma entrada produz uma sequencia de comandos que leva o veículo por um determinado trajeto. A entrada da caixa preta é uma sequencia de 16 bits, o que pode ser interpretado como se o mecanismo tivesse 65536 rotas pre programadas. A saída são dois NumPy arrays contendo as coordenadas $x$ e $y$ da trajetória. \n",
    "\n",
    "Os desenvolvedores querem descobrir qual rota percorre um trajeto específico ou um que seja o mais próximo possível desse trajeto. Com esta finalidade foi definida uma função heuristic que retorna o RMSE. Procure como se calcula o erro médio quadrático (MSE - mean squared error) e a raiz do erro médio quadrático (RMSE - root mean squared error) para entender como esta função heurística funciona. Para isto pode ser utilizado o método de força bruta e testar cada uma das entradas da caixa preta a procura do menor valor da heurística.  "
   ]
  },
  {
   "cell_type": "code",
   "execution_count": 1,
   "metadata": {},
   "outputs": [],
   "source": [
    "import numpy as np\n",
    "import matplotlib.pyplot as plt\n",
    "from caixaPreta import heuristic, bBoxEx, bin2list, list2bin"
   ]
  },
  {
   "cell_type": "code",
   "execution_count": 4,
   "metadata": {},
   "outputs": [
    {
     "name": "stdout",
     "output_type": "stream",
     "text": [
      "Força bruta:  6.172569552785352e-16 18465\n"
     ]
    }
   ],
   "source": [
    "# força bruta\n",
    "min = heuristic(bBoxEx(1))\n",
    "rota = 1\n",
    "for i in range(2, 2**16):\n",
    "    h = heuristic(bBoxEx(i)) \n",
    "    if  h < min:\n",
    "        min = h\n",
    "        rota = i\n",
    "print(\"Força bruta: \", min, rota)"
   ]
  },
  {
   "cell_type": "markdown",
   "metadata": {},
   "source": [
    "Podemos então utilizar alguns dos métodos que estudamos em sala de aula para este tipo de busca. Para começar precisamos gerar um stado inicial. "
   ]
  },
  {
   "cell_type": "code",
   "execution_count": 21,
   "metadata": {},
   "outputs": [
    {
     "name": "stdout",
     "output_type": "stream",
     "text": [
      "Estado inicial aleatório: 27307\n",
      "com heurística: 2.669119711968321\n"
     ]
    }
   ],
   "source": [
    "current = np.random.randint(low=1, high=2**16)\n",
    "print(f\"Estado inicial aleatório: {current}\")\n",
    "print(f\"com heurística: {heuristic(bBoxEx(current))}\")"
   ]
  },
  {
   "cell_type": "markdown",
   "metadata": {},
   "source": [
    "Os estados vizinhos de um estado são aqueles em que apenas um único bit é mudado de cada vez"
   ]
  },
  {
   "cell_type": "code",
   "execution_count": 9,
   "metadata": {},
   "outputs": [],
   "source": [
    "def next_state(state):\n",
    "    next_states = []\n",
    "    l = bin2list(state)\n",
    "    for i in range(16):\n",
    "        nl = l.copy()\n",
    "        nl[i] = 1 - nl[i]\n",
    "        next_states.append(list2bin(nl))\n",
    "    return next_states"
   ]
  },
  {
   "cell_type": "code",
   "execution_count": 25,
   "metadata": {},
   "outputs": [
    {
     "name": "stdout",
     "output_type": "stream",
     "text": [
      "Estado vizinhos de 27307:  [60075, 10923, 19115, 31403, 25259, 28331, 26795, 27563, 27179, 27371, 27275, 27323, 27299, 27311, 27305, 27306]\n",
      "27307 [0, 1, 1, 0, 1, 0, 1, 0, 1, 0, 1, 0, 1, 0, 1, 1] 2.669119711968321\n",
      "60075 [1, 1, 1, 0, 1, 0, 1, 0, 1, 0, 1, 0, 1, 0, 1, 1] 2.306708156142998\n",
      "10923 [0, 0, 1, 0, 1, 0, 1, 0, 1, 0, 1, 0, 1, 0, 1, 1] 3.9884832379182775\n",
      "19115 [0, 1, 0, 0, 1, 0, 1, 0, 1, 0, 1, 0, 1, 0, 1, 1] 0.5563720698299199\n",
      "31403 [0, 1, 1, 1, 1, 0, 1, 0, 1, 0, 1, 0, 1, 0, 1, 1] 2.2533152506711494\n",
      "25259 [0, 1, 1, 0, 0, 0, 1, 0, 1, 0, 1, 0, 1, 0, 1, 1] 3.539924048714635\n",
      "28331 [0, 1, 1, 0, 1, 1, 1, 0, 1, 0, 1, 0, 1, 0, 1, 1] 3.203762709498443\n",
      "26795 [0, 1, 1, 0, 1, 0, 0, 0, 1, 0, 1, 0, 1, 0, 1, 1] 2.934300615177598\n",
      "27563 [0, 1, 1, 0, 1, 0, 1, 1, 1, 0, 1, 0, 1, 0, 1, 1] 3.1170798215342588\n",
      "27179 [0, 1, 1, 0, 1, 0, 1, 0, 0, 0, 1, 0, 1, 0, 1, 1] 2.971357579567107\n",
      "27371 [0, 1, 1, 0, 1, 0, 1, 0, 1, 1, 1, 0, 1, 0, 1, 1] 3.056755983958217\n",
      "27275 [0, 1, 1, 0, 1, 0, 1, 0, 1, 0, 0, 0, 1, 0, 1, 1] 3.9141648665005113\n",
      "27323 [0, 1, 1, 0, 1, 0, 1, 0, 1, 0, 1, 1, 1, 0, 1, 1] 1.8529781802462153\n",
      "27299 [0, 1, 1, 0, 1, 0, 1, 0, 1, 0, 1, 0, 0, 0, 1, 1] 2.078101009649483\n",
      "27311 [0, 1, 1, 0, 1, 0, 1, 0, 1, 0, 1, 0, 1, 1, 1, 1] 1.7627679776673681\n",
      "27305 [0, 1, 1, 0, 1, 0, 1, 0, 1, 0, 1, 0, 1, 0, 0, 1] 2.16933461836946\n",
      "27306 [0, 1, 1, 0, 1, 0, 1, 0, 1, 0, 1, 0, 1, 0, 1, 0] 5.719298192613746\n"
     ]
    }
   ],
   "source": [
    "neighbors = next_state(current)\n",
    "print(f\"Estado vizinhos de {current}:  {neighbors}\")\n",
    "print(current, bin2list(current), heuristic(bBoxEx(current)))\n",
    "for n in neighbors:\n",
    "    print(n, bin2list(n), heuristic(bBoxEx(n)))"
   ]
  },
  {
   "cell_type": "markdown",
   "metadata": {},
   "source": [
    "Se ordenar alista utilizando a função heurística teremos que:"
   ]
  },
  {
   "cell_type": "code",
   "execution_count": 26,
   "metadata": {},
   "outputs": [
    {
     "name": "stdout",
     "output_type": "stream",
     "text": [
      "27307 [0, 1, 1, 0, 1, 0, 1, 0, 1, 0, 1, 0, 1, 0, 1, 1] 2.669119711968321\n",
      "19115 [0, 1, 0, 0, 1, 0, 1, 0, 1, 0, 1, 0, 1, 0, 1, 1] 0.5563720698299199\n",
      "27311 [0, 1, 1, 0, 1, 0, 1, 0, 1, 0, 1, 0, 1, 1, 1, 1] 1.7627679776673681\n",
      "27323 [0, 1, 1, 0, 1, 0, 1, 0, 1, 0, 1, 1, 1, 0, 1, 1] 1.8529781802462153\n",
      "27299 [0, 1, 1, 0, 1, 0, 1, 0, 1, 0, 1, 0, 0, 0, 1, 1] 2.078101009649483\n",
      "27305 [0, 1, 1, 0, 1, 0, 1, 0, 1, 0, 1, 0, 1, 0, 0, 1] 2.16933461836946\n",
      "31403 [0, 1, 1, 1, 1, 0, 1, 0, 1, 0, 1, 0, 1, 0, 1, 1] 2.2533152506711494\n",
      "60075 [1, 1, 1, 0, 1, 0, 1, 0, 1, 0, 1, 0, 1, 0, 1, 1] 2.306708156142998\n",
      "26795 [0, 1, 1, 0, 1, 0, 0, 0, 1, 0, 1, 0, 1, 0, 1, 1] 2.934300615177598\n",
      "27179 [0, 1, 1, 0, 1, 0, 1, 0, 0, 0, 1, 0, 1, 0, 1, 1] 2.971357579567107\n",
      "27371 [0, 1, 1, 0, 1, 0, 1, 0, 1, 1, 1, 0, 1, 0, 1, 1] 3.056755983958217\n",
      "27563 [0, 1, 1, 0, 1, 0, 1, 1, 1, 0, 1, 0, 1, 0, 1, 1] 3.1170798215342588\n",
      "28331 [0, 1, 1, 0, 1, 1, 1, 0, 1, 0, 1, 0, 1, 0, 1, 1] 3.203762709498443\n",
      "25259 [0, 1, 1, 0, 0, 0, 1, 0, 1, 0, 1, 0, 1, 0, 1, 1] 3.539924048714635\n",
      "27275 [0, 1, 1, 0, 1, 0, 1, 0, 1, 0, 0, 0, 1, 0, 1, 1] 3.9141648665005113\n",
      "10923 [0, 0, 1, 0, 1, 0, 1, 0, 1, 0, 1, 0, 1, 0, 1, 1] 3.9884832379182775\n",
      "27306 [0, 1, 1, 0, 1, 0, 1, 0, 1, 0, 1, 0, 1, 0, 1, 0] 5.719298192613746\n"
     ]
    }
   ],
   "source": [
    "neighbors = sorted(next_state(current), key = lambda x:heuristic(bBoxEx(x)))\n",
    "print(current, bin2list(current), heuristic(bBoxEx(current)))\n",
    "for n in neighbors:\n",
    "    print(n, bin2list(n), heuristic(bBoxEx(n)))"
   ]
  },
  {
   "cell_type": "markdown",
   "metadata": {},
   "source": [
    "Podemos pensar então em métodos que estudando, le,brando que cada ponto (estado) da paisagem possui uma “elevação”, definida pelo valor da função objetivo. Se a elevação corresponde a uma função objetivo, então o objetivo é encontrar o pico mais alto – __um máximo global__ – e chamamos o processo de __subida de encosta__. Se a elevação corresponde ao custo, então o objectivo é encontrar o vale mais baixo – __um mínimo global__ – e chamamos-lhe __descida de gradiente__. O problema, neste caso, é de descida do gradiente. \n",
    "Implemente:\n",
    "* Busca da descida de gradiente;\n",
    "* Busca da descida de gradiente com movimentos laterais;\n",
    "* Busca da descida estocástica; (escolhe aleatoriamente entre os movimentos de descida; a probabilidade de seleção pode variar com a inclinação do movimento descendente;\n",
    "* Busca da descida com reinício aleatório; (conduz uma série de buscas descendente a partir de estados iniciais gerados aleatoriamente, até que um objetivo seja encontrado. Lembre que neste caso o objetivo pode estar indefinido)\n",
    "* Busca da descida com reinício aleatório com movimentos laterais;\n",
    "* Têmpera simulada (Simulated annealing); (selecione, implemente e teste pelo menos duas funções de schedule)\n",
    "* Busca de feixe local;\n",
    "* Busca de feixe local estocástica;(escolhe sucessores com probabilidade proporcional ao valor do sucessor)\n",
    "\n",
    "\n",
    "\n"
   ]
  }
 ],
 "metadata": {
  "kernelspec": {
   "display_name": "cet068IA",
   "language": "python",
   "name": "python3"
  },
  "language_info": {
   "codemirror_mode": {
    "name": "ipython",
    "version": 3
   },
   "file_extension": ".py",
   "mimetype": "text/x-python",
   "name": "python",
   "nbconvert_exporter": "python",
   "pygments_lexer": "ipython3",
   "version": "3.10.14"
  }
 },
 "nbformat": 4,
 "nbformat_minor": 2
}
