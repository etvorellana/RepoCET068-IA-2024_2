{
 "cells": [
  {
   "cell_type": "markdown",
   "metadata": {},
   "source": [
    "# Módulo de Programação Python: Introdução à Linguagem\n",
    "\n",
    "# Aula - 06"
   ]
  },
  {
   "cell_type": "markdown",
   "metadata": {},
   "source": [
    "__Objetivo__:  Introduzir o conceito de ambientes isolados em Python para desenvolvimento de projetos. Apresentar ferramentas para criar e gerenciar ambientes virtuais. Gerenciar pacotes e módulos nos ambientes virtuais."
   ]
  },
  {
   "cell_type": "markdown",
   "metadata": {},
   "source": [
    "Na aula anterior foi apresentado o conceito de módulos e pacotes em __Python__ e como utilizar os mesmos para estruturar o código. Muitos módulos e pacotes estão disponíveis em para desenvolvimento de diferentes tipos de aplicações e isso é uma da grandes vantagens de se utilizar __Python__. Mas como instalar novos pacotes e gerenciar os que já estão disponíveis? \n",
    "\n",
    "A ferramenta mais utilizada hoje para gerenciamento de pacotes em __Python__ é o ``pip``. \n",
    "\n",
    "Quando você instala __Python__ em seu computador, ele vem com uma ampla coleção de pacotes e módulos adicionais que você pode usar a qualquer momento. Trata-se da chamada __Biblioteca Padrão Python__ que é formada por um extenso conjunto de pacotes integrados que fornece soluções padronizadas para muitos problemas que ocorrem na programação cotidiana. \n",
    "\n",
    "No entanto, às vezes você não encontrará a ferramenta que procura em __Python__ ou em sua biblioteca padrão. Nesses casos, você precisará adquirir novas ferramentas em outro lugar. Felizmente, na internet é é possível encontrar centenas de milhares de pacotes desenvolvidos em __Python__ para todos os propósitos. A grande maioria desses pacotes é de uso gratuito. \n",
    "\n",
    "Embora pacotes de terceiros possam ser hospedados em locais diferentes, o repositório mais popular e abrangente é o __Python Package Index__ (__PyPi__). Com mais de 300.000 pacotes __Python__ disponíveis, PyPI é um repositório online gigante de pacotes aceitos pela comunidade __Python__.\n",
    "\n",
    "Depois de identificar o pacote que procura, você precisará baixá-lo e instalá-lo em seu computador para usá-lo. Neste momento que os gerenciadores de pacotes entram em ação."
   ]
  },
  {
   "cell_type": "markdown",
   "metadata": {},
   "source": [
    "## Gerenciador de pacotes ``pip``\n",
    "\n",
    "Um sistema de gerenciamento de pacotes é uma ferramenta que automatiza o processo de instalação, atualização, configuração e remoção de pacotes de um computador de maneira consistente.\n",
    "\n",
    "Os gerenciadores de pacotes são projetados para eliminar a necessidade de instalações e atualizações manuais, garantindo assim que um pacote seja instalado junto com todas as dependências necessárias para funcionar. Da mesma forma, como os gestores de pacotes aproveitam as informações armazenadas em repositórios de pacotes certificados, como PyPi e Anaconda, eles garantem a integridade e autenticidade dos pacotes.\n",
    "\n",
    "O gerenciador de pacotes mais popular para __Python__ é o ``pip`` (um acrônimo de “pip Install Packages”) que se tornou hoje a ferramenta padrão para instalar pacotes __Python__ e suas dependências de maneira segura. \n",
    "\n",
    "Pip é uma ferramenta poderosa e fácil de usar que permite gerenciar pacotes __Python__ usando vários comandos. Embora pip use PyPi como repositório padrão para buscar pacotes, ele também tem a capacidade de instalar pacotes de outras fontes, incluindo:\n",
    "\n",
    "* Sistemas de controle de versão como Github, Mercurial, Subversion e Bazaar.\n",
    "* Arquivos de requisitos. Normalmente, os pacotes Python requerem vários pacotes para serem executados. Para instalar todos os pacotes necessários de uma vez, o pip usa o chamado require.txt, que contém uma lista dos pacotes necessários, bem como as versões corretas.\n",
    "* Arquivos de distribuição. Esses são arquivos versionados e prontos para instalação contendo pacotes __Python__, módulos e outros arquivos de recursos necessários para o funcionamento de um pacote. Eles vêm em duas formas:\n",
    "    * Source distribution (geralmente abreviada para “sdist”)\n",
    "    * Wheel distribution (geralmente abreviada para “wheel”)\n",
    "\n",
    "Para usar o pip e começar a gerenciar pacotes, primeiro você precisa garantir que ele esteja instalado no seu computador. "
   ]
  },
  {
   "cell_type": "code",
   "execution_count": null,
   "metadata": {},
   "outputs": [],
   "source": [
    "#sudo apt-get install python3-pip"
   ]
  },
  {
   "cell_type": "code",
   "execution_count": null,
   "metadata": {},
   "outputs": [],
   "source": [
    "#pip --version"
   ]
  },
  {
   "cell_type": "markdown",
   "metadata": {},
   "source": [
    "Aqui costumamos ter um problema quando utilizamos python num sistema sem permissão de administrador. Precisamos de um ambiente isolado e seguro onde possamos trabalhar com __Python__ e seus módulos e pacotes.   "
   ]
  },
  {
   "cell_type": "markdown",
   "metadata": {},
   "source": [
    "## Ambiente virtual ou isolado  \n",
    "\n",
    "Para o desenvolvimento de aplicativos em __Python__, muitas vezes se faz necessário usar pacotes e módulos que não fazem parte da biblioteca padrão. \n",
    "\n",
    "Às vezes, os aplicativos precisarão de uma versão específica de uma biblioteca, porque:\n",
    "* o aplicativo pode exigir que um bug específico, que existe em versões anteriores da biblioteca, tenha sido corrigido;\n",
    "* o aplicativo pode ser escrito usando uma versão obsoleta da interface da biblioteca;\n",
    "\n",
    "Isso significa que pode não ser possível que uma instalação do __Python__ atenda aos requisitos de desenvolvimento de cada aplicativo. Se, por exemplo, o aplicativo A precisar da versão 1.0 de um módulo específico, mas o aplicativo B precisar da versão 2.0, os requisitos estarão em conflito e a instalação da versão 1.0 ou 2.0 deixará um dos aplicativos incapaz de ser executado.\n",
    "\n",
    "Tentar resolver este tipo de conflitos no ambiente padrão do seu sistema pode gerar um verdadeiro caos.\n",
    "\n",
    "<img align=\"center\" style=\"padding-right:10px;\" src=\"Figuras/aula-07_fig_02.png\">\n",
    "\n",
    "A solução para esse problema é criar um ambiente virtual, uma árvore de diretórios independente que contenha uma instalação de uma versão específica de __Python__, além de vários pacotes adicionais.\n",
    "\n",
    "O processo de desenvolvimento de diferentes aplicativos pode então usar diferentes ambientes virtuais. Desta forma o exemplo anterior pode ser resolvido se o aplicativo A for executado no seu próprio ambiente virtual com a versão 1.0 instalada, enquanto o aplicativo B é executado em  outro ambiente virtual com a versão 2.0. Se o aplicativo B exigir que o módulo seja atualizada para a versão 3.0, isso não afetará o ambiente do aplicativo A."
   ]
  },
  {
   "cell_type": "markdown",
   "metadata": {},
   "source": [
    "Seja organizado e crie ambientes virtuais __Python__ e tente não poluir o ambiente padrão do seu sistema, ou ele ficará confuso. \n",
    "\n",
    "Devido ao grande potencial dos ambientes virtuais, surgiram inúmeras ferramentas para ajudar no gerenciamento dos mesmos. \n",
    "\n",
    "Vamos explorar alguns deles hoje."
   ]
  },
  {
   "cell_type": "markdown",
   "metadata": {},
   "source": [
    "### venv\n",
    "\n",
    "Vamos começar usando o ``venv``. Trata-se de um módulo que foi integrado a partir de __Python 3.3__ e versões posteriores e que permite criar ambientes Python isolados. É semelhante ao ``virtualenv``, mas é instalado por padrão com Python. de fato o comando ``virtualenv`` é um \"superconjunto\" do comando nativo ``python -m venv``. Na verdade, se você deseja a velocidade e os recursos adicionais do ``virtualenv``, basta substituir por ``virtualenv`` em qualquer lugar onde você encontrar ``python -m venv``. \n",
    "\n",
    "Para começar vamos criar um ambiente na pasta ``.venv`` "
   ]
  },
  {
   "cell_type": "code",
   "execution_count": null,
   "metadata": {},
   "outputs": [],
   "source": [
    "#sudo apt-get install python3.11-venv\n",
    "#python3 -m venv .venv"
   ]
  },
  {
   "cell_type": "markdown",
   "metadata": {},
   "source": [
    "Analisando este comando de forma mais detalhada, ele significa: use o executável __Python__ como a versão __Python__ que você deseja usar no ambiente virtual. Isso pode ser feito chamado python, python3, python3.8 ou python3.9, dependendo das versões que estejam disponíveis no seu sistema. Em seguida, diga para ele executar o módulo ``venv``, seguido do nome do diretório no qual você deseja que o ambiente virtual resida. Aqui escolhemos a pasta ``.venv`` mas poderíamos usar uma pasta visível como ``venv``. De fato você pode usar qualquer nome de diretório que desejar em vez de .venv.\n",
    "\n",
    "Agora vamos ativar o ambiente virtual "
   ]
  },
  {
   "cell_type": "code",
   "execution_count": null,
   "metadata": {},
   "outputs": [],
   "source": [
    "# source .venv/bin/activate"
   ]
  },
  {
   "cell_type": "markdown",
   "metadata": {},
   "source": [
    "Repare que o prompt do sistema muda quando o ambiente virtual está ativado. A forma, claro, depende do __SO__ e do terminal que você está utilizando. \n",
    "\n",
    "Repare também que, independentemente de você ter utilizado o comando ``python3`` para criar o ambiente isolado, agora basta utilizar ``python`` para executar seu _script_. Podemos então explorar o ambiente virtual."
   ]
  },
  {
   "cell_type": "code",
   "execution_count": null,
   "metadata": {},
   "outputs": [],
   "source": [
    "#(.venv) $ python\n",
    "import sys\n",
    "sys.executable"
   ]
  },
  {
   "cell_type": "markdown",
   "metadata": {},
   "source": [
    "Para desativar o ambiente virtual: "
   ]
  },
  {
   "cell_type": "code",
   "execution_count": null,
   "metadata": {},
   "outputs": [],
   "source": [
    "#(.venv) $ deactivate"
   ]
  },
  {
   "cell_type": "markdown",
   "metadata": {},
   "source": [
    "Dentro do ambiente virtual podemos instalar os pacotes e módulos necessários com ``pip``"
   ]
  },
  {
   "cell_type": "code",
   "execution_count": null,
   "metadata": {},
   "outputs": [],
   "source": [
    "#pip install numpy\n",
    "#python -m pip install --upgrade pip"
   ]
  },
  {
   "cell_type": "markdown",
   "metadata": {},
   "source": [
    "Pacotes e dependências devem ser instalados e então você pode importar e usar nos seus programas. Você pode fazer logoff, esquecer o __Python__, voltar em algumas semanas e reativar seu ambiente virtual. Os pacotes ainda serão instalados. Mas apenas neste ambiente virtual. Ele não polui o ambiente Python do seu sistema ou outros ambientes virtuais.\n",
    "\n",
    "Outra vantagem de utilizar ambientes isolados desta forma é que os mesmos podem ser removidos ou desinstalados com facilidade. Basta apagar a pasta onde foram criados. "
   ]
  },
  {
   "cell_type": "code",
   "execution_count": null,
   "metadata": {},
   "outputs": [],
   "source": [
    "# rm -rf .venv"
   ]
  },
  {
   "cell_type": "markdown",
   "metadata": {},
   "source": [
    "Muito importante lembrar da lista de pacotes antes de remover o ambiente. Podemos fazer isto com ``pip freeze`` ou ``pip list``. Com a lista é possível recriar o ambiente posteriormente. "
   ]
  },
  {
   "cell_type": "code",
   "execution_count": null,
   "metadata": {},
   "outputs": [],
   "source": [
    "#pip freeze"
   ]
  },
  {
   "cell_type": "markdown",
   "metadata": {},
   "source": [
    "### virtualenv\n",
    "\n",
    "O ``virtualenv`` é uma ferramenta desenvolvida por terceiros que permite criar ambientes Python isolados. Ele não é instalado por padrão com __Python__, mas pode ser facilmente adicionado usando ``pip``.\n",
    "\n",
    "A ferramenta ``virtualenv`` é muito semelhante ao ``python -m venv``. Na verdade, o módulo ``venv`` do __Python__ é baseado em ``virtualenv``. No entanto, usar ``virtualenv`` no lugar de ``python -m venv`` tem algumas vantagens:\n",
    "\n",
    "* Usar ``virtualenv`` é geralmente mais rápido que ``python -m venv``\n",
    "* Ferramentas como ``pip``, ``setuptools`` e ``wheel`` costumam ser melhor atualizadas e armazenadas em cache."
   ]
  },
  {
   "cell_type": "code",
   "execution_count": null,
   "metadata": {},
   "outputs": [],
   "source": [
    "#sudo pip install virtualenv\n",
    "#virtualenv --upgrade-embed-wheels"
   ]
  },
  {
   "cell_type": "markdown",
   "metadata": {},
   "source": [
    "Agora podemos utilizar os mesmos comandos que apresentamos anteriormente com ``venv``"
   ]
  },
  {
   "cell_type": "code",
   "execution_count": null,
   "metadata": {},
   "outputs": [],
   "source": [
    "#virtualenv .venv"
   ]
  },
  {
   "cell_type": "markdown",
   "metadata": {},
   "source": [
    "## pipenv\n",
    "\n",
    "O [``pipenv``](https://pipenv.pypa.io/en/latest/) é uma ferramenta que combina ``virtualenv`` com ``pip``. Ele permite criar ambientes virtuais e gerenciar pacotes Python para seus projetos. Ele foi projetado para ser mais fácil de utilizar do que usar ``virtualenv`` e ``pip`` separadamente."
   ]
  },
  {
   "cell_type": "code",
   "execution_count": null,
   "metadata": {},
   "outputs": [],
   "source": [
    "# sudo apt-get install pipenv"
   ]
  },
  {
   "cell_type": "markdown",
   "metadata": {},
   "source": [
    "Para utilizar esta ferramente, primeiramente é necessário criar uma pasta para o projeto e então ativar o ambiente virtual:"
   ]
  },
  {
   "cell_type": "code",
   "execution_count": null,
   "metadata": {},
   "outputs": [],
   "source": [
    "# pipenv shell\n",
    "# para sair do shell\n",
    "# exit"
   ]
  },
  {
   "cell_type": "markdown",
   "metadata": {},
   "source": [
    "Reparem que ele funciona um pouco diferente que as ferramentas anteriores. Agora é necessário sair do _shell_ com o comando ``exit``. Ele também cria uma pasta ``Pipfile`` para gerenciar os pacotes deste ambiente isolado. \n",
    "A instalação de pacotes também é feita de forma diferente:"
   ]
  },
  {
   "cell_type": "code",
   "execution_count": null,
   "metadata": {},
   "outputs": [],
   "source": [
    "# pipenv install numpy"
   ]
  },
  {
   "cell_type": "markdown",
   "metadata": {},
   "source": [
    "O comando anterior vai instalar o ``numpy`` e suas dependências na pasta ``Pipfile`` da pasta atual.\n",
    "\n",
    "Vamos a voltar a falar do ``pipenv``, quando falemos de gerenciamento de projetos e ambientes virtuais com ``poetry``. \n",
    "\n",
    "Existem outras inúmeras soluções para gerenciamento de ambientes isolados __Python__ como:\n",
    "\n",
    "* ``pyvenv`` é um script que vem com __Python 3.3__ e versões posteriores que permite criar ambientes virtuais. É um _wrapper_ em torno do módulo ``venv`` e fornece a mesma funcionalidade dele.\n",
    "\n",
    "* ``pyenv`` é uma ferramenta de terceiros que permite gerenciar várias versões do Python na mesma máquina e criar ambientes virtuais. Não está relacionado ao ``venv`` ou ``virtualenv``, mas fornece funcionalidade semelhante.\n",
    "\n",
    "Finalmente temos o Conda.\n",
    "\n"
   ]
  },
  {
   "cell_type": "markdown",
   "metadata": {},
   "source": [
    "## Conda\n",
    "\n",
    "__Conda__ não é apenas mais um pacote __Python__ ou gerenciador de ambiente, trata-se de um ecossistema __Python__ alternativo. O repositório de pacotes para __Conda__ é diferente do repositório __PyPI__ usado pela maioria dos gerenciadores de pacotes/projetos. O repositório __Conda__ possui cerca de 1.500 pacotes. O repositório __PyPI__ tem aproximadamente 150.000. Entretanto o __Conda__ pode ser usado com ``pip`` se for necessário.\n",
    "\n",
    "Para criar um novo ambiente virtual, especifique o nome do ambiente virtual que deseja usar e, opcionalmente, a versão do python:\n"
   ]
  },
  {
   "cell_type": "code",
   "execution_count": null,
   "metadata": {},
   "outputs": [],
   "source": [
    "#conda create --name tic18 python=3.10"
   ]
  },
  {
   "cell_type": "markdown",
   "metadata": {},
   "source": [
    "Uma vez criado, é possível ativar o ambiente virtual."
   ]
  },
  {
   "cell_type": "code",
   "execution_count": null,
   "metadata": {},
   "outputs": [],
   "source": [
    "#conda activate tic18"
   ]
  },
  {
   "cell_type": "markdown",
   "metadata": {},
   "source": [
    "Já para desativar o ambiente virtual"
   ]
  },
  {
   "cell_type": "code",
   "execution_count": null,
   "metadata": {},
   "outputs": [],
   "source": [
    "#conda deactivate"
   ]
  },
  {
   "cell_type": "markdown",
   "metadata": {},
   "source": [
    "A instalação de novos pacotes pode ser feita via repositório conda"
   ]
  },
  {
   "cell_type": "code",
   "execution_count": null,
   "metadata": {},
   "outputs": [],
   "source": [
    "#conda install numpy"
   ]
  },
  {
   "cell_type": "markdown",
   "metadata": {},
   "source": [
    "Ou via comando ``pip`` que pucha do __PyPi__. \n",
    "\n",
    "A documentação completa de como gerenciar os ambientes isolados com __Conda__ pode ser encontrada [aqui](https://docs.conda.io/projects/conda/en/4.6.0/user-guide/tasks/manage-environments.html)\n",
    "\n",
    "\n",
    "Uma vez instalados os ambientes virtuais podemos utilizar estes ambientes isolados tanto do __VSCode__ quanto de __Jupyter__ ou do __Jupyter-lab__. \n",
    "\n",
    "Selecione as ferramentas que vai utilizar no futuro e monte os ambientes virtuais para seus projetos. Voltaremos a falar de gerenciamento de pacotes em breve. \n",
    "\n",
    "Vamos apenas revisar o uso do comando ``pip``"
   ]
  },
  {
   "cell_type": "markdown",
   "metadata": {},
   "source": [
    "Para instalar um pacote podemos utilizar de forma simples: "
   ]
  },
  {
   "cell_type": "code",
   "execution_count": null,
   "metadata": {},
   "outputs": [],
   "source": [
    "#pip install numpy"
   ]
  },
  {
   "cell_type": "markdown",
   "metadata": {},
   "source": [
    "De esta forma o ``pip`` procura e instala a última versão disponível no repositótio do __PyPi__ para a versão de __Pythopn__ que que está sendo utilizada.\n",
    "\n",
    "Lembre sempre que ``pip``é um módulo __Python__ e que, como vimos na aula anterior, pode ser executado também via:"
   ]
  },
  {
   "cell_type": "code",
   "execution_count": null,
   "metadata": {},
   "outputs": [],
   "source": [
    "#python -m install numpy"
   ]
  },
  {
   "cell_type": "markdown",
   "metadata": {},
   "source": [
    "Se o projeto precisa de uma versão específica do pacote isto pode ser colocado utilizando a seguinte sintaxes:"
   ]
  },
  {
   "cell_type": "code",
   "execution_count": null,
   "metadata": {},
   "outputs": [],
   "source": [
    "#python -m pip install numpy==1.20.3"
   ]
  },
  {
   "cell_type": "markdown",
   "metadata": {},
   "source": [
    "Já se a restrição é para versões maiores que uma versão específica e ainda num determinado intervalo"
   ]
  },
  {
   "cell_type": "code",
   "execution_count": null,
   "metadata": {},
   "outputs": [],
   "source": [
    "#pip install numpy>=1.20.3,<1.24.2"
   ]
  },
  {
   "cell_type": "markdown",
   "metadata": {},
   "source": [
    "Pip permite que você instale uma lista de pacotes de uma vez usando um arquivo de requisitos."
   ]
  },
  {
   "cell_type": "code",
   "execution_count": null,
   "metadata": {},
   "outputs": [],
   "source": [
    "#pip install -r requirements.txt"
   ]
  },
  {
   "cell_type": "markdown",
   "metadata": {},
   "source": [
    "Onde o arquivo de requisitos contem os pacotes e, eventualmente as versões específicas\n",
    "``\n",
    "numpy==1.24.1\n",
    "pandas==1.5.3\n",
    "``"
   ]
  },
  {
   "cell_type": "markdown",
   "metadata": {},
   "source": [
    "Eventualmente pode ser necessário atualizar um determinado pacote Neste caso utilizamos:"
   ]
  },
  {
   "cell_type": "code",
   "execution_count": null,
   "metadata": {},
   "outputs": [],
   "source": [
    "#pip install --upgrade numpy"
   ]
  },
  {
   "cell_type": "markdown",
   "metadata": {},
   "source": [
    "O próprio pip pode precisar ser atualizado"
   ]
  },
  {
   "cell_type": "code",
   "execution_count": null,
   "metadata": {},
   "outputs": [],
   "source": [
    "#pip install –upgrade pip setuptools wheel"
   ]
  },
  {
   "cell_type": "markdown",
   "metadata": {},
   "source": [
    "Para desinstalar um pacote"
   ]
  },
  {
   "cell_type": "markdown",
   "metadata": {},
   "source": [
    "#pip uninstall numpy"
   ]
  },
  {
   "cell_type": "markdown",
   "metadata": {},
   "source": [
    "Agora pode brincar de instalar e desinstalar pacotes e módulos no seus ambientes isolados, sem afetar poluir ou corromper o ambiente nativo do sistema. Boa sorte."
   ]
  }
 ],
 "metadata": {
  "kernelspec": {
   "display_name": "Python 3 (ipykernel)",
   "language": "python",
   "name": "python3"
  },
  "language_info": {
   "codemirror_mode": {
    "name": "ipython",
    "version": 3
   },
   "file_extension": ".py",
   "mimetype": "text/x-python",
   "name": "python",
   "nbconvert_exporter": "python",
   "pygments_lexer": "ipython3",
   "version": "3.10.13"
  }
 },
 "nbformat": 4,
 "nbformat_minor": 2
}
