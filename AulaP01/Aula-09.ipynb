{
 "cells": [
  {
   "cell_type": "markdown",
   "metadata": {},
   "source": [
    "# Módulo de Programação Python: Introdução à Linguagem\n",
    "\n",
    "# Aula - 09"
   ]
  },
  {
   "cell_type": "markdown",
   "metadata": {},
   "source": [
    "__Objetivo__:  Trabalhar com pacotes e módulos disponíveis em python: __Numpy__. Aprender a trabalhar de forma eficiente com __NumPy__ arrays utilizando as funções universais (_ufunc_) e outros recursos avançados."
   ]
  },
  {
   "cell_type": "markdown",
   "metadata": {},
   "source": [
    "## Calculando com _ndarrays_\n",
    "\n",
    "Como já foi discutido antes, a __NumPy__ é muito utilizada, não apenas pelas características dos objetos de tipo _ndarray_, nela implementados. O conjunto de operações e funções para trabalhar com os _ndarray_ são um importante diferencial. \n",
    "\n",
    "Operações com arrays envolvem, na maior parte das linguagens de programação, a utilização de laços ou estruturas de repetição para percorrer os elementos dos mesmos. \n",
    "\n",
    "A implementação de operações vetoriais, disponíveis para o processamento de _ndarrays_ na __NumPy__, representam um diferencial importante na hora de processar estruturas de grande porte. \n",
    "\n",
    "Na aula anterior tentamos utilizar _ndarrays_ para implementar multiplicação de matrizes e o resultado não foi muito promisor. \n",
    "\n",
    "Vejamos outro exemplo para entender melhor a questão."
   ]
  },
  {
   "cell_type": "code",
   "execution_count": 1,
   "metadata": {},
   "outputs": [],
   "source": [
    "import numpy as np\n",
    "from random import uniform"
   ]
  },
  {
   "cell_type": "markdown",
   "metadata": {},
   "source": [
    "Vamos criar uma lista muito grande com valores aleatórios entre 1 e 100. Utilizaremos o módulo ``uniform`` do pacote ``random``.  "
   ]
  },
  {
   "cell_type": "code",
   "execution_count": 2,
   "metadata": {},
   "outputs": [
    {
     "name": "stdout",
     "output_type": "stream",
     "text": [
      "[39.48676902924606, 53.2023645955116, 40.55469578251477]  ... [32.94467008830366, 74.33439429629938, 66.09749434803942]\n",
      "len(lista) = 1000000\n"
     ]
    }
   ],
   "source": [
    "lista = [uniform(1, 100) for _ in range(1000000)]\n",
    "print(lista[:3], \" ...\", lista[-3:])\n",
    "print(\"len(lista) =\", len(lista))"
   ]
  },
  {
   "cell_type": "markdown",
   "metadata": {},
   "source": [
    "Agora vamos testar o custo computacional de calcular o inverso de cada um dos valores das listas. "
   ]
  },
  {
   "cell_type": "code",
   "execution_count": 3,
   "metadata": {},
   "outputs": [
    {
     "name": "stdout",
     "output_type": "stream",
     "text": [
      "[0.025324938570166256, 0.018796157043071818, 0.0246580569945035]  ... [0.030353923633766478, 0.013452722786896824, 0.015129166541994069]\n",
      "31.5 ms ± 2.55 ms per loop (mean ± std. dev. of 7 runs, 10 loops each)\n"
     ]
    }
   ],
   "source": [
    "lista_inv = [1/x for x in lista]\n",
    "print(lista_inv[:3], \" ...\", lista_inv[-3:])\n",
    "\n",
    "%timeit lista_inv = [1/x for x in lista]\n"
   ]
  },
  {
   "cell_type": "markdown",
   "metadata": {},
   "source": [
    "Podemos fazer o mesmo experimento utilizando _ndarrays_.  "
   ]
  },
  {
   "cell_type": "code",
   "execution_count": 4,
   "metadata": {},
   "outputs": [
    {
     "name": "stdout",
     "output_type": "stream",
     "text": [
      "[39.48676903 53.2023646  40.55469578]  ... [32.94467009 74.3343943  66.09749435]\n",
      "len(array) = 1000000\n"
     ]
    }
   ],
   "source": [
    "#array = np.random.uniform(1,100,1000000)\n",
    "array = np.array(lista)\n",
    "print(array[:3], \" ...\", array[-3:])\n",
    "print(\"len(array) =\", len(array))"
   ]
  },
  {
   "cell_type": "code",
   "execution_count": 5,
   "metadata": {},
   "outputs": [
    {
     "name": "stdout",
     "output_type": "stream",
     "text": [
      "[0.02532494 0.01879616 0.02465806]  ... [0.03035392 0.01345272 0.01512917]\n",
      "113 ms ± 2.17 ms per loop (mean ± std. dev. of 7 runs, 10 loops each)\n"
     ]
    }
   ],
   "source": [
    "def inv(x):\n",
    "    y = np.empty_like(x)\n",
    "    for i in range(len(x)):\n",
    "        y[i] = 1/x[i]\n",
    "    return y\n",
    "\n",
    "array_inv = inv(array)\n",
    "\n",
    "print(array_inv[:3], \" ...\", array_inv[-3:])\n",
    "\n",
    "%timeit array_inv = inv(array)"
   ]
  },
  {
   "cell_type": "markdown",
   "metadata": {},
   "source": [
    "Vejam que o desempenho com _ndarrays_ é pior que com listas. Este não era o resultado esperado. \n",
    "\n",
    "Entretanto, __NumPy__ disponibiliza uma interface apropriada que permite introduzir operações vetoriais, o que acelera significativamente o processamento de _ndarrays_ de grande porte. Compare o resultado anterior com o do exemplo a seguir."
   ]
  },
  {
   "cell_type": "code",
   "execution_count": 6,
   "metadata": {},
   "outputs": [
    {
     "name": "stdout",
     "output_type": "stream",
     "text": [
      "[39.48676903 53.2023646  40.55469578]  ... [32.94467009 74.3343943  66.09749435]\n",
      "[0.02532494 0.01879616 0.02465806]  ... [0.03035392 0.01345272 0.01512917]\n",
      "714 µs ± 35.9 µs per loop (mean ± std. dev. of 7 runs, 1,000 loops each)\n"
     ]
    }
   ],
   "source": [
    "#array = np.random.uniform(1,100,1000000)\n",
    "array = np.array(lista)\n",
    "print(array[:3], \" ...\", array[-3:])\n",
    "\n",
    "array_inv = 1.0/array\n",
    "print(array_inv[:3], \" ...\", array_inv[-3:])\n",
    "\n",
    "%timeit array_inv = (1.0/array)"
   ]
  },
  {
   "cell_type": "markdown",
   "metadata": {},
   "source": [
    "As operações vetoriais são implementadas em __NumPy__ através das chamadas _ufuncs_. As _ufuncs_ são eficientes e flexíveis, permitindo realizar, de forma rápida, operações entre escalares e arrays, assim como operações entre arrays. \n",
    "\n",
    "Realizar os cálculos utilizando _ufuncs_ é sempre mais eficiente a implementação do mesmo cálculo utilizando estruturas de repetição. Veja os operadores aritméticos implementados em __NumPy__ através de _ufuncs_ nos exemplos a seguir.\n",
    "\n",
    "| Operador\t    | _ufunc_ equivalente | Descrição                           |\n",
    "|---------------|---------------------|---------------------------------------|\n",
    "|``+``          |``np.add``           |Adição de dois arrays ou de um array com um escalar         |\n",
    "|``-``          |``np.subtract``      |Substração de dois arrays ou de um array com um escalar      |\n",
    "|``-``          |``np.negative``      |Negativo unário           |\n",
    "|``*``          |``np.multiply``      |Multiplicação de dois arrays ou de um array por um escalar   |\n",
    "|``/``          |``np.divide``        |Divisão de dois arrays ou de um array por um escalar       |\n",
    "|``//``         |``np.floor_divide``  |Divisão truncada de dois arrays ou de um array por um escalar  |\n",
    "|``**``         |``np.power``         |Exponenciação  |\n",
    "|``%``          |``np.mod``           |Resto da divisão |"
   ]
  },
  {
   "cell_type": "code",
   "execution_count": null,
   "metadata": {},
   "outputs": [],
   "source": [
    "# Adição de arrays\n",
    "x = np.array([1,2,3])\n",
    "y = np.array([4,5,6])\n",
    "z = x + y\n",
    "print(z)\n",
    "\n",
    "# este operador adição é implementado como uma _ufunc_ (função universal) ``np.add``\n",
    "print(np.add(x,y))\n",
    "print(\"________________\")\n",
    "# Adição de array e escalar\n",
    "z = x + 10\n",
    "print(z)\n",
    "print(np.add(x,10))"
   ]
  },
  {
   "cell_type": "code",
   "execution_count": null,
   "metadata": {},
   "outputs": [],
   "source": [
    "# substração de arrays\n",
    "z = x - y\n",
    "print(z)\n",
    "\n",
    "# este operador substração é implementado como uma _ufunc_ (função universal) ``np.subtract``\n",
    "print(np.subtract(x,y))\n",
    "print(\"________________\")\n",
    "# substração de array e escalar\n",
    "z = x - 10\n",
    "print(z)\n",
    "print(np.subtract(x,10))"
   ]
  },
  {
   "cell_type": "code",
   "execution_count": null,
   "metadata": {},
   "outputs": [],
   "source": [
    "# negativo\n",
    "z = -z\n",
    "print(z)\n",
    "\n",
    "# este operador negativo é implementado como uma _ufunc_ (função universal) ``np.negative``\n",
    "print(np.negative(z))"
   ]
  },
  {
   "cell_type": "code",
   "execution_count": null,
   "metadata": {},
   "outputs": [],
   "source": [
    "# multiplicação de arrays\n",
    "z = x * y\n",
    "print(z)\n",
    "\n",
    "# este operador multiplicação é implementado como uma _ufunc_ (função universal) ``np.multiply``\n",
    "print(np.multiply(x,y))\n",
    "print(\"________________\")\n",
    "# multiplicação de array e escalar\n",
    "z = 2 * x\n",
    "print(z)\n",
    "print(np.multiply(2,x))"
   ]
  },
  {
   "cell_type": "code",
   "execution_count": null,
   "metadata": {},
   "outputs": [],
   "source": [
    "# divisão de arrays\n",
    "z = x / y\n",
    "print(z)\n",
    "# este operador divisão é implementado como uma _ufunc_ (função universal) ``np.divide``\n",
    "print(np.divide(x,y))\n",
    "print(\"________________\")\n",
    "# divisão de array e escalar\n",
    "z = x / 2\n",
    "print(z)\n",
    "print(np.divide(x,2))\n"
   ]
  },
  {
   "cell_type": "code",
   "execution_count": null,
   "metadata": {},
   "outputs": [],
   "source": [
    "# divisão truncada de arrays\n",
    "z = x // y\n",
    "print(z)\n",
    "# este operador divisão é implementado como uma _ufunc_ (função universal) ``np.divide``\n",
    "print(np.floor_divide(x,y))\n",
    "print(\"________________\")\n",
    "# divisão truncada de array e escalar\n",
    "z = x // 2\n",
    "print(z)\n",
    "print(np.floor_divide(x,2))"
   ]
  },
  {
   "cell_type": "code",
   "execution_count": null,
   "metadata": {},
   "outputs": [],
   "source": [
    "# exponenciação de arrays\n",
    "z = x ** y\n",
    "print(z)\n",
    "# este operador divisão é implementado como uma _ufunc_ (função universal) ``np.power``\n",
    "print(np.power(x,y))\n",
    "print(\"________________\")\n",
    "# exponenciação de array e escalar\n",
    "z = x ** 2\n",
    "print(z)\n",
    "print(np.power(x,2))"
   ]
  },
  {
   "cell_type": "code",
   "execution_count": null,
   "metadata": {},
   "outputs": [],
   "source": [
    "# resto da divisão de arrays\n",
    "z = x % y\n",
    "print(z)\n",
    "# este operador divisão é implementado como uma _ufunc_ (função universal) ``np.mod``\n",
    "print(np.mod(x,y))\n",
    "print(\"________________\")\n",
    "# resto da divisão de array e escalar\n",
    "z = x % 2\n",
    "print(z)\n",
    "print(np.mod(x,2))"
   ]
  },
  {
   "cell_type": "markdown",
   "metadata": {},
   "source": [
    "Além deste conjunto básico de operadores, implementados na furma de _unfunc_ que sobrecarregam os operadores aritméticos tradicionais, __NumPy__ disponibiliza um conjunto adicional de funções:\n",
    "\n",
    "|Nome da Função     |   Descrição                                   |\n",
    "|:-------------------:|-----------------------------------------------|\n",
    "| ``np.abs``<br>ou<br>``np.absolute``| Retorna o valor absoluto dos elementos do<br>_ndarray_. Também funciona com _ndarrays_ de<br>números complexos.     |"
   ]
  },
  {
   "cell_type": "code",
   "execution_count": null,
   "metadata": {},
   "outputs": [],
   "source": [
    "# valor absoluto \n",
    "x = np.array([-1.2,2.3,-3.4])\n",
    "z = np.abs(x)\n",
    "print(z)\n",
    "# este operador divisão é implementado como uma _ufunc_ (função universal) ``np.absolute``\n",
    "print(np.absolute(x))\n",
    "#ou\n",
    "print(np.abs(x))\n",
    "# No caso de números complexos, o valor absoluto é a magnitude\n",
    "x = np.array([-1+1j,2-2j,-3+3j])\n",
    "z = np.abs(x)\n",
    "print(z)\n"
   ]
  },
  {
   "cell_type": "markdown",
   "metadata": {},
   "source": [
    "Funções Trigonométricas\n",
    "\n",
    "|Nome da Função     |   Descrição                                     |\n",
    "|:-------------------:|-----------------------------------------------|\n",
    "| ``np.sin``          | Retorna o seno dos elementos do array         |\n",
    "| ``np.cos``          | Retorna p cosseno dos elementos do array      |\n",
    "| ``np.tan``          | Retorna a tangente dos elementos do array     |\n",
    "| ``np.arcsin``       | Retorna o arco-seno dos elementos do array    |\n",
    "| ``np.arccos``       | Retorna o arco-cosseno dos elementos do array |\n",
    "| ``np.arctan``       | Retorna a arco-tangente dos elementos do array    |"
   ]
  },
  {
   "cell_type": "code",
   "execution_count": null,
   "metadata": {},
   "outputs": [],
   "source": [
    "ang = np.linspace(0,2*np.pi,25) # ângulos em radianos\n",
    "#print(ang)\n",
    "print(np.rad2deg(ang)) # ângulos em graus\n"
   ]
  },
  {
   "cell_type": "code",
   "execution_count": null,
   "metadata": {},
   "outputs": [],
   "source": [
    "print(\"Seno: \\n\", np.sin(ang))\n",
    "print(\"Cosseno: \\n\", np.cos(ang))\n",
    "print(\"Tangente: \\n\", np.tan(ang))"
   ]
  },
  {
   "cell_type": "code",
   "execution_count": null,
   "metadata": {},
   "outputs": [],
   "source": [
    "print(\"Arco seno: \\n\", np.rad2deg(np.arcsin(np.sin(ang))))\n",
    "print(\"Arco cosseno: \\n\", np.rad2deg(np.arccos(np.cos(ang))))\n",
    "print(\"Arco tangente: \\n\", np.rad2deg(np.arctan(np.tan(ang))))"
   ]
  },
  {
   "cell_type": "markdown",
   "metadata": {},
   "source": [
    "Funções exponenciais e logarítmicas\n",
    "\n",
    "|Nome da Função     |   Descrição                                     |\n",
    "|:-------------------:|-----------------------------------------------|\n",
    "| ``np.exp``          | Retorna $e^x$         |\n",
    "| ``np.exp2``         | Retorna $2^x$      |\n",
    "| ``np.power``        | Retorna $a^x$     |\n",
    "| ``np.ln``           | Retorna $\\log_e x$ ou simplesmente $\\ln x$    |\n",
    "| ``np.log2``         | Retorna $\\log_2 x$  |\n",
    "| ``np.log10``        | Retorna $\\log_{10} x$ |"
   ]
  },
  {
   "cell_type": "code",
   "execution_count": null,
   "metadata": {},
   "outputs": [],
   "source": [
    "x = np.array([1,2,3])\n",
    "print(\"Exponencial (e**x): \\n\", np.exp(x))\n",
    "print(\"Exponencial (2**x): \\n\", np.exp2(x))\n",
    "print(\"Exponencial (10**x): \\n\", np.power(10,x))"
   ]
  },
  {
   "cell_type": "code",
   "execution_count": null,
   "metadata": {},
   "outputs": [],
   "source": [
    "print(\"Logaritmo natural: \\n\", np.log(np.exp(x)))\n",
    "print(\"Logaritmo base 2: \\n\", np.log2(np.exp2(x)))\n",
    "print(\"Logaritmo base 10: \\n\", np.log10(np.power(10,x)))"
   ]
  },
  {
   "cell_type": "code",
   "execution_count": null,
   "metadata": {},
   "outputs": [],
   "source": [
    "#outros logaritmos\n",
    "#log base 3 de x pode ser calculado como log(x)/log(3)\n",
    "print(\"Logaritmo base 3: \\n\", np.log(np.power(3,x))/np.log(3))"
   ]
  },
  {
   "cell_type": "markdown",
   "metadata": {},
   "source": [
    "As limitações impostas pela aritmética de ponto flutuante faz com que, em alguns casos, seja necessário utilizar artifícios matemáticos para melhorar a precisão dos resultados. Para estes casos a __NumPy__ disponibiliza funções especiais como a utilizada no seguinte exemplo. "
   ]
  },
  {
   "cell_type": "code",
   "execution_count": null,
   "metadata": {},
   "outputs": [],
   "source": [
    "x = np.array([0, 0.001, 0.01, 0.1])\n",
    "print(\"Exponencial (e**x): \\n\", np.exp(x))\n",
    "print(\"Exponencial (e**x - 1): \\n\", np.expm1(x))\n",
    "#print(\"Logaritmo natural: \\n\", np.log(x))\n",
    "print(\"Logaritmo natural (1 + x): \\n\", np.log1p(x))"
   ]
  },
  {
   "cell_type": "markdown",
   "metadata": {},
   "source": [
    "Para valores do argumento muito pequenos estas funções conseguem retornar um resultado com maior precisão. "
   ]
  },
  {
   "cell_type": "markdown",
   "metadata": {},
   "source": [
    "MAs vamos retomar o exemplo do final da aula anterior \n",
    "\n",
    "Relembrando a definição de GEMM que implementa a seguinte operação\n",
    "\n",
    "$C = \\alpha AB + \\beta C$ \n",
    "\n",
    "De forma que:\n",
    "\n",
    "$C[i,j] = \\alpha \\sum_{k=0}^{k<l} {A[i,k] B[k,j]} + \\beta C[i,j]$\n",
    "\n",
    "Vamos primeiramente revisar a implementação baseada exclusivamente no uso de estruturas de repetição."
   ]
  },
  {
   "cell_type": "code",
   "execution_count": 7,
   "metadata": {},
   "outputs": [],
   "source": [
    "#Esta é uma implementação específica para ndarrays\n",
    "def GEMM_loops(alpha, A, B, beta, C):\n",
    "    ma, la = A.shape\n",
    "    lb, nb = B.shape\n",
    "    mc, nc = C.shape\n",
    "    if (ma != mc) or (la != lb) or (nb != nc):\n",
    "        return C\n",
    "    \n",
    "    for i in range(mc):\n",
    "        for j in range(nc):\n",
    "            val = 0\n",
    "            for k in range(la):\n",
    "                val += A[i,k]*B[k,j]\n",
    "            C[i,j] = alpha*val + beta*C[i,j]\n",
    "    return C"
   ]
  },
  {
   "cell_type": "code",
   "execution_count": 8,
   "metadata": {},
   "outputs": [],
   "source": [
    "# Dada uma matriz A de n linhas e l colunas\n",
    "n = 256\n",
    "l = 128\n",
    "A = np.random.random((n,l))\n",
    "#A = np.ones((n,l))\n",
    "# Uma matriz B de l linhas e n colunas\n",
    "m = 256\n",
    "B = np.random.random((l,m))\n",
    "#B= np.ones((l,m))\n",
    "# Uma matriz C de n linhas e m colunas\n",
    "#C = np.ones((n,m))\n",
    "#C = np.zeros((n,m))\n",
    "C = np.random.random((n,m))\n",
    "# E os escalares alpha e beta\n",
    "alpha = 0.5\n",
    "#alpha = 1.0\n",
    "beta = 1.5\n",
    "#beta = 1.0\n",
    "#print(A)\n",
    "#print(B)\n",
    "#print(C)"
   ]
  },
  {
   "cell_type": "code",
   "execution_count": 9,
   "metadata": {},
   "outputs": [
    {
     "name": "stdout",
     "output_type": "stream",
     "text": [
      "1.48 s ± 50.7 ms per loop (mean ± std. dev. of 7 runs, 1 loop each)\n"
     ]
    }
   ],
   "source": [
    "C1 = C.copy()\n",
    "%timeit Z = GEMM_loops(alpha, A, B, beta, C1)\n",
    "C1 = GEMM_loops(alpha, A, B, beta, C1)"
   ]
  },
  {
   "cell_type": "markdown",
   "metadata": {},
   "source": [
    "Podemos então tentar usar a _ufunc_ para melhorar o desempenho"
   ]
  },
  {
   "cell_type": "code",
   "execution_count": 10,
   "metadata": {},
   "outputs": [],
   "source": [
    "def GEMM_ufunc1(alpha, A, B, beta, C):\n",
    "    ma, la = A.shape\n",
    "    lb, nb = B.shape\n",
    "    mc, nc = C.shape\n",
    "    if (ma != mc) or (la != lb) or (nb != nc):\n",
    "        return C\n",
    "    \n",
    "    C = beta * C\n",
    "    for i in range(mc):\n",
    "        for j in range(nc):\n",
    "            val = 0\n",
    "            for k in range(la):\n",
    "                val += A[i,k]*B[k,j]\n",
    "            C[i,j] += alpha*val\n",
    "\n",
    "    return C"
   ]
  },
  {
   "cell_type": "code",
   "execution_count": 11,
   "metadata": {},
   "outputs": [
    {
     "name": "stdout",
     "output_type": "stream",
     "text": [
      "1.48 s ± 53 ms per loop (mean ± std. dev. of 7 runs, 1 loop each)\n"
     ]
    }
   ],
   "source": [
    "C2 = C.copy()\n",
    "%timeit Z = GEMM_ufunc1(alpha, A, B, beta, C2)\n",
    "C2= GEMM_ufunc1(alpha, A, B, beta, C2)"
   ]
  },
  {
   "cell_type": "code",
   "execution_count": 12,
   "metadata": {},
   "outputs": [],
   "source": [
    "def GEMM_ufunc2(alpha, A, B, beta, C):\n",
    "    ma, la = A.shape\n",
    "    lb, nb = B.shape\n",
    "    mc, nc = C.shape\n",
    "    if (ma != mc) or (la != lb) or (nb != nc):\n",
    "        return C\n",
    "    \n",
    "    C = beta * C\n",
    "    for i in range(mc):\n",
    "        for j in range(nc):\n",
    "            C_ = A[i,:] * B[:,j].T\n",
    "            val = 0\n",
    "            for k in range(la):\n",
    "                val += C_[k]\n",
    "            C[i,j] += alpha*val\n",
    "    \n",
    "    return C"
   ]
  },
  {
   "cell_type": "code",
   "execution_count": 13,
   "metadata": {},
   "outputs": [
    {
     "name": "stdout",
     "output_type": "stream",
     "text": [
      "647 ms ± 24.6 ms per loop (mean ± std. dev. of 7 runs, 1 loop each)\n"
     ]
    }
   ],
   "source": [
    "C3 = C.copy()\n",
    "%timeit Z = GEMM_ufunc2(alpha, A, B, beta, C3)\n",
    "C3= GEMM_ufunc2(alpha, A, B, beta, C3)"
   ]
  },
  {
   "cell_type": "markdown",
   "metadata": {},
   "source": [
    "Queda significativa no tempo total de processamento. Podemos melhorar ainda mais?"
   ]
  },
  {
   "cell_type": "markdown",
   "metadata": {},
   "source": [
    "Quando trabalhamos com uma grande quantidade de dados, muitas vezes se faz necessário começar par fazer uma análise estatística dos mesmos, \n",
    "\n",
    "Algumas métricas utilizadas em estatística, como as medidas de valor central ou as medidas de espalhamento, ou ainda medidas de correlação, podem ser um necessárias.\n",
    "\n",
    "De forma geral a média e o desvio pdrão é bom ponto de partida. \n",
    "\n",
    "__NumPy__ disponibiliza funções de agregação integradas rápidas para trabalhar em _ndarrays_ que são muito relevantes, por exemplo, para este tipo de análises."
   ]
  },
  {
   "cell_type": "markdown",
   "metadata": {},
   "source": [
    "Podemos começar pelo algoritmo simples, que já foi utilizado anteriormente, para calcular a soma de um conjunto de elementos, por exemplo, para calcular a média do conjunto. \n",
    "\n",
    "Se os valores estão numa lista, podemos utilizar a função ``sum``"
   ]
  },
  {
   "cell_type": "code",
   "execution_count": 14,
   "metadata": {},
   "outputs": [
    {
     "name": "stdout",
     "output_type": "stream",
     "text": [
      "262.0302623576084\n"
     ]
    }
   ],
   "source": [
    "from random import random   \n",
    "matSize = 512\n",
    "vetX = [random() for i in range(matSize)]\n",
    "soma = sum(vetX)\n",
    "print(soma)"
   ]
  },
  {
   "cell_type": "markdown",
   "metadata": {},
   "source": [
    "Podemos obter o mesmo resultado utilizando os recursos da __NumPy__, particularmente a função ``sum`` "
   ]
  },
  {
   "cell_type": "code",
   "execution_count": 15,
   "metadata": {},
   "outputs": [
    {
     "name": "stdout",
     "output_type": "stream",
     "text": [
      "262.0302623576082\n"
     ]
    }
   ],
   "source": [
    "#import numpy as np\n",
    "x = np.array(vetX)\n",
    "soma = np.sum(x)\n",
    "print(soma)"
   ]
  },
  {
   "cell_type": "markdown",
   "metadata": {},
   "source": [
    "Vamos comparar o desempenho destas duas implementações."
   ]
  },
  {
   "cell_type": "code",
   "execution_count": 16,
   "metadata": {},
   "outputs": [
    {
     "name": "stdout",
     "output_type": "stream",
     "text": [
      "2.63 ms ± 16.3 µs per loop (mean ± std. dev. of 7 runs, 100 loops each)\n",
      "188 µs ± 672 ns per loop (mean ± std. dev. of 7 runs, 10,000 loops each)\n"
     ]
    }
   ],
   "source": [
    "matSize = 1000000\n",
    "vetX = [random() for i in range(matSize)]\n",
    "x = np.array(vetX)\n",
    "%timeit sum(vetX)\n",
    "%timeit np.sum(x)"
   ]
  },
  {
   "cell_type": "markdown",
   "metadata": {},
   "source": [
    "Repare que esta função pode ser utilizada na nossa implementação da para _ndarrays_ do __GEMM__."
   ]
  },
  {
   "cell_type": "code",
   "execution_count": 17,
   "metadata": {},
   "outputs": [],
   "source": [
    "def GEMM_ufunc3(alpha, A, B, beta, C):\n",
    "    ma, la = A.shape\n",
    "    lb, nb = B.shape\n",
    "    mc, nc = C.shape\n",
    "    if (ma != mc) or (la != lb) or (nb != nc):\n",
    "        return C\n",
    "    \n",
    "    C = beta * C\n",
    "    for i in range(mc):\n",
    "        for j in range(nc):\n",
    "            C[i,j] += alpha*np.sum(A[i,:] * B[:,j].T)\n",
    "    \n",
    "    return C"
   ]
  },
  {
   "cell_type": "code",
   "execution_count": 18,
   "metadata": {},
   "outputs": [
    {
     "name": "stdout",
     "output_type": "stream",
     "text": [
      "134 ms ± 430 µs per loop (mean ± std. dev. of 7 runs, 10 loops each)\n"
     ]
    }
   ],
   "source": [
    "C4 = C.copy()\n",
    "%timeit Z = GEMM_ufunc3(alpha, A, B, beta, C4)\n",
    "C4= GEMM_ufunc3(alpha, A, B, beta, C4)"
   ]
  },
  {
   "cell_type": "markdown",
   "metadata": {},
   "source": [
    "No exercício da prova do módulo anterior utilizamos as funções ``min`` e ``max``, que também tem implementações muito eficientes na __NumPy__"
   ]
  },
  {
   "cell_type": "code",
   "execution_count": null,
   "metadata": {},
   "outputs": [],
   "source": [
    "print(max(vetX))\n",
    "print(np.max(x))\n",
    "%timeit max(vetX)\n",
    "%timeit np.max(x)"
   ]
  },
  {
   "cell_type": "code",
   "execution_count": null,
   "metadata": {},
   "outputs": [],
   "source": [
    "print(min(vetX))\n",
    "print(np.min(x))\n",
    "%timeit min(vetX)\n",
    "%timeit np.min(x)"
   ]
  },
  {
   "cell_type": "markdown",
   "metadata": {},
   "source": [
    "Este tipo de funções são chamadas de funções agregadoras. Outras funções de agregação estão disponíveis. A maioria delas uma versão segura para __NaN__, que calcula o resultado ignorando os valores ausentes, que são marcados pelo valor __NaN__ de ponto flutuante. Algumas dessas funções seguras para NaN não foram adicionadas até o NumPy 1.8, portanto, não estarão disponíveis em versões mais antigas do NumPy. Veja a tabela a seguir.\n",
    "\n",
    "|Função             |   Versão __NaN-__safe  | Descrição                                  |\n",
    "|-------------------|---------------------|-----------------------------------------------|\n",
    "| ``np.sum``        | ``np.nansum``       | Calcula a soma dos elementos                  |\n",
    "| ``np.prod``       | ``np.nanprod``      | Calcula o produto dos elementos               |\n",
    "| ``np.mean``       | ``np.nanmean``      | Calcula o valor médio                         |\n",
    "| ``np.std``        | ``np.nanstd``       | Calcula o desvio padrão                       |\n",
    "| ``np.var``        | ``np.nanvar``       | Calcula a variância                              |\n",
    "| ``np.min``        | ``np.nanmin``       | Retorna o valor mínimo                            |\n",
    "| ``np.max``        | ``np.nanmax``       | Retorna o valor máximo                            |\n",
    "| ``np.argmin``     | ``np.nanargmin``    | Retorna o índice de valor mínimo                   |\n",
    "| ``np.argmax``     | ``np.nanargmax``    | Retorna o índice de valor máximo                   |\n",
    "| ``np.median``     | ``np.nanmedian``    | Calcula a mediana                    |\n",
    "| ``np.percentile`` | ``np.nanpercentile``| Calcula os percentil      |\n",
    "| ``np.any``        | N/A                 | Avalie se algum elemento é verdadeiro        |\n",
    "| ``np.all``        | N/A                 | Avalie se todos os elementos são verdadeiros        |"
   ]
  },
  {
   "cell_type": "markdown",
   "metadata": {},
   "source": [
    "Estas funções permitam trabalhar com arrays multidimensionais."
   ]
  },
  {
   "cell_type": "code",
   "execution_count": 19,
   "metadata": {},
   "outputs": [
    {
     "name": "stdout",
     "output_type": "stream",
     "text": [
      "[[0.10985145 0.78976879 0.24880594]\n",
      " [0.58370978 0.43162229 0.56784293]\n",
      " [0.8705896  0.98628158 0.32895774]]\n",
      "Soma:  4.917430101720881\n",
      "Máximo:  0.9862815780714174\n",
      "Índice do máximo:  7\n",
      "Mínimo:  0.10985145057537193\n",
      "Índice do mínimo:  0\n",
      "Média:  0.5463811224134312\n",
      "Mediana:  0.5678429285183658\n",
      "Desvio padrão:  0.2787405814342637\n"
     ]
    }
   ],
   "source": [
    "A = np.random.random((3,3))\n",
    "print(A)\n",
    "print(\"Soma: \", np.sum(A))\n",
    "print(\"Máximo: \", np.max(A))\n",
    "print(\"Índice do máximo: \", np.argmax(A))\n",
    "print(\"Mínimo: \", np.min(A))\n",
    "print(\"Índice do mínimo: \", np.argmin(A))\n",
    "print(\"Média: \", np.mean(A))\n",
    "print(\"Mediana: \", np.median(A))\n",
    "print(\"Desvio padrão: \", np.std(A))\n"
   ]
  },
  {
   "cell_type": "markdown",
   "metadata": {},
   "source": [
    "As funções de agregação pode receber também um argumento adicional que especifica o eixo ao longo do qual a agregação deve ser calculada. Por exemplo, podemos encontrar o valor máximo de cada coluna especificando ``axis=0``, e de cada linha especificando ``axis=1``"
   ]
  },
  {
   "cell_type": "code",
   "execution_count": 20,
   "metadata": {},
   "outputs": [
    {
     "name": "stdout",
     "output_type": "stream",
     "text": [
      "[[0.10985145 0.78976879 0.24880594]\n",
      " [0.58370978 0.43162229 0.56784293]\n",
      " [0.8705896  0.98628158 0.32895774]]\n",
      "Soma:  [1.56415083 2.20767266 1.14560661]\n",
      "Máximo:  [0.8705896  0.98628158 0.56784293]\n",
      "Índice do máximo:  [2 2 1]\n",
      "Mínimo:  [0.10985145 0.43162229 0.24880594]\n",
      "Índice do mínimo:  [0 1 0]\n",
      "Média:  [0.52138361 0.73589089 0.38186887]\n",
      "Mediana:  [0.58370978 0.78976879 0.32895774]\n",
      "Desvio padrão:  [0.31368142 0.22962122 0.13551344]\n"
     ]
    }
   ],
   "source": [
    "print(A)\n",
    "print(\"Soma: \", np.sum(A, axis=0))\n",
    "print(\"Máximo: \", np.max(A, axis=0))\n",
    "print(\"Índice do máximo: \", np.argmax(A, axis=0))\n",
    "print(\"Mínimo: \", np.min(A, axis=0))\n",
    "print(\"Índice do mínimo: \", np.argmin(A, axis=0))\n",
    "print(\"Média: \", np.mean(A, axis=0))\n",
    "print(\"Mediana: \", np.median(A, axis=0))\n",
    "print(\"Desvio padrão: \", np.std(A, axis=0))"
   ]
  },
  {
   "cell_type": "markdown",
   "metadata": {},
   "source": [
    "Temos ainda a implementação dos produtos vetoriais e matrizais da álgebra linear. \n",
    "\n",
    "A função ``np.dot`` implementa o produto escalar de duas matrizes. \n",
    "\n",
    "* Se ``a`` e ``b`` são matrizes 1-D, o resultado é o produto interno de vetores (sem complexa conjugada).\n",
    "\n",
    "* Se ``a`` e ``b`` forem matrizes 2-D, o resultado é uma multiplicação de matrizes, mas é preferível usar ``matmul`` ou ``a @ b``.\n",
    "\n",
    "Se ``a`` ou ``b`` for escalar, é equivalente a multiplicar e usar ``numpy.multiply(a, b)`` ou ``a * b``."
   ]
  },
  {
   "cell_type": "code",
   "execution_count": 21,
   "metadata": {},
   "outputs": [
    {
     "name": "stdout",
     "output_type": "stream",
     "text": [
      "32\n"
     ]
    }
   ],
   "source": [
    "x = np.array([1,2,3])\n",
    "y = np.array([4,5,6])\n",
    "\n",
    "z = np.dot(x,y)\n",
    "print(z)"
   ]
  },
  {
   "cell_type": "code",
   "execution_count": 22,
   "metadata": {},
   "outputs": [
    {
     "name": "stdout",
     "output_type": "stream",
     "text": [
      "[[0.36140495 0.89938454 0.59608409]\n",
      " [1.08612001 0.93760186 0.89801676]\n",
      " [0.64695178 1.13316198 0.58697666]]\n"
     ]
    }
   ],
   "source": [
    "A = np.random.random((3,3))\n",
    "B = np.random.random((3,3))\n",
    "\n",
    "C = np.dot(A,B)\n",
    "print(C)"
   ]
  },
  {
   "cell_type": "markdown",
   "metadata": {},
   "source": [
    "Podemos retomar nossa implementação a GEMM para usar o produto escalar de vetores."
   ]
  },
  {
   "cell_type": "code",
   "execution_count": 23,
   "metadata": {},
   "outputs": [],
   "source": [
    "# Dada uma matriz A de n linhas e l colunas\n",
    "n = 256\n",
    "l = 128\n",
    "A = np.random.random((n,l))\n",
    "#A = np.ones((n,l))\n",
    "# Uma matriz B de l linhas e n colunas\n",
    "m = 256\n",
    "B = np.random.random((l,m))\n",
    "#B= np.ones((l,m))\n",
    "# Uma matriz C de n linhas e m colunas\n",
    "#C = np.ones((n,m))\n",
    "#C = np.zeros((n,m))\n",
    "C = np.random.random((n,m))\n",
    "# E os escalares alpha e beta\n",
    "alpha = 0.5\n",
    "#alpha = 1.0\n",
    "beta = 1.5\n",
    "#beta = 1.0\n",
    "#print(A)\n",
    "#print(B)\n",
    "#print(C)"
   ]
  },
  {
   "cell_type": "code",
   "execution_count": 24,
   "metadata": {},
   "outputs": [],
   "source": [
    "def GEMM_ufunc4(alpha, A, B, beta, C):\n",
    "    ma, la = A.shape\n",
    "    lb, nb = B.shape\n",
    "    mc, nc = C.shape\n",
    "    if (ma != mc) or (la != lb) or (nb != nc):\n",
    "        return C\n",
    "    \n",
    "    C = beta * C\n",
    "    for i in range(mc):\n",
    "        for j in range(nc):\n",
    "            C[i,j] += alpha*np.dot(A[i,:],B[:,j].T)\n",
    "    \n",
    "    return C"
   ]
  },
  {
   "cell_type": "code",
   "execution_count": 25,
   "metadata": {},
   "outputs": [
    {
     "name": "stdout",
     "output_type": "stream",
     "text": [
      "55.7 ms ± 437 µs per loop (mean ± std. dev. of 7 runs, 10 loops each)\n"
     ]
    }
   ],
   "source": [
    "C5 = C.copy()\n",
    "%timeit Z = GEMM_ufunc4(alpha, A, B, beta, C5)\n",
    "C5= GEMM_ufunc4(alpha, A, B, beta, C4)"
   ]
  },
  {
   "cell_type": "code",
   "execution_count": 26,
   "metadata": {},
   "outputs": [
    {
     "name": "stdout",
     "output_type": "stream",
     "text": [
      "570 µs ± 114 µs per loop (mean ± std. dev. of 7 runs, 1,000 loops each)\n",
      "(256, 256)\n"
     ]
    }
   ],
   "source": [
    "%timeit Z = alpha*np.dot(A,B)+beta*C\n",
    "print((alpha*np.dot(A,B)+beta*C).shape)"
   ]
  },
  {
   "cell_type": "code",
   "execution_count": 27,
   "metadata": {},
   "outputs": [
    {
     "name": "stdout",
     "output_type": "stream",
     "text": [
      "617 µs ± 302 µs per loop (mean ± std. dev. of 7 runs, 1,000 loops each)\n",
      "(256, 256)\n"
     ]
    }
   ],
   "source": [
    "%timeit Z = alpha*np.matmul(A,B) + beta*C\n",
    "print((alpha*np.matmul(A,B) + beta*C).shape)"
   ]
  },
  {
   "cell_type": "code",
   "execution_count": 28,
   "metadata": {},
   "outputs": [
    {
     "name": "stdout",
     "output_type": "stream",
     "text": [
      "608 µs ± 118 µs per loop (mean ± std. dev. of 7 runs, 1,000 loops each)\n",
      "(256, 256)\n"
     ]
    }
   ],
   "source": [
    "%timeit Z = alpha*A@B + beta*C\n",
    "print((alpha*A@B + beta*C).shape)"
   ]
  },
  {
   "cell_type": "code",
   "execution_count": 29,
   "metadata": {},
   "outputs": [],
   "source": [
    "# Dada uma matriz A de n linhas e l colunas\n",
    "n = 1024\n",
    "l = 1024\n",
    "A = np.random.random((n,l))\n",
    "#A = np.ones((n,l))\n",
    "# Uma matriz B de l linhas e n colunas\n",
    "m = 1024\n",
    "B = np.random.random((l,m))\n",
    "#B= np.ones((l,m))\n",
    "# Uma matriz C de n linhas e m colunas\n",
    "#C = np.ones((n,m))\n",
    "#C = np.zeros((n,m))\n",
    "C = np.random.random((n,m))\n",
    "# E os escalares alpha e beta\n",
    "alpha = 0.5\n",
    "#alpha = 1.0\n",
    "beta = 1.5\n",
    "#beta = 1.0\n",
    "#print(A)\n",
    "#print(B)\n",
    "#print(C)"
   ]
  },
  {
   "cell_type": "code",
   "execution_count": 30,
   "metadata": {},
   "outputs": [
    {
     "name": "stdout",
     "output_type": "stream",
     "text": [
      "2.4 s ± 94.5 ms per loop (mean ± std. dev. of 7 runs, 1 loop each)\n"
     ]
    }
   ],
   "source": [
    "%timeit Z = GEMM_ufunc4(alpha, A, B, beta, C)"
   ]
  },
  {
   "cell_type": "code",
   "execution_count": null,
   "metadata": {},
   "outputs": [],
   "source": [
    "gflop = (2.0*1024 + 2)*(1024**2)*1E-9\n",
    "print(gflop/7.98)"
   ]
  },
  {
   "cell_type": "code",
   "execution_count": 31,
   "metadata": {},
   "outputs": [
    {
     "name": "stdout",
     "output_type": "stream",
     "text": [
      "45.8 ms ± 11.6 ms per loop (mean ± std. dev. of 7 runs, 10 loops each)\n"
     ]
    }
   ],
   "source": [
    "%timeit Z = alpha*np.dot(A,B)+beta*C"
   ]
  },
  {
   "cell_type": "code",
   "execution_count": 32,
   "metadata": {},
   "outputs": [
    {
     "ename": "NameError",
     "evalue": "name 'gflop' is not defined",
     "output_type": "error",
     "traceback": [
      "\u001b[0;31m---------------------------------------------------------------------------\u001b[0m",
      "\u001b[0;31mNameError\u001b[0m                                 Traceback (most recent call last)",
      "Cell \u001b[0;32mIn[32], line 1\u001b[0m\n\u001b[0;32m----> 1\u001b[0m \u001b[38;5;28mprint\u001b[39m(\u001b[43mgflop\u001b[49m\u001b[38;5;241m/\u001b[39m(\u001b[38;5;241m29\u001b[39m\u001b[38;5;241m*\u001b[39m\u001b[38;5;241m1E-3\u001b[39m))\n",
      "\u001b[0;31mNameError\u001b[0m: name 'gflop' is not defined"
     ]
    }
   ],
   "source": [
    "print(gflop/(29*1E-3))"
   ]
  },
  {
   "cell_type": "code",
   "execution_count": 33,
   "metadata": {},
   "outputs": [
    {
     "name": "stdout",
     "output_type": "stream",
     "text": [
      "39.5 ms ± 8.26 ms per loop (mean ± std. dev. of 7 runs, 10 loops each)\n"
     ]
    }
   ],
   "source": [
    "%timeit Z = alpha*np.matmul(A,B) + beta*C"
   ]
  },
  {
   "cell_type": "code",
   "execution_count": 34,
   "metadata": {},
   "outputs": [
    {
     "name": "stdout",
     "output_type": "stream",
     "text": [
      "32.9 ms ± 6.32 ms per loop (mean ± std. dev. of 7 runs, 10 loops each)\n"
     ]
    }
   ],
   "source": [
    "%timeit Z = alpha*A@B + beta*C"
   ]
  },
  {
   "cell_type": "code",
   "execution_count": null,
   "metadata": {},
   "outputs": [],
   "source": []
  }
 ],
 "metadata": {
  "kernelspec": {
   "display_name": "Python 3 (ipykernel)",
   "language": "python",
   "name": "python3"
  },
  "language_info": {
   "codemirror_mode": {
    "name": "ipython",
    "version": 3
   },
   "file_extension": ".py",
   "mimetype": "text/x-python",
   "name": "python",
   "nbconvert_exporter": "python",
   "pygments_lexer": "ipython3",
   "version": "3.10.14"
  }
 },
 "nbformat": 4,
 "nbformat_minor": 4
}
