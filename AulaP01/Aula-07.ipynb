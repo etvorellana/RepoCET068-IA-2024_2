{
 "cells": [
  {
   "cell_type": "markdown",
   "metadata": {},
   "source": [
    "# Módulo de Programação Python: Introdução à Linguagem\n",
    "\n",
    "# Aula - 07"
   ]
  },
  {
   "cell_type": "markdown",
   "metadata": {},
   "source": [
    "__Objetivo__:  Trabalhar com pacotes e módulos disponíveis em python: __Numpy__. Apresentar as limitações dos tipos de dados básicos em python e a alternativa oferecida pelo __NumPy__."
   ]
  },
  {
   "cell_type": "markdown",
   "metadata": {},
   "source": [
    "## NumPy: Uma rápida introdução\n",
    "\n",
    "A implementação de modelos computacionais eficientes passa pela escolha de estratégias apropriadas para representar e processar os dados de forma apropriada. \n",
    "\n",
    "Por este motivo, técnicas eficientes para carregar, armazenar e manipular dados na memória são de grande importância em análise, processamento de dados e computação científica. \n",
    "\n",
    "Levando em consideração que os dados podem vir em uma grande quantidade de tipos e formatos, o primeiro passo para transformar eles em uma estrutura que possa ser analisada, é construir  arranjos de números de valores.\n",
    "\n",
    "Por este motivo a manipulação e o armazenamento eficiente de arranjos numéricos é uma ferramenta indispensável em toda linguagem de programação. \n",
    "\n",
    "Nesta aula começaremos a apresentar o módulo __NumPy__, um recurso muito poderoso disponível em __Python__ para trabalhar com arranjos numéricos. \n",
    "\n",
    "Mais documentação sobre o módulo no site do projeto [NumPy](http://www.numpy.org)"
   ]
  },
  {
   "cell_type": "markdown",
   "metadata": {},
   "source": [
    "### Sobre tipos em Python\n",
    "\n",
    "Já foi discutido antes o fato de  __Python__ ser uma linguagem dinamicamente tipada e suas implicações práticas.\n",
    "    \n",
    "Uma variável em __Python__ não é apenas um bloco de memória para guardar um valor de tipo predeterminado, mas um ponteiro para um objeto utilizado para armazenar um tipo de dado específico. Desta forma o armazenamento de informação em variáveis acarreta uma série de informações extras que podem sobrecarregar o processo, quando comparado a linguagens estaticamente tipadas como __C/C++__. \n",
    "\n",
    "Esta sobrecarga fica mais evidente quando se trata de armazenar e processar um conjunto ou arranjo de dados. Vejamos, por exemplo, as listas em __Python__. \n",
    "\n",
    "Para os que já trabalharam com arrays em outras linguagens fica evidente que as listas, com toda sua flexibilidade e dinamismo, são estruturas pouco eficientes desde o ponto de vista de uso da memória. \n",
    "\n",
    "A pesar de que podem ser acessadas utilizando índice, da mesma forma que os arrays, as listas não seriam uma escolha apropriada para se tratar de problemas que envolvem estruturas como vetores e matrizes. \n",
    "\n",
    "Vejamos o seguinte exemplo:\n",
    "\n",
    "#### Multiplicação de Matrizes\n",
    "\n",
    "Um problema comum na área de IA e redes neurais é a multiplicação de matrizes. Esta operação pode aparecer, por exemplo, no processo de treinamento de modelos baseados no uso de Redes Neurais. Veja uma explicação de uma implementação avançada em __Python__ do algoritmos de multiplicação geral de matrizes (GEMM - General amatrix Multiplicaction) [aqui](https://spatial-lang.org/gemm).\n",
    "\n",
    "Como representar uma matriz valores de ponto flutuante em __Python__? A abordagem mais simples e direta é utilizando listas de listas."
   ]
  },
  {
   "cell_type": "code",
   "execution_count": 2,
   "metadata": {},
   "outputs": [
    {
     "name": "stdout",
     "output_type": "stream",
     "text": [
      "[[1.0, 2.0, 3.0], [4.0, 5.0, 6.0], [7.0, 8.0, 9.0]]\n"
     ]
    }
   ],
   "source": [
    "matA = [[1.0, 2.0, 3.0], [4.0, 5.0, 6.0], [7.0, 8.0, 9.0]]\n",
    "matB = [[1.0, 0.0, 0.0], [0.0, 1.0, 0.0], [0.0, 0.0, 1.0]]\n",
    "matC = [[0.0, 0.0, 0.0], [0.0, 0.0, 0.0], [0., 0., 0.0]]\n",
    "\n",
    "def GEMM(alpha, A, B, beta, C):\n",
    "    for i in range(len(A)):\n",
    "        for j in range(len(B[0])):\n",
    "            C[i][j] *= beta\n",
    "            for k in range(len(A[0])):\n",
    "                C[i][j] += alpha * A[i][k] * B[k][j]\n",
    "    return C\n",
    "\n",
    "matC = GEMM(1.0, matA, matB, 0.0, matC)\n",
    "print(matC)"
   ]
  },
  {
   "cell_type": "markdown",
   "metadata": {},
   "source": [
    "Vamos testar esta implementação utilizando ``%timeit`` e matrizes de maior porte."
   ]
  },
  {
   "cell_type": "code",
   "execution_count": 3,
   "metadata": {},
   "outputs": [
    {
     "name": "stdout",
     "output_type": "stream",
     "text": [
      "512 512\n"
     ]
    }
   ],
   "source": [
    "from random import random   \n",
    "matSize = 512\n",
    "matA = [[random() for i in range(matSize)] for j in range(matSize)]\n",
    "matB = [[random() for i in range(matSize)] for j in range(matSize)]\n",
    "matC = [[random() for i in range(matSize)] for j in range(matSize)]\n",
    "print(len(matA), len(matA[0]))"
   ]
  },
  {
   "cell_type": "code",
   "execution_count": 4,
   "metadata": {},
   "outputs": [
    {
     "name": "stdout",
     "output_type": "stream",
     "text": [
      "12 s ± 116 ms per loop (mean ± std. dev. of 7 runs, 1 loop each)\n"
     ]
    }
   ],
   "source": [
    "%timeit GEMM(2.0, matA, matB, 0.5, matC)"
   ]
  },
  {
   "cell_type": "markdown",
   "metadata": {},
   "source": [
    "O que acontece quando usamos uma estrutura de dados __Python__ que contém diversos objetos Python. O contêiner, com suporte a múltiplos tipos, mutável padrão em Python é a lista. Podemos criar uma lista de ``float`` da como vimos no exemplo anterior. Devido à tipagem dinâmica do Python, as listas podem ser heterogêneas, incluindo objetos de tipos diferentes.\n",
    "\n",
    "Mas esta flexibilidade tem um custo: para permitir estes tipos flexíveis, cada item da lista deve conter o seu próprio tipo, contagem de referências e outras informações. Ou seja, cada item é um objeto Python completo. No caso especial de todas as variáveis serem do mesmo tipo, muitas dessas informações são redundantes, portanto pode ser muito mais eficiente armazenar os dados em um array de tipo fixo. A diferença entre uma lista de tipo dinâmico e uma matriz de tipo fixo, como os arrays em __C/C++__ é ilustrada na figura a seguir:\n",
    "\n",
    "<img align=\"center\" style=\"padding-right:10px;\" src=\"Figuras/aula-08_fig_02.png\">\n",
    "\n",
    "No nível de implementação, o array contém essencialmente um único ponteiro para um bloco contíguo de dados. \n",
    "\n",
    "A lista Python, por outro lado, contém um ponteiro para um bloco de ponteiros, cada um dos quais, por sua vez, aponta para um objeto Python completo, como o inteiro Python que vimos anteriormente. \n",
    "\n",
    "A vantagem da lista é a flexibilidade: como cada elemento da lista é uma estrutura completa contendo dados e informações de tipo, a lista pode ser preenchida com dados de qualquer tipo desejado. \n",
    "\n",
    "Matrizes de estilo __C/C++__, de tipo fixo, não possuem essa flexibilidade, mas são muito mais eficientes para armazenar e manipular dados."
   ]
  },
  {
   "cell_type": "markdown",
   "metadata": {},
   "source": [
    "### Arrays de tipo fixo\n",
    "\n",
    "Para resolver as limitações das listas, no que se refere a armazenamento de grandes volumes de informação de um tipo específico, __Python__ oferece algumas alternativas. Veja por exemplo o módulo array utilizado no seguinte exemplo: "
   ]
  },
  {
   "cell_type": "code",
   "execution_count": 6,
   "metadata": {},
   "outputs": [
    {
     "name": "stdout",
     "output_type": "stream",
     "text": [
      "array('i', [0, 1, 2, 3, 4, 5, 6, 7, 8, 9])\n",
      "<class 'array.array'>\n"
     ]
    }
   ],
   "source": [
    "import array\n",
    "L = list(range(10))\n",
    "x_1 = array.array('i', L)\n",
    "print(x_1)\n",
    "y_1 = array.array('d', L)\n",
    "print(type(x_1))\n",
    "#help(array.array)"
   ]
  },
  {
   "cell_type": "markdown",
   "metadata": {},
   "source": [
    "Entretanto o recurso mais utilizado com esta finalidade são os objetos de tipo _ndarray_ (n-dimensional array), implementados no módulo __NumPy__. Este módulo disponibiliza não apenas um estrutura para armazenamento eficiente mas um conjunto de operações e funções para manipular as mesmas. Vamos fazer uma revisão dos recursos disponíveis começando por como criar um _ndarray_ a partir de uma lista."
   ]
  },
  {
   "cell_type": "code",
   "execution_count": 5,
   "metadata": {},
   "outputs": [
    {
     "name": "stdout",
     "output_type": "stream",
     "text": [
      "NumPy:  1.26.4\n"
     ]
    }
   ],
   "source": [
    "import numpy as np\n",
    "print(\"NumPy: \", np.__version__)"
   ]
  },
  {
   "cell_type": "code",
   "execution_count": 7,
   "metadata": {},
   "outputs": [
    {
     "name": "stdout",
     "output_type": "stream",
     "text": [
      "[0 1 2 3 4 5 6 7 8 9]\n",
      "<class 'numpy.ndarray'>\n"
     ]
    }
   ],
   "source": [
    "x_2 = np.array(L)\n",
    "print(x_2)\n",
    "print(type(x_2))"
   ]
  },
  {
   "cell_type": "markdown",
   "metadata": {},
   "source": [
    "Ao contrário das listas onde cada item pode ter um tipo específico diferente dos outros itens ..."
   ]
  },
  {
   "cell_type": "code",
   "execution_count": 8,
   "metadata": {},
   "outputs": [
    {
     "name": "stdout",
     "output_type": "stream",
     "text": [
      "type(L):  <class 'list'>\n",
      "type(L[0]):  <class 'int'>\n"
     ]
    }
   ],
   "source": [
    "print(\"type(L): \", type(L))\n",
    "print(\"type(L[0]): \", type(L[0]))"
   ]
  },
  {
   "cell_type": "markdown",
   "metadata": {},
   "source": [
    "... os arrays são criados utilizando um único tipo."
   ]
  },
  {
   "cell_type": "code",
   "execution_count": 9,
   "metadata": {},
   "outputs": [
    {
     "name": "stdout",
     "output_type": "stream",
     "text": [
      "x_2.dtype:  int64\n"
     ]
    }
   ],
   "source": [
    "print(\"x_2.dtype: \", x_2.dtype)"
   ]
  },
  {
   "cell_type": "markdown",
   "metadata": {},
   "source": [
    "Quando encontrados tipos diversos na lista utilizada para criar a array, o construtor faz um casting automático para o tipo mais abrangente."
   ]
  },
  {
   "cell_type": "code",
   "execution_count": 10,
   "metadata": {},
   "outputs": [
    {
     "name": "stdout",
     "output_type": "stream",
     "text": [
      "x_3.dtype:  float64\n"
     ]
    }
   ],
   "source": [
    "L = [1, 2.0, 3, 4.0, 5, 6.0, 7]\n",
    "x_3 = np.array(L)\n",
    "print(\"x_3.dtype: \", x_3.dtype)"
   ]
  },
  {
   "cell_type": "markdown",
   "metadata": {},
   "source": [
    "O construtor da classe _ndarray_ cria então o objeto a partir dos objetos que encontra na lista. Entretanto o tipo do pode ser especificado no construtor. "
   ]
  },
  {
   "cell_type": "code",
   "execution_count": 11,
   "metadata": {},
   "outputs": [
    {
     "name": "stdout",
     "output_type": "stream",
     "text": [
      "x_3.dtype:  float64\n",
      "x_4.dtype:  float32\n"
     ]
    }
   ],
   "source": [
    "print(\"x_3.dtype: \", x_3.dtype)\n",
    "x_4 = np.array(L, 'float32')\n",
    "print(\"x_4.dtype: \", x_4.dtype)"
   ]
  },
  {
   "cell_type": "markdown",
   "metadata": {},
   "source": [
    "Dado que as matrizes __NumPy__ armazenam valores de um único tipo, é importante conhecer os tipos que estão disponíveis. Como __NumPy__ foi desenvolvido em __C/C++__, estes tipos de dados podem parecer familiares para desenvolvedores de linguagens imperativas tradicionais.\n",
    "\n",
    "| Tipo\t | Descrição  |\n",
    "|-------------|-------------|\n",
    "| `bool_`     | Booleano (True ou False) armazenado como um byte |\n",
    "| `int_`      | Tipo inteiro padrão (igual a C `long`; normalmente `int64` ou `int32`)| \n",
    "| `intc`      | Idêntico a C `int` (normalmente `int32` ou `int64`)| \n",
    "| `intp`      | Inteiro usado para indexação (igual a C `ssize_t`; normalmente `int32` ou `int64`)| \n",
    "| `int8`      | Bytes (–128 a 127)| \n",
    "| `int16`     | Inteiro (–32768 to 32767)|\n",
    "| `int32`     | Inteiro (–2147483648 to 2147483647)|\n",
    "| `int64`     | Inteiro (–9223372036854775808 to 9223372036854775807)| \n",
    "| `uint8`     | Inteiro sem sinal (0 to 255)| \n",
    "| `uint16`    | Inteiro sem sinal (0 to 65535)| \n",
    "| `uint32`    | Inteiro sem sinal (0 to 4294967295)| \n",
    "| `uint64`    | Inteiro sem sinal (0 to 18446744073709551615)| \n",
    "| `float_`    | Abreviação para `float64`| \n",
    "| `float16`   | Float de meia precisão: bit de sinal, expoente de 5 bits, mantissa de 10 bits| \n",
    "| `float32`   | Float de precisão simples: bit de sinal, expoente de 8 bits, mantissa de 23 bits| \n",
    "| `float64`   | Float de precisão dupla: bit de sinal, expoente de 11 bits, mantissa de 52 bits| \n",
    "| `complex_`  | Abreviação para `complex128`| \n",
    "| `complex64` | Número complexo, representado por dois floats de 32-bit| \n",
    "| `complex128`| Número complexo, representado por dois floats de 64-bit| \n",
    "\n",
    "Observe que ao construir um array, eles podem ser especificados usando uma string como mostrado nos exemplos anteriores.\n",
    "\n",
    "Por outro lado, quando o construtor encontra uma lista de listas, cria um _ndarray_ multidimensional."
   ]
  },
  {
   "cell_type": "code",
   "execution_count": 12,
   "metadata": {},
   "outputs": [
    {
     "name": "stdout",
     "output_type": "stream",
     "text": [
      "[[1. 2. 3.]\n",
      " [4. 5. 6.]\n",
      " [7. 8. 9.]]\n",
      "[[1. 0. 0.]\n",
      " [0. 1. 0.]\n",
      " [0. 0. 1.]]\n",
      "matA.dtype:  float64\n",
      "matB.dtype:  float64\n"
     ]
    }
   ],
   "source": [
    "matA = [[1.0, 2.0, 3.0], [4.0, 5.0, 6.0], [7.0, 8.0, 9.0]]\n",
    "matB = [[1.0, 0.0, 0.0], [0.0, 1.0, 0.0], [0.0, 0.0, 1.0]]\n",
    "matA = np.array(matA)\n",
    "matB = np.array(matB, 'float64')\n",
    "print(matA)\n",
    "print(matB)\n",
    "print(\"matA.dtype: \", matA.dtype)\n",
    "print(\"matB.dtype: \", matB.dtype)"
   ]
  },
  {
   "cell_type": "code",
   "execution_count": 13,
   "metadata": {},
   "outputs": [
    {
     "name": "stdout",
     "output_type": "stream",
     "text": [
      "float64 float64 float64\n"
     ]
    }
   ],
   "source": [
    "matA = [[random() for i in range(matSize)] for j in range(matSize)]\n",
    "matB = [[random() for i in range(matSize)] for j in range(matSize)]\n",
    "matA = np.array(matA)\n",
    "matB = np.array(matB, 'float64')\n",
    "matC = np.array([[random() for i in range(1024)] for j in range(1024)])\n",
    "print(matA.dtype, matB.dtype, matC.dtype)\n"
   ]
  },
  {
   "cell_type": "markdown",
   "metadata": {},
   "source": [
    "### Criando um ndarray de zero\n",
    "\n",
    "Até aqui utilizamos listas para criar arrays. Entretanto, __NumPy__ permite também criar _ndarrays_ de diversas outras formas. Veja os exemplos a seguir.\n",
    "\n",
    "Em alguns casos, por exemplo, se faz necessário criar um arrays de contadores. Os contadores precisam ser inicializados com zero. Neste caso podemos utilizar o construtor ``zeros``."
   ]
  },
  {
   "cell_type": "code",
   "execution_count": 14,
   "metadata": {},
   "outputs": [
    {
     "name": "stdout",
     "output_type": "stream",
     "text": [
      "[0 0 0 0 0 0 0 0 0 0]\n",
      "<class 'numpy.ndarray'>\n",
      "int32\n"
     ]
    }
   ],
   "source": [
    "cont = np.zeros(10, dtype='int32')\n",
    "print(cont)\n",
    "print(type(cont ))\n",
    "print(cont.dtype)"
   ]
  },
  {
   "cell_type": "markdown",
   "metadata": {},
   "source": [
    "Na realidade o construtor espera, como parâmetro de entrada, uma tupla que especifique as dimensões do _ndarray_. No exemplo anterior foi passado apenas um inteiro, mas podemos criar então uma matriz de contadores de inteiros de 16 bits. "
   ]
  },
  {
   "cell_type": "code",
   "execution_count": 15,
   "metadata": {},
   "outputs": [
    {
     "name": "stdout",
     "output_type": "stream",
     "text": [
      "[[0 0 0 0 0]\n",
      " [0 0 0 0 0]]\n"
     ]
    }
   ],
   "source": [
    "# Criando um ndarray de 10 inteiros preenchido com zero\n",
    "cont2D = np.zeros((2,5), dtype='int16')\n",
    "print(cont2D)"
   ]
  },
  {
   "cell_type": "markdown",
   "metadata": {},
   "source": [
    "Se não for especificado o tipo da, por padrão, o _ndarray_ é criado como de ``float64``."
   ]
  },
  {
   "cell_type": "code",
   "execution_count": 16,
   "metadata": {},
   "outputs": [
    {
     "name": "stdout",
     "output_type": "stream",
     "text": [
      "[[0. 0. 0.]\n",
      " [0. 0. 0.]\n",
      " [0. 0. 0.]]\n",
      "<class 'numpy.ndarray'>\n",
      "float64\n"
     ]
    }
   ],
   "source": [
    "matC = np.zeros((3, 3))\n",
    "print(matC)\n",
    "print(type(matC))\n",
    "print(matC.dtype)\n"
   ]
  },
  {
   "cell_type": "markdown",
   "metadata": {},
   "source": [
    "Agora, se já temos um _ndarray_ e se faz necessário criar outro com as mesmas dimensões mas todo preenchido com zeros? Neste caso é posível utilizar a função ``zeros_like``."
   ]
  },
  {
   "cell_type": "code",
   "execution_count": 17,
   "metadata": {},
   "outputs": [
    {
     "name": "stdout",
     "output_type": "stream",
     "text": [
      "matA: \n",
      " [[1. 2. 3.]\n",
      " [4. 5. 6.]\n",
      " [7. 8. 9.]]\n",
      "matB: \n",
      " [[1. 0. 0.]\n",
      " [0. 1. 0.]\n",
      " [0. 0. 1.]]\n",
      "matC: \n",
      " [[0. 0. 0.]\n",
      " [0. 0. 0.]\n",
      " [0. 0. 0.]]\n",
      "matA.dtype:  float64\n",
      "matB.dtype:  float64\n",
      "matC.dtype:  float64\n"
     ]
    }
   ],
   "source": [
    "matA = [[1.0, 2.0, 3.0], [4.0, 5.0, 6.0], [7.0, 8.0, 9.0]]\n",
    "matB = [[1.0, 0.0, 0.0], [0.0, 1.0, 0.0], [0.0, 0.0, 1.0]]\n",
    "matA = np.array(matA)\n",
    "matB = np.array(matB, 'float64')\n",
    "matC = np.zeros_like(matA)\n",
    "print(\"matA: \\n\", matA)\n",
    "print(\"matB: \\n\", matB)\n",
    "print(\"matC: \\n\", matC)\n",
    "print(\"matA.dtype: \", matA.dtype)\n",
    "print(\"matB.dtype: \", matB.dtype)\n",
    "print(\"matC.dtype: \", matC.dtype)"
   ]
  },
  {
   "cell_type": "markdown",
   "metadata": {},
   "source": [
    "Da mesma forma que ``zeros``, o ``ones`` permite criar _ndarrays_ mas agora preenchidos com uns. Se precisarmos criar uma arrys de multiplicadores, que precisam ser inicializados com uns teremos então:"
   ]
  },
  {
   "cell_type": "code",
   "execution_count": null,
   "metadata": {},
   "outputs": [],
   "source": [
    "mult = np.ones((10), dtype='int32')\n",
    "print(mult)\n",
    "print(type(mult))"
   ]
  },
  {
   "cell_type": "markdown",
   "metadata": {},
   "source": [
    "Novamente a dimensão do _ndarray_ é passada na forma de uma tuplae o tipo padrão é ``float64__``."
   ]
  },
  {
   "cell_type": "code",
   "execution_count": null,
   "metadata": {},
   "outputs": [],
   "source": [
    "matA = np.ones((3, 3))\n",
    "print(matA)\n",
    "print(type(matA))"
   ]
  },
  {
   "cell_type": "markdown",
   "metadata": {},
   "source": [
    "Da mesma forma temos a versão ``ones_like`` que cria um _ndarray_ a partir das dimensões o o tipo de um _ndarray_ que já existe."
   ]
  },
  {
   "cell_type": "code",
   "execution_count": null,
   "metadata": {},
   "outputs": [],
   "source": [
    "matA = [[1.0, 2.0, 3.0], [4.0, 5.0, 6.0], [7.0, 8.0, 9.0]]\n",
    "matB = [[1.0, 0.0, 0.0], [0.0, 1.0, 0.0], [0.0, 0.0, 1.0]]\n",
    "matA = np.array(matA)\n",
    "matB = np.array(matB, 'float64')\n",
    "matC = np.zeros_like(matA)\n",
    "matU = np.ones_like(matA)\n",
    "print(\"matA: \\n\", matA)\n",
    "print(\"matB: \\n\", matB)\n",
    "print(\"matC: \\n\", matC)\n",
    "print(\"matU: \\n\", matU)\n",
    "print(\"matA.dtype: \", matA.dtype)\n",
    "print(\"matB.dtype: \", matB.dtype)\n",
    "print(\"matC.dtype: \", matC.dtype)\n",
    "print(\"matU.dtype: \", matU.dtype)"
   ]
  },
  {
   "cell_type": "markdown",
   "metadata": {},
   "source": [
    "Outra função importante é o que permite criar um _ndarray_ preenchida com o mesmo valor. A função ``full`` e ``full_like`` podem ser utilizados com esta finalidade."
   ]
  },
  {
   "cell_type": "code",
   "execution_count": null,
   "metadata": {},
   "outputs": [],
   "source": [
    "#outra forma de criar um contador \n",
    "cont = np.full((10), 0, dtype='int32')\n",
    "#outra forma de criar um multiplicador\n",
    "mult = np.full_like(cont, 1)\n",
    "print(cont)\n",
    "print(mult)"
   ]
  },
  {
   "cell_type": "code",
   "execution_count": null,
   "metadata": {},
   "outputs": [],
   "source": [
    "matA = [[1.0, 2.0, 3.0], [4.0, 5.0, 6.0], [7.0, 8.0, 9.0]]\n",
    "matB = [[1.0, 0.0, 0.0], [0.0, 1.0, 0.0], [0.0, 0.0, 1.0]]\n",
    "matA = np.array(matA)\n",
    "matB = np.array(matB, 'float64')\n",
    "matC = np.zeros_like(matA)\n",
    "matU = np.ones_like(matA)\n",
    "matPix = np.full((3,3), 3.1415)\n",
    "matImg = np.full_like(matA, 255, dtype='uint8')\n",
    "print(\"matA: \\n\", matA)\n",
    "print(\"matB: \\n\", matB)\n",
    "print(\"matC: \\n\", matC)\n",
    "print(\"matU: \\n\", matU)\n",
    "print(\"matPix: \\n\", matPix)\n",
    "print(\"matImg: \\n\", matImg)\n",
    "print(\"matA.dtype: \", matA.dtype)\n",
    "print(\"matB.dtype: \", matB.dtype)\n",
    "print(\"matC.dtype: \", matC.dtype)\n",
    "print(\"matU.dtype: \", matU.dtype)\n",
    "print(\"matPix.dtype: \", matPix.dtype)\n",
    "print(\"matImg.dtype: \", matImg.dtype)"
   ]
  },
  {
   "cell_type": "markdown",
   "metadata": {},
   "source": [
    "Uma matriz particularmente importante é a matriz identidade que pode ser gerada em python com as funções ``eye``."
   ]
  },
  {
   "cell_type": "code",
   "execution_count": 18,
   "metadata": {},
   "outputs": [
    {
     "name": "stdout",
     "output_type": "stream",
     "text": [
      "[[1. 0. 0.]\n",
      " [0. 1. 0.]\n",
      " [0. 0. 1.]]\n",
      "<class 'numpy.ndarray'>\n"
     ]
    }
   ],
   "source": [
    "#Criando um ndarray na forma de uma matriz identidade de 3x3\n",
    "matI = np.eye(3) #identity\n",
    "print(matI)\n",
    "print(type(matI))"
   ]
  },
  {
   "cell_type": "markdown",
   "metadata": {},
   "source": [
    "Para os programadores __C/C++__ temos ainda as funções ``empty`` e ``empty_like`` que cria _ndarrays_ vazios, sem valores de inicialização. "
   ]
  },
  {
   "cell_type": "code",
   "execution_count": null,
   "metadata": {},
   "outputs": [],
   "source": [
    "contE = np.empty((10), dtype='int32')\n",
    "print(contE)\n",
    "print(type(contE))\n",
    "matE = np.empty_like(matB)\n",
    "print(matE)\n",
    "print(type(matE))"
   ]
  },
  {
   "cell_type": "markdown",
   "metadata": {},
   "source": [
    "Para criarmos _ndarrays_ utilizando um iterador tipo ``range`` podemos utilizar a função ``arange``. Esta função retorna valores espaçados uniformemente dentro de um determinado intervalo.\n",
    "\n",
    "Da mesma forma que ``range``, ``arange`` pode ser chamado com um número variável de argumentos posicionais:\n",
    "\n",
    "* ``arange(stop)``: Os valores são gerados dentro do intervalo semiaberto [0, stop) (em outras palavras, o intervalo incluindo início, mas excluindo parada).\n",
    "\n",
    "* ``arange(start, stop)``: Os valores são gerados dentro do intervalo semiaberto [start, stop).\n",
    "\n",
    "* ``arange(start, stop, step)``: Os valores são gerados dentro do intervalo semiaberto [start, stop), com espaçamento entre os valores dado por passo.\n",
    "\n",
    "Para argumentos inteiros, a função é aproximadamente equivalente ao ``range`` do Python, mas retorna um _ndarray_ em vez de uma instância de ``range``."
   ]
  },
  {
   "cell_type": "code",
   "execution_count": 19,
   "metadata": {},
   "outputs": [
    {
     "name": "stdout",
     "output_type": "stream",
     "text": [
      "[0 1 2 3 4 5 6 7 8 9]\n",
      "[-5 -4 -3 -2 -1  0  1  2  3  4]\n",
      "<class 'numpy.ndarray'>\n",
      "int64\n",
      "[0. 2. 4. 6. 8.]\n",
      "<class 'numpy.ndarray'>\n",
      "float64\n",
      "[0 1 2 3 4 5 6 7 8 9]\n",
      "<class 'numpy.ndarray'>\n",
      "int64\n"
     ]
    }
   ],
   "source": [
    "# De forma semelhande ao range:\n",
    "x = np.arange(10, dtype='int32') # Gerando 10 elementos de 0 a 9, 10 não será incluído\n",
    "print(x)\n",
    "x = np.arange(-5, 5) # Gerando 10 elementos de -5 a 4, 5 não será incluído\n",
    "print(x)\n",
    "print(type(x))\n",
    "print(x.dtype) # se o tipo não for especificado o tipo será int64\n",
    "x = np.arange(0, 10, 2, dtype='float_') # Gerando 10 elementos de 0 a 9, 10 não será incluído, com passo 2\n",
    "print(x)\n",
    "print(type(x))\n",
    "print(x.dtype)\n",
    "x = np.arange(0, 10, like=cont) \n",
    "print(x)\n",
    "print(type(x))\n",
    "print(x.dtype)"
   ]
  },
  {
   "cell_type": "markdown",
   "metadata": {},
   "source": [
    "Importante ressaltar que, ao contrario de ``range`` que gera inteiros __Python__ de tamanho ilimitado, a ``arange`` gera inteiros de tipo específico podendo gerar erros para valores muito grandes. Ou seja, teremos limitações de representação de inteiros como em __C/C++__."
   ]
  },
  {
   "cell_type": "markdown",
   "metadata": {},
   "source": [
    "Uma alternativa muito útil para o ``arange`` é o ``linspace``. Esta função retorna números com espaçamento uniforme em um intervalo especificado. A quantidade de valores gerados pode ser especificada no parâmetro ``num`` mas, por padrão, é 50. Retorna ``num`` amostras com espaçamento uniforme, calculadas no intervalo fechado [start, stop]. O ponto final do intervalo pode ser opcionalmente excluído (``endpoint`` por padrão é ``True``)."
   ]
  },
  {
   "cell_type": "code",
   "execution_count": 20,
   "metadata": {},
   "outputs": [
    {
     "name": "stdout",
     "output_type": "stream",
     "text": [
      "[0.   0.25 0.5  0.75 1.  ]\n"
     ]
    }
   ],
   "source": [
    "# Criando um ndarray de 5 elementos igualmente espaçados entre 0 e 1\n",
    "x_linspace = np.linspace(0,1,5)\n",
    "print(x_linspace)"
   ]
  },
  {
   "cell_type": "markdown",
   "metadata": {},
   "source": [
    "Se se deseja gerar um intervalo com escala logarítmica podemos utilizar ``logspace``"
   ]
  },
  {
   "cell_type": "code",
   "execution_count": 21,
   "metadata": {},
   "outputs": [
    {
     "name": "stdout",
     "output_type": "stream",
     "text": [
      "[ 1.          1.77827941  3.16227766  5.62341325 10.        ]\n"
     ]
    }
   ],
   "source": [
    "x_logspace = np.logspace(0,1,5) # de 10^0 = 1 até 10^1 = 10\n",
    "print(x_logspace)"
   ]
  },
  {
   "cell_type": "markdown",
   "metadata": {},
   "source": [
    "O pacote __Numpy__ possui um módulo __random__ que permite gerar _ndarrays_ com distribuições aleatórias. Veja os exemplos a seguir. "
   ]
  },
  {
   "cell_type": "code",
   "execution_count": null,
   "metadata": {},
   "outputs": [],
   "source": [
    "# Criando um ndarray de elementos aleatórios uniformemente\n",
    "#  distribuídos no intervalo entre 0 e 1\n",
    "A_random = np.random.random((3,3))\n",
    "A_random"
   ]
  },
  {
   "cell_type": "code",
   "execution_count": 22,
   "metadata": {},
   "outputs": [
    {
     "data": {
      "text/plain": [
       "array([[ 0.27891421, -1.91742067, -1.38992867],\n",
       "       [-0.22340312,  0.62617488, -1.09796807],\n",
       "       [ 0.3679431 , -0.75501234,  0.55297372]])"
      ]
     },
     "execution_count": 22,
     "metadata": {},
     "output_type": "execute_result"
    }
   ],
   "source": [
    "# Criando um ndarray de elementos aleatórios com distribuição\n",
    "#  normal, media 0 e desvio padrão 1\n",
    "A_normal = np.random.normal(0, 1, (3,3))\n",
    "A_normal"
   ]
  },
  {
   "cell_type": "code",
   "execution_count": 23,
   "metadata": {},
   "outputs": [
    {
     "data": {
      "text/plain": [
       "array([3, 1, 3, 5, 4, 1, 3, 2, 6, 3])"
      ]
     },
     "execution_count": 23,
     "metadata": {},
     "output_type": "execute_result"
    }
   ],
   "source": [
    "# Criando um ndarray que simule 10 lançamentos de um dado\n",
    "x_lan = np.random.randint(1,7,10)\n",
    "x_lan"
   ]
  },
  {
   "cell_type": "markdown",
   "metadata": {},
   "source": [
    "__Atividade sugerida__: Explore na documentação outros recursos para geração de _ndarrys_, particularmente aqueles disponíveis no módulo __random__."
   ]
  }
 ],
 "metadata": {
  "kernelspec": {
   "display_name": "Python 3 (ipykernel)",
   "language": "python",
   "name": "python3"
  },
  "language_info": {
   "codemirror_mode": {
    "name": "ipython",
    "version": 3
   },
   "file_extension": ".py",
   "mimetype": "text/x-python",
   "name": "python",
   "nbconvert_exporter": "python",
   "pygments_lexer": "ipython3",
   "version": "3.10.14"
  }
 },
 "nbformat": 4,
 "nbformat_minor": 4
}
