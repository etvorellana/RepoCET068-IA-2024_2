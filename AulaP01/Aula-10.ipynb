{
 "cells": [
  {
   "cell_type": "markdown",
   "metadata": {},
   "source": [
    "# Módulo de Programação Python: Introdução à Linguagem\n",
    "\n",
    "# Aula - 10"
   ]
  },
  {
   "cell_type": "markdown",
   "metadata": {},
   "source": [
    "__Objetivo__:   Trabalhar com pacotes e módulos disponíveis em python: __Numpy__. Introduzir recursos avançados da __NumPy__ para trabalhar com tipos diferentes de dados, subconjuntos e operações aritméticas e lógicas."
   ]
  },
  {
   "cell_type": "markdown",
   "metadata": {},
   "source": [
    "## Broadcasting\n",
    "Até aqui vimos como as _ufunc_ do __NumPy__ podem ser usadas para vetorizar operações e, assim, substituir o uso de estruturas de repetição lentas. \n",
    "\n",
    "Outro meio de vetorizar operações é usar a funcionalidade de broadcasting do __NumPy__. \n",
    "\n",
    "Broadcasting é simplesmente um conjunto de regras para aplicar _ufuncs_ binários (por exemplo, adição, subtração, multiplicação, etc.) em matrizes de tamanhos diferentes."
   ]
  },
  {
   "cell_type": "markdown",
   "metadata": {},
   "source": [
    "Já vimos que as _unfuncs_ binárias podem operar com facilidade e eficiência em _ndarrays_ do mesmo tamanho. \n",
    "\n",
    "Podemos reproduzir um dos exemplos da aula anterior."
   ]
  },
  {
   "cell_type": "code",
   "execution_count": 1,
   "metadata": {},
   "outputs": [
    {
     "name": "stdout",
     "output_type": "stream",
     "text": [
      "Intel MKL WARNING: Support of Intel(R) Streaming SIMD Extensions 4.2 (Intel(R) SSE4.2) enabled only processors has been deprecated. Intel oneAPI Math Kernel Library 2025.0 will require Intel(R) Advanced Vector Extensions (Intel(R) AVX) instructions.\n",
      "Intel MKL WARNING: Support of Intel(R) Streaming SIMD Extensions 4.2 (Intel(R) SSE4.2) enabled only processors has been deprecated. Intel oneAPI Math Kernel Library 2025.0 will require Intel(R) Advanced Vector Extensions (Intel(R) AVX) instructions.\n"
     ]
    }
   ],
   "source": [
    "import numpy as np"
   ]
  },
  {
   "cell_type": "code",
   "execution_count": 2,
   "metadata": {},
   "outputs": [
    {
     "name": "stdout",
     "output_type": "stream",
     "text": [
      "[5 7 9]\n"
     ]
    }
   ],
   "source": [
    "# Adição de arrays\n",
    "x = np.array([1,2,3])\n",
    "y = np.array([4,5,6])\n",
    "z = x + y\n",
    "print(z)"
   ]
  },
  {
   "cell_type": "markdown",
   "metadata": {},
   "source": [
    "Também vimos que este tipo de operação pode ser utilizada para somar um escalar com um _ndarray_. "
   ]
  },
  {
   "cell_type": "code",
   "execution_count": 3,
   "metadata": {},
   "outputs": [
    {
     "name": "stdout",
     "output_type": "stream",
     "text": [
      "[11 12 13]\n"
     ]
    }
   ],
   "source": [
    "# Adição de array e escalar\n",
    "z = x + 10\n",
    "print(z)"
   ]
  },
  {
   "cell_type": "markdown",
   "metadata": {},
   "source": [
    "Podemos pensar este exemplo como uma operação que trata o escalar como um _ndarray_ do tipo ``[10, 10, 10]``, e adiciona com o outro operando, neste caso outro _ndarray_ do mesmo tamanho. \n",
    "\n",
    "A vantagem de utilizar broadcasting do __NumPy__  é que, de fato, o tal _ndarray_ com elementos repetidos não é criado, simplificando o procedimento e otimizando o uso de memória.\n",
    "\n",
    "O mecanismo de broadcasting pode ser aplicado em para _ndarrays_ de dimensão superior."
   ]
  },
  {
   "cell_type": "code",
   "execution_count": 9,
   "metadata": {},
   "outputs": [
    {
     "name": "stdout",
     "output_type": "stream",
     "text": [
      "A = \n",
      " [[1 2 3]\n",
      " [4 5 6]]\n",
      "A.shape =  (2, 3)\n",
      "x = \n",
      " [1 2 3]\n",
      "x.shape =  (3,)\n",
      "B = A + x = \n",
      " [[2 4 6]\n",
      " [5 7 9]]\n"
     ]
    }
   ],
   "source": [
    "A = np.array([[1,2,3],[4,5,6]])\n",
    "print(\"A = \\n\", A)\n",
    "print(\"A.shape = \", A.shape)\n",
    "print(\"x = \\n\", x)\n",
    "print(\"x.shape = \", x.shape)\n",
    "B = A + x \n",
    "print(\"B = A + x = \\n\", B)"
   ]
  },
  {
   "cell_type": "markdown",
   "metadata": {},
   "source": [
    "Vejamos um exemplo mais complexo"
   ]
  },
  {
   "cell_type": "code",
   "execution_count": 10,
   "metadata": {},
   "outputs": [
    {
     "name": "stdout",
     "output_type": "stream",
     "text": [
      "[0 1 2]\n",
      "[[0]\n",
      " [1]\n",
      " [2]]\n"
     ]
    }
   ],
   "source": [
    "#a = np.array([0, 1, 2])\n",
    "a = np.arange(3)\n",
    "#b = np.array([[0], [1], [2]])\n",
    "b = np.arange(3).reshape((3,1))\n",
    "print(a)\n",
    "print(b)"
   ]
  },
  {
   "cell_type": "code",
   "execution_count": 11,
   "metadata": {},
   "outputs": [
    {
     "name": "stdout",
     "output_type": "stream",
     "text": [
      "a + b = \n",
      " [[0 1 2]\n",
      " [1 2 3]\n",
      " [2 3 4]]\n"
     ]
    }
   ],
   "source": [
    "print(\"a + b = \\n\", a + b)"
   ]
  },
  {
   "cell_type": "markdown",
   "metadata": {},
   "source": [
    "Para entender melhor como o broadcasting funciona podemos colocar as operações em função de um conjunto  de regras que definem como acontece a interação entre as duas matrizes:\n",
    "\n",
    "__Regra 1__: Se as duas matrizes diferirem no número de dimensões, a forma (_shape_) daquela com menos dimensões será preenchida com uns no lado esquerdo até igualar o número de dimensões das duas matrizes.\n",
    "\n"
   ]
  },
  {
   "cell_type": "code",
   "execution_count": 12,
   "metadata": {},
   "outputs": [],
   "source": [
    "A = np.ones((2,3))\n",
    "x = np.arange(3)"
   ]
  },
  {
   "cell_type": "code",
   "execution_count": 13,
   "metadata": {},
   "outputs": [
    {
     "name": "stdout",
     "output_type": "stream",
     "text": [
      "A.shape =  (2, 3)\n",
      "x.shape =  (3,)\n"
     ]
    }
   ],
   "source": [
    "print(\"A.shape = \", A.shape)\n",
    "print(\"x.shape = \", x.shape)"
   ]
  },
  {
   "cell_type": "code",
   "execution_count": 15,
   "metadata": {},
   "outputs": [
    {
     "name": "stdout",
     "output_type": "stream",
     "text": [
      "A = \n",
      " [[1. 1. 1.]\n",
      " [1. 1. 1.]]\n",
      "x = \n",
      " [0 1 2]\n"
     ]
    }
   ],
   "source": [
    "print(\"A = \\n\", A)\n",
    "print(\"x = \\n\", x)"
   ]
  },
  {
   "cell_type": "markdown",
   "metadata": {},
   "source": [
    "No exemplo anterior o array ``x`` tem apenas uma dimensão enquanto a matriz ``A`` tem duas. Neste caso se adiciona uma dimensão à esquerda de ``x``, ou seja, se cria um array com uma linha e 3 colunas.  "
   ]
  },
  {
   "cell_type": "markdown",
   "metadata": {},
   "source": [
    "__Regra 2__: Se a forma dos dois arrays não corresponder em alguma dimensão, o array que na sua forma (_shape_) tiver dimensão igual a 1, naquela dimensão, é esticado para corresponder à forma do outro array.\n",
    "\n",
    "Veja no exemplo anterior que, após aplicar a __Regra 1__ o array ``x`` agora tem _shape_ ``(1,3)``, enquanto que a matriz ``A`` tem _shape_ ``(2,3)``. Neste caso o se cria mais uma linha em ``x``, repetindo a primeira para que os dois arrays fiquem do mesmo tamanho. O resultado será então."
   ]
  },
  {
   "cell_type": "code",
   "execution_count": 14,
   "metadata": {},
   "outputs": [
    {
     "name": "stdout",
     "output_type": "stream",
     "text": [
      "A + x = \n",
      " [[1. 2. 3.]\n",
      " [1. 2. 3.]]\n"
     ]
    }
   ],
   "source": [
    "print(\"A + x = \\n\", A + x)"
   ]
  },
  {
   "cell_type": "markdown",
   "metadata": {},
   "source": [
    "Veja outro exemplo."
   ]
  },
  {
   "cell_type": "code",
   "execution_count": 16,
   "metadata": {},
   "outputs": [],
   "source": [
    "A = np.arange(3).reshape((3, 1))\n",
    "x = np.arange(3)"
   ]
  },
  {
   "cell_type": "code",
   "execution_count": 17,
   "metadata": {},
   "outputs": [
    {
     "name": "stdout",
     "output_type": "stream",
     "text": [
      "A.shape =  (3, 1)\n",
      "x.shape =  (3,)\n"
     ]
    }
   ],
   "source": [
    "print(\"A.shape = \", A.shape)\n",
    "print(\"x.shape = \", x.shape)"
   ]
  },
  {
   "cell_type": "markdown",
   "metadata": {},
   "source": [
    "Veja que neste caso, novamente as dimensões das matrizes não coincidem. Novamente se adiciona uma dimensão a ``x`` que pasa a ter _shape_ ``(1,3)``. Como a _shape_ de ``A`` é ``(3,1)``, se _esticam_ as colunas de ``x`` apara preencher as duas novas linhas e se se esticam as linhas de ``A`` para preencher duas novas colunas. Desta forma se opera com duas matrizes de ``(3,3)``."
   ]
  },
  {
   "cell_type": "code",
   "execution_count": 18,
   "metadata": {},
   "outputs": [
    {
     "name": "stdout",
     "output_type": "stream",
     "text": [
      "A = \n",
      " [[0]\n",
      " [1]\n",
      " [2]]\n",
      "x = \n",
      " [0 1 2]\n",
      "A + x = \n",
      " [[0 1 2]\n",
      " [1 2 3]\n",
      " [2 3 4]]\n"
     ]
    }
   ],
   "source": [
    "print(\"A = \\n\", A)\n",
    "print(\"x = \\n\", x)\n",
    "print(\"A + x = \\n\", A + x)"
   ]
  },
  {
   "cell_type": "markdown",
   "metadata": {},
   "source": [
    "__Regra 3__: Se em qualquer dimensão os tamanhos discordam e nenhum deles for igual a 1, um erro é lançado.\n",
    "\n",
    "Ou seja:"
   ]
  },
  {
   "cell_type": "code",
   "execution_count": 19,
   "metadata": {},
   "outputs": [],
   "source": [
    "A = np.ones((3, 2))\n",
    "x = np.arange(3)"
   ]
  },
  {
   "cell_type": "code",
   "execution_count": 20,
   "metadata": {},
   "outputs": [
    {
     "name": "stdout",
     "output_type": "stream",
     "text": [
      "A.shape =  (3, 2)\n",
      "x.shape =  (3,)\n"
     ]
    }
   ],
   "source": [
    "print(\"A.shape = \", A.shape)\n",
    "print(\"x.shape = \", x.shape)"
   ]
  },
  {
   "cell_type": "code",
   "execution_count": 21,
   "metadata": {},
   "outputs": [
    {
     "name": "stdout",
     "output_type": "stream",
     "text": [
      "A = \n",
      " [[1. 1.]\n",
      " [1. 1.]\n",
      " [1. 1.]]\n",
      "x = \n",
      " [0 1 2]\n",
      "ValueError: operands could not be broadcast together with shapes (3,2) (3,) \n"
     ]
    }
   ],
   "source": [
    "print(\"A = \\n\", A)\n",
    "print(\"x = \\n\", x)\n",
    "try:\n",
    "    print(\"A + x = \\n\", A + x)\n",
    "except ValueError as e:\n",
    "    print(\"ValueError:\", e)"
   ]
  },
  {
   "cell_type": "markdown",
   "metadata": {},
   "source": [
    "## Outras _unfuc_ : Operações de comparação.\n",
    "\n",
    "__NumPy__ também implementa operadores de comparação como ``<`` (menor que) e ``>`` (maior que) elemento a elemento, como _ufuncs_ . O resultado desses operadores de comparação é sempre um array com tipo de dados _booleano_. Todas as seis operações de comparação padrão estão disponíveis:\n",
    "\n",
    "| Operador\t    | _ufunc_             |\n",
    "|:---------------:|---------------------|\n",
    "|``==``         |``np.equal``         |\n",
    "|``<``          |``np.less``          |\n",
    "|``>``          |``np.greater``       |\n",
    "|``!=``         |``np.not_equal``     |\n",
    "|``<=``         |``np.less_equal``    |\n",
    "|``>=``         |``np.greater_equal`` |"
   ]
  },
  {
   "cell_type": "markdown",
   "metadata": {},
   "source": [
    "Podemos então fazer a seguinte análise:\n",
    "* Suponha que obtemos, de alguma fonte, as notas em cada uma das três avaliações de um curso, assim como a media final, de uma turma de alunos. "
   ]
  },
  {
   "cell_type": "code",
   "execution_count": 22,
   "metadata": {},
   "outputs": [],
   "source": [
    "# Vamos gerar as notas de forma aleatória para 30 alunos\n",
    "notas = np.zeros((30, 4))\n",
    "notas[:, :3] = np.round(np.random.uniform(4, 10, size=(30, 3)),1)\n",
    "notas[:, 3] = np.round(np.mean(notas[:, :3], axis=1)) # axis=1 indica que a média deve ser calculada por linha\n",
    "\n"
   ]
  },
  {
   "cell_type": "code",
   "execution_count": 23,
   "metadata": {},
   "outputs": [
    {
     "name": "stdout",
     "output_type": "stream",
     "text": [
      "[[8.8 9.2 7.2 8. ]\n",
      " [5.3 5.4 6.7 6. ]\n",
      " [9.4 7.8 8.1 8. ]\n",
      " [9.7 5.2 7.2 7. ]\n",
      " [9.6 4.9 8.1 8. ]]\n",
      " ... \n",
      "[[5.2 5.9 7.4 6. ]\n",
      " [7.9 9.6 6.3 8. ]\n",
      " [7.3 9.  7.7 8. ]\n",
      " [7.  8.9 4.7 7. ]\n",
      " [5.  5.9 9.1 7. ]]\n"
     ]
    }
   ],
   "source": [
    "print(notas[:5, :])\n",
    "print(\" ... \")\n",
    "print(notas[-5:, :])"
   ]
  },
  {
   "cell_type": "markdown",
   "metadata": {},
   "source": [
    "Agora queremos saber quantos alunos tiveram nota maior ou igual a 7,0 na primeira avaliação."
   ]
  },
  {
   "cell_type": "code",
   "execution_count": 24,
   "metadata": {},
   "outputs": [
    {
     "name": "stdout",
     "output_type": "stream",
     "text": [
      "aprov1raAva = \n",
      " [ True False  True  True  True  True False False  True  True False False\n",
      "  True False False  True  True False  True False  True False False False\n",
      " False False  True  True  True False]\n"
     ]
    }
   ],
   "source": [
    "aprov1raAva = notas[:,0] >= 7\n",
    "print(\"aprov1raAva = \\n\", aprov1raAva)"
   ]
  },
  {
   "cell_type": "code",
   "execution_count": 27,
   "metadata": {},
   "outputs": [
    {
     "name": "stdout",
     "output_type": "stream",
     "text": [
      "15 alunos foram aprovados na primeira avaliação\n"
     ]
    }
   ],
   "source": [
    "nAprov = np.sum(aprov1raAva)\n",
    "#ou\n",
    "#nAprov = np.count_nonzero(aprov1raAva)\n",
    "#ou\n",
    "#nAprov = aprov1raAva.sum()\n",
    "print(nAprov, \"alunos foram aprovados na primeira avaliação\")"
   ]
  },
  {
   "cell_type": "markdown",
   "metadata": {},
   "source": [
    "Podemos identificar quantos alunos estão abaixo da média da turma na segunda avaliação. "
   ]
  },
  {
   "cell_type": "code",
   "execution_count": 28,
   "metadata": {},
   "outputs": [
    {
     "name": "stdout",
     "output_type": "stream",
     "text": [
      "A média da segunda avaliação foi 7.739999999999999\n",
      "12 alunos ficaram abaixo da média na segunda avaliação\n"
     ]
    }
   ],
   "source": [
    "mean2daAval = np.mean(notas[:,1])\n",
    "print(\"A média da segunda avaliação foi\", mean2daAval)\n",
    "nAbaiMedia = np.sum(notas[:,1] < mean2daAval)\n",
    "print(nAbaiMedia, \"alunos ficaram abaixo da média na segunda avaliação\")"
   ]
  },
  {
   "cell_type": "markdown",
   "metadata": {},
   "source": [
    "Podemos identificar quantas notas, nas três avaliações, foram maiores que 9,0"
   ]
  },
  {
   "cell_type": "code",
   "execution_count": 29,
   "metadata": {},
   "outputs": [
    {
     "name": "stdout",
     "output_type": "stream",
     "text": [
      "[[False  True False]\n",
      " [False False False]\n",
      " [ True False False]\n",
      " [ True False False]\n",
      " [ True False False]]\n",
      "...\n",
      "[[False False False]\n",
      " [False  True False]\n",
      " [False False False]\n",
      " [False False False]\n",
      " [False False  True]]\n"
     ]
    }
   ],
   "source": [
    "notasMaiores = notas[:,:3] > 9\n",
    "print(notasMaiores[:5, :])\n",
    "print(\"...\")\n",
    "print(notasMaiores[-5:, :])\n"
   ]
  },
  {
   "cell_type": "code",
   "execution_count": 30,
   "metadata": {},
   "outputs": [
    {
     "name": "stdout",
     "output_type": "stream",
     "text": [
      "20 notas maiores que 9\n"
     ]
    }
   ],
   "source": [
    "quantMaiores = np.sum(notasMaiores)\n",
    "print(quantMaiores, \"notas maiores que 9\")"
   ]
  },
  {
   "cell_type": "markdown",
   "metadata": {},
   "source": [
    "Ainda podemos perguntar se tem alguma nota, na média final, menor que 5,0"
   ]
  },
  {
   "cell_type": "code",
   "execution_count": 31,
   "metadata": {},
   "outputs": [
    {
     "data": {
      "text/plain": [
       "False"
      ]
     },
     "execution_count": 31,
     "metadata": {},
     "output_type": "execute_result"
    }
   ],
   "source": [
    "np.any(notas[:, 3] < 5)"
   ]
  },
  {
   "cell_type": "markdown",
   "metadata": {},
   "source": [
    "Ou se todas as notas da média final são menores que 9,0"
   ]
  },
  {
   "cell_type": "code",
   "execution_count": 32,
   "metadata": {},
   "outputs": [
    {
     "data": {
      "text/plain": [
       "False"
      ]
     },
     "execution_count": 32,
     "metadata": {},
     "output_type": "execute_result"
    }
   ],
   "source": [
    "np.all(notas[:, 3] < 9)"
   ]
  },
  {
   "cell_type": "markdown",
   "metadata": {},
   "source": [
    "Ou se um aluno específico teve alguma nota abaixo de 6,0"
   ]
  },
  {
   "cell_type": "code",
   "execution_count": 34,
   "metadata": {},
   "outputs": [
    {
     "data": {
      "text/plain": [
       "array([ True,  True,  True])"
      ]
     },
     "execution_count": 34,
     "metadata": {},
     "output_type": "execute_result"
    }
   ],
   "source": [
    "np.any(notas[:, :3] < 5, axis=0)"
   ]
  },
  {
   "cell_type": "markdown",
   "metadata": {},
   "source": [
    "## Operadores lógicos\n",
    "\n",
    "Até aqui conseguimos contar a quantidade de alunos com nota menor ou maior ed um determinado valor. Os operadores relacionais entretanto podem ser utilizados, quando combinados com operadores lógicos, poara determinar, por exemplo, quantos alunos estão de prova final (media menor que 7,0) mas já tem media maior que 5. No módulo __NumPy__ são impementados, via _unfunc_ os operadores lógicos bit a bit do Python, &, |, ^ e ~. Veja a lista a seguir\n",
    "\n",
    "| Operador\t    | _ufunc_             |\n",
    "|---------------|---------------------|\n",
    "|``&``          |``np.bitwise_and``   |\n",
    "|``^``          |``np.bitwise_xor``   |\n",
    "|&#124;         |``np.bitwise_or``    |\n",
    "|``~``          |``np.bitwise_not``   |"
   ]
  },
  {
   "cell_type": "code",
   "execution_count": 35,
   "metadata": {},
   "outputs": [
    {
     "name": "stdout",
     "output_type": "stream",
     "text": [
      "3 notas estão entre 5 e 7\n"
     ]
    }
   ],
   "source": [
    "notasInter = (notas[:, 3] < 7) & (notas[:, 3] > 5)\n",
    "quantInter = np.count_nonzero(notasInter)\n",
    "print(quantInter, \"notas estão entre 5 e 7\")"
   ]
  },
  {
   "cell_type": "markdown",
   "metadata": {},
   "source": [
    "Repare que foram utilizados parênteses ma expressão. Devido às regras de precedência de operadores, que discutimos no módulo anterior, a expressão geraria um erro. \n",
    "\n",
    "Você sabe explica por que? "
   ]
  },
  {
   "cell_type": "markdown",
   "metadata": {},
   "source": [
    "## Utilizando mascaras\n",
    "\n",
    "Os operadores relacionais geram um arrays de booleans. Estes arrays podem ser utilizados como máscaras para extrair subconjuntos de um arrays. \n",
    "\n",
    "Por exemplo, se quisermos extrair quais as notas abaixo de 7 na terceira avaliação podemos utilizar uma expressão como a seguinte: "
   ]
  },
  {
   "cell_type": "code",
   "execution_count": 41,
   "metadata": {},
   "outputs": [
    {
     "name": "stdout",
     "output_type": "stream",
     "text": [
      "[7.2 6.7 8.1 7.2 8.1 7.7 7.8 7.9 5.1 5.  5.5 5.1 6.  9.6 6.6 7.5 5.9 4.6\n",
      " 8.6 9.3 4.6 4.1 4.6 8.  4.8 7.4 6.3 7.7 4.7 9.1]\n",
      "[6.7 5.1 5.  5.5 5.1 6.  6.6 5.9 4.6 4.6 4.1 4.6 4.8 6.3 4.7]\n"
     ]
    }
   ],
   "source": [
    "print(notas[:,2])\n",
    "x = notas[:,2]\n",
    "#notas3ra = notas[:, 2] [notas[:, 2] < 7]\n",
    "notas3ra = x [x < 7]\n",
    "print(notas3ra)"
   ]
  },
  {
   "cell_type": "markdown",
   "metadata": {},
   "source": [
    "A expressão anterior retorna um array unidimensional preenchido com todos os valores que atendem à condição posta; em outras palavras, todos os valores nas posições nas quais o array de máscaras é ``True``."
   ]
  },
  {
   "cell_type": "code",
   "execution_count": 42,
   "metadata": {},
   "outputs": [
    {
     "name": "stdout",
     "output_type": "stream",
     "text": [
      "[7.2 6.7 8.1 7.2 8.1 7.7 7.8 7.9 5.1 5.  5.5 5.1 6.  9.6 6.6 7.5 5.9 4.6\n",
      " 8.6 9.3 4.6 4.1 4.6 8.  4.8 7.4 6.3 7.7 4.7 9.1]\n",
      "[6.7 5.1 5.  5.5 5.1 6.  6.6 5.9 4.6 4.6 4.1 4.6 4.8 6.3 4.7]\n",
      "-------------------\n",
      "[10.   5.1  5.   5.5  5.1  6.   6.6  5.9  4.6  4.6  4.1  4.6  4.8  6.3\n",
      "  4.7]\n",
      "[7.2 6.7 8.1 7.2 8.1 7.7 7.8 7.9 5.1 5.  5.5 5.1 6.  9.6 6.6 7.5 5.9 4.6\n",
      " 8.6 9.3 4.6 4.1 4.6 8.  4.8 7.4 6.3 7.7 4.7 9.1]\n"
     ]
    }
   ],
   "source": [
    "print(x)\n",
    "print(notas3ra)\n",
    "notas3ra[0] = 10\n",
    "print(\"-------------------\")\n",
    "print(notas3ra)\n",
    "print(x)"
   ]
  },
  {
   "cell_type": "markdown",
   "metadata": {},
   "source": [
    "Aqui se fz necessário parar para discutir a diferença entre os operadores lógicos ``and`` e ``or`` e os operadores bit a bit ``&`` e ``|``. Em que momento usar um ou outro?\n",
    "\n",
    "Os operadores lógicos avaliam o objeto como um todo e não cada um dos valores que ele armazena. Já os operadores bit a  bit avaliam a relação entre o contudo dos objetos. \n",
    "\n",
    "Quando você usa operadores lógicos, significa que você quer que __Python__ trate o objeto como uma única entidade booleana."
   ]
  },
  {
   "cell_type": "markdown",
   "metadata": {},
   "source": [
    "Tem outro recurso de indexação importante que permite utilizar um array de índice como se fosse uma máscara. Esta forma sofisticada de indexação consiste em passar um array de índices para acessar vários elementos do array de uma só vez. \n",
    "\n",
    "Suponha que, na turma de alunos um grupo apresentou um trabalho extra, valendo 3 pontos adicionais na última nota. Temos a lista de índices dos alunos que apresentaram o trabalho."
   ]
  },
  {
   "cell_type": "code",
   "execution_count": 43,
   "metadata": {},
   "outputs": [
    {
     "name": "stdout",
     "output_type": "stream",
     "text": [
      "[7.2 6.7 8.1 7.2 8.1 7.7 7.8 7.9 5.1 5.  5.5 5.1 6.  9.6 6.6 7.5 5.9 4.6\n",
      " 8.6 9.3 4.6 4.1 4.6 8.  4.8 7.4 6.3 7.7 4.7 9.1]\n"
     ]
    }
   ],
   "source": [
    "trabalhoExtra = np.array([3, 6, 12, 17, 21, 23, 25, 28])\n",
    "print(notas[:,2])"
   ]
  },
  {
   "cell_type": "code",
   "execution_count": 44,
   "metadata": {},
   "outputs": [
    {
     "name": "stdout",
     "output_type": "stream",
     "text": [
      "[7.2 7.8 6.  4.6 4.1 8.  7.4 4.7]\n"
     ]
    }
   ],
   "source": [
    "print(notas[trabalhoExtra,2])"
   ]
  },
  {
   "cell_type": "code",
   "execution_count": 45,
   "metadata": {},
   "outputs": [
    {
     "name": "stdout",
     "output_type": "stream",
     "text": [
      "[ 7.2  6.7  8.1 10.   8.1  7.7 10.   7.9  5.1  5.   5.5  5.1  9.   9.6\n",
      "  6.6  7.5  5.9  7.6  8.6  9.3  4.6  7.1  4.6 10.   4.8 10.   6.3  7.7\n",
      "  7.7  9.1]\n"
     ]
    }
   ],
   "source": [
    "notas[trabalhoExtra,2] += 3\n",
    "nota3 = notas[:,2]\n",
    "nota3[nota3 > 10] = 10\n",
    "print(notas[:,2])"
   ]
  },
  {
   "cell_type": "markdown",
   "metadata": {},
   "source": [
    "## Ordenação de _ndarrays_ \n",
    "\n",
    "Um dos recursos importantes que destacamos na implementação de listas em __Python__ foi a implementação de funções que ordenam a lista, sempre que ela esteja formado por elementos que sejam comparáveis uns com os outros. \n",
    "\n",
    "Os _ndarrys_ são formados por tipos numéricos e, em muitos casos, pode ser necessário ordenar os elementos em ordem crescente ou decrescente. \n",
    "\n",
    "Você provavelmente já pesquisou algoritmos de ordenação para resolver algumas tarefa, sobre tudo do módulo de Programação Imperativa.  \n",
    "\n",
    "*insertion sorts*, *selection sorts*, *merge sorts*, *quick sorts*, *bubble sorts*,\n",
    "\n",
    "Algoritmos como o de __ordenação por inserção (insertion sorts)__, __ordenação por seleção (selection sorts)__, __ordenação por mesclagem (merge sorts)__ , __ordenação quick sorts__, __ordenação da bolha(bubble sorts)__, são tradicionalmente estudados em cursos de estruturas de dados e algoritmos.\n",
    "\n",
    "O algoritmos de __selection sorts__, por exemplo, procura repetidamente o valor mínimo de uma lista e faz trocas até que a lista seja classificada. "
   ]
  },
  {
   "cell_type": "code",
   "execution_count": 46,
   "metadata": {},
   "outputs": [],
   "source": [
    "def selection_sort(x):\n",
    "    for i in range(len(x) - 1):\n",
    "        iTroca = i + np.argmin(x[i:])\n",
    "        (x[i], x[iTroca]) = (x[iTroca], x[i])\n",
    "    return x"
   ]
  },
  {
   "cell_type": "code",
   "execution_count": 47,
   "metadata": {},
   "outputs": [
    {
     "name": "stdout",
     "output_type": "stream",
     "text": [
      "[28  9 28 28  3  9 24  4  4 25]\n",
      "[ 3  4  4  9  9 24 25 28 28 28]\n"
     ]
    }
   ],
   "source": [
    "x = np.random.randint(0, 30, 10)\n",
    "print(x)    \n",
    "selection_sort(x)\n",
    "print(x)"
   ]
  },
  {
   "cell_type": "markdown",
   "metadata": {},
   "source": [
    "A ordenação por seleção não é dos algoritmos mais eficientes de ordenação, mas não vamos entrar em detalhes sobre complexidade de algoritmos neste curso,  \n",
    "\n",
    "Felizmente, __Python__ disponibiliza algoritmos de ordenação que são muito mais eficientes. No __NumPy__, por exemplo, temos a função ``sort``"
   ]
  },
  {
   "cell_type": "code",
   "execution_count": 48,
   "metadata": {},
   "outputs": [
    {
     "name": "stdout",
     "output_type": "stream",
     "text": [
      "[24  0  7  0  2 22  4 18  2 13]\n",
      "[ 0  0  2  2  4  7 13 18 22 24]\n",
      "[24  0  7  0  2 22  4 18  2 13]\n",
      "[ 0  0  2  2  4  7 13 18 22 24]\n"
     ]
    }
   ],
   "source": [
    "x = np.random.randint(0, 30, 10)\n",
    "print(x)\n",
    "# Se se deseja preservar o array original sem ordenar\n",
    "y = np.sort(x)\n",
    "print(y)\n",
    "print(x)\n",
    "# Já se queremos ordenar o array original\n",
    "x.sort()\n",
    "print(x)"
   ]
  },
  {
   "cell_type": "markdown",
   "metadata": {},
   "source": [
    "Uma variação do ``sort`` é o ``argsort``, que retorna um array de índices que, quando usado como máscara, retorna o array ordenado. "
   ]
  },
  {
   "cell_type": "code",
   "execution_count": 49,
   "metadata": {},
   "outputs": [
    {
     "name": "stdout",
     "output_type": "stream",
     "text": [
      "[21 14 11  4 24 10 14 26  0  4]\n",
      "[8 3 9 5 2 1 6 0 4 7]\n",
      "[ 0  4  4 10 11 14 14 21 24 26]\n"
     ]
    }
   ],
   "source": [
    "x = np.random.randint(0, 30, 10)\n",
    "print(x)\n",
    "iOrd = np.argsort(x)\n",
    "print(iOrd)\n",
    "print(x[iOrd])"
   ]
  },
  {
   "cell_type": "markdown",
   "metadata": {},
   "source": [
    "## Tipos de dados estruturados\n",
    "\n",
    "Como vimos até aqui __NumPy__ fornece uma opção muito eficiente para tratamento dados homogêneos. Entretanto muitas vezes nos deparamos com tipos de dados estruturados, ao estilo dos registros que aprendemos a utilizar em __C/C++__. \n",
    "\n",
    "Vamos ver rapidamente como trabalhar como com matrizes formadas por tipos de dados estruturados, ainda que este tema será abordada de forma mais completa no próximo tema deste curso, quando aprenderemos a utilizar os ``DataFrames``de __Pandas__."
   ]
  },
  {
   "cell_type": "markdown",
   "metadata": {},
   "source": [
    "Já vimos que, com ajuda de dicionários podemos tratar de diversas categorias de dados que estão relacionados. Imaginem que temos o seguinte caso hipotético. "
   ]
  },
  {
   "cell_type": "code",
   "execution_count": 52,
   "metadata": {},
   "outputs": [],
   "source": [
    "alunos = ['nomeAluno01', 'nomeAluno02', 'nomeAluno03', 'nomeAluno04']\n",
    "matrícula = np.random.randint(0, 1000, 4)\n",
    "prova_1 = np.random.uniform(0, 10, 4)"
   ]
  },
  {
   "cell_type": "markdown",
   "metadata": {},
   "source": [
    "Esta forma de tratar dados estruturados resulta em uma organização dos dados um pouco confusa. Não há nada nas expressões anteriores aqui que diga que os três arrays estão relacionados. Seria mais natural se pudéssemos usar uma única estrutura para armazenar todos esses dados. \n",
    "\n",
    "Sabemos que poderiamos, por exemplo, criar uma lista de dicionários __Python__. Entretanto __NumPy__ pode lidar com isso por meio de _ndarrays_ estruturados, que são arrays com tipos de dados compostos.\n",
    "\n",
    "Para isto podemos criar um _ndarray_ estruturado usando uma especificação de tipo de dados composto."
   ]
  },
  {
   "cell_type": "code",
   "execution_count": 53,
   "metadata": {},
   "outputs": [
    {
     "name": "stdout",
     "output_type": "stream",
     "text": [
      "[('nome', '<U50'), ('nMatricula', '<i4'), ('prova_1', '<f4')]\n"
     ]
    }
   ],
   "source": [
    "data = np.zeros(4, dtype={'names':('nome', 'nMatricula', 'prova_1'),\n",
    "                          'formats':('U50', 'i4', 'f4')})\n",
    "print(data.dtype)"
   ]
  },
  {
   "cell_type": "markdown",
   "metadata": {},
   "source": [
    "Na definição anterior, ``'U50'`` se traduz em \"string Unicode de comprimento máximo 50\", ``'i4'`` significa \"inteiro com sinal de 4 bytes\" e 'f4' se traduz em \"ponto flutuante de 4 bytes (4 bytes = 32 bits)\"."
   ]
  },
  {
   "cell_type": "code",
   "execution_count": 54,
   "metadata": {},
   "outputs": [
    {
     "name": "stdout",
     "output_type": "stream",
     "text": [
      "[('nomeAluno01', 801, 5.2456264 ) ('nomeAluno02',  45, 0.15883586)\n",
      " ('nomeAluno03', 512, 8.066707  ) ('nomeAluno04', 566, 6.6620936 )]\n"
     ]
    }
   ],
   "source": [
    "data['nome'] = alunos\n",
    "data['nMatricula'] = matrícula\n",
    "data['prova_1'] = prova_1\n",
    "print(data)"
   ]
  },
  {
   "cell_type": "markdown",
   "metadata": {},
   "source": [
    "Os códigos de formatação abreviados, na forma de uma string, podem parecer confusos, mas seguem algumas regras simples de entender.\n",
    "\n",
    "* O primeiro caractere (opcional) é ``<`` ou ``>``, que significa \"little endian\" ou \"big endian\", respectivamente, e especifica a convenção de ordenação para bits mais significativos.\n",
    "* O próximo caractere especifica o tipo de dados: caracteres, bytes, inteiros, pontos flutuantes e assim por diante.\n",
    "* Os últimos caracteres representam o tamanho do objeto em bytes.\n",
    "\n",
    "| Caractere        | Tipo                  | Exemplo                             |\n",
    "| ---------        | -----------           | -------                             | \n",
    "| ``'b'``          | Byte                  | ``np.dtype('b')``                   |\n",
    "| ``'i'``          | Inteiro com sinal     | ``np.dtype('i4') == np.int32``      |\n",
    "| ``'u'``          | Inteiro sem sinal     | ``np.dtype('u1') == np.uint8``      |\n",
    "| ``'f'``          | Ponto flutuante       | ``np.dtype('f8') == np.int64``      |\n",
    "| ``'c'``          | Complexo              | ``np.dtype('c16') == np.complex128``|\n",
    "| ``'S'``, ``'a'`` | String                | ``np.dtype('S5')``                  |\n",
    "| ``'U'``          | Unicode string        | ``np.dtype('U') == np.str_``        |\n",
    "| ``'V'``          | Dados não tratados    | ``np.dtype('V') == np.void``        |"
   ]
  },
  {
   "cell_type": "markdown",
   "metadata": {},
   "source": [
    "__Nota__: Um sistema _big endian_ armazena o _byte_ mais significativo de uma palavra no menor endereço de memória e o _byte_ menos significativo no maior. Um sistema _little endian_, por outro lado, armazena o _byte_ menos significativo no menor endereço. _Big endian_ é a ordem dominante em protocolos de rede, onde é conhecido como ordem de rede, transmitindo primeiro o _byte_ mais significativo. Por outro lado, _little endian_ é a ordem dominante para arquiteturas de processador (__x86__, a maioria das implementações __ARM__, implementações básicas de __RISC-V__) e sua memória associada. Os formatos de arquivo podem usar qualquer ordem; alguns formatos usam uma mistura de ambos ou contêm um indicador de qual ordem é usada em todo o arquivo."
   ]
  },
  {
   "cell_type": "markdown",
   "metadata": {},
   "source": [
    "Agora, que o _ndarray_ estruturado foi criado, você pode se referir a valores por índice ou por nome."
   ]
  },
  {
   "cell_type": "code",
   "execution_count": 55,
   "metadata": {},
   "outputs": [
    {
     "name": "stdout",
     "output_type": "stream",
     "text": [
      "['nomeAluno01' 'nomeAluno02' 'nomeAluno03' 'nomeAluno04']\n"
     ]
    }
   ],
   "source": [
    "# Somente os nomes\n",
    "print(data['nome'])"
   ]
  },
  {
   "cell_type": "code",
   "execution_count": 56,
   "metadata": {},
   "outputs": [
    {
     "name": "stdout",
     "output_type": "stream",
     "text": [
      "('nomeAluno01', 801, 5.2456264)\n"
     ]
    }
   ],
   "source": [
    "# Apenas um registro\n",
    "print(data[0])"
   ]
  },
  {
   "cell_type": "code",
   "execution_count": 57,
   "metadata": {},
   "outputs": [
    {
     "name": "stdout",
     "output_type": "stream",
     "text": [
      "566\n"
     ]
    }
   ],
   "source": [
    "# número de matrícula do último aluno\n",
    "print(data[-1]['nMatricula'])"
   ]
  },
  {
   "cell_type": "code",
   "execution_count": 58,
   "metadata": {},
   "outputs": [
    {
     "name": "stdout",
     "output_type": "stream",
     "text": [
      "['nomeAluno01' 'nomeAluno03' 'nomeAluno04']\n"
     ]
    }
   ],
   "source": [
    "# Utilizando filtros booleanos\n",
    "print(data[data['prova_1'] > 5]['nome'])"
   ]
  },
  {
   "cell_type": "markdown",
   "metadata": {},
   "source": [
    "Analisando um pouco mais como criar este tipo de arrays"
   ]
  },
  {
   "cell_type": "code",
   "execution_count": 59,
   "metadata": {},
   "outputs": [
    {
     "name": "stdout",
     "output_type": "stream",
     "text": [
      "[('nome', '<U50'), ('nMatricula', '<i4'), ('prova_1', '<f4')]\n"
     ]
    }
   ],
   "source": [
    "# como vimos, podemos utilizar dicionario\n",
    "tipo = np.dtype({'names':('nome', 'nMatricula', 'prova_1'),\n",
    "                 'formats':('U50', 'i4', 'f4')})\n",
    "print(tipo)"
   ]
  },
  {
   "cell_type": "code",
   "execution_count": 60,
   "metadata": {},
   "outputs": [
    {
     "name": "stdout",
     "output_type": "stream",
     "text": [
      "[('nome', '<U50'), ('nMatricula', '<i4'), ('prova_1', '<f4')]\n"
     ]
    }
   ],
   "source": [
    "# se ficar confuso, podemos utilizar os tipos de dados nativos\n",
    "tipo = np.dtype({'names':('nome', 'nMatricula', 'prova_1'),\n",
    "                 'formats':((np.str_, 50), 'int32', np.float32)})\n",
    "print(tipo)"
   ]
  },
  {
   "cell_type": "code",
   "execution_count": 61,
   "metadata": {},
   "outputs": [
    {
     "name": "stdout",
     "output_type": "stream",
     "text": [
      "[('nome', '<U50'), ('nMatricula', '<i4'), ('prova_1', '<f4')]\n"
     ]
    }
   ],
   "source": [
    "# podemos utilizar ainda uma lista de tuplas\n",
    "tipo = np.dtype([('nome', 'U50'), ('nMatricula', 'i4'), ('prova_1', 'f4')])\n",
    "print(tipo)"
   ]
  },
  {
   "cell_type": "code",
   "execution_count": 62,
   "metadata": {},
   "outputs": [
    {
     "name": "stdout",
     "output_type": "stream",
     "text": [
      "[('f0', '<U50'), ('f1', '<i4'), ('f2', '<f4')]\n"
     ]
    }
   ],
   "source": [
    "# se não for importante o nome dos campos, podemos utilizar uma string apenas com os tipos\n",
    "tipo = np.dtype('U50, i4, f4')\n",
    "print(tipo)"
   ]
  },
  {
   "cell_type": "markdown",
   "metadata": {},
   "source": [
    "__NumPy__ possui ainda a classe ``np.recarray``, que é quase idêntica aos arrays estruturados que acabamos de descrever, mas com um recurso adicional: os campos podem ser acessados como atributos em vez de chaves de dicionário"
   ]
  },
  {
   "cell_type": "code",
   "execution_count": 63,
   "metadata": {},
   "outputs": [
    {
     "data": {
      "text/plain": [
       "array(['nomeAluno01', 'nomeAluno02', 'nomeAluno03', 'nomeAluno04'],\n",
       "      dtype='<U50')"
      ]
     },
     "execution_count": 63,
     "metadata": {},
     "output_type": "execute_result"
    }
   ],
   "source": [
    "data['nome']"
   ]
  },
  {
   "cell_type": "markdown",
   "metadata": {},
   "source": [
    "Se visualizarmos nossos dados como uma matriz de registros, poderemos acessar estes dados de forma mais simples"
   ]
  },
  {
   "cell_type": "code",
   "execution_count": 65,
   "metadata": {},
   "outputs": [
    {
     "name": "stdout",
     "output_type": "stream",
     "text": [
      "nomeAluno01\n"
     ]
    }
   ],
   "source": [
    "data_ = data.view(np.recarray)\n",
    "data_.nome\n",
    "print(data_[0].nome)"
   ]
  },
  {
   "cell_type": "markdown",
   "metadata": {},
   "source": [
    "A desvantagem é que, para matrizes de registros, há alguma sobrecarga extra envolvida no acesso aos campos, mesmo quando se usa a mesma sintaxe."
   ]
  },
  {
   "cell_type": "code",
   "execution_count": 66,
   "metadata": {},
   "outputs": [
    {
     "name": "stdout",
     "output_type": "stream",
     "text": [
      "81.5 ns ± 0.809 ns per loop (mean ± std. dev. of 7 runs, 10,000,000 loops each)\n",
      "1.18 µs ± 7.56 ns per loop (mean ± std. dev. of 7 runs, 1,000,000 loops each)\n",
      "2 µs ± 20.5 ns per loop (mean ± std. dev. of 7 runs, 100,000 loops each)\n"
     ]
    }
   ],
   "source": [
    "%timeit data['nome']\n",
    "%timeit data_['nome']\n",
    "%timeit data_.nome"
   ]
  },
  {
   "cell_type": "code",
   "execution_count": null,
   "metadata": {},
   "outputs": [],
   "source": []
  }
 ],
 "metadata": {
  "kernelspec": {
   "display_name": "Python 3 (ipykernel)",
   "language": "python",
   "name": "python3"
  },
  "language_info": {
   "codemirror_mode": {
    "name": "ipython",
    "version": 3
   },
   "file_extension": ".py",
   "mimetype": "text/x-python",
   "name": "python",
   "nbconvert_exporter": "python",
   "pygments_lexer": "ipython3",
   "version": "3.10.13"
  }
 },
 "nbformat": 4,
 "nbformat_minor": 2
}
