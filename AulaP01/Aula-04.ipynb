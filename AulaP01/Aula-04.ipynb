{
 "cells": [
  {
   "cell_type": "markdown",
   "metadata": {},
   "source": [
    "# Módulo de Programação Python: Introdução à Linguagem\n",
    "\n",
    "# Aula - 04\n",
    "\n",
    "## Apresentação de Python: Programação Oreintada a Objetos em Python."
   ]
  },
  {
   "cell_type": "markdown",
   "metadata": {},
   "source": [
    "__Objetivo__:  Introduzir conceitos de Programação Orientada a Objetos (__POO__). Introduzir o tratamento de exceções como uma aplicação de __POO__ aplicado ao tratamento de erros e falhas em tempo de execução."
   ]
  },
  {
   "cell_type": "markdown",
   "metadata": {},
   "source": [
    "### Programação Orientada a Objetos\n",
    "\n",
    "O termo Programação Orientada a Objetos (__POO__) gera algum desconforto ainda entre muitos programadores. De forma geral objetos são algo tangível que podemos sentir, tocar e manipular. \n",
    "\n",
    "A definição de objeto, em termos de software, não é muito diferente. Objetos não são coisas tangíveis, mas são implementações de modelos de algo que pode fazer certas coisas e fazer com que certas coisas sejam feitas com eles. Formalmente, um objeto é uma coleção de dados e ações associados aos mesmos. \n",
    "\n",
    "O uso do conceito de objetos em programação envolve uma seria de etapas que estão estreitamente relacionadas. De fato, análise, desenho e programação são estágios do desenvolvimento de software, de forma geral. Quando associamos a eles o termo \"orientado a objetos\" simplesmente estamos especificando qual estilo de desenvolvimento de software está sendo seguido.\n",
    "\n",
    "A análise orientada a objetos (__AOO__) se refere ao processo de analisar um problema, sistema ou tarefa, que alguém deseja transformar em um aplicativo, e identificar os objetos e interações entre os mesmos. A etapa de análise é sobre \"_o que precisa ser feito_\". \n",
    "\n",
    "Já o desenho orientado a objetos (__DOO__) envolve o processo de converter os requisitos, levantados durante a etapa de análise, em um conjunto de especificações para implementação. O designer deve nomear os objetos, definir os comportamentos e especificar formalmente quais objetos podem ativar comportamentos específicos em outros objetos. O estágio de desenho é sobre \"_como as coisas devem ser feitas_\".\n",
    "\n",
    "Finalmente, a __POO__ define o processo de converter o desenho, já definido, em um programa funcional que faz exatamente o que o cliente solicitou originalmente. Neste curso abordaremos apenas os aspectos relacionados a como executar a etapa de **POO**, utilizando os recursos disponíveis na linguagem __Python 3__\n",
    "\n",
    "<img align=\"center\" style=\"padding-right:10px;\" src=\"Figuras/aula-04_fig_02.png\">"
   ]
  },
  {
   "cell_type": "markdown",
   "metadata": {},
   "source": [
    "#### Objetos e Classes\n",
    "\n",
    "Antes de começar temos que deixar dois conceitos fundamentais bem esclarecidos. Como apresentado anteriormente, objetos são conjuntos de dados e ações associadas aos mesmos. Mas na prática temos tipos diferentes de objetos. Quando falamos em telefones celulares, estamos falando de um conjunto de tipos de objetos que podem ser classificados como dispositivos móveis. Entretanto um celular é um objeto diferente de outro celular do mesmo modelo e fabricante. Já um celular e um *tablet* não são apenas objetos diferentes mas tipos de objetos diferentes, ainda que os dois sejam feitos pelo mesmo fabricante. Neste casso estamos falando de classes de objetos.\n",
    "\n",
    "Qual é a diferença então entre objetos e classes? Classes descrevem objetos, ou seja,elas são como plantas que permitem criar objetos. Você pode ter três celulares do mesmo modelo e fabricante na sua frente. Cada celular é um objeto distinto, mas os três têm os atributos e comportamentos associados a uma classe: a classe que permite \"construir\" exemplares daquele modelo de celular. Cada celular é um objeto específico, uma instância feita a partir de uma classe. Utilizaremos então, daqui para frente, o termo instanciar para nos referir ao fato de criar um objeto, ao qual também podemos nos referir como instância."
   ]
  },
  {
   "cell_type": "markdown",
   "metadata": {},
   "source": [
    "#### Um exemplo simples\n",
    "\n",
    "<img align=\"center\" style=\"padding-right:10px;\" src=\"Figuras/aula-04_fig_03.jpg\">\n",
    "\n",
    "<img align=\"center\" style=\"padding-right:10px;\" src=\"Figuras/aula-04_fig_04.png\">\n",
    "\n",
    "### Objetos em Python\n",
    "\n",
    "Vamos começar fazendo uma apresentação inicial dos recursos, em termos de sintaxes, disponíveis em  __Python__, que permite criar programas orientados a objetos. O primeiro passo é então como criar classes. \n",
    "\n",
    "#### Criando Classes em Python\n",
    "\n",
    "A declaração de uma classe em __Python__ é um processo, em principio, simples. Se utiliza a palavra reservada ``class`` seguido do nome da classe e de ``:`` para iniciar o bloco sintáctico com a implementação da mesma. "
   ]
  },
  {
   "cell_type": "code",
   "execution_count": 1,
   "metadata": {},
   "outputs": [],
   "source": [
    "# Criando uma classe\n",
    "class MinhaPrimeiraClasse :\n",
    "    pass # implementação do corpo da classe "
   ]
  },
  {
   "cell_type": "markdown",
   "metadata": {},
   "source": [
    "A classe anterior já pode ser utilizada para criar objetos derivados dela, mesmo sem contar ainda com uma definição apropriada da sua implementação. Os objetos ou instâncias de uma classe são criados e, eventualmente, atribuídos a uma varável de forma bastante intuitiva. veja o exemplo a seguir:"
   ]
  },
  {
   "cell_type": "code",
   "execution_count": null,
   "metadata": {},
   "outputs": [
    {
     "name": "stdout",
     "output_type": "stream",
     "text": [
      "<__main__.MinhaPrimeiraClasse object at 0x10623bcd0>\n",
      "<class '__main__.MinhaPrimeiraClasse'>\n"
     ]
    }
   ],
   "source": [
    "# Criando um instância da classe (objeto)\n",
    "meuPrimeiroObjeto = MinhaPrimeiraClasse() # chamada ao construtor da classe\n",
    "# Uma outra instância \n",
    "outroObjeto = MinhaPrimeiraClasse()\n",
    "print(meuPrimeiroObjeto)\n",
    "print(type(meuPrimeiroObjeto))\n"
   ]
  },
  {
   "cell_type": "markdown",
   "metadata": {},
   "source": [
    "Ainda que sem uma implementação formal, as instâncias criadas já podem ser utilizadas.\n",
    "\n",
    "#### Adicionando atributos na classe\n",
    "\n",
    "Mas, se o conceito de objetos envolve dados, como armazenar informação nos objetos que criamos? Vamos desenvolver uma classe simples para representar ponto no plano cartesiano pelas suas coordenadas _x_ e _y_."
   ]
  },
  {
   "cell_type": "code",
   "execution_count": null,
   "metadata": {},
   "outputs": [],
   "source": [
    "# Criamos a classe Ponto sem corpo\n",
    "class Ponto:\n",
    "    pass"
   ]
  },
  {
   "cell_type": "code",
   "execution_count": null,
   "metadata": {},
   "outputs": [],
   "source": [
    "# Podemos criar duas instâncias (objetos) desta classe\n",
    "p1 = Ponto()\n",
    "p2 = Ponto()"
   ]
  },
  {
   "cell_type": "markdown",
   "metadata": {},
   "source": [
    "Usando as instancias da classe podemos definir atributos para cada uma delas da seguinte forma?"
   ]
  },
  {
   "cell_type": "code",
   "execution_count": null,
   "metadata": {},
   "outputs": [],
   "source": [
    "# Agora podemos adicionar atributos às instâncias\n",
    "p1.x = 1.0\n",
    "p1.y = 1.0\n",
    "\n",
    "p2.x = -1.0\n",
    "p2.y = -1.0"
   ]
  },
  {
   "cell_type": "markdown",
   "metadata": {},
   "source": [
    "Da mesma forma podemos acessar os atributos criados"
   ]
  },
  {
   "cell_type": "code",
   "execution_count": null,
   "metadata": {},
   "outputs": [
    {
     "name": "stdout",
     "output_type": "stream",
     "text": [
      "p1 = ( 1.0 ,  1.0 )\n",
      "p2 = ( -1.0 ,  -1.0 )\n",
      "p1.__dict__ =  {'x': 1.0, 'y': 1.0}\n",
      "p2.__dict__ =  {'x': -1.0, 'y': -1.0}\n",
      "<class 'dict'>\n"
     ]
    }
   ],
   "source": [
    "# Veja coo acessar os atributos de um objeto\n",
    "print(\"p1 = (\", p1.x, \", \", p1.y, \")\")\n",
    "print(\"p2 = (\", p2.x, \", \", p2.y, \")\")\n",
    "print(\"p1.__dict__ = \", p1.__dict__)\n",
    "print(\"p2.__dict__ = \", p2.__dict__)\n",
    "print(type(p1.__dict__))"
   ]
  },
  {
   "cell_type": "markdown",
   "metadata": {},
   "source": [
    "Repare que, no exemplo anterior, os  atributos das instâncias da classe foram definidos após as mesmas serem criadas. Esta náo é uma forma comum de declarar atributos de um objeto. Este comportamento peculiar está mais relacionado com a característica de __Python__ no tratamento e declaração de variáveis do que com __POO__ propriamente. \n",
    "\n",
    "#### Fazendo a classe trabalhar\n",
    "\n",
    "Agora vamos a associar alguma ação que permita modificar de alguma forma os atributos, ou seja o estado  de um objeto da classe."
   ]
  },
  {
   "cell_type": "code",
   "execution_count": null,
   "metadata": {},
   "outputs": [],
   "source": [
    "class Ponto:\n",
    "\n",
    "    def naOrigem(self): #Método da classe\n",
    "        self.x = 0.0  #atributos da instância\n",
    "        self.y = 0.0"
   ]
  },
  {
   "cell_type": "markdown",
   "metadata": {},
   "source": [
    "Os métodos se definem de forma semelhante a funções. Uma diferença fundamental é o fato de que todo método tem, cmo primeiro parâmetro, ``self`` . Veja que o parâmetro ``self ``é utilizado para declarar a variável ``x`` que, neste caso, referencia um atributo da instância. Este atributo so existe após chamar o método em questão.\n",
    "\n",
    "O parâmetro ``self`` representa um referência ao objeto e, com ajuda dele, é possível declarar e acessar os atributos e métodos de cada objeto. "
   ]
  },
  {
   "cell_type": "code",
   "execution_count": null,
   "metadata": {},
   "outputs": [
    {
     "name": "stdout",
     "output_type": "stream",
     "text": [
      "'Ponto' object has no attribute 'x'\n",
      "p1.__dict__ =  {}\n"
     ]
    }
   ],
   "source": [
    "# Agora criamos uma instância da nova classe\n",
    "p1 = Ponto()\n",
    "# Repare que este objeto ainda não tem atributos\n",
    "try:\n",
    "    print(\"p1 = (\", p1.x, \", \", p1.y, \")\")\n",
    "except Exception as e:\n",
    "    print(e)\n",
    "print(\"p1.__dict__ = \", p1.__dict__)"
   ]
  },
  {
   "cell_type": "markdown",
   "metadata": {},
   "source": [
    "Veja que tentamos acessar os atributos ``x`` e ``y``antes de eles existirem. Agora veja o que acontecem se chamamos antes o método ``naOrigem`` .  "
   ]
  },
  {
   "cell_type": "code",
   "execution_count": null,
   "metadata": {},
   "outputs": [
    {
     "name": "stdout",
     "output_type": "stream",
     "text": [
      "p1 = ( 0.0 ,  0.0 )\n",
      "p1.__dict__ =  {'x': 0.0, 'y': 0.0}\n"
     ]
    }
   ],
   "source": [
    "# Agora vamos pedir para colocar o ponto na origem \n",
    "p1.naOrigem()\n",
    "try:\n",
    "    print(\"p1 = (\", p1.x, \", \", p1.y, \")\")\n",
    "except Exception as e:\n",
    "    print(e)\n",
    "print(\"p1.__dict__ = \", p1.__dict__)"
   ]
  },
  {
   "cell_type": "markdown",
   "metadata": {},
   "source": [
    "Novamente os atributos da instância foram declarados após a criarmos o objeto ``p1``. Mas desta vez eles foram declarados por uma função definida dentro da classe como um método. A função ``naOrigem()`` que implementamos na classe ``Ponto``, introduz uma funcionalidade na mesma: define que o ponto estará localizado na origem do sistema de coordenadas. Ela tem, basicamente, a mesma sintaxes de uma função em __Python__. Como já comentamos, a principal diferença para uma função simples é que os métodos de uma classe incluem na sua lista de parâmetros e como primeiro parâmetros o ``self``.\n",
    "\n",
    "O parâmetro ``self`` é simplesmente uma referência ao objeto no qual o método está sendo chamado, ou seja uma autorreferência. É através dele que referenciamos atributos e métodos da própria instância e é exatamente isso que fazemos dentro do método ``naOrigem`` quando acessamos os atributos ``x`` e ``y`` do próprio objeto. Repare que, como os atributos não tinham sido declarados antes, eles estão sendo declarados neste método. Ou seja, quando chamamos o método, se os atributos já existirem eles são atualizados, caso contrario eles são declarados. A referência ``self`` permite distinguir uma referência a um objeto local, uma variável ou uma função, de um objeto da instância da classe. \n",
    "Reparem que quando chamamos o método do objeto  ``p`` não adicionamos nenhum parâmetro, nem mesmo o ``self``. __Python__ gerencia isso de forma automática adicionando a referência como primeiro argumento na chamada de qualquer método de um objeto. Veja no exemplo a seguir:"
   ]
  },
  {
   "cell_type": "code",
   "execution_count": null,
   "metadata": {},
   "outputs": [],
   "source": [
    "# Vamos modificar o método\n",
    "class Ponto:\n",
    "\n",
    "    # Método da classe ou estático\n",
    "    def distOrigem(x, y): #Método da classe\n",
    "        '''\n",
    "            Calcula a distância do ponto (x,y) à origem\n",
    "        '''\n",
    "        return (x**2 + y**2)**0.5\n",
    "    \n",
    "    def naOrigem(self): #Método da classe\n",
    "        self.x = 0.0  #atributos da instância\n",
    "        self.y = 0.0\n",
    "        # distância não é um atributo, mas uma variável local\n",
    "        distancia = Ponto.distOrigem(self.x, self.y)\n",
    "        print(\"Distância da origem = \", distancia)"
   ]
  },
  {
   "cell_type": "markdown",
   "metadata": {},
   "source": [
    "No exemplo anterior criamos um método que não recebe o parâmetro ``self``. Neste caso estamos criando um método da classe. No método ``naOrigem`` declaramos a variável distância, que é uma variável local da função. Veja que usamos também o método ``distOrigem``, que calcula a distância de um ponto, dadas as suas coordenadas, à origem do sistema. "
   ]
  },
  {
   "cell_type": "code",
   "execution_count": null,
   "metadata": {},
   "outputs": [
    {
     "name": "stdout",
     "output_type": "stream",
     "text": [
      "Distância da origem =  0.0\n",
      "'Ponto' object has no attribute 'distancia'\n",
      "p1 = ( 0.0 ,  0.0 )  - distância =  0.0\n",
      "ou?\n",
      "Ponto.distOrigem() takes 2 positional arguments but 3 were given\n"
     ]
    }
   ],
   "source": [
    "# Agora criamos uma instância da nova classe\n",
    "p1 = Ponto()\n",
    "p1.naOrigem()\n",
    "try:\n",
    "    print(\"p1 = (\", p1.x, \", \", p1.y, \")\", \" - distância = \", p1.distancia)\n",
    "except Exception as e:\n",
    "    print(e)\n",
    "\n",
    "try:\n",
    "    print(\"p1 = (\", p1.x, \", \", p1.y, \")\", \" - distância = \", Ponto.distOrigem(p1.x, p1.y))\n",
    "    print(\"ou?\")\n",
    "    print(\"p1 = (\", p1.x, \", \", p1.y, \")\", \" - distância = \", p1.distOrigem(p1.x, p1.y))\n",
    "except Exception as e:\n",
    "    print(e)"
   ]
  },
  {
   "cell_type": "markdown",
   "metadata": {},
   "source": [
    "No exemplo anterior, quando tentamos chamar o método da classe desde uma das suas instâncias ele tentou passar o ``self`` como parâmetro implícito. \n",
    "\n",
    "Vamos adicionar mais algumas funcionalidades ao nosso modelo de ponto no plano cartesiano, através de novos métodos da classe."
   ]
  },
  {
   "cell_type": "code",
   "execution_count": null,
   "metadata": {},
   "outputs": [],
   "source": [
    "class Ponto:\n",
    "    \n",
    "    def movePara(self, x = 0, y = 0):\n",
    "        self.x = x\n",
    "        self.y = y\n",
    "        \n",
    "    def naOrigem(self):\n",
    "        self.movePara()\n",
    "        \n",
    "    def distânciaAté(self, outroPonto):\n",
    "        dist = ((self.x - outroPonto.x)**2 + \n",
    "                (self.y - outroPonto.y)**2 )**0.5\n",
    "        return dist\n",
    "    \n",
    "    def distOrigem(x, y): #Método da classe\n",
    "        '''\n",
    "            Calcula a distância do ponto (x,y) à origem\n",
    "        '''\n",
    "        return (x**2 + y**2)**0.5"
   ]
  },
  {
   "cell_type": "code",
   "execution_count": null,
   "metadata": {},
   "outputs": [],
   "source": [
    "# Criando uma instância da nova classe\n",
    "p1 = Ponto()\n",
    "# Criando os atributos do objetos na origem do sistema\n",
    "p1.naOrigem()"
   ]
  },
  {
   "cell_type": "code",
   "execution_count": null,
   "metadata": {},
   "outputs": [],
   "source": [
    "# Criando uma nova instância da classe\n",
    "p2 = Ponto()\n",
    "# Criando os atributos do objeto e deslocando um ponto específico\n",
    "p2.movePara(1.0, 1.0)"
   ]
  },
  {
   "cell_type": "code",
   "execution_count": null,
   "metadata": {},
   "outputs": [
    {
     "name": "stdout",
     "output_type": "stream",
     "text": [
      "A distância de p2 a p1: 1.4142135623730951\n",
      "O método que calcula a distância funciona!\n"
     ]
    }
   ],
   "source": [
    "# Qual a distância de p2 até p1?\n",
    "print(\"A distância de p2 a p1:\", p2.distânciaAté(p1))\n",
    "\n",
    "''' \n",
    "    O assert é uma verificação em tempo de execução de uma condição qualquer. \n",
    "    Se a condição não for verdadeira, uma exceção AssertionError acontece \n",
    "    e o programa pára.\n",
    "'''\n",
    "try: # a distância de p1 a p2 deve ser igual à distância de p2 a p1\n",
    "    assert ( p2.distânciaAté(p1) ==\n",
    "                p1.distânciaAté(p2) )\n",
    "    print(\"O método que calcula a distância funciona!\")\n",
    "except AssertionError:\n",
    "    print(\"O método que calcula a distância não funciona!\")"
   ]
  },
  {
   "cell_type": "code",
   "execution_count": 16,
   "metadata": {},
   "outputs": [
    {
     "name": "stdout",
     "output_type": "stream",
     "text": [
      "A distância de p1 a p2: 3.605551275463989\n",
      "A distância de p1 a p1: 0.0\n"
     ]
    }
   ],
   "source": [
    "# Movendo p1 para novas coordenadas\n",
    "p1.movePara(4,3)\n",
    "print(\"A distância de p1 a p2:\", p1.distânciaAté(p2))\n",
    "print(\"A distância de p1 a p1:\", p1.distânciaAté(p1))"
   ]
  },
  {
   "cell_type": "markdown",
   "metadata": {},
   "source": [
    "#### Inicializando objetos\n",
    "\n",
    "Até aqui inicializamos os atributos diretamente ou através de métodos específicos das instâncias da classe. Entretanto ainda temos problemas com a garantia de que estes atributos existam e estejam inicializados de forma apropriada no momento que seja necessário utilizar eles."
   ]
  },
  {
   "cell_type": "code",
   "execution_count": null,
   "metadata": {},
   "outputs": [
    {
     "name": "stdout",
     "output_type": "stream",
     "text": [
      "'Ponto' object has no attribute 'y'\n",
      "{'x': 1.0}\n"
     ]
    }
   ],
   "source": [
    "# Criamos uma instância da classe Ponto\n",
    "p1 = Ponto()\n",
    "# Inicializamos diretamente o atributo x\n",
    "p1.x = 1.0\n",
    "# Vamos tentar imprimir as coordenadas de p1\n",
    "try:\n",
    "    print(\"p1 = (\", p1.x, \", \", p1.y, \")\")\n",
    "except Exception as err:\n",
    "    print(err)\n",
    "    \n",
    "print(p1.__dict__)"
   ]
  },
  {
   "cell_type": "markdown",
   "metadata": {},
   "source": [
    "Ou seja, temos sempre que lembrara de inicializar os atributos de uma forma ou de outra. Para evitar esta inconsistência se define em __POO__ o conceito de construtor da classe, um método especial que é sempre chamado, automaticamente, no momento que o objeto esta sendo criado e antes de qualquer outro método da classe. Em __Python__ se utiliza o método de inicialização ``init`` com esta finalidade."
   ]
  },
  {
   "cell_type": "code",
   "execution_count": 18,
   "metadata": {},
   "outputs": [],
   "source": [
    "class Ponto:\n",
    "    \n",
    "    def __init__(self, x = 0, y = 0):\n",
    "        self.x = x\n",
    "        self.y = y\n",
    "        #ou simplesmente\n",
    "        #self.movePara(x, y)\n",
    "    \n",
    "    def movePara(self, x = 0, y = 0):\n",
    "        self.x = x\n",
    "        self.y = y\n",
    "        \n",
    "    def naOrigem(self):\n",
    "        self.x = 0\n",
    "        self.y = 0\n",
    "        #ou simplesmente\n",
    "        #self.movePara()\n",
    "        \n",
    "    def distânciaAté(self, outroPonto):\n",
    "        dist = ( (self.x - outroPonto.x)**2 + \n",
    "                    (self.y - outroPonto.y)**2 )**0.5\n",
    "        return dist\n",
    "    \n",
    "    def distOrigem(x, y): #Método da classe\n",
    "        '''\n",
    "            Calcula a distância do ponto (x,y) à origem\n",
    "        '''\n",
    "        return (x**2 + y**2)**0.5"
   ]
  },
  {
   "cell_type": "code",
   "execution_count": 19,
   "metadata": {},
   "outputs": [
    {
     "name": "stdout",
     "output_type": "stream",
     "text": [
      "p1 = ( 1.0 ,  0 )\n"
     ]
    }
   ],
   "source": [
    "# Criamos novamente uma instância da classe Ponto\n",
    "p1 = Ponto()\n",
    "# Inicializamos diretamente o atributo x\n",
    "p1.x = 1.0\n",
    "# Vamos tentar imprimir as coordenadas de p1\n",
    "try:\n",
    "    print(\"p1 = (\", p1.x, \", \", p1.y, \")\")\n",
    "except Exception as err:\n",
    "    print(err)"
   ]
  },
  {
   "cell_type": "markdown",
   "metadata": {},
   "source": [
    "Repare que até agora não abordamos o tema de encapsulamento. Voltaremos a este assunto mais para frente.\n",
    "\n",
    "Nas aulas anteriores comentamos um pouco sobre documentar funções. Vajam um exemplo de documentação da classe que implementamos até aqui. "
   ]
  },
  {
   "cell_type": "code",
   "execution_count": 1,
   "metadata": {},
   "outputs": [],
   "source": [
    "class Ponto:\n",
    "    ''' A Classe Ponto é utilizada para ilustrar a implementação de\n",
    "        classes em Python e instanciação das mesmas pela criação de\n",
    "        objetos derivados desta classe. Ela implementa um modelo de \n",
    "        ponto no plano cartesiano.\n",
    "    '''\n",
    "    \n",
    "    def __init__(self, x = 0, y = 0):\n",
    "        ''' Inicialização de um ponto no plano cartesiano. Os valores\n",
    "            das coordenadas x e y devem ser especificados. Caso os\n",
    "            valores não sejam definidos o ponto sera criado com \n",
    "            coordenadas na origem do plano.\n",
    "        '''\n",
    "        self.movePara(x, y)\n",
    "    \n",
    "    def movePara(self, x = 0, y = 0):\n",
    "        ''' Move o ponto para as novas coordenadas (x, y) definidas nos \n",
    "            parâmetros de entrada. Caso não sejam definidos os valores \n",
    "            das novas coordenadas, o ponto sera deslocado para a origem.\n",
    "        '''\n",
    "        self.x = x\n",
    "        self.y = y\n",
    "        \n",
    "    def naOrigem(self):\n",
    "        '''Move o ponto para a origem do sistema de coordenadas cartesianas.'''\n",
    "        self.movePara()\n",
    "        \n",
    "    def distânciaAté(self, outroPonto):\n",
    "        ''' Calcula a distância deste ponto até um outro ponto'''\n",
    "        dist = ( (self.x - outroPonto.x)**2 + \n",
    "                    (self.y - outroPonto.y)**2 )**0.5\n",
    "        return dist\n",
    "    \n",
    "    def distOrigem(x, y): #Método da classe\n",
    "        '''\n",
    "            Calcula a distância do ponto (x,y) à origem\n",
    "        '''\n",
    "        return (x**2 + y**2)**0.5"
   ]
  },
  {
   "cell_type": "code",
   "execution_count": 21,
   "metadata": {},
   "outputs": [
    {
     "name": "stdout",
     "output_type": "stream",
     "text": [
      "Help on class Ponto in module __main__:\n",
      "\n",
      "class Ponto(builtins.object)\n",
      " |  Ponto(x=0, y=0)\n",
      " |  \n",
      " |  A Classe Ponto é utilizada para ilustrar a implementação de\n",
      " |  classes em Python e instanciação das mesmas pela criação de\n",
      " |  objetos derivados desta classe. Ela implementa um modelo de \n",
      " |  ponto no plano cartesiano.\n",
      " |  \n",
      " |  Methods defined here:\n",
      " |  \n",
      " |  __init__(self, x=0, y=0)\n",
      " |      Inicialização de um ponto no plano cartesiano. Os valores\n",
      " |      das coordenadas x e y devem ser especificados. Caso os\n",
      " |      valores não sejam definidos o ponto sera criado com \n",
      " |      coordenadas na origem do plano.\n",
      " |  \n",
      " |  distOrigem(x, y)\n",
      " |      Calcula a distância do ponto (x,y) à origem\n",
      " |  \n",
      " |  distânciaAté(self, outroPonto)\n",
      " |      Calcula a distância deste ponto até um outro ponto\n",
      " |  \n",
      " |  movePara(self, x=0, y=0)\n",
      " |      Move o ponto para as novas coordenadas (x, y) definidas nos \n",
      " |      parâmetros de entrada. Caso não sejam definidos os valores \n",
      " |      das novas coordenadas, o ponto sera deslocado para a origem.\n",
      " |  \n",
      " |  naOrigem(self)\n",
      " |      Move o ponto para a origem do sistema de coordenadas cartesianas.\n",
      " |  \n",
      " |  ----------------------------------------------------------------------\n",
      " |  Data descriptors defined here:\n",
      " |  \n",
      " |  __dict__\n",
      " |      dictionary for instance variables (if defined)\n",
      " |  \n",
      " |  __weakref__\n",
      " |      list of weak references to the object (if defined)\n",
      "\n",
      "Help on function naOrigem in module __main__:\n",
      "\n",
      "naOrigem(self)\n",
      "    Move o ponto para a origem do sistema de coordenadas cartesianas.\n",
      "\n"
     ]
    }
   ],
   "source": [
    "help(Ponto)\n",
    "help(Ponto.naOrigem)"
   ]
  },
  {
   "cell_type": "markdown",
   "metadata": {},
   "source": [
    "#### Definindo  atributos da classe\n",
    "\n",
    "Os atributos podem ser declarados diretamente no corpo da classe. Mas neste caso eles ganham um escopo diferente: eles passam a ser atributos da classe e não mais das instâncias. Ou seja, o novo atributo, que já existe mesmo antes de ser criada uma instância da classe, referencia uma variável que é compartilhada entre todas as instâncias. Vaja o exemplo seguinte onde modificamos a implementação da classe ``Ponto``."
   ]
  },
  {
   "cell_type": "code",
   "execution_count": 22,
   "metadata": {},
   "outputs": [],
   "source": [
    "from math import atan2, sin, cos\n",
    "\n",
    "class Ponto:\n",
    "    ''' A Classe Ponto é utilizada para ilustrar a implementação de\n",
    "        classes em Python e instanciação das mesmas pela criação de\n",
    "        objetos derivados desta classe. Ela implementa um modelo de \n",
    "        ponto no plano cartesiano. \n",
    "    '''\n",
    "    # incluímos um novo atributo na definição do corpo da classe\n",
    "    contador = 0 \n",
    "    \n",
    "    \n",
    "    def __init__(self, pCar = None, pPol = None, outroPonto = None):\n",
    "        ''' \n",
    "            Inicialização de um ponto no plano. Utilizamos coordenadas cartesianas\n",
    "            e coordenadas polares para representar o ponto em relação à origem do\n",
    "            sistema de coordenadas. As coordenadas do ponto podem ser fornecidas\n",
    "            como coordenadas cartesianas, polares ou ainda como outro ponto. Caso os\n",
    "            valores não sejam definidos o ponto sera criado com \n",
    "            coordenadas na origem do sistema de coordenadas.\n",
    "            Cada ponto criado ganha um id único construído com base\n",
    "            no atributo contador. O atributo também permite contabilizar \n",
    "            quantas instâncias da classe já foram criadas. \n",
    "            O construtor pode ser chamado de três formas diferentes:\n",
    "            1. Utilizando uma dupla com as coordenadas x,y do ponto\n",
    "            em coordenadas cartesianas: \n",
    "            p1 = Ponto(pCar = (1.0,2.3)) \n",
    "            2. Utilizando uma dupla com as coordenadas rho,theta do ponto\n",
    "            em coordenadas polares:\n",
    "            p1 = Ponto(pPol = (1,3.14))\n",
    "            3. Utilizando outro ponto:\n",
    "            p2 = Ponto(outroPonto = p1)\n",
    "            4. Ou ainda sem parâmetros:\n",
    "        '''\n",
    "        if pCar: \n",
    "            x, y = pCar\n",
    "            self.__x = x \n",
    "            self.__y = y\n",
    "            self.__rho, self.__theta = Ponto.cart2pol(self.__x, self.__y)\n",
    "        elif pPol:\n",
    "            rho, theta = pPol\n",
    "            self.__rho = rho\n",
    "            self.__theta = theta\n",
    "            self.__x, self.__y = Ponto.pol2cart(self.__rho, self.__theta)\n",
    "        elif outroPonto and type(outroPonto) == 'Ponto':\n",
    "            self.__x = outroPonto.__x\n",
    "            self.__y = outroPonto.__y\n",
    "            self.__rho = outroPonto.__rho\n",
    "            self.__theta = outroPonto.__theta\n",
    "        else:\n",
    "            self.moveXYPara()\n",
    "        \n",
    "        # Acessando o atributo da classe\n",
    "        Ponto.contador += 1       # Podemos referencia assim\n",
    "        self._id = \"Ponto-\" + str(self.contador)   # ou assim\n",
    "\n",
    "    # métodos da classe\n",
    "    def cart2pol(x, y):\n",
    "        rho = (x**2 + y**2)**0.5\n",
    "        theta = atan2(y, x)\n",
    "        return rho, theta\n",
    "    \n",
    "    def pol2cart(rho, theta):\n",
    "        x = rho * cos(theta)\n",
    "        y = rho * sin(theta)\n",
    "        return x, y\n",
    "    \n",
    "    def clonarPonto(self):\n",
    "        return Ponto((self.__x, self.__y))\n",
    "        #return Ponto(pCar = (self.__x, self.__y))\n",
    "        #return Ponto(pPol = (self.__rho, self.__theta))\n",
    "        #return Ponto(None, (self.__rho, self.__theta))\n",
    "        #return Ponto(outroPonto = self)\n",
    "        #return Ponto(None, None, self)\n",
    "\n",
    "    def moveXYPara(self, x = 0, y = 0):\n",
    "        ''' Move o ponto para as novas coordenadas (x, y) definidas nos \n",
    "            parâmetros de entrada. Caso não sejam definidos os valores \n",
    "            das novas coordenadas, o ponto sera deslocado para a origem.\n",
    "        '''\n",
    "        self.__x = x\n",
    "        self.__y = y\n",
    "        self.__rho, self.__theta = Ponto.cart2pol(self.__x, self.__y)\n",
    "        \n",
    "    def moveXPara(self, x = 0):\n",
    "        '''\n",
    "        \n",
    "        '''\n",
    "        self.__x = x\n",
    "        self.__rho, self.__theta = Ponto.cart2pol(self.__x, self.__y)\n",
    "        \n",
    "    def moveYPara(self, y = 0):\n",
    "        '''\n",
    "        \n",
    "        '''\n",
    "        self.__y = y\n",
    "        self.__rho, self.__theta = Ponto.cart2pol(self.__x, self.__y)\n",
    "\n",
    "    def naOrigem(self):\n",
    "        '''Move o ponto para a origem do sistema de coordenadas cartesianas.'''\n",
    "        self.moveXYPara()       \n",
    "    \n",
    "    def moveRhoThetaPara(self, rho = 0, theta = 0):\n",
    "        '''\n",
    "        \n",
    "        '''\n",
    "        self.__rho = rho\n",
    "        self.__theta = theta\n",
    "        self.__x, self.__y = Ponto.pol2cart(self.__rho, self.__theta)\n",
    "\n",
    "    def moveRhoPara(self, rho = 0):\n",
    "        '''\n",
    "        \n",
    "        '''\n",
    "        self.__rho = rho\n",
    "        self.__x, self.__y = Ponto.pol2cart(self.__rho, self.__theta)\n",
    "\n",
    "    def moveThetaPara(self, theta = 0):\n",
    "        '''\n",
    "        \n",
    "        '''\n",
    "        self.__theta = theta\n",
    "        self.__x, self.__y = Ponto.pol2cart(self.__rho, self.__theta)\n",
    "        \n",
    "    def distânciaAté(self, outroPonto):\n",
    "        ' Calcula a distância deste ponto até um outro ponto'\n",
    "        dist = ( (self.__x - outroPonto.__x)**2 + \n",
    "                    (self.__y - outroPonto.__y)**2 )**0.5\n",
    "        return dist\n",
    "    "
   ]
  },
  {
   "cell_type": "code",
   "execution_count": 23,
   "metadata": {},
   "outputs": [
    {
     "name": "stdout",
     "output_type": "stream",
     "text": [
      "p1\n",
      "_Ponto__x  :  1.2\n",
      "_Ponto__y  :  1.0\n",
      "_Ponto__rho  :  1.5620499351813308\n",
      "_Ponto__theta  :  0.6947382761967033\n",
      "_id  :  Ponto-1\n"
     ]
    }
   ],
   "source": [
    "p1 = Ponto((1.2, 1.0))\n",
    "p2 = Ponto(pPol = (1, 3.14/4))\n",
    "p3 = Ponto(None, None, p1)\n",
    "\n",
    "#print(p1.__dict__)\n",
    "#print(p2.__dict__)\n",
    "#print(p3.__dict__)\n",
    "print(\"p1\")\n",
    "for item in p1.__dict__ :\n",
    "    print(item, \" : \", p1.__dict__[item])"
   ]
  },
  {
   "cell_type": "code",
   "execution_count": 24,
   "metadata": {},
   "outputs": [
    {
     "name": "stdout",
     "output_type": "stream",
     "text": [
      "1.2\n"
     ]
    }
   ],
   "source": [
    "print(p1._Ponto__x)"
   ]
  },
  {
   "cell_type": "markdown",
   "metadata": {},
   "source": [
    "Esta classe implementa várias funcionalidades e, pela primeira vez trata o controverso tema de encapsulamento em __Python__.\n",
    "\n",
    "Em __Python__ podemos identificar o atributos como públicos, protegidos e privados.\n",
    "\n",
    "* Atributos cujo identificador começa com letra são intrinsecamente públicos. Ou seja, podem ser acessados diretamente desda as instâncias da classe. \n",
    "* Atributos cujo identificador começa com um subscritos (_underline_ ``_``) são atributos marcados como privados pelo desenvolvedor. Na prática eles continuam sendo públicos mas, o desenvolvedor deixou uma marca recomendando que eles sejam tratados como privados. Ainda podem ser acessados diretamente desda as instâncias da classe mas se recomenda que sejam acessados desde os métodos apropriados. Podemos chamar eles como protegidos pelo desenvolvedor ou fracamente privados, mesmo que esta classificação não se encaixe na tradicionalmente utilizada em __POO__.\n",
    "* Atributos cujo identificador começa com dos subscritos (_underlines_ ``__``) são atributos marcados como fortemente privados pelo desenvolvedor. Na prática eles não podem mais ser acessados diretamente, mesmo que ainda seja possível acessar eles utilizando mecanismos mais \"obscuros\" da linguagem. Podemos chamar eles como fortemente privados, mesmo que esta classificação não se encaixe na tradicionalmente utilizada em __POO__.\n",
    "Veja os exemplos "
   ]
  },
  {
   "cell_type": "code",
   "execution_count": 2,
   "metadata": {},
   "outputs": [],
   "source": [
    "class Ponto3D:\n",
    "    def __init__(self, x = 0, y = 0, z = 0):\n",
    "        self.x = x      # publico\n",
    "        self._y = y     # fracamente privado\n",
    "        self.__z = z    # fortemente privado\n",
    "    \n",
    "    def setX(self, x):\n",
    "        self.x = x\n",
    "    \n",
    "    def setY(self, y):\n",
    "        self._y = y\n",
    "\n",
    "    def setZ(self, z):\n",
    "        self.__z = z\n",
    "\n",
    "    def getX(self):\n",
    "        return self.x\n",
    "    \n",
    "    def getY(self):\n",
    "        return self._y\n",
    "    \n",
    "    def getZ(self):\n",
    "        return self.__z    "
   ]
  },
  {
   "cell_type": "code",
   "execution_count": 4,
   "metadata": {},
   "outputs": [
    {
     "name": "stdout",
     "output_type": "stream",
     "text": [
      "p1.x =  1\n",
      "p1.x =  2\n",
      "p1.getX() =  2\n",
      "p1.getX() =  10\n",
      "{'x': 10, '_y': 2, '_Ponto3D__z': 3}\n"
     ]
    }
   ],
   "source": [
    "p1 = Ponto3D(1,2,3)\n",
    "#Podemos acessar o atributo público diretamente\n",
    "print(\"p1.x = \", p1.x)\n",
    "p1.x = 2\n",
    "print(\"p1.x = \", p1.x)\n",
    "# ou pelo método getX e setX\n",
    "print(\"p1.getX() = \", p1.getX())\n",
    "p1.setX(10)\n",
    "print(\"p1.getX() = \", p1.getX())\n",
    "print(p1.__dict__)"
   ]
  },
  {
   "cell_type": "code",
   "execution_count": 5,
   "metadata": {},
   "outputs": [
    {
     "name": "stdout",
     "output_type": "stream",
     "text": [
      "p1._y =  2\n",
      "p1._y =  2\n",
      "p1.getY() =  2\n",
      "p1.getY() =  10\n",
      "{'x': 10, '_y': 10, '_Ponto3D__z': 3}\n"
     ]
    }
   ],
   "source": [
    "# Podemos acessar o atributo fracamente privado diretamente\n",
    "print(\"p1._y = \", p1._y)\n",
    "p1._y = 2\n",
    "print(\"p1._y = \", p1._y)\n",
    "# ou pelo método getY e setY\n",
    "print(\"p1.getY() = \", p1.getY())\n",
    "p1.setY(10)\n",
    "print(\"p1.getY() = \", p1.getY())\n",
    "print(p1.__dict__)"
   ]
  },
  {
   "cell_type": "code",
   "execution_count": 6,
   "metadata": {},
   "outputs": [
    {
     "name": "stdout",
     "output_type": "stream",
     "text": [
      "'Ponto3D' object has no attribute '__z'\n"
     ]
    }
   ],
   "source": [
    "# Podemos tentar acessar o atributo fortemente privado diretamente\n",
    "p1 = Ponto3D(1,2,3)\n",
    "try:\n",
    "    print(\"p1.__z = \", p1.__z)\n",
    "except Exception as e:\n",
    "    print(e)"
   ]
  },
  {
   "cell_type": "code",
   "execution_count": 7,
   "metadata": {},
   "outputs": [
    {
     "name": "stdout",
     "output_type": "stream",
     "text": [
      "p1.__dict__ =  {'x': 1, '_y': 2, '_Ponto3D__z': 3}\n",
      "p1.__z =  2\n",
      "p1.__dict__ =  {'x': 1, '_y': 2, '_Ponto3D__z': 3, '__z': 2}\n"
     ]
    }
   ],
   "source": [
    "#Isto não da erro, mas funciona como a gente espera? \n",
    "print(\"p1.__dict__ = \", p1.__dict__)\n",
    "p1.__z = 2\n",
    "print(\"p1.__z = \", p1.__z)\n",
    "print(\"p1.__dict__ = \", p1.__dict__)"
   ]
  },
  {
   "cell_type": "code",
   "execution_count": 8,
   "metadata": {},
   "outputs": [
    {
     "name": "stdout",
     "output_type": "stream",
     "text": [
      "p1.getZ() =  3\n",
      "p1.getZ() =  10\n",
      "p1.__dict__ =  {'x': 1, '_y': 2, '_Ponto3D__z': 10, '__z': 2}\n"
     ]
    }
   ],
   "source": [
    "\n",
    "# Veja quando usamos os métodos getY e setY\n",
    "print(\"p1.getZ() = \", p1.getZ())\n",
    "p1.setZ(10)\n",
    "print(\"p1.getZ() = \", p1.getZ())\n",
    "    \n",
    "print(\"p1.__dict__ = \", p1.__dict__)"
   ]
  },
  {
   "cell_type": "code",
   "execution_count": 9,
   "metadata": {},
   "outputs": [
    {
     "name": "stdout",
     "output_type": "stream",
     "text": [
      "p1._Ponto3D__z =  3\n",
      "p1._Ponto3D__z =  2\n",
      "p1.getZ() =  2\n"
     ]
    }
   ],
   "source": [
    "# Podemos acessar o atributo fortemente privado diretamente\n",
    "p1 = Ponto3D(1,2,3)\n",
    "print(\"p1._Ponto3D__z = \", p1._Ponto3D__z)\n",
    "p1._Ponto3D__z = 2\n",
    "print(\"p1._Ponto3D__z = \", p1._Ponto3D__z)\n",
    "print(\"p1.getZ() = \", p1.getZ())"
   ]
  },
  {
   "cell_type": "markdown",
   "metadata": {},
   "source": [
    "O exemplo a seguir foi implementado no módulo anterior."
   ]
  },
  {
   "cell_type": "code",
   "execution_count": 10,
   "metadata": {},
   "outputs": [],
   "source": [
    "class Carro:\n",
    "    def __init__(self, cor, marca, modelo, ano):\n",
    "        self.cor = cor\n",
    "        self.marca = marca\n",
    "        self.modelo = modelo\n",
    "        self.ano = ano\n",
    "    \n",
    "    def acelerar(self, velocidade):\n",
    "        print(\"Acelerando o carro a \", velocidade, \" km/h\")\n",
    "\n",
    "    def frear(self):\n",
    "        print(\"Freando o carro\")"
   ]
  },
  {
   "cell_type": "code",
   "execution_count": 33,
   "metadata": {},
   "outputs": [
    {
     "name": "stdout",
     "output_type": "stream",
     "text": [
      "civic.cor =  preto\n",
      "civic.marca =  Honda\n",
      "civic.modelo =  Civic\n",
      "civic.ano =  2019\n",
      "Acelerando o carro a  100  km/h\n",
      "Freando o carro\n"
     ]
    }
   ],
   "source": [
    "civic = Carro(\"preto\", \"Honda\", \"Civic\", 2019)\n",
    "print(\"civic.cor = \", civic.cor)\n",
    "print(\"civic.marca = \", civic.marca)\n",
    "print(\"civic.modelo = \", civic.modelo)\n",
    "print(\"civic.ano = \", civic.ano)\n",
    "\n",
    "civic.acelerar(100)\n",
    "civic.frear()"
   ]
  },
  {
   "cell_type": "markdown",
   "metadata": {},
   "source": [
    "Então, podemos concluir que o mecanismo de encapsulamento em __Python__ funciona mais como uma pática de progamação baseada nos princípios de __POO__ do que como propriamente uma restrição forte. \n",
    "\n",
    "Uma alternativa para contornar esta restrição é utilizar decoradores (``decorators``), que são um recurso simples mais muito poderoso da linguagem. \n",
    "\n",
    "Antes de passarmos para decoradores, devemos lembrar que funções em python são objetos!\n",
    "\n",
    "Isso significa que uma função pode ser:\n",
    "\n",
    "- repassado como argumento\n",
    "- usado em expressões\n",
    "- retornado como valores de outras funções\n",
    "\n",
    "Assim como números inteiros ou string!"
   ]
  },
  {
   "cell_type": "markdown",
   "metadata": {},
   "source": [
    "Os decoradores são um pouco como papel de presente. São funções que pegam outra função, adicionam alguma funcionalidade e retornam a nova função \"decorada\"."
   ]
  },
  {
   "cell_type": "code",
   "execution_count": 12,
   "metadata": {},
   "outputs": [
    {
     "name": "stdout",
     "output_type": "stream",
     "text": [
      "Oi Esbel\n"
     ]
    }
   ],
   "source": [
    "def falaOi(nome):\n",
    "    print(\"Oi\", nome)\n",
    "    \n",
    "falaOi(\"Esbel\")"
   ]
  },
  {
   "cell_type": "code",
   "execution_count": 15,
   "metadata": {},
   "outputs": [
    {
     "name": "stdout",
     "output_type": "stream",
     "text": [
      "Adiciono algo dntes da execução da função\n",
      "Oi Depois\n",
      "E/ou adiciono algo depois da execução da função\n",
      "------------\n",
      "Adiciono algo dntes da execução da função\n",
      "Oi Esbel\n",
      "E/ou adiciono algo depois da execução da função\n"
     ]
    }
   ],
   "source": [
    "# Decorador\n",
    "def funçãoDecoradora(funçãoEntrada):\n",
    "    def novaFunção(arg):  # arg é o argumento da função decorada\n",
    "        print(\"Adiciono algo dntes da execução da função\")\n",
    "        funçãoEntrada(arg)\n",
    "        print(\"E/ou adiciono algo depois da execução da função\")\n",
    "    return novaFunção\n",
    "\n",
    "@funçãoDecoradora\n",
    "def falaOi(nome):\n",
    "    print(\"Oi\", nome)\n",
    "\n",
    "#falaOi(\"Antes\")\n",
    "\n",
    "#falaOi = funçãoDecoradora(falaOi)\n",
    "\n",
    "falaOi(\"Depois\")\n",
    "\n",
    "print(\"------------\")\n",
    "\n",
    "falaOi(\"Esbel\")"
   ]
  },
  {
   "cell_type": "markdown",
   "metadata": {},
   "source": [
    "Agora vamos introduzir um tipo especial de _decorator_ utilizado para tratar métodos _seter_ e _geter_ de classes, visando facilitar a implementação do encapsulamento de atributos."
   ]
  },
  {
   "cell_type": "code",
   "execution_count": 21,
   "metadata": {},
   "outputs": [],
   "source": [
    "class Ponto3D:\n",
    "    def __init__(self, x = 0, y = 0, z = 0):\n",
    "        self.__x = x    # todos os atributos declarados como fortemente privados\n",
    "        self.__y = y    # mas poderiam ser fracamente privados ou mesmo públicos\n",
    "        self.__z = z    \n",
    "    \n",
    "    #decorador que faz uma função se comportar como um atributo (propriedade)\n",
    "    @property\n",
    "    def x(self):\n",
    "        return self.__x\n",
    "    \n",
    "    #decorador que faz uma função se comportar como um atributo (propriedade)\n",
    "    @x.setter\n",
    "    def x(self, x):\n",
    "        self.__x = x\n",
    "    \n",
    "    @property\n",
    "    def y(self):\n",
    "        return self.__y\n",
    "    \n",
    "    @y.setter\n",
    "    def y(self, y):\n",
    "        self.__y = y\n",
    "\n",
    "    @property\n",
    "    def z(self):\n",
    "        return self.__z    \n",
    "    \n",
    "    @z.setter\n",
    "    def z(self, z):\n",
    "        self.__z = z    "
   ]
  },
  {
   "cell_type": "markdown",
   "metadata": {},
   "source": [
    "Agora podemos usar os métodos como atributos. Veja como"
   ]
  },
  {
   "cell_type": "code",
   "execution_count": 22,
   "metadata": {},
   "outputs": [
    {
     "name": "stdout",
     "output_type": "stream",
     "text": [
      "p1.x =  1\n",
      "p1.x =  2\n",
      "p1.y =  10\n",
      "p1.z =  20\n",
      "p1.__dict__ =  {'_Ponto3D__x': 2, '_Ponto3D__y': 10, '_Ponto3D__z': 20}\n"
     ]
    }
   ],
   "source": [
    "p1 = Ponto3D(1,2,3)\n",
    "print(\"p1.x = \", p1.x)\n",
    "p1.x = 2\n",
    "print(\"p1.x = \", p1.x)\n",
    "p1.y = 10\n",
    "print(\"p1.y = \", p1.y)\n",
    "p1.z = 20\n",
    "print(\"p1.z = \", p1.z)\n",
    "print(\"p1.__dict__ = \", p1.__dict__)\n"
   ]
  },
  {
   "cell_type": "code",
   "execution_count": 38,
   "metadata": {},
   "outputs": [],
   "source": [
    "class Carro:\n",
    "    def __init__(self, cor, marca, modelo, ano):\n",
    "        self.__cor = cor\n",
    "        self.__marca = marca\n",
    "        self.__modelo = modelo\n",
    "        self.__ano = ano\n",
    "        self.__velocidade = 0\n",
    "    \n",
    "    @property\n",
    "    def cor(self):\n",
    "        return self.__cor\n",
    "    \n",
    "    @cor.setter\n",
    "    def cor(self, cor):\n",
    "        self.__cor = cor\n",
    "\n",
    "    @property\n",
    "    def marca(self):\n",
    "        return self.__marca\n",
    "    \n",
    "    @marca.setter\n",
    "    def marca(self, marca):\n",
    "        self.__marca = marca\n",
    "\n",
    "    @property\n",
    "    def modelo(self):\n",
    "        return self.__modelo\n",
    "    \n",
    "    @modelo.setter\n",
    "    def modelo(self, modelo):\n",
    "        self.__modelo = modelo\n",
    "\n",
    "    @property\n",
    "    def ano(self):\n",
    "        return self.__ano\n",
    "    \n",
    "    @ano.setter\n",
    "    def ano(self, ano):\n",
    "        self.__ano = ano\n",
    "\n",
    "    @property\n",
    "    def velocidade(self):\n",
    "        return self.__velocidade\n",
    "    \n",
    "    def acelerar(self, velocidade):\n",
    "        self.__velocidade = velocidade\n",
    "        print(\"Acelerando o carro a \", velocidade, \" km/h\")\n",
    "\n",
    "    def frear(self):\n",
    "        self.__velocidade = 0\n",
    "        print(\"Freando o carro\")"
   ]
  },
  {
   "cell_type": "code",
   "execution_count": 39,
   "metadata": {},
   "outputs": [
    {
     "name": "stdout",
     "output_type": "stream",
     "text": [
      "civic.cor =  preto\n",
      "civic.marca =  Honda\n",
      "civic.modelo =  Civic\n",
      "civic.ano =  2019\n",
      "Acelerando o carro a  100  km/h\n",
      "Freando o carro\n"
     ]
    }
   ],
   "source": [
    "civic = Carro(\"preto\", \"Honda\", \"Civic\", 2019)\n",
    "print(\"civic.cor = \", civic.cor)\n",
    "print(\"civic.marca = \", civic.marca)\n",
    "print(\"civic.modelo = \", civic.modelo)\n",
    "print(\"civic.ano = \", civic.ano)\n",
    "\n",
    "civic.acelerar(100)\n",
    "civic.frear()"
   ]
  },
  {
   "cell_type": "markdown",
   "metadata": {},
   "source": [
    "#### Herança\n",
    "\n",
    "Herança em __Python__ se implementa de forma relativamente simples. Vamos começar por herança simples"
   ]
  },
  {
   "cell_type": "code",
   "execution_count": 40,
   "metadata": {},
   "outputs": [],
   "source": [
    "class Ponto2D:\n",
    "    def __init__(self, x = 0, y = 0):\n",
    "        self.__x = x    # todos os atributos declarados como fortemente privados\n",
    "        self.__y = y    # mas poderiam ser fracamente privados ou mesmo públicos\n",
    "         \n",
    "    @property\n",
    "    def x(self):\n",
    "        return self.__x\n",
    "   \n",
    "    @x.setter\n",
    "    def x(self, x):\n",
    "        self.__x = x\n",
    "    \n",
    "    @property\n",
    "    def y(self):\n",
    "        return self.__y\n",
    "    \n",
    "    @y.setter\n",
    "    def y(self, y):\n",
    "        self.__y = y\n",
    "\n",
    "    def movePara(self, x = 0, y = 0):\n",
    "        ''' Move o ponto para as novas coordenadas (x, y) definidas nos \n",
    "            parâmetros de entrada. Caso não sejam definidos os valores \n",
    "            das novas coordenadas, o ponto sera deslocado para a origem.\n",
    "        '''\n",
    "        self.__x = x\n",
    "        self.__y = y\n",
    "        \n",
    "    def naOrigem(self):\n",
    "        '''Move o ponto para a origem do sistema de coordenadas cartesianas.'''\n",
    "        self.movePara()\n",
    "        #self.__x = 0\n",
    "        #self.__y = 0\n",
    "        \n",
    "    def distânciaAté(self, outroPonto):\n",
    "        ''' Calcula a distância deste ponto até um outro ponto'''\n",
    "        dist = ( (self.__x - outroPonto.__x)**2 + \n",
    "                    (self.__y - outroPonto.__y)**2 )**0.5\n",
    "        return dist\n",
    "    \n",
    "    def distOrigem(x, y): #Método da classe\n",
    "        '''\n",
    "            Calcula a distância do ponto (x,y) à origem\n",
    "        '''\n",
    "        return (x**2 + y**2)**0.5"
   ]
  },
  {
   "cell_type": "markdown",
   "metadata": {},
   "source": [
    "Podemos criara classe Ponto3D como uma classe que estende Ponto2D"
   ]
  },
  {
   "cell_type": "code",
   "execution_count": 41,
   "metadata": {},
   "outputs": [],
   "source": [
    "class Ponto3D(Ponto2D):\n",
    "    def __init__(self, x = 0, y = 0, z = 0):\n",
    "        #super().__init__(x, y)\n",
    "        #ou\n",
    "        Ponto2D.__init__(self, x, y)\n",
    "        self.__z = z    \n",
    "    \n",
    "    @property\n",
    "    def z(self):\n",
    "        return self.__z    \n",
    "    \n",
    "    @z.setter\n",
    "    def z(self, z):\n",
    "        self.__z = z\n",
    "\n",
    "    def movePara(self, x = 0, y = 0, z = 0):\n",
    "        ''' Move o ponto para as novas coordenadas (x, y, y) definidas nos \n",
    "            parâmetros de entrada. Caso não sejam definidos os valores \n",
    "            das novas coordenadas, o ponto sera deslocado para a origem.\n",
    "        '''\n",
    "        #super().movePara(x, y)\n",
    "        #ou\n",
    "        Ponto2D.movePara(self, x, y)\n",
    "        self.__z = z\n",
    "                \n",
    "    def distânciaAté(self, outroPonto):\n",
    "        ''' Calcula a distância deste ponto até um outro ponto'''\n",
    "        dist = ( (self.x - outroPonto.x)**2 + \n",
    "                 (self.y - outroPonto.y)**2 + \n",
    "                 (self.z - outroPonto.z)**2 )**0.5\n",
    "        return dist\n",
    "    \n",
    "    def distOrigem(x, y, z): #Método da classe\n",
    "        '''\n",
    "            Calcula a distância do ponto (x,y) à origem\n",
    "        '''\n",
    "        return (x**2 + y**2 + z**2)**0.5"
   ]
  },
  {
   "cell_type": "markdown",
   "metadata": {},
   "source": [
    "Com a nova classe podemos criar instâncias e acessar os métodos implementados nela e aqueles que herda da super-classe "
   ]
  },
  {
   "cell_type": "code",
   "execution_count": 42,
   "metadata": {},
   "outputs": [
    {
     "name": "stdout",
     "output_type": "stream",
     "text": [
      "P1.x =  1\n",
      "P1.y =  2\n",
      "P1.z =  3\n",
      "P1.__dict__ =  {'_Ponto2D__x': 1, '_Ponto2D__y': 2, '_Ponto3D__z': 3}\n",
      "P1.x =  10\n",
      "P1.y =  20\n",
      "P1.z =  30\n",
      "P1.__dict__ =  {'_Ponto2D__x': 10, '_Ponto2D__y': 20, '_Ponto3D__z': 30}\n",
      "P1.x =  0\n",
      "P1.y =  0\n",
      "P1.z =  0\n",
      "P1.__dict__ =  {'_Ponto2D__x': 0, '_Ponto2D__y': 0, '_Ponto3D__z': 0}\n",
      "3.4641016151377544\n",
      "p2.x =  1\n",
      "p2.y =  2\n",
      "p2.__dict__ =  {'_Ponto2D__x': 1, '_Ponto2D__y': 2}\n"
     ]
    }
   ],
   "source": [
    "P1 = Ponto3D(1,2,3)\n",
    "print(\"P1.x = \", P1.x)\n",
    "print(\"P1.y = \", P1.y)\n",
    "print(\"P1.z = \", P1.z)\n",
    "print(\"P1.__dict__ = \", P1.__dict__)\n",
    "P1.movePara(10,20,30)\n",
    "print(\"P1.x = \", P1.x)\n",
    "print(\"P1.y = \", P1.y)\n",
    "print(\"P1.z = \", P1.z)\n",
    "print(\"P1.__dict__ = \", P1.__dict__)\n",
    "P1.naOrigem()\n",
    "print(\"P1.x = \", P1.x)\n",
    "print(\"P1.y = \", P1.y)\n",
    "print(\"P1.z = \", P1.z)\n",
    "print(\"P1.__dict__ = \", P1.__dict__)\n",
    "p1_ = Ponto3D(2,2,2)\n",
    "print(P1.distânciaAté(p1_))\n",
    "p2 = Ponto2D(1,2)\n",
    "print(\"p2.x = \", p2.x)\n",
    "print(\"p2.y = \", p2.y)\n",
    "print(\"p2.__dict__ = \", p2.__dict__)"
   ]
  },
  {
   "cell_type": "code",
   "execution_count": 43,
   "metadata": {},
   "outputs": [],
   "source": [
    "class Ponto2D:\n",
    "    def __init__(self, x = 0, y = 0):\n",
    "        self._x = x    # todos os atributos declarados como fortemente privados\n",
    "        self._y = y    # mas poderiam ser fracamente privados ou mesmo públicos\n",
    "         \n",
    "    @property\n",
    "    def x(self):\n",
    "        return self._x\n",
    "   \n",
    "    @x.setter\n",
    "    def x(self, x):\n",
    "        self._x = x\n",
    "    \n",
    "    @property\n",
    "    def y(self):\n",
    "        return self._y\n",
    "    \n",
    "    @y.setter\n",
    "    def y(self, y):\n",
    "        self._y = y\n",
    "\n",
    "    def movePara(self, x = 0, y = 0):\n",
    "        ''' Move o ponto para as novas coordenadas (x, y) definidas nos \n",
    "            parâmetros de entrada. Caso não sejam definidos os valores \n",
    "            das novas coordenadas, o ponto sera deslocado para a origem.\n",
    "        '''\n",
    "        self._x = x\n",
    "        self._y = y\n",
    "        \n",
    "    def naOrigem(self):\n",
    "        '''Move o ponto para a origem do sistema de coordenadas cartesianas.'''\n",
    "        self.movePara()\n",
    "        \n",
    "    def distânciaAté(self, outroPonto):\n",
    "        ''' Calcula a distância deste ponto até um outro ponto'''\n",
    "        dist = ( (self._x - outroPonto._x)**2 + \n",
    "                    (self._y - outroPonto._y)**2 )**0.5\n",
    "        return dist\n",
    "    \n",
    "    def distOrigem(x, y): #Método da classe\n",
    "        '''\n",
    "            Calcula a distância do ponto (x,y) à origem\n",
    "        '''\n",
    "        return (x**2 + y**2)**0.5"
   ]
  },
  {
   "cell_type": "code",
   "execution_count": 44,
   "metadata": {},
   "outputs": [],
   "source": [
    "class Ponto3D(Ponto2D):\n",
    "    def __init__(self, x = 0, y = 0, z = 0):\n",
    "        #super().__init__(x, y)\n",
    "        #ou\n",
    "        Ponto2D.__init__(self, x, y)\n",
    "        self.__z = z    \n",
    "    \n",
    "    @property\n",
    "    def z(self):\n",
    "        return self.__z    \n",
    "    \n",
    "    @z.setter\n",
    "    def z(self, z):\n",
    "        self.__z = z\n",
    "\n",
    "    def movePara(self, x = 0, y = 0, z = 0):\n",
    "        ''' Move o ponto para as novas coordenadas (x, y, y) definidas nos \n",
    "            parâmetros de entrada. Caso não sejam definidos os valores \n",
    "            das novas coordenadas, o ponto sera deslocado para a origem.\n",
    "        '''\n",
    "        #super().movePara(x, y)\n",
    "        #ou\n",
    "        Ponto2D.movePara(self, x, y)\n",
    "        self.__z = z\n",
    "                \n",
    "    def distânciaAté(self, outroPonto):\n",
    "        ''' Calcula a distância deste ponto até um outro ponto'''\n",
    "        dist = ( (self.x - outroPonto.x)**2 + \n",
    "                 (self.y - outroPonto.y)**2 + \n",
    "                 (self.z - outroPonto.z)**2 )**0.5\n",
    "        return dist\n",
    "    \n",
    "    def distOrigem(x, y, z): #Método da classe\n",
    "        '''\n",
    "            Calcula a distância do ponto (x,y) à origem\n",
    "        '''\n",
    "        return (x**2 + y**2 + z**2)**0.5"
   ]
  },
  {
   "cell_type": "code",
   "execution_count": 45,
   "metadata": {},
   "outputs": [
    {
     "name": "stdout",
     "output_type": "stream",
     "text": [
      "P1.x =  1\n",
      "P1.y =  2\n",
      "P1.z =  3\n",
      "P1.__dict__ =  {'_x': 1, '_y': 2, '_Ponto3D__z': 3}\n",
      "P1.x =  10\n",
      "P1.y =  20\n",
      "P1.z =  30\n",
      "P1.__dict__ =  {'_x': 10, '_y': 20, '_Ponto3D__z': 30}\n",
      "P1.x =  0\n",
      "P1.y =  0\n",
      "P1.z =  0\n",
      "P1.__dict__ =  {'_x': 0, '_y': 0, '_Ponto3D__z': 0}\n",
      "3.4641016151377544\n",
      "p2.x =  1\n",
      "p2.y =  2\n",
      "p2.__dict__ =  {'_x': 1, '_y': 2}\n"
     ]
    }
   ],
   "source": [
    "P1 = Ponto3D(1,2,3)\n",
    "print(\"P1.x = \", P1.x)\n",
    "print(\"P1.y = \", P1.y)\n",
    "print(\"P1.z = \", P1.z)\n",
    "print(\"P1.__dict__ = \", P1.__dict__)\n",
    "P1.movePara(10,20,30)\n",
    "print(\"P1.x = \", P1.x)\n",
    "print(\"P1.y = \", P1.y)\n",
    "print(\"P1.z = \", P1.z)\n",
    "print(\"P1.__dict__ = \", P1.__dict__)\n",
    "P1.naOrigem()\n",
    "print(\"P1.x = \", P1.x)\n",
    "print(\"P1.y = \", P1.y)\n",
    "print(\"P1.z = \", P1.z)\n",
    "print(\"P1.__dict__ = \", P1.__dict__)\n",
    "p1_ = Ponto3D(2,2,2)\n",
    "print(P1.distânciaAté(p1_))\n",
    "p2 = Ponto2D(1,2)\n",
    "print(\"p2.x = \", p2.x)\n",
    "print(\"p2.y = \", p2.y)\n",
    "print(\"p2.__dict__ = \", p2.__dict__)"
   ]
  },
  {
   "cell_type": "markdown",
   "metadata": {},
   "source": [
    "__Python__ fornece alguns recursos para pesquisar a relação entre objetos e classes. \n",
    "issubclass()\n",
    "isinstance()\n",
    "\n"
   ]
  },
  {
   "cell_type": "code",
   "execution_count": 46,
   "metadata": {},
   "outputs": [
    {
     "name": "stdout",
     "output_type": "stream",
     "text": [
      "False\n",
      "True\n"
     ]
    }
   ],
   "source": [
    "print(issubclass(Ponto2D, Ponto3D))\n",
    "print(issubclass(Ponto3D, Ponto2D))"
   ]
  },
  {
   "cell_type": "code",
   "execution_count": 47,
   "metadata": {},
   "outputs": [
    {
     "name": "stdout",
     "output_type": "stream",
     "text": [
      "True\n",
      "False\n",
      "True\n",
      "True\n"
     ]
    }
   ],
   "source": [
    "print(isinstance(p2, Ponto2D))\n",
    "print(isinstance(p2, Ponto3D))\n",
    "print(isinstance(P1, Ponto2D))\n",
    "print(isinstance(P1, Ponto3D))"
   ]
  },
  {
   "cell_type": "markdown",
   "metadata": {},
   "source": [
    "Outro recurso importante implementado em __Python__ é a herança múltipla. "
   ]
  },
  {
   "cell_type": "code",
   "execution_count": 48,
   "metadata": {},
   "outputs": [],
   "source": [
    "class superClasseA:\n",
    "\n",
    "    def __init__(self, varA):\n",
    "        self.__varA = varA\n",
    "        self._estado = \"A\"\n",
    "\n",
    "    def falaOi(self):\n",
    "        print(\"Oi de A!: \" + self._estado)\n",
    "\n",
    "class subClasseB(superClasseA):\n",
    "    def __init__(self, varA, varB):\n",
    "        #super().__init__(varA)\n",
    "        # ou\n",
    "        superClasseA.__init__(self, varA)\n",
    "        self.__varB = varB  \n",
    "        self._estado = \"B\"\n",
    "        \n",
    "    #def falaOi(self):\n",
    "        #print(\"Oi de B!: \" + self._estado)\n",
    "\n",
    "class subClasseC(superClasseA):\n",
    "\n",
    "    def __init__(self, varA, varC):\n",
    "        #super().__init__(varA)\n",
    "        # ou\n",
    "        superClasseA.__init__(self, varA)\n",
    "        self.__varC = varC  \n",
    "        self._estado = \"C\"\n",
    "        \n",
    "    #def falaOi(self):\n",
    "        #print(\"Oi de C!: \" + self._estado)\n",
    "\n",
    "class subClasseD(subClasseC, subClasseB):\n",
    "\n",
    "    def __init__(self, varA, varB, varC, varD):\n",
    "        #super().__init__(varA, varB)\n",
    "        subClasseB.__init__(self, varA, varB)\n",
    "        subClasseC.__init__(self, varA, varC)\n",
    "        #subClasseB.__init__(self, varA, varB)\n",
    "        self.__varD = varD  \n",
    "        self._estado = \"D\"\n",
    "\n",
    "    #def falaOi(self):\n",
    "        #print(\"Oi de D!: \" + self._estado)"
   ]
  },
  {
   "cell_type": "markdown",
   "metadata": {},
   "source": [
    "Veja como funciona a herança neste exemplo que ilustra o __MRO__ (_Method Resolution Order_)"
   ]
  },
  {
   "cell_type": "code",
   "execution_count": 49,
   "metadata": {},
   "outputs": [
    {
     "name": "stdout",
     "output_type": "stream",
     "text": [
      "Oi de A!: A\n",
      "_superClasseA__varA : A\n",
      "_estado : A\n"
     ]
    }
   ],
   "source": [
    "objA = superClasseA(\"A\")\n",
    "objA.falaOi()\n",
    "for item in objA.__dict__:\n",
    "    print(item, \":\", objA.__dict__[item])"
   ]
  },
  {
   "cell_type": "code",
   "execution_count": 50,
   "metadata": {},
   "outputs": [
    {
     "name": "stdout",
     "output_type": "stream",
     "text": [
      "Oi de A!: B\n",
      "_superClasseA__varA : A\n",
      "_estado : B\n",
      "_subClasseB__varB : B\n"
     ]
    }
   ],
   "source": [
    "objB = subClasseB(\"A\", \"B\")\n",
    "objB.falaOi()\n",
    "for item in objB.__dict__:\n",
    "    print(item, \":\", objB.__dict__[item])"
   ]
  },
  {
   "cell_type": "code",
   "execution_count": 51,
   "metadata": {},
   "outputs": [
    {
     "name": "stdout",
     "output_type": "stream",
     "text": [
      "Oi de A!: C\n",
      "_superClasseA__varA : A\n",
      "_estado : C\n",
      "_subClasseC__varC : C\n"
     ]
    }
   ],
   "source": [
    "objC = subClasseC(\"A\", \"C\")\n",
    "objC.falaOi()\n",
    "for item in objC.__dict__:\n",
    "    print(item, \":\", objC.__dict__[item])"
   ]
  },
  {
   "cell_type": "code",
   "execution_count": 52,
   "metadata": {},
   "outputs": [
    {
     "name": "stdout",
     "output_type": "stream",
     "text": [
      "Oi de A!: D\n",
      "_superClasseA__varA  =  A\n",
      "_estado  =  D\n",
      "_subClasseB__varB  =  B\n",
      "_subClasseC__varC  =  C\n",
      "_subClasseD__varD  =  D\n"
     ]
    }
   ],
   "source": [
    "objD = subClasseD(\"A\", \"B\", \"C\", \"D\")\n",
    "objD.falaOi()\n",
    "for item in objD.__dict__:\n",
    "    print(item, \" = \", objD.__dict__[item])"
   ]
  },
  {
   "cell_type": "markdown",
   "metadata": {},
   "source": [
    "# Polimorfismo\n",
    "\n",
    "Um dos exemplos que vimos no módulo anterior para ilustrar o __polimorfismo__ foi o da classe objeto geométrico. Vejamos como fica este exemplo implementado em __Python__"
   ]
  },
  {
   "cell_type": "code",
   "execution_count": 53,
   "metadata": {},
   "outputs": [],
   "source": [
    "class ObjetoGeométricos:\n",
    "    def __init__(self):\n",
    "        self.__nome = \"Objeto Geométrico\"\n",
    "\n",
    "    def calculaArea(self):\n",
    "        pass\n",
    "\n",
    "    def calculaPerímetro(self):\n",
    "        pass\n",
    "\n",
    "    def __str__(self):\n",
    "        return self.__nome"
   ]
  },
  {
   "cell_type": "code",
   "execution_count": 54,
   "metadata": {},
   "outputs": [],
   "source": [
    "class Triângulo(ObjetoGeométricos):\n",
    "    def __init__(self, base, altura):\n",
    "        super().__init__()\n",
    "        self.__base = base\n",
    "        self.__altura = altura\n",
    "        self.__nome = \"Triângulo\"\n",
    "\n",
    "    def calculaArea(self):\n",
    "        return self.__base * self.__altura / 2\n",
    "\n",
    "    def calculaPerímetro(self):\n",
    "        return 3 * self.__base\n",
    "    \n",
    "    def __str__(self):\n",
    "        return self.__nome + \" Area: \" + str(self.calculaArea()) + \" Perímetro: \" + str(self.calculaPerímetro())"
   ]
  },
  {
   "cell_type": "code",
   "execution_count": 55,
   "metadata": {},
   "outputs": [],
   "source": [
    "class Retângulo(ObjetoGeométricos):\n",
    "    def __init__(self, base, altura):\n",
    "        super().__init__()\n",
    "        self.__base = base\n",
    "        self.__altura = altura\n",
    "        self.__nome = \"Retângulo\"\n",
    "\n",
    "    def calculaArea(self):\n",
    "        return self.__base * self.__altura\n",
    "\n",
    "    def calculaPerímetro(self):\n",
    "        return 2 * self.__base + 2 * self.__altura\n",
    "    \n",
    "    def __str__(self):\n",
    "        return self.__nome + \" Area: \" + str(self.calculaArea()) + \" Perímetro: \" + str(self.calculaPerímetro())"
   ]
  },
  {
   "cell_type": "markdown",
   "metadata": {},
   "source": [
    "O polimorfismo de classes se da em casos como o ilustrado a seguir"
   ]
  },
  {
   "cell_type": "code",
   "execution_count": 56,
   "metadata": {},
   "outputs": [
    {
     "name": "stdout",
     "output_type": "stream",
     "text": [
      "Triângulo Area: 25.0 Perímetro: 30\n",
      "Retângulo Area: 50 Perímetro: 30\n",
      "Triângulo Area: 6.0 Perímetro: 6\n",
      "Retângulo Area: 12 Perímetro: 16\n",
      "Area total:  93.0\n"
     ]
    }
   ],
   "source": [
    "objG1 = Triângulo(10, 5)\n",
    "objG2 = Retângulo(10, 5)\n",
    "objG3 = Triângulo(2, 6)\n",
    "objG4 = Retângulo(2, 6)\n",
    "listaObjetos = [objG1, objG2, objG3, objG4]\n",
    "def areaTotal(listaObjetos):\n",
    "    area = 0\n",
    "    for obj in listaObjetos:\n",
    "        area += obj.calculaArea()\n",
    "    return area\n",
    "for obj in listaObjetos:\n",
    "    print(obj)\n",
    "    \n",
    "print(\"Area total: \", areaTotal(listaObjetos))"
   ]
  },
  {
   "cell_type": "markdown",
   "metadata": {},
   "source": [
    "Mas o que acontece se definimos a seguinte classe?"
   ]
  },
  {
   "cell_type": "code",
   "execution_count": 57,
   "metadata": {},
   "outputs": [],
   "source": [
    "class Circunferência:\n",
    "    def __init__(self, raio):\n",
    "        self.__raio = raio\n",
    "        self.__nome = \"Circunferência\"\n",
    "\n",
    "    def calculaArea(self):\n",
    "        return 3.14 * self.__raio**2\n",
    "\n",
    "    def calculaPerímetro(self):\n",
    "        return 2 * 3.14 * self.__raio\n",
    "    \n",
    "    def __str__(self):\n",
    "        return self.__nome + \" Area: \" + str(self.calculaArea()) + \" Perímetro: \" + str(self.calculaPerímetro())"
   ]
  },
  {
   "cell_type": "code",
   "execution_count": 58,
   "metadata": {},
   "outputs": [
    {
     "name": "stdout",
     "output_type": "stream",
     "text": [
      "Triângulo Area: 25.0 Perímetro: 30\n",
      "Retângulo Area: 50 Perímetro: 30\n",
      "Triângulo Area: 6.0 Perímetro: 6\n",
      "Retângulo Area: 12 Perímetro: 16\n",
      "Circunferência Area: 314.0 Perímetro: 62.800000000000004\n",
      "Circunferência Area: 12.56 Perímetro: 12.56\n",
      "Area total:  419.56\n"
     ]
    }
   ],
   "source": [
    "objG5 = Circunferência(10)\n",
    "objG6 = Circunferência(2)\n",
    "listaObjetos.append(objG5)\n",
    "listaObjetos.append(objG6)\n",
    "for obj in listaObjetos:\n",
    "    print(obj)\n",
    "print(\"Area total: \", areaTotal(listaObjetos))"
   ]
  },
  {
   "cell_type": "markdown",
   "metadata": {},
   "source": [
    "Podemos concluir que o polimorfismo de classes não é necessário em __Python__. Ou seja, não é necessário um relação hierárquica entre as classes para podermos utilizar um objeto de uma classe no lugar de outro. Basta que elas implementem os mesmos métodos, mesmo que com funcionalidades diferentes. Já constatamos isto com objetos de outras classes até aqui. \n",
    "\n",
    "Entretanto o mecanismo de classes abstratas continua sendo de grande utilidade, já que, com ele, conseguimos forçar as classes filhas a implementar os métodos desejados. "
   ]
  },
  {
   "cell_type": "code",
   "execution_count": 59,
   "metadata": {},
   "outputs": [],
   "source": [
    "from abc import ABC, abstractmethod\n",
    "\n",
    "class ClasseAbstrata(ABC):\n",
    "\n",
    "    @abstractmethod\n",
    "    def __init__(self, atributo):\n",
    "        self._atributo = atributo\n",
    "\n",
    "    @abstractmethod\n",
    "    def metodoAbstrato(self):\n",
    "        pass\n",
    "\n",
    "class ClasseConcreta(ClasseAbstrata):\n",
    "    \n",
    "        def __init__(self, atributo, atributo2):\n",
    "            super().__init__(atributo)\n",
    "            self._atributo2 = atributo2\n",
    "    \n",
    "        def metodoAbstrato(self):\n",
    "            print(\"Implementação do método abstrato\")\n",
    "    \n",
    "        def metodoConcreto(self):\n",
    "            print(\"Implementação do método concreto\")"
   ]
  },
  {
   "cell_type": "markdown",
   "metadata": {},
   "source": [
    "Vejamos como isto funciona na classe ``ObjetoGeométrico``"
   ]
  },
  {
   "cell_type": "code",
   "execution_count": 60,
   "metadata": {},
   "outputs": [
    {
     "name": "stdout",
     "output_type": "stream",
     "text": [
      "Triângulo Area: 25.0 Perímetro: 30\n"
     ]
    }
   ],
   "source": [
    "objG1 = ObjetoGeométricos()\n",
    "objG1 = Triângulo(10, 5)\n",
    "print(objG1)"
   ]
  },
  {
   "cell_type": "code",
   "execution_count": 61,
   "metadata": {},
   "outputs": [],
   "source": [
    "class ObjetoGeométricos(ABC):\n",
    "    \n",
    "    @abstractmethod\n",
    "    def __init__(self):\n",
    "        self.__nome = \"Objeto Geométrico\"\n",
    "\n",
    "    @abstractmethod\n",
    "    def calculaArea(self):\n",
    "        pass\n",
    "\n",
    "    @abstractmethod    \n",
    "    def calculaPerímetro(self):\n",
    "        pass\n",
    "\n",
    "    @abstractmethod    \n",
    "    def __str__(self):\n",
    "        return self.__nome"
   ]
  },
  {
   "cell_type": "code",
   "execution_count": 62,
   "metadata": {},
   "outputs": [],
   "source": [
    "class Triângulo(ObjetoGeométricos):\n",
    "    def __init__(self, base, altura):\n",
    "        super().__init__()\n",
    "        self.__base = base\n",
    "        self.__altura = altura\n",
    "        self.__nome = \"Triângulo\"\n",
    "\n",
    "    def calculaArea(self):\n",
    "        return self.__base * self.__altura / 2\n",
    "\n",
    "    def calculaPerímetro(self):\n",
    "        return 3 * self.__base\n",
    "    \n",
    "    def __str__(self):\n",
    "        return self.__nome + \" Area: \" + str(self.calculaArea()) + \" Perímetro: \" + str(self.calculaPerímetro())"
   ]
  },
  {
   "cell_type": "code",
   "execution_count": 63,
   "metadata": {},
   "outputs": [
    {
     "name": "stdout",
     "output_type": "stream",
     "text": [
      "Triângulo Area: 25.0 Perímetro: 30\n"
     ]
    }
   ],
   "source": [
    "#objG1 = ObjetoGeométricos()\n",
    "objG1 = Triângulo(10, 5)\n",
    "print(objG1)"
   ]
  },
  {
   "cell_type": "markdown",
   "metadata": {},
   "source": [
    "### Métodos especiais\n",
    "\n",
    "Métodos com função específica. "
   ]
  },
  {
   "cell_type": "code",
   "execution_count": 64,
   "metadata": {},
   "outputs": [
    {
     "data": {
      "text/plain": [
       "['_Ponto3D__z',\n",
       " '__class__',\n",
       " '__delattr__',\n",
       " '__dict__',\n",
       " '__dir__',\n",
       " '__doc__',\n",
       " '__eq__',\n",
       " '__format__',\n",
       " '__ge__',\n",
       " '__getattribute__',\n",
       " '__gt__',\n",
       " '__hash__',\n",
       " '__init__',\n",
       " '__init_subclass__',\n",
       " '__le__',\n",
       " '__lt__',\n",
       " '__module__',\n",
       " '__ne__',\n",
       " '__new__',\n",
       " '__reduce__',\n",
       " '__reduce_ex__',\n",
       " '__repr__',\n",
       " '__setattr__',\n",
       " '__sizeof__',\n",
       " '__str__',\n",
       " '__subclasshook__',\n",
       " '__weakref__',\n",
       " '_x',\n",
       " '_y',\n",
       " 'distOrigem',\n",
       " 'distânciaAté',\n",
       " 'movePara',\n",
       " 'naOrigem',\n",
       " 'x',\n",
       " 'y',\n",
       " 'z']"
      ]
     },
     "execution_count": 64,
     "metadata": {},
     "output_type": "execute_result"
    }
   ],
   "source": [
    "type(P1)\n",
    "dir(P1)"
   ]
  },
  {
   "cell_type": "code",
   "execution_count": 65,
   "metadata": {},
   "outputs": [],
   "source": [
    "#Dunder methods: Métodos especiais\n",
    "class classeEncap:\n",
    "\n",
    "    def __init__(self, atributoPublico, atributoProtegido, atributoPrivado):\n",
    "        self.atributoPublico = atributoPublico\n",
    "        self._atributoProtegido = atributoProtegido # convenção\n",
    "        self.__atributoPrivado = atributoPrivado    # definido como privado\n",
    "        \n",
    "\n",
    "    def __metodoPrivado(self):\n",
    "        print(\"Método privado\")\n",
    "\n",
    "    def metodoPublico(self):\n",
    "        print(\"Método público\")\n",
    "\n",
    "    @property\n",
    "    def atributoPrivado(self):\n",
    "        return self.__atributoPrivado\n",
    "\n",
    "    @atributoPrivado.setter\n",
    "    def atributoPrivado(self, valor):\n",
    "        self.__atributoPrivado = valor\n",
    "\n",
    "    @atributoPrivado.deleter\n",
    "    def atributoPrivado(self):\n",
    "        del self.__atributoPrivado\n",
    "\n",
    "    @property\n",
    "    def atributoProtegido(self):\n",
    "        return self._atributoProtegido\n",
    "    \n",
    "    @atributoProtegido.setter\n",
    "    def setAtributoProtegido(self, valor):\n",
    "        self._atributoProtegido = valor\n",
    "\n",
    "    @atributoProtegido.deleter\n",
    "    def atributoProtegido(self):\n",
    "        del self._atributoProtegido\n",
    "    \n",
    "    def __str__(self):\n",
    "        return \"Atributo público: \" + str(self.atributoPublico) + \\\n",
    "            \"\\nAtributo protegido: \" + str(self._atributoProtegido) + \\\n",
    "            \"\\nAtributo privado: \" + str(self.__atributoPrivado)\n",
    "    \n",
    "    def __repr__(self) :\n",
    "        return f\"classeEncap({self.atributoPublico}, {self._atributoProtegido}, {self.__atributoPrivado})\"\n",
    "    \n",
    "\n",
    "    def __eq__(self, outro):\n",
    "        return self.atributoPublico == outro.atributoPublico and \\\n",
    "            self._atributoProtegido == outro._atributoProtegido and \\\n",
    "            self.__atributoPrivado == outro.__atributoPrivado\n",
    "    \n",
    "    \n",
    "    def __add__(self, outro):\n",
    "        return classeEncap(self.atributoPublico + outro.atributoPublico, \n",
    "                           self._atributoProtegido + outro._atributoProtegido, \n",
    "                           self.__atributoPrivado + outro.__atributoPrivado)\n",
    "   "
   ]
  },
  {
   "cell_type": "code",
   "execution_count": 66,
   "metadata": {},
   "outputs": [
    {
     "name": "stdout",
     "output_type": "stream",
     "text": [
      "Atributo público: 1\n",
      "Atributo protegido: 2\n",
      "Atributo privado: 3\n",
      "Atributo público: 1\n",
      "Atributo protegido: 2\n",
      "Atributo privado: 3\n",
      "False\n",
      "True\n",
      "Atributo público: 2\n",
      "Atributo protegido: 4\n",
      "Atributo privado: 6\n"
     ]
    }
   ],
   "source": [
    "obj = classeEncap(1,2,3)\n",
    "print(obj)\n",
    "\n",
    "\n",
    "obj2 = eval(repr(obj))\n",
    "print(obj2)\n",
    "\n",
    "print(obj is obj2)\n",
    "print(obj == obj2)\n",
    "\n",
    "obj3 = obj + obj2\n",
    "print(obj3)\n"
   ]
  },
  {
   "cell_type": "markdown",
   "metadata": {},
   "source": [
    "#### Criando as próprias Exceptions \n",
    "\n",
    "Podemos utilizar agora o que temos aprendido até aqui de tratamento de erros de tempo de execução com Exceptions e de __POO__ para criar nossas próprias mensagens de erro.\n",
    "\n",
    "O primeiro passo é extender uma das classes da estrutura hierárquica. Um bom ponto de partida é extender a classe ``Exception``"
   ]
  },
  {
   "cell_type": "code",
   "execution_count": 67,
   "metadata": {},
   "outputs": [
    {
     "ename": "MinhaException",
     "evalue": "Aconteceu algo de errado!!!",
     "output_type": "error",
     "traceback": [
      "\u001b[0;31m---------------------------------------------------------------------------\u001b[0m",
      "\u001b[0;31mMinhaException\u001b[0m                            Traceback (most recent call last)",
      "Cell \u001b[0;32mIn[67], line 4\u001b[0m\n\u001b[1;32m      1\u001b[0m \u001b[38;5;28;01mclass\u001b[39;00m \u001b[38;5;21;01mMinhaException\u001b[39;00m(\u001b[38;5;167;01mException\u001b[39;00m):\n\u001b[1;32m      2\u001b[0m     \u001b[38;5;28;01mpass\u001b[39;00m\n\u001b[0;32m----> 4\u001b[0m \u001b[38;5;28;01mraise\u001b[39;00m MinhaException(\u001b[38;5;124m\"\u001b[39m\u001b[38;5;124mAconteceu algo de errado!!!\u001b[39m\u001b[38;5;124m\"\u001b[39m)\n",
      "\u001b[0;31mMinhaException\u001b[0m: Aconteceu algo de errado!!!"
     ]
    }
   ],
   "source": [
    "class MinhaException(Exception):\n",
    "    pass\n",
    "\n",
    "raise MinhaException(\"Aconteceu algo de errado!!!\")"
   ]
  },
  {
   "cell_type": "markdown",
   "metadata": {},
   "source": [
    "Podemos adicionar alguma funcionalidade a esta implementação básica"
   ]
  },
  {
   "cell_type": "code",
   "execution_count": 68,
   "metadata": {},
   "outputs": [],
   "source": [
    "class MinhaException(Exception):\n",
    "    def __init__(self, menssagem, cod_erro = 1234):\n",
    "        super().__init__(menssagem)\n",
    "        self.__cod_erro = cod_erro"
   ]
  },
  {
   "cell_type": "code",
   "execution_count": 69,
   "metadata": {},
   "outputs": [
    {
     "ename": "MinhaException",
     "evalue": "Aconteceu algo de errado!!!",
     "output_type": "error",
     "traceback": [
      "\u001b[0;31m---------------------------------------------------------------------------\u001b[0m",
      "\u001b[0;31mMinhaException\u001b[0m                            Traceback (most recent call last)",
      "Cell \u001b[0;32mIn[69], line 1\u001b[0m\n\u001b[0;32m----> 1\u001b[0m \u001b[38;5;28;01mraise\u001b[39;00m MinhaException(\u001b[38;5;124m\"\u001b[39m\u001b[38;5;124mAconteceu algo de errado!!!\u001b[39m\u001b[38;5;124m\"\u001b[39m)\n",
      "\u001b[0;31mMinhaException\u001b[0m: Aconteceu algo de errado!!!"
     ]
    }
   ],
   "source": [
    "raise MinhaException(\"Aconteceu algo de errado!!!\")"
   ]
  }
 ],
 "metadata": {
  "kernelspec": {
   "display_name": "Python 3 (ipykernel)",
   "language": "python",
   "name": "python3"
  },
  "language_info": {
   "codemirror_mode": {
    "name": "ipython",
    "version": 3
   },
   "file_extension": ".py",
   "mimetype": "text/x-python",
   "name": "python",
   "nbconvert_exporter": "python",
   "pygments_lexer": "ipython3",
   "version": "3.10.14"
  }
 },
 "nbformat": 4,
 "nbformat_minor": 2
}
