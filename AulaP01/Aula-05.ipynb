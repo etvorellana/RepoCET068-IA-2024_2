{
 "cells": [
  {
   "cell_type": "markdown",
   "metadata": {},
   "source": [
    "# Módulo de Programação Python: Introdução à Linguagem\n",
    "\n",
    "# Aula - 05"
   ]
  },
  {
   "cell_type": "markdown",
   "metadata": {},
   "source": [
    "__Objetivo__:  Introduzir o conceito de pacotes e módulos em Python e de estruturação do código com ajuda dos mesmos. Apresentar as formas de carregar um módulo e entender o caminho de busca. Discutir  as implicações de cada uma das estratégias para importar um módulo nos escopos dos espaços de nomes (namespace) de cada módulo, em relação ao namespace do programa; "
   ]
  },
  {
   "cell_type": "markdown",
   "metadata": {},
   "source": [
    "## Módulos\n",
    "\n",
    "Módulos em __Python__ representam a unidade mais alta de organização de um programa, capas de armazenar códigos e dados para serem reutilizados. Os mecanismos disponíveis para carregar os recursos dos módulos foram pensados visando serem simples de usar e, na medida do possível, para minimizar conflitos de nomes.\n",
    "\n",
    "* Um programa em Python consiste, basicamente, em um ou mais arquivos de texto contendo declarações Python. \n",
    "* Um dos arquivo é o arquivo principal, que pode fazer uso ou não, de arquivos suplementares que são chamados de módulos. O arquivo principal passa a ser então o módulo ``__main__``.\n",
    "\n",
    "<img align=\"center\" style=\"padding-right:10px;\" src=\"Figuras/aula-06_fig_02.png\">\n"
   ]
  },
  {
   "cell_type": "markdown",
   "metadata": {},
   "source": [
    "Como funciona o processo de importar um módulo?\n",
    "\n",
    "* Procura-se o arquivo do módulo;\n",
    "* Uma vez encontrado o arquivo é compilado para _byte code_; \n",
    "    * Explore a pasta ``__pycache__`` onde estão os módulos que você está usando;\n",
    "* Se executa o módulo para gerar os objetos nele definidos;\n",
    "\n",
    "Onde e em qual ordem buscar pelos arquivos de módulos \n",
    "\n",
    "1. Na pasta da aplicação;\n",
    "2. No caminho do __PYTHONPATH__;\n",
    "3. No caminho padrão das bibliotecas;\n",
    "4. Nas pastas indicadas nos arquivos .pth;\n",
    "5. Nos sítios definidos por bibliotecas de terceiros;\n",
    "\n",
    "Podemos utilizar\n",
    "\n",
    "a. Módulos da biblioteca padrão de __Pytho__;\n",
    "\n",
    "b. Módulos desenvolvidos por terceiros;\n",
    "\n",
    "c. Nossos próprios módulos.\n"
   ]
  },
  {
   "cell_type": "markdown",
   "metadata": {},
   "source": [
    "Desta forna, criar módulos é algo que a maioria dos programadores __Python__ faz o tempo todo, mesmo sem pensar nisso: Sempre que você salva um novo script __Python__, você cria um novo módulo. \n",
    "\n",
    "Uma vez criado você pode, por exemplo, importar seu módulo em outro módulo ou executar ele com módulo ``__main__`` .\n",
    "\n",
    "Um pacote é uma coleção de módulos relacionados de alguma forma. As coisas que você importa para seus scripts da biblioteca padrão são módulos ou pacotes. Nesta aula vamos aprender como criar módulos e pacotes. "
   ]
  },
  {
   "cell_type": "markdown",
   "metadata": {},
   "source": [
    "Começamos pela criação de um módulo que é mais simples.\n",
    "\n",
    "Nesta pasta criamos o arquivo ``moduloMat.py``.\n",
    "\n",
    "Os nomes dos módulos viram variáveis quando importados. Desta forma, na hora de escolher nomes dos seus arquivos de script __Python__, a eles se aplicam as mesmas restrições que a variáveis.\n",
    "\n",
    "Os módulos podem ser importados de forma simples:\n"
   ]
  },
  {
   "cell_type": "code",
   "execution_count": 2,
   "metadata": {},
   "outputs": [
    {
     "name": "stdout",
     "output_type": "stream",
     "text": [
      "type(soma) =  <class 'int'>\n",
      "type(moduloMat) =  <class 'module'>\n",
      "type(moduloMat.soma) =  <class 'function'>\n",
      "A soma de 4 e 2 é 6\n"
     ]
    }
   ],
   "source": [
    "# variável de escopo global\n",
    "soma = 0\n",
    "# importando o módulo que implementa a função de soma\n",
    "import moduloMat\n",
    "print(\"type(soma) = \", type(soma))\n",
    "print(\"type(moduloMat) = \", type(moduloMat))\n",
    "print(\"type(moduloMat.soma) = \", type(moduloMat.soma))\n",
    "a = 4\n",
    "b = 2\n",
    "# chamando a função soma do módulo\n",
    "soma = moduloMat.soma(a, b)\n",
    "print(\"A soma de\", a, \"e\", b, \"é\", soma)"
   ]
  },
  {
   "cell_type": "markdown",
   "metadata": {},
   "source": [
    "Quando importamos um módulo com ``import`` atribuímos a uma variável todos os recursos declarados no mesmo. \n",
    "\n",
    "A variável assume o mesmo nome do módulo. Para acessar seus recursos utilizamos o nome da variável seguido de ponto e o nome do recursos que desejamos utilizar. \n",
    "\n",
    "Esta forma de importar separa, num espaço de nomes associado à variável, o espaço de nomes declarado no módulo, evitando conflitos com o espaço de nomes local. \n",
    "\n",
    "Entretanto, utilizar o nome do módulo pode ser trabalhoso, sobre tudo quando utilizamos os recursos com muita frequência e o nome é longo e complexo. Neste caso podemos utilizar uma versão alternativa do ``import`` que define um alias ."
   ]
  },
  {
   "cell_type": "code",
   "execution_count": 3,
   "metadata": {},
   "outputs": [
    {
     "name": "stdout",
     "output_type": "stream",
     "text": [
      "type(soma) =  <class 'int'>\n",
      "type(mm) =  <class 'module'>\n",
      "type(mm.soma) =  <class 'function'>\n",
      "A soma de 4 e 2 é 6\n"
     ]
    }
   ],
   "source": [
    "# variável de escopo global\n",
    "soma = 0\n",
    "# importando o módulo que implementa a função de soma\n",
    "import moduloMat as mm\n",
    "print(\"type(soma) = \", type(soma))\n",
    "print(\"type(mm) = \", type(mm))\n",
    "print(\"type(mm.soma) = \", type(mm.soma))\n",
    "a = 4\n",
    "b = 2\n",
    "# chamando a função soma do módulo\n",
    "soma = mm.soma(a, b)\n",
    "print(\"A soma de\", a, \"e\", b, \"é\", soma)"
   ]
  },
  {
   "cell_type": "markdown",
   "metadata": {},
   "source": [
    "Também é possível importar os recursos de um módulo utilizando ``from ... import``."
   ]
  },
  {
   "cell_type": "code",
   "execution_count": 4,
   "metadata": {},
   "outputs": [
    {
     "name": "stdout",
     "output_type": "stream",
     "text": [
      "type(soma) =  <class 'int'>\n",
      "type(soma) =  <class 'function'>\n",
      "A soma de 4 e 2 é 6\n"
     ]
    }
   ],
   "source": [
    "# variável de escopo global\n",
    "soma = 0\n",
    "print(\"type(soma) = \", type(soma))\n",
    "# importando o módulo que implementa a função de soma\n",
    "from moduloMat import soma\n",
    "print(\"type(soma) = \", type(soma))\n",
    "a = 4\n",
    "b = 2\n",
    "# chamando a função soma do módulo\n",
    "novaSoma = soma(a, b)\n",
    "print(\"A soma de\", a, \"e\", b, \"é\", novaSoma)"
   ]
  },
  {
   "cell_type": "markdown",
   "metadata": {},
   "source": [
    "Vejam que, neste caso, trazemos uma varável do namespace do módulo para o namespace local. O exemplo anterior mostra que este tipo de abordagem pode criar conflitos de nomes. \n",
    "Com ``from ... import`` podemos importar vário recursos e até o namespace total do módulo. "
   ]
  },
  {
   "cell_type": "code",
   "execution_count": 5,
   "metadata": {},
   "outputs": [
    {
     "data": {
      "text/plain": [
       "['__builtins__',\n",
       " '__cached__',\n",
       " '__doc__',\n",
       " '__file__',\n",
       " '__loader__',\n",
       " '__name__',\n",
       " '__package__',\n",
       " '__spec__',\n",
       " 'divisão',\n",
       " 'multiplicação',\n",
       " 'soma',\n",
       " 'subtração']"
      ]
     },
     "execution_count": 5,
     "metadata": {},
     "output_type": "execute_result"
    }
   ],
   "source": [
    "dir(moduloMat)"
   ]
  },
  {
   "cell_type": "code",
   "execution_count": 6,
   "metadata": {},
   "outputs": [
    {
     "name": "stdout",
     "output_type": "stream",
     "text": [
      "type(soma) =  <class 'int'>\n",
      "type(soma) =  <class 'function'>\n",
      "A soma de 4 e 2 é 6\n",
      "A multiplicação de 4 e 2 é 8\n"
     ]
    }
   ],
   "source": [
    "# variável de escopo global\n",
    "soma = 0\n",
    "print(\"type(soma) = \", type(soma))\n",
    "# importando o módulo que implementa a função de soma\n",
    "from moduloMat import *  # importa todas as funções do módulo\n",
    "print(\"type(soma) = \", type(soma))\n",
    "a = 4\n",
    "b = 2\n",
    "# chamando a função soma do módulo\n",
    "novaSoma = soma(a, b)\n",
    "print(\"A soma de\", a, \"e\", b, \"é\", novaSoma)\n",
    "print(\"A multiplicação de\", a, \"e\", b, \"é\", multiplicação(a, b))"
   ]
  },
  {
   "cell_type": "code",
   "execution_count": 8,
   "metadata": {},
   "outputs": [
    {
     "name": "stdout",
     "output_type": "stream",
     "text": [
      "__main__.py   \u001b[34m__pycache__\u001b[m\u001b[m/  interface.py  recursos.py\n"
     ]
    }
   ],
   "source": [
    "%ls meuApp"
   ]
  },
  {
   "cell_type": "markdown",
   "metadata": {},
   "source": [
    "Repare que temos Três módulos e um deles tem o incomum nome ``__main__.py``. Quando queremos empacotar uma aplicativo de forma que __Python__ saiba qual script é módulo `` __main__``, basta criar um script com este nome. Repare na implementação dos módulos.\n",
    "\n",
    "``__main__.py``\n",
    "\n",
    "<img align=\"center\" style=\"padding-right:10px;\" src=\"Figuras/aula-06_fig_03.png\">\n",
    "\n",
    "``interface.py``\n",
    "\n",
    "<img align=\"center\" style=\"padding-right:10px;\" src=\"Figuras/aula-06_fig_04.png\">\n",
    "\n",
    "``recursos.py``\n",
    "\n",
    "<img align=\"center\" style=\"padding-right:10px;\" src=\"Figuras/aula-06_fig_05.png\">"
   ]
  },
  {
   "cell_type": "markdown",
   "metadata": {},
   "source": [
    "Repare que no ``__main__.py__`` utilizamos um `.` no ``import``. Isto se deve a que o módulo não está no caminho. Vamos falar sobre como isso mais para frente no curso. Por enquanto esta sintaxes especifica para procurar o pacote na pasta local do módulo. \n",
    "\n",
    "Vamos executar o aplicativo!!!\n",
    "\n",
    "Execute num terminal, na pasta deste notebook o comando: ``python -m meuApp``\n",
    "\n",
    "<img align=\"center\" style=\"padding-right:10px;\" src=\"Figuras/aula-06_fig_06.png\">"
   ]
  },
  {
   "cell_type": "markdown",
   "metadata": {},
   "source": [
    "Esta forma de executar módulos será utilizada outras vezes e é muito útil.\n",
    "\n",
    "As vezes se faz necessário estruturar os recursos num conjunto de módulos que estão relacionados entre se. Nestes casos se pode adotar a estratégia de organizar os módulos em pacotes.  "
   ]
  },
  {
   "cell_type": "markdown",
   "metadata": {},
   "source": [
    "## Pacotes\n",
    "\n",
    "A principal diferença entre um módulo e um pacote é que um pacote é uma coleção de módulos e possui um arquivo ``__init__.py``. \n",
    "Dependendo da complexidade do pacote, ele pode ter mais de um ``__init__.py``. Vamos dar uma olhada em uma estrutura de pastas simples para tornar isso mais óbvio e, em seguida, criaremos um código para seguir a estrutura que definimos."
   ]
  },
  {
   "cell_type": "code",
   "execution_count": 9,
   "metadata": {},
   "outputs": [
    {
     "name": "stdout",
     "output_type": "stream",
     "text": [
      "Na pasta raiz deste notebook tempos uma pasta pacote: \n",
      "Aula-01.ipynb  Aula-04.ipynb  Aula-08.ipynb  \u001b[34m__pycache__\u001b[m\u001b[m/   script_001.py\n",
      "Aula-02.ipynb  Aula-05.ipynb  Aula-09.ipynb  \u001b[34mmeuApp\u001b[m\u001b[m/\n",
      "Aula-03.ipynb  Aula-07.ipynb  \u001b[34mFiguras\u001b[m\u001b[m/       moduloMat.py\n"
     ]
    }
   ],
   "source": [
    "print(\"Na pasta raiz deste notebook tempos uma pasta pacote: \")\n",
    "%ls"
   ]
  },
  {
   "cell_type": "code",
   "execution_count": 10,
   "metadata": {},
   "outputs": [
    {
     "name": "stdout",
     "output_type": "stream",
     "text": [
      "Na pasta pacote temos os módulos:  classes e recursos\n",
      "Ainda temos a pasta testando\n",
      "ls: pacote: No such file or directory\n"
     ]
    }
   ],
   "source": [
    "print(\"Na pasta pacote temos os módulos:  classes e recursos\")\n",
    "print(\"Ainda temos a pasta testando\")\n",
    "%ls pacote"
   ]
  },
  {
   "cell_type": "code",
   "execution_count": 11,
   "metadata": {},
   "outputs": [
    {
     "name": "stdout",
     "output_type": "stream",
     "text": [
      "Na pasta testando temos o módulo:  testes\n",
      "ls: pacote/testando: No such file or directory\n"
     ]
    }
   ],
   "source": [
    "print(\"Na pasta testando temos o módulo:  testes\")\n",
    "%ls pacote/testando"
   ]
  },
  {
   "cell_type": "markdown",
   "metadata": {},
   "source": [
    "Nas respectivas pastas do pacote tem os arquivos ``__iniy__.py``. Vamos renomear estes arquivos inicialmente. "
   ]
  },
  {
   "cell_type": "code",
   "execution_count": 12,
   "metadata": {},
   "outputs": [
    {
     "name": "stdout",
     "output_type": "stream",
     "text": [
      "Removendo o arquivo __init__.py da pasta pacote\n",
      "mv: rename pacote/__init__.py to pacote/init.py: No such file or directory\n",
      "ls: pacote: No such file or directory\n",
      "Removendo o arquivo __init__.py da pasta testando\n",
      "mv: rename pacote/testando/__init__.py to pacote/testando/init.py: No such file or directory\n",
      "ls: pacote/testando: No such file or directory\n"
     ]
    }
   ],
   "source": [
    "print(\"Removendo o arquivo __init__.py da pasta pacote\")\n",
    "%mv pacote/__init__.py pacote/init.py\n",
    "%ls pacote\n",
    "print(\"Removendo o arquivo __init__.py da pasta testando\")\n",
    "%mv pacote/testando/__init__.py pacote/testando/init.py\n",
    "%ls pacote/testando\n",
    "\n"
   ]
  },
  {
   "cell_type": "markdown",
   "metadata": {},
   "source": [
    "Agora vamos implementar nossos módulos. "
   ]
  },
  {
   "cell_type": "code",
   "execution_count": 13,
   "metadata": {},
   "outputs": [
    {
     "name": "stdout",
     "output_type": "stream",
     "text": [
      "cat: pacote/classes.py: No such file or directory\n"
     ]
    }
   ],
   "source": [
    "%cat pacote/classes.py"
   ]
  },
  {
   "cell_type": "code",
   "execution_count": 14,
   "metadata": {},
   "outputs": [
    {
     "name": "stdout",
     "output_type": "stream",
     "text": [
      "cat: pacote/recursos.py: No such file or directory\n"
     ]
    }
   ],
   "source": [
    "%cat pacote/recursos.py"
   ]
  },
  {
   "cell_type": "code",
   "execution_count": 15,
   "metadata": {},
   "outputs": [
    {
     "name": "stdout",
     "output_type": "stream",
     "text": [
      "cat: pacote/testando/testes.py: No such file or directory\n"
     ]
    }
   ],
   "source": [
    "%cat pacote/testando/testes.py"
   ]
  },
  {
   "cell_type": "markdown",
   "metadata": {},
   "source": [
    "Agora vamos utilizar o pacote"
   ]
  },
  {
   "cell_type": "code",
   "execution_count": 16,
   "metadata": {},
   "outputs": [
    {
     "ename": "ModuleNotFoundError",
     "evalue": "No module named 'pacote'",
     "output_type": "error",
     "traceback": [
      "\u001b[0;31m---------------------------------------------------------------------------\u001b[0m",
      "\u001b[0;31mModuleNotFoundError\u001b[0m                       Traceback (most recent call last)",
      "Cell \u001b[0;32mIn[16], line 1\u001b[0m\n\u001b[0;32m----> 1\u001b[0m \u001b[38;5;28;01mimport\u001b[39;00m \u001b[38;5;21;01mpacote\u001b[39;00m\n\u001b[1;32m      2\u001b[0m \u001b[38;5;28;01mimport\u001b[39;00m \u001b[38;5;21;01mpacote\u001b[39;00m\u001b[38;5;21;01m.\u001b[39;00m\u001b[38;5;21;01mtestando\u001b[39;00m\n\u001b[1;32m      3\u001b[0m \u001b[38;5;28mprint\u001b[39m(\u001b[38;5;28mdir\u001b[39m(pacote))\n",
      "\u001b[0;31mModuleNotFoundError\u001b[0m: No module named 'pacote'"
     ]
    }
   ],
   "source": [
    "import pacote\n",
    "import pacote.testando\n",
    "print(dir(pacote))\n",
    "print(dir(pacote.testando))"
   ]
  },
  {
   "cell_type": "markdown",
   "metadata": {},
   "source": [
    "Como não temos o script de inicialização do pacote a pasta vira um grande repositório de módulos difícil de utilizar."
   ]
  },
  {
   "cell_type": "code",
   "execution_count": 17,
   "metadata": {},
   "outputs": [],
   "source": [
    "from random import randint"
   ]
  },
  {
   "cell_type": "code",
   "execution_count": 18,
   "metadata": {},
   "outputs": [
    {
     "ename": "ModuleNotFoundError",
     "evalue": "No module named 'pacote'",
     "output_type": "error",
     "traceback": [
      "\u001b[0;31m---------------------------------------------------------------------------\u001b[0m",
      "\u001b[0;31mModuleNotFoundError\u001b[0m                       Traceback (most recent call last)",
      "Cell \u001b[0;32mIn[18], line 1\u001b[0m\n\u001b[0;32m----> 1\u001b[0m \u001b[38;5;28;01mimport\u001b[39;00m \u001b[38;5;21;01mpacote\u001b[39;00m\u001b[38;5;21;01m.\u001b[39;00m\u001b[38;5;21;01mclasses\u001b[39;00m\n\u001b[1;32m      2\u001b[0m \u001b[38;5;28;01mimport\u001b[39;00m \u001b[38;5;21;01mpacote\u001b[39;00m\u001b[38;5;21;01m.\u001b[39;00m\u001b[38;5;21;01mrecursos\u001b[39;00m\n\u001b[1;32m      3\u001b[0m \u001b[38;5;28;01mimport\u001b[39;00m \u001b[38;5;21;01mpacote\u001b[39;00m\u001b[38;5;21;01m.\u001b[39;00m\u001b[38;5;21;01mtestando\u001b[39;00m\u001b[38;5;21;01m.\u001b[39;00m\u001b[38;5;21;01mtestes\u001b[39;00m\n",
      "\u001b[0;31mModuleNotFoundError\u001b[0m: No module named 'pacote'"
     ]
    }
   ],
   "source": [
    "import pacote.classes\n",
    "import pacote.recursos\n",
    "import pacote.testando.testes\n",
    "\n",
    "pontos = []\n",
    "for i in range(10):\n",
    "    x = randint(0, 10)\n",
    "    y = randint(0, 10)\n",
    "    pontos.append(pacote.classes.Ponto((x, y)))\n",
    "for p in pontos:\n",
    "    print(p.distânciaAté(pacote.classes.Ponto((0, 0))))\n",
    "pontosOrd = pacote.recursos.ordenaPontos(pontos)\n",
    "print(\"_____________________\")\n",
    "for p in pontosOrd:\n",
    "    print(p.distânciaAté(pacote.classes.Ponto((0, 0))))\n",
    "\n",
    "#print(pacote.teste(pontos[0], pontos[1]))\n",
    "print(pacote.testando.testes.teste(pontos[0], pontos[1]))"
   ]
  },
  {
   "cell_type": "markdown",
   "metadata": {},
   "source": [
    "Os arquivos ``__init__.py`` permitem trabalhar o conceito de pacote ao integrar todos os módulos num único namespace. Vamos recuperar o arquivo da pasta raiz do pacote. "
   ]
  },
  {
   "cell_type": "code",
   "execution_count": 19,
   "metadata": {},
   "outputs": [
    {
     "name": "stdout",
     "output_type": "stream",
     "text": [
      "mv: rename pacote/init.py to pacote/__init__.py: No such file or directory\n"
     ]
    }
   ],
   "source": [
    "%mv pacote/init.py pacote/__init__.py"
   ]
  },
  {
   "cell_type": "code",
   "execution_count": 20,
   "metadata": {},
   "outputs": [
    {
     "name": "stdout",
     "output_type": "stream",
     "text": [
      "cat: pacote/__init__.py: No such file or directory\n"
     ]
    }
   ],
   "source": [
    "%cat pacote/__init__.py"
   ]
  },
  {
   "cell_type": "markdown",
   "metadata": {},
   "source": [
    "Agora vamos usar os módulos do pacote de forma mais simples."
   ]
  },
  {
   "cell_type": "code",
   "execution_count": 21,
   "metadata": {},
   "outputs": [
    {
     "ename": "ModuleNotFoundError",
     "evalue": "No module named 'pacote'",
     "output_type": "error",
     "traceback": [
      "\u001b[0;31m---------------------------------------------------------------------------\u001b[0m",
      "\u001b[0;31mModuleNotFoundError\u001b[0m                       Traceback (most recent call last)",
      "Cell \u001b[0;32mIn[21], line 1\u001b[0m\n\u001b[0;32m----> 1\u001b[0m \u001b[38;5;28;01mimport\u001b[39;00m \u001b[38;5;21;01mpacote\u001b[39;00m\n\u001b[1;32m      2\u001b[0m \u001b[38;5;28;01mfor\u001b[39;00m item \u001b[38;5;129;01min\u001b[39;00m \u001b[38;5;28mdir\u001b[39m(pacote):\n\u001b[1;32m      3\u001b[0m     \u001b[38;5;28mprint\u001b[39m(item)\n",
      "\u001b[0;31mModuleNotFoundError\u001b[0m: No module named 'pacote'"
     ]
    }
   ],
   "source": [
    "import pacote\n",
    "for item in dir(pacote):\n",
    "    print(item)"
   ]
  },
  {
   "cell_type": "code",
   "execution_count": 22,
   "metadata": {},
   "outputs": [
    {
     "ename": "NameError",
     "evalue": "name 'pacote' is not defined",
     "output_type": "error",
     "traceback": [
      "\u001b[0;31m---------------------------------------------------------------------------\u001b[0m",
      "\u001b[0;31mNameError\u001b[0m                                 Traceback (most recent call last)",
      "Cell \u001b[0;32mIn[22], line 5\u001b[0m\n\u001b[1;32m      3\u001b[0m     x \u001b[38;5;241m=\u001b[39m randint(\u001b[38;5;241m0\u001b[39m, \u001b[38;5;241m10\u001b[39m)\n\u001b[1;32m      4\u001b[0m     y \u001b[38;5;241m=\u001b[39m randint(\u001b[38;5;241m0\u001b[39m, \u001b[38;5;241m10\u001b[39m)\n\u001b[0;32m----> 5\u001b[0m     pontos\u001b[38;5;241m.\u001b[39mappend(\u001b[43mpacote\u001b[49m\u001b[38;5;241m.\u001b[39mPonto((x, y)))\n\u001b[1;32m      6\u001b[0m \u001b[38;5;28;01mfor\u001b[39;00m p \u001b[38;5;129;01min\u001b[39;00m pontos:\n\u001b[1;32m      7\u001b[0m     \u001b[38;5;28mprint\u001b[39m(p\u001b[38;5;241m.\u001b[39mdistânciaAté(pacote\u001b[38;5;241m.\u001b[39mPonto((\u001b[38;5;241m0\u001b[39m, \u001b[38;5;241m0\u001b[39m))))\n",
      "\u001b[0;31mNameError\u001b[0m: name 'pacote' is not defined"
     ]
    }
   ],
   "source": [
    "pontos = []\n",
    "for i in range(10):\n",
    "    x = randint(0, 10)\n",
    "    y = randint(0, 10)\n",
    "    pontos.append(pacote.Ponto((x, y)))\n",
    "for p in pontos:\n",
    "    print(p.distânciaAté(pacote.Ponto((0, 0))))\n",
    "pontosOrd = pacote.ordenaPontos(pontos)\n",
    "print(\"______________________\")\n",
    "for p in pontosOrd:\n",
    "    print(p.distânciaAté(pacote.Ponto((0, 0))))\n",
    "\n",
    "print(pacote.teste(pontos[0], pontos[1]))\n",
    "#print(pacote.testando.teste(pontos[0], pontos[1]))"
   ]
  },
  {
   "cell_type": "markdown",
   "metadata": {},
   "source": [
    "Podemos testar usar a pasta testando como um sub-módulo, se isto for interessante para a estruturação do código. Neste caso podemos comentar va última linha do arquivo ``__init__.py``, pasta rais e utilizar o arquivo ``__init__.py`` da pasta testando.  "
   ]
  },
  {
   "cell_type": "code",
   "execution_count": 23,
   "metadata": {},
   "outputs": [
    {
     "name": "stdout",
     "output_type": "stream",
     "text": [
      "cat: pacote/__init__.py: No such file or directory\n"
     ]
    }
   ],
   "source": [
    "%cat pacote/__init__.py"
   ]
  },
  {
   "cell_type": "code",
   "execution_count": null,
   "metadata": {},
   "outputs": [],
   "source": [
    "%mv pacote/testando/init.py pacote/testando/__init__.py\n",
    "%cat pacote/testando/__init__.py"
   ]
  },
  {
   "cell_type": "code",
   "execution_count": 24,
   "metadata": {},
   "outputs": [
    {
     "ename": "ModuleNotFoundError",
     "evalue": "No module named 'pacote'",
     "output_type": "error",
     "traceback": [
      "\u001b[0;31m---------------------------------------------------------------------------\u001b[0m",
      "\u001b[0;31mModuleNotFoundError\u001b[0m                       Traceback (most recent call last)",
      "Cell \u001b[0;32mIn[24], line 1\u001b[0m\n\u001b[0;32m----> 1\u001b[0m \u001b[38;5;28;01mimport\u001b[39;00m \u001b[38;5;21;01mpacote\u001b[39;00m\n\u001b[1;32m      2\u001b[0m \u001b[38;5;28;01mimport\u001b[39;00m \u001b[38;5;21;01mpacote\u001b[39;00m\u001b[38;5;21;01m.\u001b[39;00m\u001b[38;5;21;01mtestando\u001b[39;00m\n\u001b[1;32m      3\u001b[0m \u001b[38;5;28mprint\u001b[39m(\u001b[38;5;28mdir\u001b[39m(pacote))\n",
      "\u001b[0;31mModuleNotFoundError\u001b[0m: No module named 'pacote'"
     ]
    }
   ],
   "source": [
    "import pacote\n",
    "import pacote.testando\n",
    "print(dir(pacote))\n",
    "print(dir(pacote.testando))"
   ]
  },
  {
   "cell_type": "code",
   "execution_count": 25,
   "metadata": {},
   "outputs": [
    {
     "ename": "NameError",
     "evalue": "name 'pacote' is not defined",
     "output_type": "error",
     "traceback": [
      "\u001b[0;31m---------------------------------------------------------------------------\u001b[0m",
      "\u001b[0;31mNameError\u001b[0m                                 Traceback (most recent call last)",
      "Cell \u001b[0;32mIn[25], line 5\u001b[0m\n\u001b[1;32m      3\u001b[0m     x \u001b[38;5;241m=\u001b[39m randint(\u001b[38;5;241m0\u001b[39m, \u001b[38;5;241m10\u001b[39m)\n\u001b[1;32m      4\u001b[0m     y \u001b[38;5;241m=\u001b[39m randint(\u001b[38;5;241m0\u001b[39m, \u001b[38;5;241m10\u001b[39m)\n\u001b[0;32m----> 5\u001b[0m     pontos\u001b[38;5;241m.\u001b[39mappend(\u001b[43mpacote\u001b[49m\u001b[38;5;241m.\u001b[39mPonto((x, y)))\n\u001b[1;32m      6\u001b[0m \u001b[38;5;28;01mfor\u001b[39;00m p \u001b[38;5;129;01min\u001b[39;00m pontos:\n\u001b[1;32m      7\u001b[0m     \u001b[38;5;28mprint\u001b[39m(p\u001b[38;5;241m.\u001b[39mdistânciaAté(pacote\u001b[38;5;241m.\u001b[39mPonto((\u001b[38;5;241m0\u001b[39m, \u001b[38;5;241m0\u001b[39m))))\n",
      "\u001b[0;31mNameError\u001b[0m: name 'pacote' is not defined"
     ]
    }
   ],
   "source": [
    "pontos = []\n",
    "for i in range(10):\n",
    "    x = randint(0, 10)\n",
    "    y = randint(0, 10)\n",
    "    pontos.append(pacote.Ponto((x, y)))\n",
    "for p in pontos:\n",
    "    print(p.distânciaAté(pacote.Ponto((0, 0))))\n",
    "pontosOrd = pacote.ordenaPontos(pontos)\n",
    "for p in pontosOrd:\n",
    "    print(p.distânciaAté(pacote.Ponto((0, 0))))\n",
    "\n",
    "#print(pacote.teste(pontos[0], pontos[1]))\n",
    "print(pacote.testando.teste(pontos[0], pontos[1]))"
   ]
  },
  {
   "cell_type": "markdown",
   "metadata": {},
   "source": [
    "Nestes exemplos o processo todo funcionou porque a pasta pacote está na raiz do notebook. O pacote também pode estar em outras localizações. Mais adiante neste curso iremos estudar como empacotar e instalar um pacote.\n",
    "\n",
    "Por enquanto vamos focar em na utilização de pacotes e módulos da biblioteca padrão e de terceiros. Mas como fazer para gerenciar os pacotes que estão instalados?"
   ]
  }
 ],
 "metadata": {
  "kernelspec": {
   "display_name": "Python 3 (ipykernel)",
   "language": "python",
   "name": "python3"
  },
  "language_info": {
   "codemirror_mode": {
    "name": "ipython",
    "version": 3
   },
   "file_extension": ".py",
   "mimetype": "text/x-python",
   "name": "python",
   "nbconvert_exporter": "python",
   "pygments_lexer": "ipython3",
   "version": "3.10.14"
  }
 },
 "nbformat": 4,
 "nbformat_minor": 2
}
