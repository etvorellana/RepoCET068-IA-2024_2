{
 "cells": [
  {
   "cell_type": "markdown",
   "metadata": {},
   "source": [
    "# Módulo de Programação Python: Introdução à Linguagem\n",
    "\n",
    "# Aula - 08"
   ]
  },
  {
   "cell_type": "markdown",
   "metadata": {},
   "source": [
    "__Objetivo__:  Trabalhar com pacotes e módulos disponíveis em python: __Numpy__. Trabalhar os atributos e métodos disponibilizados pelas classes do __NumPy__. Apresentar as diferentes formas de acessar matrizes e vetores criados com __NumPy__."
   ]
  },
  {
   "cell_type": "markdown",
   "metadata": {},
   "source": [
    "A manipulação de grandes volumes de dados em __Python__ é quase sinônimo de manipulação de __Numpy__ arrays. Até mesmo ferramentas mais recentes, como __Pandas__  que será abordado em próximas aulas, são construídas em torno dos _ndarrys_. \n",
    "\n",
    "Na aula de hoje discutiremos vários exemplos de uso da manipulação de NumPy arrays para acessar dados e submatrizes e para dividir, remodelar e unir as matrizes. \n",
    "\n",
    "Embora os tipos de operações mostrados aqui possam parecer um pouco pouco úteis, eles constituem os blocos de construção de muitos outros exemplos que usaremos nas próximas aulas.\n",
    "\n",
    "Abordaremos alguns tópicos importantes nesta aula:\n",
    "* Atributos de arrays: determinação do tamanho, formato, consumo de memória e tipos de dados de arrays;\n",
    "* Indexação de arrays: obtendo e definindo os valores de elementos individuais do array;\n",
    "* Slicing de matrizes: obtendo e configurando submatrizes menores dentro de uma matriz maior;\n",
    "* Remodelagem de arrays: alterando a forma de um determinado array\n"
   ]
  },
  {
   "cell_type": "markdown",
   "metadata": {},
   "source": [
    "## Atributos dos ndarray\n",
    "\n",
    "As funções utilizadas para criar os _ndarray_, que utilizamos até aqui criam objetos da classe e permitem que exploremos alguns atributos dos _ndarray_. Veja estes exemplos"
   ]
  },
  {
   "cell_type": "code",
   "execution_count": 1,
   "metadata": {},
   "outputs": [],
   "source": [
    "import numpy as np\n",
    "#Podemos definir a semente do gerador de números aleatórios\n",
    "np.random.seed(123456789)\n",
    "x_1 = np.random.randint(10, size=8) # array 1D\n",
    "x_2 = np.random.randint(10, size=(2,4)) # array 2D\n",
    "x_3 = np.random.randint(10, size=(2,2,2)) # array 3D"
   ]
  },
  {
   "cell_type": "markdown",
   "metadata": {},
   "source": [
    "Os três arrays que foram criados, apesar de terem formas diferentes, tem a mesma quantidade de elementos: 8. Veja que o parâmetro ``size`` espera uma tupla que pode conter apenas um valor (``8``), uma dupla (``(2,4)``) ou uma tripla (``(2,2,2)``). Este parâmetro então está definindo a \"forma\" do _ndarray_. Veja como estas características de cada array estão disponíveis na forma de atributos dos objetos."
   ]
  },
  {
   "cell_type": "code",
   "execution_count": 2,
   "metadata": {},
   "outputs": [
    {
     "name": "stdout",
     "output_type": "stream",
     "text": [
      "x_1 ndim:  1\n",
      "x_1 shape:  (8,)\n",
      "x_1 size:  8\n"
     ]
    }
   ],
   "source": [
    "#Podemos avaliar a dimensão, a forma e o tamanho de cada um\n",
    "print(\"x_1 ndim: \", x_1.ndim)\n",
    "print(\"x_1 shape: \", x_1.shape)\n",
    "print(\"x_1 size: \", x_1.size)"
   ]
  },
  {
   "cell_type": "code",
   "execution_count": 3,
   "metadata": {},
   "outputs": [
    {
     "name": "stdout",
     "output_type": "stream",
     "text": [
      "x_2 ndim:  2\n",
      "x_2 shape:  (2, 4)\n",
      "x_2 size:  8\n"
     ]
    }
   ],
   "source": [
    "print(\"x_2 ndim: \", x_2.ndim)\n",
    "print(\"x_2 shape: \", x_2.shape)\n",
    "print(\"x_2 size: \", x_2.size)"
   ]
  },
  {
   "cell_type": "code",
   "execution_count": 4,
   "metadata": {},
   "outputs": [
    {
     "name": "stdout",
     "output_type": "stream",
     "text": [
      "x_3 ndim:  3\n",
      "x_3 shape:  (2, 2, 2)\n",
      "x_3 size:  8\n"
     ]
    }
   ],
   "source": [
    "print(\"x_3 ndim: \", x_3.ndim)\n",
    "print(\"x_3 shape: \", x_3.shape)\n",
    "print(\"x_3 size: \", x_3.size)"
   ]
  },
  {
   "cell_type": "markdown",
   "metadata": {},
   "source": [
    "Com os atributos ``ndim``, dimensão do _ndarray_, ``shape``, forma do _ndarray_, e ``size``, quantidade de elementos, podemos ter uma descrição das principais características dos arrys que estão sendo gerados. \n",
    "\n",
    "Cada _ndarray_ possui ainda outros dois atributos importantes:"
   ]
  },
  {
   "cell_type": "code",
   "execution_count": 4,
   "metadata": {},
   "outputs": [
    {
     "name": "stdout",
     "output_type": "stream",
     "text": [
      "x_3 itemsize:  8 bytes\n",
      "x_3 nbytes:  64 bytes\n"
     ]
    }
   ],
   "source": [
    "# tamanho em bytes de cada elemento\n",
    "print(\"x_3 itemsize: \", x_3.itemsize, \"bytes\")\n",
    "# tamanho em bytes do array\n",
    "print(\"x_3 nbytes: \", x_3.nbytes, \"bytes\")"
   ]
  },
  {
   "cell_type": "markdown",
   "metadata": {},
   "source": [
    "## Indexação dos _ndarray_\n",
    "\n",
    "Para acessar os elementos de um _ndarray_ utilizamos a mesma sintaxes de indexação das listas. \n",
    "* Os índices começando em 0 e indo até tamanho menos um; \n",
    "* Podendo também utilizar índices negativos para acessar o array começando pelo final;\n",
    "* Os array multidimensionais podem ser acessados utilizando tuplas de índices; \n",
    "\n"
   ]
  },
  {
   "cell_type": "code",
   "execution_count": 6,
   "metadata": {},
   "outputs": [
    {
     "name": "stdout",
     "output_type": "stream",
     "text": [
      "1 2 3 4 5 6 7 8 9 10 \n",
      "1 2 3 4 5 6 7 8 9 10 \n",
      "x[-1]:  10\n",
      "[10  9  8  7  6  5  4  3  2  1]\n",
      "matA[0][0]:  1.0\n",
      "matA[0,0]:  1.0\n"
     ]
    }
   ],
   "source": [
    "x = np.array([1,2,3,4,5,6,7,8,9,10])\n",
    "for i in range(len(x)):\n",
    "    print(x[i], end=' ')\n",
    "print()\n",
    "# ou\n",
    "for i in x:\n",
    "    print(i, end=' ')\n",
    "print()\n",
    "\n",
    "print(\"x[-1]: \", x[-1])\n",
    "print(x[::-1])  # inverte o array \n",
    "\n",
    "matA = np.array([[1.0, 2.0, 3.0], [4.0, 5.0, 6.0], [7.0, 8.0, 9.0]])\n",
    "\n",
    "print(\"matA[0][0]: \", matA[0][0])\n",
    "print(\"matA[0,0]: \", matA[0,0])"
   ]
  },
  {
   "cell_type": "markdown",
   "metadata": {},
   "source": [
    "Os _ndarray_ são tipos mutáveis pelo que seus elementos  podem ser modificados quando acessados pelo seu índice. Deve-se levar em consideração que, ao contrário das listas, os _ndarray_ tem um tipo fixo. "
   ]
  },
  {
   "cell_type": "code",
   "execution_count": 7,
   "metadata": {},
   "outputs": [
    {
     "name": "stdout",
     "output_type": "stream",
     "text": [
      "[11  2  3  4  5  6  7  8  9 10]\n",
      "[11  3  3  4  5  6  7  8  9 10]\n",
      "[[3.14 2.   3.  ]\n",
      " [4.   5.   6.  ]\n",
      " [7.   8.   9.  ]]\n",
      "invalid literal for int() with base 10: 'H'\n"
     ]
    }
   ],
   "source": [
    "x[0] = 11\n",
    "print(x)\n",
    "x[1] = 3.14  # conversão automática de tipos, será truncado!\n",
    "print(x)\n",
    "matA[0][0] = 3.14\n",
    "print(matA)\n",
    "#ou\n",
    "#matA[1, 0] = 3.14\n",
    "#print(matA)\n",
    "try:\n",
    "    x[0] = \"Hello\"[0]  # erro de tipo!\n",
    "except Exception as e:\n",
    "    print(e)"
   ]
  },
  {
   "cell_type": "markdown",
   "metadata": {},
   "source": [
    "## Slicing de matrizes\n",
    "\n",
    "O mecanismo de _slicing_, utilizado em listas e outros tipos indexáveis,  também pode ser utilizado com os _ndarray_. \n",
    "Um subconjunto de elementos pode ser acessado utilizando x[inicio : fim : passo]. Se algum dos elementos não for especificado, seu valor padrão é: inicio = 0, fim = tamanho, passo = 1."
   ]
  },
  {
   "cell_type": "code",
   "execution_count": 8,
   "metadata": {},
   "outputs": [
    {
     "name": "stdout",
     "output_type": "stream",
     "text": [
      "[[3 8 3 9 0]\n",
      " [6 9 2 7 2]\n",
      " [8 8 7 4 2]\n",
      " [4 0 6 9 5]\n",
      " [3 5 8 1 7]]\n",
      "matA[1:3,1:4]\n",
      "[[9 2 7]\n",
      " [8 7 4]]\n",
      "matA[1:3,:]\n",
      "[[6 9 2 7 2]\n",
      " [8 8 7 4 2]]\n"
     ]
    }
   ],
   "source": [
    "matA = np.random.randint(10, size=(5,5))\n",
    "print(matA)\n",
    "print(\"matA[1:3,1:4]\")\n",
    "print(matA[1:3,1:4])\n",
    "print(\"matA[1:3,:]\")\n",
    "print(matA[1:3,:])"
   ]
  },
  {
   "cell_type": "markdown",
   "metadata": {},
   "source": [
    "O exemplo anterior mostra que quando trabalhamos com conjuntos de dados muito grandes, podemos acessar e processar pequenos subconjuntos do mesmo sem necessidade de criarmos uma cópia. Veja que o subconjunto especificado não cria uma nova matriz."
   ]
  },
  {
   "cell_type": "code",
   "execution_count": 9,
   "metadata": {},
   "outputs": [
    {
     "name": "stdout",
     "output_type": "stream",
     "text": [
      "matA\n",
      " [[3 8 3 9 0]\n",
      " [6 9 2 7 2]\n",
      " [8 8 7 4 2]\n",
      " [4 0 6 9 5]\n",
      " [3 5 8 1 7]]\n",
      "subA\n",
      " [[3 8]\n",
      " [6 9]]\n",
      "subA\n",
      " [[99  8]\n",
      " [ 6  9]]\n",
      "matA\n",
      " [[99  8  3  9  0]\n",
      " [ 6  9  2  7  2]\n",
      " [ 8  8  7  4  2]\n",
      " [ 4  0  6  9  5]\n",
      " [ 3  5  8  1  7]]\n"
     ]
    }
   ],
   "source": [
    "\n",
    "print(\"matA\\n\", matA)\n",
    "subA = matA[:2,:2]\n",
    "print(\"subA\\n\", subA)\n",
    "subA[0,0] = 99\n",
    "print(\"subA\\n\", subA)\n",
    "print(\"matA\\n\", matA)\n"
   ]
  },
  {
   "cell_type": "markdown",
   "metadata": {},
   "source": [
    "Se estivermos interessados em trabalhar com uma cópia da matriz original, ou de uma submatriz extraída dela, preservando conjunto original de dados, podemos utilizar o método ``copy()``."
   ]
  },
  {
   "cell_type": "code",
   "execution_count": 10,
   "metadata": {},
   "outputs": [
    {
     "name": "stdout",
     "output_type": "stream",
     "text": [
      "matA\n",
      " [[99  8  3  9  0]\n",
      " [ 6  9  2  7  2]\n",
      " [ 8  8  7  4  2]\n",
      " [ 4  0  6  9  5]\n",
      " [ 3  5  8  1  7]]\n",
      "subA\n",
      " [[99  8]\n",
      " [ 6  9]]\n",
      "subA\n",
      " [[0 8]\n",
      " [6 9]]\n",
      "matA\n",
      " [[99  8  3  9  0]\n",
      " [ 6  9  2  7  2]\n",
      " [ 8  8  7  4  2]\n",
      " [ 4  0  6  9  5]\n",
      " [ 3  5  8  1  7]]\n"
     ]
    }
   ],
   "source": [
    "print(\"matA\\n\", matA)\n",
    "subA = matA[:2,:2].copy()\n",
    "print(\"subA\\n\", subA)\n",
    "subA[0,0] = 0\n",
    "print(\"subA\\n\", subA)\n",
    "print(\"matA\\n\", matA)"
   ]
  },
  {
   "cell_type": "markdown",
   "metadata": {},
   "source": [
    "Uma rotina comumente necessária quando se trabalha com matrizes é acessar uma linha ou coluna específica. Isso pode ser feito combinando indexação e _slicing_, usando uma slice vazia marcada por dois pontos (:)."
   ]
  },
  {
   "cell_type": "code",
   "execution_count": 11,
   "metadata": {},
   "outputs": [
    {
     "name": "stdout",
     "output_type": "stream",
     "text": [
      "matA\n",
      " [[99  8  3  9  0]\n",
      " [ 6  9  2  7  2]\n",
      " [ 8  8  7  4  2]\n",
      " [ 4  0  6  9  5]\n",
      " [ 3  5  8  1  7]]\n",
      "Primeira linha de matA: \n",
      "[99  8  3  9  0]\n",
      "Segunda coluna de matA: \n",
      "[8 9 8 0 5]\n",
      "Primeira linha de matA: \n",
      "[99  8  3  9  0]\n"
     ]
    }
   ],
   "source": [
    "print(\"matA\\n\", matA)\n",
    "print(\"Primeira linha de matA: \") \n",
    "print(matA[0,:])\n",
    "print(\"Segunda coluna de matA: \")\n",
    "print(matA[:,1])\n",
    "\n",
    "#  no caso das linhas também é possível utilizar indexação simples\n",
    "\n",
    "print(\"Primeira linha de matA: \")\n",
    "print(matA[0])"
   ]
  },
  {
   "cell_type": "markdown",
   "metadata": {},
   "source": [
    "## Remodelando de matrizes: _reshape_\n",
    "\n",
    "Outro tipo útil de operação é a remodelagem de arrays, que pode ser feita com o método `reshape`.\n",
    "Por exemplo, se quiser colocar os números de 1 a 9 em uma grade $3 \\times 3$, você pode fazer o seguinte:"
   ]
  },
  {
   "cell_type": "code",
   "execution_count": 12,
   "metadata": {},
   "outputs": [
    {
     "name": "stdout",
     "output_type": "stream",
     "text": [
      "[[1 2 3]\n",
      " [4 5 6]\n",
      " [7 8 9]]\n"
     ]
    }
   ],
   "source": [
    "grid = np.arange(1, 10).reshape(3, 3)\n",
    "print(grid)"
   ]
  },
  {
   "cell_type": "markdown",
   "metadata": {},
   "source": [
    "Vejamos novamente aquele primeiro exemplo da aula"
   ]
  },
  {
   "cell_type": "code",
   "execution_count": 13,
   "metadata": {},
   "outputs": [
    {
     "name": "stdout",
     "output_type": "stream",
     "text": [
      "[7 0 3 7 6 3 5 0]\n"
     ]
    }
   ],
   "source": [
    "x_1 = np.random.randint(10, size=8) # array 1D\n",
    "print(x_1)"
   ]
  },
  {
   "cell_type": "markdown",
   "metadata": {},
   "source": [
    "Ele pode ser remodelado para uma matriz de $ 2 \\times 4$ ..."
   ]
  },
  {
   "cell_type": "code",
   "execution_count": 14,
   "metadata": {},
   "outputs": [
    {
     "name": "stdout",
     "output_type": "stream",
     "text": [
      "[7 0 3 7 6 3 5 0]\n",
      "[[7 0 3 7]\n",
      " [6 3 5 0]]\n",
      "[[99  0  3  7]\n",
      " [ 6  3  5  0]]\n",
      "[99  0  3  7  6  3  5  0]\n",
      "[[99  6]\n",
      " [ 0  3]\n",
      " [ 3  5]\n",
      " [ 7  0]]\n",
      "[[99 -6]\n",
      " [ 0  3]\n",
      " [ 3  5]\n",
      " [ 7  0]]\n",
      "[[99  0  3  7]\n",
      " [-6  3  5  0]]\n",
      "[99  0  3  7 -6  3  5  0]\n"
     ]
    }
   ],
   "source": [
    "x_2 = x_1.reshape(2, 4) # x_2 é uma outra forma de ver x_1\n",
    "print(x_1)              # x_1 continua sendo o mesmo\n",
    "print(x_2)              # x_2 é uma nova matriz\n",
    "x_2[0,0] = 99           # mas se ateramos x_2\n",
    "print(x_2)\n",
    "print(x_1)              # x_1 também é alterado!\n",
    "print(x_2.T)\n",
    "x_3 = x_2.T\n",
    "x_3[0, 1] = -6\n",
    "print(x_3)\n",
    "print(x_2)\n",
    "print(x_1)"
   ]
  },
  {
   "cell_type": "code",
   "execution_count": 15,
   "metadata": {},
   "outputs": [
    {
     "name": "stdout",
     "output_type": "stream",
     "text": [
      "4x2\n",
      "[[99  0]\n",
      " [ 3  7]\n",
      " [-6  3]\n",
      " [ 5  0]]\n",
      "2x2x2\n",
      "[[[99  0]\n",
      "  [ 3  7]]\n",
      "\n",
      " [[-6  3]\n",
      "  [ 5  0]]]\n"
     ]
    }
   ],
   "source": [
    "# veja outras formas de ver a mesma matriz\n",
    "print(\"4x2\")\n",
    "print(x_1.reshape(4, 2))\n",
    "print(\"2x2x2\")\n",
    "print(x_1.reshape(2, 2, 2))"
   ]
  },
  {
   "cell_type": "markdown",
   "metadata": {},
   "source": [
    "Para finalizar vamos retomar um exemplo que começamos a testar com listas na aula anterior: Multiplicação de Matrizes. \n",
    "Veja que agora podemos criar as matrizes como _ndarrays_ e forma simples."
   ]
  },
  {
   "cell_type": "code",
   "execution_count": 5,
   "metadata": {},
   "outputs": [
    {
     "name": "stdout",
     "output_type": "stream",
     "text": [
      "[[1. 2. 3.]\n",
      " [4. 5. 6.]\n",
      " [7. 8. 9.]]\n"
     ]
    }
   ],
   "source": [
    "#matA = [[1.0, 2.0, 3.0], [4.0, 5.0, 6.0], [7.0, 8.0, 9.0]]\n",
    "#matA = np.array(matA)\n",
    "matA = np.arange(1,10).reshape(3,3)\n",
    "#matB = [[1.0, 0.0, 0.0], [0.0, 1.0, 0.0], [0.0, 0.0, 1.0]]\n",
    "#matB = np.array(matB)\n",
    "matB = np.eye(3)\n",
    "#matC = [[0.0, 0.0, 0.0], [0.0, 0.0, 0.0], [0., 0., 0.0]]\n",
    "#matC = np.array(matC)\n",
    "matC = np.zeros((3,3))\n",
    "\n",
    "def GEMM(alpha, A, B, beta, C):\n",
    "    for i in range(len(A)):\n",
    "        for j in range(len(B[0])):\n",
    "            C[i][j] *= beta\n",
    "            for k in range(len(A[0])):\n",
    "                C[i][j] += alpha * A[i][k] * B[k][j]\n",
    "    return C\n",
    "\n",
    "matC = GEMM(1.0, matA, matB, 0.0, matC)\n",
    "print(matC)"
   ]
  },
  {
   "cell_type": "code",
   "execution_count": 6,
   "metadata": {},
   "outputs": [
    {
     "name": "stdout",
     "output_type": "stream",
     "text": [
      "512 512\n",
      "(512, 512) (512, 512) (512, 512)\n",
      "float64 float64 float64\n",
      "262144 262144 262144\n"
     ]
    }
   ],
   "source": [
    "matSize = 512\n",
    "#matA = [[random() for i in range(matSize)] for j in range(matSize)]\n",
    "matA = np.random.random((matSize, matSize))\n",
    "#matB = [[random() for i in range(matSize)] for j in range(matSize)]\n",
    "matB = np.random.random((matSize, matSize))\n",
    "#matC = [[random() for i in range(matSize)] for j in range(matSize)]\n",
    "matC = np.random.random((matSize, matSize))\n",
    "print(len(matA), len(matA[0]))\n",
    "print(matA.shape, matB.shape, matC.shape)\n",
    "print(matA.dtype, matB.dtype, matC.dtype)\n",
    "print(matA.size, matB.size, matC.size)\n"
   ]
  },
  {
   "cell_type": "code",
   "execution_count": 7,
   "metadata": {},
   "outputs": [
    {
     "name": "stdout",
     "output_type": "stream",
     "text": [
      "54.5 s ± 512 ms per loop (mean ± std. dev. of 7 runs, 1 loop each)\n"
     ]
    }
   ],
   "source": [
    "%timeit GEMM(2.0, matA, matB, 0.5, matC)"
   ]
  },
  {
   "cell_type": "code",
   "execution_count": null,
   "metadata": {},
   "outputs": [],
   "source": []
  }
 ],
 "metadata": {
  "kernelspec": {
   "display_name": "Python 3 (ipykernel)",
   "language": "python",
   "name": "python3"
  },
  "language_info": {
   "codemirror_mode": {
    "name": "ipython",
    "version": 3
   },
   "file_extension": ".py",
   "mimetype": "text/x-python",
   "name": "python",
   "nbconvert_exporter": "python",
   "pygments_lexer": "ipython3",
   "version": "3.10.14"
  }
 },
 "nbformat": 4,
 "nbformat_minor": 4
}
