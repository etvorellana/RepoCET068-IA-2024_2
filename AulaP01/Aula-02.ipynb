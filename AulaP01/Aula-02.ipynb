{
 "cells": [
  {
   "cell_type": "markdown",
   "metadata": {},
   "source": [
    "# Módulo de Programação Python: Introdução à Linguagem\n",
    "\n",
    "# Aula - 02\n",
    "\n",
    "## Apresentação de Python: Estruturas de controle de fluxo"
   ]
  },
  {
   "cell_type": "markdown",
   "metadata": {},
   "source": [
    "__Objetivo__: Explorar o uso de tipos de dados avançados em python: dicionários e conjuntos. Explorar a implementação de estruturas de controle de fluxo, estruturas condicionais e de repetição, em python. "
   ]
  },
  {
   "cell_type": "markdown",
   "metadata": {},
   "source": [
    "#### Tipos de dados estruturados nativos \n",
    "\n",
    "Além dos tipos mais simples __Python__ fornece um conjunto de tipos de dados estruturados muito rico e interessante. \n",
    "\n",
    "| Nome      | Exemplo                   | Descrição                              | \n",
    "|-----------|---------------------------|--------------------------------------- |\n",
    "| `list`    | `[1, 2, 3]`               | Coleção ordenada                       |\n",
    "| `tuple`   | `(1, 2, 3)`               | Coleção imutável ordenada             |\n",
    "| `dict`    | `{'a':1, 'b':2, 'c':3}`   | Mapeamento do tipo (chave, valor)      |\n",
    "| `set`     | `{1, 2, 3}`               | Coleção não ordenada de valores únicos |\n",
    "\n",
    "Vamos continuar a nos debruçar sobre cada um destes tipos. \n",
    "\n",
    "Na aula anterior apresentamos listas e tuplas."
   ]
  },
  {
   "cell_type": "code",
   "execution_count": 1,
   "metadata": {},
   "outputs": [
    {
     "name": "stdout",
     "output_type": "stream",
     "text": [
      "L_int = [1, 2, 3, 4]\n",
      "L_str = ['Nome', 'EMail', 'CPF']\n",
      "L_mix = [1, 'Nome', 3.14]\n",
      "L_list_int = [[1, 2, 3], [4, 5, 6]]\n",
      "l_list = [[1, 2, 3, 4], ['Nome', 'EMail', 'CPF'], [1, 'Nome', 3.14], [[1, 2, 3], [4, 5, 6]]]\n"
     ]
    }
   ],
   "source": [
    "L_int = [1, 2, 3, 4]                # Lista de inteiros\n",
    "L_str = ['Nome', 'EMail', 'CPF']    # Lista de strings\n",
    "L_mix = [1, 'Nome', 3.14]           # Lista mista\n",
    "L_list_int = [[1, 2, 3], [4, 5, 6]]     # Lista de listas de inteiros\n",
    "l_list  = [L_int, L_str, L_mix, L_list_int]  # Lista de listas\n",
    "\n",
    "print('L_int =', L_int)\n",
    "print('L_str =', L_str)\n",
    "print('L_mix =', L_mix)\n",
    "print('L_list_int =', L_list_int)\n",
    "print('l_list =', l_list)"
   ]
  },
  {
   "cell_type": "code",
   "execution_count": 2,
   "metadata": {},
   "outputs": [
    {
     "name": "stdout",
     "output_type": "stream",
     "text": [
      "point2D = (1.0, 1.0)\n",
      "point3D = (1.0, 1.0, 1.0)\n",
      "registro = ('Nome', 'EMail', 'CPF')\n",
      "tupla_tuplas = ((1.0, 1.0), (1.0, 1.0, 1.0), ('Nome', 'EMail', 'CPF'))\n"
     ]
    }
   ],
   "source": [
    "point2D = (1.0, 1.0)\n",
    "point3D = (1.0, 1.0, 1.0)\n",
    "registro = ('Nome', 'EMail', 'CPF')\n",
    "tupla_tuplas = (point2D, point3D, registro)\n",
    "print('point2D =', point2D)\n",
    "print('point3D =', point3D)\n",
    "print('registro =', registro)\n",
    "print('tupla_tuplas =', tupla_tuplas)"
   ]
  },
  {
   "cell_type": "code",
   "execution_count": 3,
   "metadata": {},
   "outputs": [
    {
     "name": "stdout",
     "output_type": "stream",
     "text": [
      "lista_tuplas = [(1.0, 1.0), (1.0, 1.0, 1.0), ('Nome', 'EMail', 'CPF')]\n",
      "tupla_listas = ([1, 2, 3, 4], ['Nome', 'EMail', 'CPF'], [1, 'Nome', 3.14], [[1, 2, 3], [4, 5, 6]])\n"
     ]
    }
   ],
   "source": [
    "lista_tuplas = [point2D, point3D, registro]\n",
    "tupla_listas = (L_int, L_str, L_mix, L_list_int)\n",
    "print('lista_tuplas =', lista_tuplas)\n",
    "print('tupla_listas =', tupla_listas)"
   ]
  },
  {
   "cell_type": "code",
   "execution_count": 4,
   "metadata": {},
   "outputs": [
    {
     "name": "stdout",
     "output_type": "stream",
     "text": [
      "L_int = [1, 2, 3, 4]\n",
      "L_int = ['Nome', 2, 3, 4]\n"
     ]
    }
   ],
   "source": [
    "#litas são mutáveis\n",
    "print('L_int =', L_int)\n",
    "L_int[0] = 'Nome'\n",
    "print('L_int =', L_int)"
   ]
  },
  {
   "cell_type": "code",
   "execution_count": 5,
   "metadata": {},
   "outputs": [
    {
     "name": "stdout",
     "output_type": "stream",
     "text": [
      "point2D = (1.0, 1.0)\n",
      "TypeError: 'tuple' object does not support item assignment\n",
      "point2D = (1.0, 1.0)\n"
     ]
    }
   ],
   "source": [
    "#tuplas são imutáveis\n",
    "print('point2D =', point2D)\n",
    "try:\n",
    "    point2D[0] = 2.0\n",
    "except TypeError as err:\n",
    "    print('TypeError:', err)\n",
    "print('point2D =', point2D)"
   ]
  },
  {
   "cell_type": "markdown",
   "metadata": {},
   "source": [
    "##### Dicionários\n",
    "\n",
    "Este é, provavelmente, o tipo mais interessante entre os tipos de dados estruturados nativos de __Python__. \n",
    "\n",
    "O dicionário não parece com quase nada do que encontramos em outras linguagens mais tradicionais. Para declarar um dicionário utilizamos um conjunto de pares chave valor, no formato `{chave:valor, }`, separados por vírgula e delimitado por chaves. \n",
    "\n",
    "O acesso aos elementos do dicionário utiliza mais uma vez índices, mas desta vez não se trata de um mecanismo de indexação numérico começando em zero. Os índices dos dicionários são as chaves. \n",
    "\n",
    "Os dicionários são tipos de dados mutáveis.\n",
    "\n",
    "Veja os seguintes exemplos:"
   ]
  },
  {
   "cell_type": "code",
   "execution_count": 6,
   "metadata": {},
   "outputs": [
    {
     "name": "stdout",
     "output_type": "stream",
     "text": [
      "Nome:  Jonas\n",
      "Registro completo:  {'Nome': 'Juninho', 'SobreNome': 'Oliveira', 'Idade': 25, 'Altura': 1.85, 'Peso': 88.3}\n",
      "dict_keys(['Nome', 'SobreNome', 'Idade', 'Altura', 'Peso'])\n",
      "dict_values(['Juninho', 'Oliveira', 25, 1.85, 88.3])\n",
      "dict_items([('Nome', 'Juninho'), ('SobreNome', 'Oliveira'), ('Idade', 25), ('Altura', 1.85), ('Peso', 88.3)])\n"
     ]
    }
   ],
   "source": [
    "# Declarando um dicionário\n",
    "meuReg = {'Nome': \"Jonas\", 'SobreNome': \"Oliveira\", \"Idade\":25, \"Altura\":1.85}\n",
    "# Acessando um elemento do dicionário\n",
    "print(\"Nome: \", meuReg['Nome'])\n",
    "# Os dicionários são mutáveis\n",
    "# Modificando um elemento do dicionario\n",
    "meuReg['Nome'] = \"Juninho\"\n",
    "# Adicionando um novo elemento\n",
    "meuReg['Peso'] = 88.3\n",
    "# Imprimindo o dicionário\n",
    "print(\"Registro completo: \", meuReg)\n",
    "print(meuReg.keys())\n",
    "print(meuReg.values())\n",
    "print(meuReg.items())\n"
   ]
  },
  {
   "cell_type": "markdown",
   "metadata": {},
   "source": [
    "##### Conjuntos\n",
    "\n",
    "Finalmente os conjuntos são declarados como as listas, substituindo os colchetes por chaves. \n",
    "\n",
    "Para os matemáticos pode ficar mais simples entender este tipo de dado se os associamos a conjuntos matemáticos, para os quais estão definidos uma série de operações bem conhecidas. \n",
    "\n",
    "Os conjuntos, embora mutáveis, não são ordenados. Portanto, não há espaço para indexação. A indexação e o slicing não podem alterar ou acessar um item de um conjunto, pois um conjunto python não oferece suporte para indexação em conjuntos.\n",
    "\n",
    "Veja os exemplos a seguir:"
   ]
  },
  {
   "cell_type": "code",
   "execution_count": 7,
   "metadata": {},
   "outputs": [
    {
     "name": "stdout",
     "output_type": "stream",
     "text": [
      "TypeError: 'set' object is not subscriptable\n",
      "Conjunto P,  {2, 4, 6, 8, 10}\n",
      "Conjunto I,  {1, 3, 5, 7, 9}\n",
      "União,  {1, 2, 3, 4, 5, 6, 7, 8, 9, 10}\n",
      "Intersecção,  set()\n",
      "Deferença,  {2, 4, 6, 8, 10}\n",
      "Deferença,  {1, 3, 5, 7, 9}\n"
     ]
    }
   ],
   "source": [
    "# Declarando conjuntos\n",
    "#P = { 2, 4, 5, 6, 8, 10}\n",
    "P = { 2, 4, 6, 8, 10}\n",
    "I = {1, 3, 5, 7 , 9}\n",
    "try:\n",
    "    print(\"P[0] = \", P[0])\n",
    "except TypeError as err:\n",
    "    print('TypeError:', err)\n",
    "# União de conjuntos\n",
    "num = P.union(I) # equivalente a P | I\n",
    "nulo = I.intersection(P) # equivalente a I & P\n",
    "difPdeI = P.difference(I) # equivalente a P - I\n",
    "difIdeP = I.difference(P) # equivalente a I - P\n",
    "print(\"Conjunto P, \", P)\n",
    "print(\"Conjunto I, \", I)\n",
    "print(\"União, \", num)\n",
    "print(\"Intersecção, \", nulo )\n",
    "print(\"Diferença, \", difPdeI)\n",
    "print(\"Diferença, \", difIdeP)"
   ]
  },
  {
   "cell_type": "markdown",
   "metadata": {},
   "source": [
    "#### Estruturas de controle de fluxo\n",
    "\n",
    "Com o conteúdo apresentado até aqui somos capasses de entender um pouco o __Python__ e brincar, de forma bastante limitada, com um interpretador como o __IPython__. \n",
    "\n",
    "Para andar soltos no mundo, implementando algoritmos, se faz necessário entender como controlar uma sequência de comandos de forma a executar determinados blocos de acordo com condições específicas, ou então de forma repetitiva, recorrente ou recursiva. \n",
    "\n",
    "Nos próximos tópicos abordaremos de forma rápida estruturas condicionais, como __if__, __elif__ e __else__, e estruturas de repetição, incluindo os tradicionais __for__ e __while__.\n",
    "\n",
    "##### Estrutura condicional: if - elif - else:\n",
    "\n",
    "Estruturas condicionadas, geralmente conhecidas como comandos `if-then`, permitem que o código execute um determinado bloco de instruções apenas se uma determinada condição for satisfeita. \n",
    "\n",
    "Em __Python__ se introduz a tradicional estrutura `if-else`, acrescentando apenas o `elif` que é uma contração para quando seja necessário utilizar um `else if` (o clássico `if` aninhado). \n",
    "\n",
    "Veja alguns exemplos simples:"
   ]
  },
  {
   "cell_type": "code",
   "execution_count": 8,
   "metadata": {},
   "outputs": [
    {
     "name": "stdout",
     "output_type": "stream",
     "text": [
      "x =  0.0\n",
      "x =  3.14\n",
      "x =  -1\n",
      "-1 negativo\n"
     ]
    }
   ],
   "source": [
    "# podemos utilizar uma variável bool diretamente\n",
    "condição = True\n",
    "#condição = False\n",
    "# veja como usar uma condição if simples\n",
    "x = 0.0\n",
    "print(\"x = \", x)\n",
    "\n",
    "#if condição:\n",
    "if condição:\n",
    "    x = 3.14\n",
    "# Após a estrutura condicional\n",
    "print(\"x = \", x)\n",
    "\n",
    "# Podemos utilizar também uma condição com duas alternativas\n",
    "if x > 0:\n",
    "    x = -1\n",
    "else:\n",
    "    x = 1\n",
    "# Após a nova estrutura condicional    \n",
    "print(\"x = \", x)\n",
    "\n",
    "# Ou estruturas condicionais aninhadas\n",
    "if x == 0:\n",
    "    print(x, \"zero\")\n",
    "elif x > 0:\n",
    "    print(x, \"positivo\")\n",
    "elif x < 0:\n",
    "    print(x, \"negativo\")\n",
    "else:\n",
    "    print(x, \"não é um valor numérico...\")"
   ]
  },
  {
   "cell_type": "code",
   "execution_count": 9,
   "metadata": {},
   "outputs": [
    {
     "name": "stdout",
     "output_type": "stream",
     "text": [
      "Voce quer ir na festa?\n",
      "Ta muito novinho. Vai dormir que é melhor.\n"
     ]
    }
   ],
   "source": [
    "print(\"Voce quer ir na festa?\")\n",
    "idade = int(input(\"Qual a sua idade? \"))\n",
    "\n",
    "if idade > 70:\n",
    "    print(\"Você está muito velho para festa!!! Vai tomar seu remedio e dormir.\")\n",
    "elif idade < 1:\n",
    "    print(\"Nem saiu das fraldas e está querendo ir para a farra!!\")\n",
    "elif idade >= 18:\n",
    "    print(\"Bem vindo na festa!\")\n",
    "else: \n",
    "    print(\"Ta muito novinho. Vai dormir que é melhor.\")"
   ]
  },
  {
   "cell_type": "markdown",
   "metadata": {},
   "source": [
    "Da versão __3.10__ em diante, o __Python__ implementou um recurso semelhante ao `switch-case` chamado “correspondência de padrões estruturais”. Você pode implementar esse recurso com as palavras-chave `match-case`.\n",
    "\n",
    "Algumas pessoas debatem se match e case são ou não palavras-chave em Python. Isso ocorre porque você pode usar ambos como nomes de variáveis ​​e funções. Mas isso é outra história para outro dia.\n",
    "\n",
    "Você pode referir-se a ambas as palavras-chave como \"palavras-chave suaves\", se desejar.\n",
    "\n",
    "Vejam como se fazia antes do `match-case`"
   ]
  },
  {
   "cell_type": "code",
   "execution_count": 10,
   "metadata": {},
   "outputs": [
    {
     "name": "stdout",
     "output_type": "stream",
     "text": [
      "Segunda-feira\n"
     ]
    }
   ],
   "source": [
    "diaSemana = 1\n",
    "\n",
    "if diaSemana == 1:\n",
    "    print(\"Segunda-feira\")\n",
    "elif diaSemana == 2:\n",
    "    print(\"Terça-feira\")\n",
    "elif diaSemana == 3:\n",
    "    print(\"Quarta-feira\")\n",
    "elif diaSemana == 4:\n",
    "    print(\"Quinta-feira\")\n",
    "elif diaSemana == 5:\n",
    "    print(\"Sexta-feira\")\n",
    "elif diaSemana == 6:\n",
    "    print(\"Sábado\")\n",
    "elif diaSemana == 7:\n",
    "    print(\"Domingo\")\n",
    "else:\n",
    "    print(\"Dia inválido\")"
   ]
  },
  {
   "cell_type": "markdown",
   "metadata": {},
   "source": [
    "Para escrever instruções switch você pode usar a sintaxe abaixo:\n",
    "```\n",
    "match term:\n",
    "    case pattern-1:\n",
    "         action-1\n",
    "    case pattern-2:\n",
    "         action-2\n",
    "    case pattern-3:\n",
    "         action-3\n",
    "    case _:\n",
    "        action-default\n",
    "```\n",
    "Veja que o símbolo de sublinhado é utilizado para definir um caso padrão."
   ]
  },
  {
   "cell_type": "code",
   "execution_count": 11,
   "metadata": {},
   "outputs": [
    {
     "name": "stdout",
     "output_type": "stream",
     "text": [
      "Segunda-feira\n"
     ]
    }
   ],
   "source": [
    "diaSemana = 1\n",
    "\n",
    "match diaSemana:\n",
    "    case 1:\n",
    "        print(\"Segunda-feira\")\n",
    "    case 2:\n",
    "        print(\"Terça-feira\")\n",
    "    case 3:\n",
    "        print(\"Quarta-feira\")\n",
    "    case 4:\n",
    "        print(\"Quinta-feira\")\n",
    "    case 5:\n",
    "        print(\"Sexta-feira\")\n",
    "    case 6:\n",
    "        print(\"Sábado\")\n",
    "    case 7:\n",
    "        print(\"Domingo\")\n",
    "    case _:\n",
    "        print(\"Dia inválido\")"
   ]
  },
  {
   "cell_type": "markdown",
   "metadata": {},
   "source": [
    "## Estrutura de repetição for\n",
    "\n",
    "Estruturas de repetição ou laços, são utilizados para executar um determinado bloco de instruções repetidas vezes. O tradicional construtor de estruturas de repetição `for` está disponível com uma abordagem um pouco diferentes. Veja um exemplo simples em __Python__:"
   ]
  },
  {
   "cell_type": "code",
   "execution_count": 12,
   "metadata": {},
   "outputs": [
    {
     "name": "stdout",
     "output_type": "stream",
     "text": [
      "PpI: [ 1 3 5 7 9 ]\n"
     ]
    }
   ],
   "source": [
    "PpI = [1, 3, 5, 7, 9]\n",
    "print(\"PpI: [ \", end='')\n",
    "for x in PpI:\n",
    "    print(x, end=' ')  # imprimindo todos os elementos na mesma linha\n",
    "print(\"]\")"
   ]
  },
  {
   "cell_type": "markdown",
   "metadata": {},
   "source": [
    "Reparem que neste exemplo utilizamos o operador `in` para ligar a variável de controle do laço `x`, com o conjunto de valores possíveis (pode se ler \"para cada valor x que pertencem àlista PpI). \n",
    "\n",
    "Veja um outro exemplo:"
   ]
  },
  {
   "cell_type": "code",
   "execution_count": 13,
   "metadata": {},
   "outputs": [
    {
     "name": "stdout",
     "output_type": "stream",
     "text": [
      "ovos\n",
      "farinha\n",
      "leite\n",
      "maças\n"
     ]
    }
   ],
   "source": [
    "listaCompras = ['ovos', 'farinha', 'leite', 'maças']\n",
    "for item in listaCompras:\n",
    "    print(item)"
   ]
  },
  {
   "cell_type": "code",
   "execution_count": 14,
   "metadata": {},
   "outputs": [
    {
     "name": "stdout",
     "output_type": "stream",
     "text": [
      "1  -  ovos\n",
      "2  -  farinha\n",
      "3  -  leite\n",
      "4  -  maças\n"
     ]
    }
   ],
   "source": [
    "cont = 1\n",
    "for item in listaCompras:\n",
    "    print(cont, \" - \", item)\n",
    "    cont = cont + 1"
   ]
  },
  {
   "cell_type": "markdown",
   "metadata": {},
   "source": [
    "Seria interessanto podermos enumerar os itens da lista, sobre tudo no contexto de uma lista de compras. A função `enumerate()` pode ajudar. Esta função gera um iterador, a partir da lista, que retorna uma dupla contendo o cada elemento precedido de seu índice.\n",
    "\n",
    "Veja p exemplo:"
   ]
  },
  {
   "cell_type": "code",
   "execution_count": 15,
   "metadata": {},
   "outputs": [
    {
     "name": "stdout",
     "output_type": "stream",
     "text": [
      "(0, 'ovos')\n",
      "(1, 'farinha')\n",
      "(2, 'leite')\n",
      "(3, 'maças')\n"
     ]
    }
   ],
   "source": [
    "for dupla in enumerate(listaCompras):\n",
    "    print(dupla)"
   ]
  },
  {
   "cell_type": "code",
   "execution_count": 16,
   "metadata": {},
   "outputs": [
    {
     "name": "stdout",
     "output_type": "stream",
     "text": [
      "0 - ovos\n",
      "1 - farinha\n",
      "2 - leite\n",
      "3 - maças\n"
     ]
    }
   ],
   "source": [
    "for dupla in enumerate(listaCompras):\n",
    "    print(dupla[0], '-', dupla[1])"
   ]
  },
  {
   "cell_type": "code",
   "execution_count": 17,
   "metadata": {},
   "outputs": [
    {
     "name": "stdout",
     "output_type": "stream",
     "text": [
      "1 - ovos\n",
      "2 - farinha\n",
      "3 - leite\n",
      "4 - maças\n"
     ]
    }
   ],
   "source": [
    "for dupla in enumerate(listaCompras):\n",
    "    print(dupla[0]+1, '-', dupla[1])"
   ]
  },
  {
   "cell_type": "code",
   "execution_count": 18,
   "metadata": {},
   "outputs": [
    {
     "name": "stdout",
     "output_type": "stream",
     "text": [
      "1 - ovos\n",
      "2 - farinha\n",
      "3 - leite\n",
      "4 - maças\n"
     ]
    }
   ],
   "source": [
    "for index, valor in enumerate(listaCompras):\n",
    "    print(index + 1, '-', valor)"
   ]
  },
  {
   "cell_type": "markdown",
   "metadata": {},
   "source": [
    "O mesmo código poderia ser implementado utilizando a função `range()`.\n",
    "\n",
    "A função `range()` retora um _itarator_ ed números inteiros. "
   ]
  },
  {
   "cell_type": "code",
   "execution_count": 19,
   "metadata": {},
   "outputs": [
    {
     "name": "stdout",
     "output_type": "stream",
     "text": [
      "<class 'range'>\n",
      "range(0, 10)\n",
      "[0, 1, 2, 3, 4, 5, 6, 7, 8, 9]\n",
      "0\n",
      "1\n",
      "2\n",
      "3\n",
      "4\n",
      "5\n",
      "6\n",
      "7\n",
      "8\n",
      "9\n"
     ]
    }
   ],
   "source": [
    "itera = range(10)\n",
    "print(type(itera))\n",
    "print(itera)\n",
    "print(list(itera))\n",
    "dir(itera)\n",
    "itera = iter(itera)\n",
    "print(next(itera))\n",
    "print(next(itera))\n",
    "print(next(itera))\n",
    "print(next(itera))\n",
    "print(next(itera))\n",
    "print(next(itera))\n",
    "print(next(itera))\n",
    "print(next(itera))\n",
    "print(next(itera))\n",
    "print(next(itera))"
   ]
  },
  {
   "cell_type": "markdown",
   "metadata": {},
   "source": [
    "Como vimos no exemplo anterior, o iterador precisa um perámetro de entrada que representa o fim do processo iterativo. o iterador gera uma sequencia de números inteiros que começa em 0 e vai até o valor final, que não está incluído.\n",
    "Para visualizar os valores gerados podemos transaformar o iterador numa lista:  "
   ]
  },
  {
   "cell_type": "code",
   "execution_count": 20,
   "metadata": {},
   "outputs": [
    {
     "name": "stdout",
     "output_type": "stream",
     "text": [
      "range(  10  ) -  <class 'range'> :  [0, 1, 2, 3, 4, 5, 6, 7, 8, 9]\n"
     ]
    }
   ],
   "source": [
    "# a função range retorna um iterator de números inteiros\n",
    "# pode ser usada definindo apenas o valor final, que não estará incluído \n",
    "fim = 10\n",
    "itera = range(fim)\n",
    "print(\"range( \", fim, \" ) - \", type(itera), \": \", list(itera))"
   ]
  },
  {
   "cell_type": "markdown",
   "metadata": {},
   "source": [
    "O valor inicial do iterador pode ser modificado. Com isto será necessário passar dois parâmetros para a função."
   ]
  },
  {
   "cell_type": "code",
   "execution_count": 21,
   "metadata": {},
   "outputs": [
    {
     "name": "stdout",
     "output_type": "stream",
     "text": [
      "range(  2 ,  10  ) -  <class 'range'> :  [2, 3, 4, 5, 6, 7, 8, 9]\n"
     ]
    }
   ],
   "source": [
    "# pode ser definindo também o valor inicial, que estará incluído \n",
    "ini = 2\n",
    "itera = range(ini, fim)\n",
    "print(\"range( \", ini, \", \", fim, \" ) - \", type(itera), \": \", list(itera))"
   ]
  },
  {
   "cell_type": "markdown",
   "metadata": {},
   "source": [
    "Repare que o valor inicial está incluído na sequencia gerada. \n",
    "\n",
    "Pose-se definir ainda um valor para o incremento que, por padrão, é um. "
   ]
  },
  {
   "cell_type": "code",
   "execution_count": 22,
   "metadata": {},
   "outputs": [
    {
     "name": "stdout",
     "output_type": "stream",
     "text": [
      "range(  2 ,  10 ,  2  ) -  <class 'range'> :  [2, 4, 6, 8]\n"
     ]
    }
   ],
   "source": [
    "# pode ainda ser definindo também o valor do incremento\n",
    "passo = 2\n",
    "itera = range(ini, fim, passo)\n",
    "print(\"range( \", ini, \", \", fim, \", \", passo, \" ) - \", type(itera), \": \", list(itera))"
   ]
  },
  {
   "cell_type": "markdown",
   "metadata": {},
   "source": [
    "Veja como fica o exemplo da lista anterior utilizando `range()`"
   ]
  },
  {
   "cell_type": "code",
   "execution_count": 23,
   "metadata": {},
   "outputs": [
    {
     "name": "stdout",
     "output_type": "stream",
     "text": [
      "PpI: [  1 3 5 7 9 ]\n",
      "\n",
      "1 ovos\n",
      "2 farinha\n",
      "3 leite\n",
      "4 maças\n"
     ]
    }
   ],
   "source": [
    "# No caso da lista de inteiros\n",
    "print(\"PpI: [ \", end=' ')\n",
    "for i in range(len(PpI)):\n",
    "    print(PpI[i], end=' ')  \n",
    "print(\"]\")\n",
    "\n",
    "print()\n",
    "\n",
    "# No caso da lista de compras\n",
    "for i in range(len(listaCompras)):\n",
    "    print(i+1, listaCompras[i])"
   ]
  },
  {
   "cell_type": "markdown",
   "metadata": {},
   "source": [
    "O modelo de repetição for é muito útil para iterar sobre sequências, como listas, tuplas, strings, etc. \n",
    "\n",
    "Veja os exemplo abaixo:"
   ]
  },
  {
   "cell_type": "code",
   "execution_count": 24,
   "metadata": {},
   "outputs": [
    {
     "name": "stdout",
     "output_type": "stream",
     "text": [
      "EblTmsVlr rlaa\n",
      "EblTmsVlr rlaa\n",
      "EblTmsVlr rlaa"
     ]
    }
   ],
   "source": [
    "Nome = \"Esbel Tomas Valero Orellana\"\n",
    "print(Nome[::2])\n",
    "for chr in Nome[::2]:\n",
    "    print(chr, end='')\n",
    "\n",
    "print()\n",
    "\n",
    "for i in range(0, len(Nome), 2):\n",
    "    print(Nome[i], end='')"
   ]
  },
  {
   "cell_type": "code",
   "execution_count": 25,
   "metadata": {},
   "outputs": [
    {
     "name": "stdout",
     "output_type": "stream",
     "text": [
      "1 2 3 4 5 \n",
      "1 2 3 4 5 "
     ]
    }
   ],
   "source": [
    "tupla = (1, 2, 3, 4, 5)\n",
    "for i in tupla:\n",
    "    print(i, end=' ')\n",
    "\n",
    "print()\n",
    "\n",
    "for i in range(len(tupla)):\n",
    "    print(tupla[i], end=' ')"
   ]
  },
  {
   "cell_type": "code",
   "execution_count": 26,
   "metadata": {},
   "outputs": [
    {
     "name": "stdout",
     "output_type": "stream",
     "text": [
      "2 4 5 6 8 10 "
     ]
    }
   ],
   "source": [
    "P = { 2, 4, 5, 6, 8, 10}\n",
    "for i in P:\n",
    "    print(i, end=' ')"
   ]
  },
  {
   "cell_type": "markdown",
   "metadata": {},
   "source": [
    "Como  fazer para percorrer dicionarios?"
   ]
  },
  {
   "cell_type": "code",
   "execution_count": 27,
   "metadata": {},
   "outputs": [
    {
     "name": "stdout",
     "output_type": "stream",
     "text": [
      "Por padrão percoremos as chaves do dicionário\n",
      "Nome : Jonas SobreNome : Oliveira Idade : 25 Altura : 1.85 \n",
      "Podemos indicar que queremos percorrer as chaves de forma explícita\n",
      "Nome : Jonas olaNome\n",
      "SobreNome : Oliveira olaSobreNome\n",
      "Idade : 25 olaIdade\n",
      "Altura : 1.85 olaAltura\n",
      "\n",
      "Podemos indicar que queremos percorrer os valores de forma explícita\n",
      "Jonas Oliveira 25 1.85 \n",
      "Podemos indicar que queremos percorrer os itens de forma explícita\n",
      "Nome : Jonas SobreNome : Oliveira Idade : 25 Altura : 1.85 "
     ]
    }
   ],
   "source": [
    "dic = {'Nome': \"Jonas\", 'SobreNome': \"Oliveira\", \"Idade\":25, \"Altura\":1.85}\n",
    "print(\"Por padrão percoremos as chaves do dicionário\")\n",
    "for i in dic:\n",
    "    print(i, \":\", dic[i], end=' ') \n",
    "\n",
    "print()\n",
    "print(\"Podemos indicar que queremos percorrer as chaves de forma explícita\")\n",
    "\n",
    "for i in dic.keys():\n",
    "    print(i, \":\", dic[i], end=' ')\n",
    "    i = \"ola\" + i\n",
    "    print(i)\n",
    "    #print(i, \":\", dic[i], end=' ')\n",
    "\n",
    "print()\n",
    "print(\"Podemos indicar que queremos percorrer os valores de forma explícita\")\n",
    "\n",
    "for i in dic.values():\n",
    "    print(i, end=' ')\n",
    "\n",
    "print()\n",
    "print(\"Podemos indicar que queremos percorrer os itens de forma explícita\")\n",
    "\n",
    "for chave, valor in dic.items():\n",
    "    print(chave,':', valor, end=' ')\n"
   ]
  },
  {
   "cell_type": "code",
   "execution_count": 28,
   "metadata": {},
   "outputs": [
    {
     "name": "stdout",
     "output_type": "stream",
     "text": [
      "Vamos calcular o fatorial de um número.\n",
      "1 - 1\n",
      "2 - 2\n",
      "3 - 6\n",
      "4 - 24\n",
      "5 - 120\n",
      "6 - 720\n",
      "7 - 5040\n",
      "8 - 40320\n",
      "9 - 362880\n",
      "10 - 3628800\n",
      "11 - 39916800\n",
      "12 - 479001600\n",
      "13 - 6227020800\n",
      "14 - 87178291200\n",
      "15 - 1307674368000\n",
      "16 - 20922789888000\n",
      "17 - 355687428096000\n",
      "18 - 6402373705728000\n",
      "19 - 121645100408832000\n",
      "20 - 2432902008176640000\n",
      "21 - 51090942171709440000\n",
      "22 - 1124000727777607680000\n",
      "23 - 25852016738884976640000\n",
      "24 - 620448401733239439360000\n",
      "25 - 15511210043330985984000000\n",
      "26 - 403291461126605635584000000\n",
      "27 - 10888869450418352160768000000\n",
      "28 - 304888344611713860501504000000\n",
      "29 - 8841761993739701954543616000000\n",
      "30 - 265252859812191058636308480000000\n",
      "31 - 8222838654177922817725562880000000\n",
      "32 - 263130836933693530167218012160000000\n",
      "33 - 8683317618811886495518194401280000000\n",
      "34 - 295232799039604140847618609643520000000\n",
      "35 - 10333147966386144929666651337523200000000\n",
      "36 - 371993326789901217467999448150835200000000\n",
      "37 - 13763753091226345046315979581580902400000000\n",
      "38 - 523022617466601111760007224100074291200000000\n",
      "39 - 20397882081197443358640281739902897356800000000\n",
      "40 - 815915283247897734345611269596115894272000000000\n",
      "41 - 33452526613163807108170062053440751665152000000000\n",
      "42 - 1405006117752879898543142606244511569936384000000000\n",
      "43 - 60415263063373835637355132068513997507264512000000000\n",
      "44 - 2658271574788448768043625811014615890319638528000000000\n",
      "45 - 119622220865480194561963161495657715064383733760000000000\n",
      "46 - 5502622159812088949850305428800254892961651752960000000000\n",
      "47 - 258623241511168180642964355153611979969197632389120000000000\n",
      "48 - 12413915592536072670862289047373375038521486354677760000000000\n",
      "49 - 608281864034267560872252163321295376887552831379210240000000000\n",
      "50 - 30414093201713378043612608166064768844377641568960512000000000000\n",
      "51 - 1551118753287382280224243016469303211063259720016986112000000000000\n",
      "52 - 80658175170943878571660636856403766975289505440883277824000000000000\n",
      "53 - 4274883284060025564298013753389399649690343788366813724672000000000000\n",
      "54 - 230843697339241380472092742683027581083278564571807941132288000000000000\n",
      "55 - 12696403353658275925965100847566516959580321051449436762275840000000000000\n",
      "56 - 710998587804863451854045647463724949736497978881168458687447040000000000000\n",
      "57 - 40526919504877216755680601905432322134980384796226602145184481280000000000000\n",
      "58 - 2350561331282878571829474910515074683828862318181142924420699914240000000000000\n",
      "59 - 138683118545689835737939019720389406345902876772687432540821294940160000000000000\n",
      "60 - 8320987112741390144276341183223364380754172606361245952449277696409600000000000000\n",
      "61 - 507580213877224798800856812176625227226004528988036003099405939480985600000000000000\n",
      "62 - 31469973260387937525653122354950764088012280797258232192163168247821107200000000000000\n",
      "63 - 1982608315404440064116146708361898137544773690227268628106279599612729753600000000000000\n",
      "64 - 126886932185884164103433389335161480802865516174545192198801894375214704230400000000000000\n",
      "65 - 8247650592082470666723170306785496252186258551345437492922123134388955774976000000000000000\n",
      "66 - 544344939077443064003729240247842752644293064388798874532860126869671081148416000000000000000\n",
      "67 - 36471110918188685288249859096605464427167635314049524593701628500267962436943872000000000000000\n",
      "68 - 2480035542436830599600990418569171581047399201355367672371710738018221445712183296000000000000000\n",
      "69 - 171122452428141311372468338881272839092270544893520369393648040923257279754140647424000000000000000\n",
      "70 - 11978571669969891796072783721689098736458938142546425857555362864628009582789845319680000000000000000\n",
      "71 - 850478588567862317521167644239926010288584608120796235886430763388588680378079017697280000000000000000\n",
      "72 - 61234458376886086861524070385274672740778091784697328983823014963978384987221689274204160000000000000000\n",
      "73 - 4470115461512684340891257138125051110076800700282905015819080092370422104067183317016903680000000000000000\n",
      "74 - 330788544151938641225953028221253782145683251820934971170611926835411235700971565459250872320000000000000000\n",
      "75 - 24809140811395398091946477116594033660926243886570122837795894512655842677572867409443815424000000000000000000\n",
      "76 - 1885494701666050254987932260861146558230394535379329335672487982961844043495537923117729972224000000000000000000\n",
      "77 - 145183092028285869634070784086308284983740379224208358846781574688061991349156420080065207861248000000000000000000\n",
      "78 - 11324281178206297831457521158732046228731749579488251990048962825668835325234200766245086213177344000000000000000000\n",
      "79 - 894618213078297528685144171539831652069808216779571907213868063227837990693501860533361810841010176000000000000000000\n",
      "80 - 71569457046263802294811533723186532165584657342365752577109445058227039255480148842668944867280814080000000000000000000\n",
      "81 - 5797126020747367985879734231578109105412357244731625958745865049716390179693892056256184534249745940480000000000000000000\n",
      "82 - 475364333701284174842138206989404946643813294067993328617160934076743994734899148613007131808479167119360000000000000000000\n",
      "83 - 39455239697206586511897471180120610571436503407643446275224357528369751562996629334879591940103770870906880000000000000000000\n",
      "84 - 3314240134565353266999387579130131288000666286242049487118846032383059131291716864129885722968716753156177920000000000000000000\n",
      "85 - 281710411438055027694947944226061159480056634330574206405101912752560026159795933451040286452340924018275123200000000000000000000\n",
      "86 - 24227095383672732381765523203441259715284870552429381750838764496720162249742450276789464634901319465571660595200000000000000000000\n",
      "87 - 2107757298379527717213600518699389595229783738061356212322972511214654115727593174080683423236414793504734471782400000000000000000000\n",
      "88 - 185482642257398439114796845645546284380220968949399346684421580986889562184028199319100141244804501828416633516851200000000000000000000\n",
      "89 - 16507955160908461081216919262453619309839666236496541854913520707833171034378509739399912570787600662729080382999756800000000000000000000\n",
      "90 - 1485715964481761497309522733620825737885569961284688766942216863704985393094065876545992131370884059645617234469978112000000000000000000000\n",
      "91 - 135200152767840296255166568759495142147586866476906677791741734597153670771559994765685283954750449427751168336768008192000000000000000000000\n",
      "92 - 12438414054641307255475324325873553077577991715875414356840239582938137710983519518443046123837041347353107486982656753664000000000000000000000\n",
      "93 - 1156772507081641574759205162306240436214753229576413535186142281213246807121467315215203289516844845303838996289387078090752000000000000000000000\n",
      "94 - 108736615665674308027365285256786601004186803580182872307497374434045199869417927630229109214583415458560865651202385340530688000000000000000000000\n",
      "95 - 10329978488239059262599702099394727095397746340117372869212250571234293987594703124871765375385424468563282236864226607350415360000000000000000000000\n",
      "96 - 991677934870949689209571401541893801158183648651267795444376054838492222809091499987689476037000748982075094738965754305639874560000000000000000000000\n",
      "97 - 96192759682482119853328425949563698712343813919172976158104477319333745612481875498805879175589072651261284189679678167647067832320000000000000000000000\n",
      "98 - 9426890448883247745626185743057242473809693764078951663494238777294707070023223798882976159207729119823605850588608460429412647567360000000000000000000000\n",
      "99 - 933262154439441526816992388562667004907159682643816214685929638952175999932299156089414639761565182862536979208272237582511852109168640000000000000000000000\n",
      "100 - 93326215443944152681699238856266700490715968264381621468592963895217599993229915608941463976156518286253697920827223758251185210916864000000000000000000000000\n",
      "101 - 9425947759838359420851623124482936749562312794702543768327889353416977599316221476503087861591808346911623490003549599583369706302603264000000000000000000000000\n",
      "102 - 961446671503512660926865558697259548455355905059659464369444714048531715130254590603314961882364451384985595980362059157503710042865532928000000000000000000000000\n",
      "103 - 99029007164861804075467152545817733490901658221144924830052805546998766658416222832141441073883538492653516385977292093222882134415149891584000000000000000000000000\n",
      "104 - 10299016745145627623848583864765044283053772454999072182325491776887871732475287174542709871683888003235965704141638377695179741979175588724736000000000000000000000000\n",
      "105 - 1081396758240290900504101305800329649720646107774902579144176636573226531909905153326984536526808240339776398934872029657993872907813436816097280000000000000000000000000\n",
      "106 - 114628056373470835453434738414834942870388487424139673389282723476762012382449946252660360871841673476016298287096435143747350528228224302506311680000000000000000000000000\n",
      "107 - 12265202031961379393517517010387338887131568154382945052653251412013535324922144249034658613287059061933743916719318560380966506520420000368175349760000000000000000000000000\n",
      "108 - 1324641819451828974499891837121832599810209360673358065686551152497461815091591578895743130235002378688844343005686404521144382704205360039762937774080000000000000000000000000\n",
      "109 - 144385958320249358220488210246279753379312820313396029159834075622223337844983482099636001195615259277084033387619818092804737714758384244334160217374720000000000000000000000000\n",
      "110 - 15882455415227429404253703127090772871724410234473563207581748318444567162948183030959960131517678520479243672638179990208521148623422266876757623911219200000000000000000000000000\n",
      "111 - 1762952551090244663872161047107075788761409536026565516041574063347346955087248316436555574598462315773196047662837978913145847497199871623320096254145331200000000000000000000000000\n",
      "112 - 197450685722107402353682037275992488341277868034975337796656295094902858969771811440894224355027779366597957338237853638272334919686385621811850780464277094400000000000000000000000000\n",
      "113 - 22311927486598136465966070212187151182564399087952213171022161345724023063584214692821047352118139068425569179220877461124773845924561575264739138192463311667200000000000000000000000000\n",
      "114 - 2543559733472187557120132004189335234812341496026552301496526393412538629248600474981599398141467853800514886431180030568224218435400019580180261753940817530060800000000000000000000000000\n",
      "115 - 292509369349301569068815180481773552003419272043053514672100535242441942363589054622883930786268803187059211939585703515345785120071002251720730101703194015956992000000000000000000000000000\n",
      "116 - 33931086844518982011982560935885732032396635556994207701963662088123265314176330336254535971207181169698868584991941607780111073928236261199604691797570505851011072000000000000000000000000000\n",
      "117 - 3969937160808720895401959629498630647790406360168322301129748464310422041758630649341780708631240196854767624444057168110272995649603642560353748940315749184568295424000000000000000000000000000\n",
      "118 - 468452584975429065657431236280838416439267950499862031533310318788629800927518416622330123618486343228862579684398745837012213486653229822121742374957258403779058860032000000000000000000000000000\n",
      "119 - 55745857612076058813234317117419771556272886109483581752463927935846946310374691578057284710599874844234646982443450754604453404911734348832487342619913750049708004343808000000000000000000000000000\n",
      "120 - 6689502913449127057588118054090372586752746333138029810295671352301633557244962989366874165271984981308157637893214090552534408589408121859898481114389650005964960521256960000000000000000000000000000\n",
      "121 - 809429852527344373968162284544935082997082306309701607045776233628497660426640521713391773997910182738287074185078904956856663439318382745047716214841147650721760223072092160000000000000000000000000000\n",
      "122 - 98750442008336013624115798714482080125644041369783596059584700502676714572050143649033796427745042294071023050579626404736512939596842694895821378210620013388054747214795243520000000000000000000000000000\n",
      "123 - 12146304367025329675766243241881295855454217088483382315328918161829235892362167668831156960612640202170735835221294047782591091570411651472186029519906261646730733907419814952960000000000000000000000000000\n",
      "3628800\n",
      "123 - 123\n",
      "122 - 15006\n",
      "121 - 1815726\n",
      "120 - 217887120\n",
      "119 - 25928567280\n",
      "118 - 3059570939040\n",
      "117 - 357969799867680\n",
      "116 - 41524496784650880\n",
      "115 - 4775317130234851200\n",
      "114 - 544386152846773036800\n",
      "113 - 61515635271685353158400\n",
      "112 - 6889751150428759553740800\n",
      "111 - 764762377697592310465228800\n",
      "110 - 84123861546735154151175168000\n",
      "109 - 9169500908594131802478093312000\n",
      "108 - 990306098128166234667634077696000\n",
      "107 - 105962752499713787109436846313472000\n",
      "106 - 11232051764969661433600305709228032000\n",
      "105 - 1179365435321814450528032099468943360000\n",
      "104 - 122654005273468702854915338344770109440000\n",
      "103 - 12633362543167276394056279849511321272320000\n",
      "102 - 1288602979403062192193740544650154769776640000\n",
      "101 - 130148900919709281411567795009665631747440640000\n",
      "100 - 13014890091970928141156779500966563174744064000000\n",
      "99 - 1288474119105121885974521170595689754299662336000000\n",
      "98 - 126270463672301944825503074718377595921366908928000000\n",
      "97 - 12248234976213288648073798247682626804372590166016000000\n",
      "96 - 1175830557716475710215084631777532173219768655937536000000\n",
      "95 - 111703902983065192470433040018865556455878022314065920000000\n",
      "94 - 10500166880408128092220705761773362306852534097522196480000000\n",
      "93 - 976515519877955912576525635844922694537285671069564272640000000\n",
      "92 - 89839427828771943957040358497732887897430281738399913082880000000\n",
      "91 - 8175387932418246900090672623293692798666155638194392090542080000000\n",
      "90 - 735784913917642221008160536096432351879954007437495288148787200000000\n",
      "89 - 65484857338670157669726287712582479317315906661937080645242060800000000\n",
      "88 - 5762667445802973874935913318707258179923799786250463096781301350400000000\n",
      "87 - 501352067784858727119424458727531461653370581403790289419973217484800000000\n",
      "86 - 43116277829497850532270503450567705702189870000725964890117696703692800000000\n",
      "85 - 3664883615507317295242992793298254984686138950061707015660004219813888000000000\n",
      "84 - 307850223702614652800411394637053418713635671805183389315440354464366592000000000\n",
      "83 - 25551568567317016182434145754875433753231760759830221313181549420542427136000000000\n",
      "82 - 2095228622519995326959599951899785567765004382306078147680887052484479025152000000000\n",
      "81 - 169713518424119621483727596103882630988965354966792329962151851251242801037312000000000\n",
      "80 - 13577081473929569718698207688310610479117228397343386396972148100099424082984960000000000\n",
      "79 - 1072589436440436007777158407376538227850261043390127525360799699907854502555811840000000000\n",
      "78 - 83661976042354008606618355775369981772320361384429946978142376592812651199353323520000000000\n",
      "77 - 6441972155261258662709613394703488596468667826601105917316962997646574142350205911040000000000\n",
      "76 - 489589883799855658365930617997465133331618754821684049716089187821139634818615649239040000000000\n",
      "75 - 36719241284989174377444796349809884999871406611626303728706689086585472611396173692928000000000000\n",
      "74 - 2717223855089198903930914929885931489990484089260346475924294992407324973243316853276672000000000000\n",
      "73 - 198357341421511519986956789881672998769305338516005292742473534445734723046762130289197056000000000000\n",
      "72 - 14281728582348829439060888871480455911389984373152381077458094480092900059366873380822188032000000000000\n",
      "71 - 1014002729346766890173323109875112369708688890493819056499524708086595904215048010038375350272000000000000\n",
      "70 - 70980191054273682312132617691257865879608222334567333954966729566061713295053360702686274519040000000000000\n",
      "69 - 4897633182744884079537150620696792745692967341085146042892704340058258217358681888485352941813760000000000000\n",
      "68 - 333039056426652117408526242207381906707121779193789930916703895123961558780390368417004000043335680000000000000\n",
      "67 - 22313616780585691866371258227894587749377159205983925371419160973305424438286154683939268002903490560000000000000\n",
      "66 - 1472698707518655663180503043041042791458892507594939074513664624238158012926886209139991688191630376960000000000000\n",
      "65 - 95725415988712618106732697797667781444828012993671039843388200575480270840247603594099459732455974502400000000000000\n",
      "64 - 6126426623277607558830892659050738012468992831594946549976844836830737333775846630022365422877182368153600000000000000\n",
      "63 - 385964877266489276206346237520196494785546548390481632648541224720336452027878337691409021641262489193676800000000000000\n",
      "62 - 23929822390522335124793466726252182676703886000209861224209555932660860025728456936867359341758274330007961600000000000000\n",
      "61 - 1459719165821862442612401470301383143278937046012801534676782911892312461569435873148908919847254734130485657600000000000000\n",
      "60 - 87583149949311746556744088218082988596736222760768092080606974713538747694166152388934535190835284047829139456000000000000000\n",
      "59 - 5167405847009393046847901204866896327207437142885317432755811508098786113955802990947137576259281758821919227904000000000000000\n",
      "58 - 299709539126544796717178269882279986978031354287348411099837067469729594609436573474933979423038342011671315218432000000000000000\n",
      "57 - 17083443730213053412879161383289959257747787194378859432690712845774586892737884688071236827113185494665264967450624000000000000000\n",
      "56 - 956672848891930991121233037464237718433876082885216128230679919363376865993321542531989262318338387701254838177234944000000000000000\n",
      "55 - 52617006689056204511667817060533074513863184558686887052687395564985727629632684839259409427508611323569016099747921920000000000000000\n",
      "54 - 2841318361209035043630062121268786023748611966169091900845119360509229292000164981320008109085465011472726869386387783680000000000000000\n",
      "53 - 150589873144078857312393292427245659258676434206961870744791326106989152476008744009960429781529645608054524077478552535040000000000000000\n",
      "52 - 7830673403492100580244451206216774281451174578762017278729148957563435928752454688517942348639541571618835252028884731822080000000000000000\n",
      "51 - 399364343578097129592467011517055488354009903516862881215186596835735232366375189114415059780616620152560597853473121322926080000000000000000\n",
      "50 - 19968217178904856479623350575852774417700495175843144060759329841786761618318759455720752989030831007628029892673656066146304000000000000000000\n",
      "49 - 978442641766337967501544178216785946467324263616314058977207162247551319297619213330316896462510719373773464741009147241168896000000000000000000\n",
      "48 - 46965246804784222440074120554405725430431564653583074830905943787882463326285722239855211030200514529941126307568439067576107008000000000000000000\n",
      "47 - 2207366599824858454683483666057069095230283538718404517052579358030475776335428945273194918419424182907232936455716636176077029376000000000000000000\n",
      "46 - 101538863591943488915440248638625178380593042781046607784418650469401885711429731482566966247293512413732715076962965264099543351296000000000000000000\n",
      "45 - 4569248861637457001194811188738133027126686925147097350298839271123084857014337916715513481128208058617972178463333436884479450808320000000000000000000\n",
      "44 - 201046949912048108052571692304477853193574224706472283413148927929415733708630868335482593169641154579190775852386671222917095835566080000000000000000000\n",
      "43 - 8645018846218068646260582769092547687323691662378308186765403900964876549471127338425751506294569646905203361652626862585435120929341440000000000000000000\n",
      "42 - 363090791541158883142944476301887002867595049819888943844146963840524815077787348213881563264371925170018541189410328228588275079032340480000000000000000000\n",
      "41 - 14886722453187514208860723528377367117571397042615446697610025517461517418189281276769144093839248931970760188765823457372119278240325959680000000000000000000\n",
      "40 - 595468898127500568354428941135094684702855881704617867904401020698460696727571251070765763753569957278830407550632938294884771129613038387200000000000000000000\n",
      "39 - 23223287026972522165822728704268692703411379386480096848271639807239967172375278791759864786389228333874385894474684593500506074054908497100800000000000000000000\n",
      "38 - 882484907024955842301263690762210322729632416686243680234322312675118752550260594086874861882790676687226663990038014553019230814086522889830400000000000000000000\n",
      "37 - 32651941559923366165146756558201781940996399417391016168669925568979393844359641981214369889663255037427386567631406538461711540121201346923724800000000000000000000\n",
      "36 - 1175469896157241181945283236095264149875870379026076582072117320483258178396947111323717316027877181347385916434730635384621615444363248489254092800000000000000000000\n",
      "35 - 41141446365503441368084913263334245245655463265912680372524106216914036243893148896330106060975701347158507075215572238461756540552713697123893248000000000000000000000\n",
      "34 - 1398809176427117006514887050953364338352285751041031132665819611375077232292367062475223606073173845803389240557329456107699722378792265702212370432000000000000000000000\n",
      "33 - 46160702822094861214991272681461023165625429784354027377972047175377548665648113061682379000414736911511844938391872051554090838500144768173008224256000000000000000000000\n",
      "32 - 1477142490307035558879720725806752741300013753099328876095105509612081557300739617973836128013271581168379038028539905649730906832004632581536263176192000000000000000000000\n",
      "31 - 45791417199518102325271342500009334980300426346079195158948270797974528276322928157188919968411419016219750178884737075141658111792143610027624158461952000000000000000000000\n",
      "30 - 1373742515985543069758140275000280049409012790382375854768448123939235848289687844715667599052342570486592505366542112254249743353764308300828724753858560000000000000000000000\n",
      "29 - 39838532963580749022986067975008121432861370921088899788284995594237839600400947496754360372517934544111182655629721255373242557259164940724033017861898240000000000000000000000\n",
      "28 - 1115478922980260972643609903300227400120118385790489194071979876638659508811226529909122090430502167235113114357632195150450791603256618340272924500133150720000000000000000000000\n",
      "27 - 30117930920467046261377467389106139803243196416343208239943456669243806737903116307546296441623558515348054087656069269062171373287928695187368961503595069440000000000000000000000\n",
      "26 - 783066203932143202795814152116759634884323106824923414238529873400338975185481023996203707482212521399049406279057800995616455705486146074871592999093471805440000000000000000000000\n",
      "25 - 19576655098303580069895353802918990872108077670623085355963246835008474379637025599905092687055313034976235156976445024890411392637153651871789824977336795136000000000000000000000000\n",
      "24 - 469839722359285921677488491270055780930593864094954048543117924040203385111288614397722224489327512839429643767434680597369873423291687644922955799456083083264000000000000000000000000\n",
      "23 - 10806313614263576198582235299211282961403658874183943116491712252924677857559638131147611163254532795306881806650997653739507088735708815833227983387489910915072000000000000000000000000\n",
      "22 - 237738899513798676368809176582648225150880495232046748562817669564342912866312038885247445591599721496751399746321948382269155952185593948331015634524778040131584000000000000000000000000\n",
      "21 - 4992516889789772203744992708235612728168490399872981719819171060851201170192552816590196357423594151431779394672760916027652274995897472914951328325020338842763264000000000000000000000000\n",
      "20 - 99850337795795444074899854164712254563369807997459634396383421217024023403851056331803927148471883028635587893455218320553045499917949458299026566500406776855265280000000000000000000000000\n",
      "19 - 1897156418120113437423097229129532836704026351951733053531285003123456444673170070304274615820965777544076169975649148090507864498441039707681504763507728760250040320000000000000000000000000\n",
      "18 - 34148815526162041873615750124331591060672474335131194963563130056222216004117061265476943084777383995793371059561684665629141560971938714738267085743139117684500725760000000000000000000000000\n",
      "17 - 580529863944754711851467752113637048031432063697230314380573210955777672069990041513108032441215527928487308012548639315695406536522958150550540457633365000636512337920000000000000000000000000\n",
      "16 - 9288477823116075389623484033818192768502913019155685030089171375292442753119840664209728519059448446855796928200778229051126504584367330408808647322133840010184197406720000000000000000000000000\n",
      "15 - 139327167346741130844352260507272891527543695287335275451337570629386641296797609963145927785891726702836953923011673435766897568765509956132129709832007600152762961100800000000000000000000000000\n",
      "14 - 1950580342854375831820931647101820481385611734022693856318725988811412978155166539484042989002484173839717354922163428100736565962717139385849815937648106402138681455411200000000000000000000000000\n",
      "13 - 25357544457106885813672111412323666258012952542295020132143437854548368716017165013292558857032294259916325613988124565309575357515322812016047607189425383227802858920345600000000000000000000000000\n",
      "12 - 304290533485282629764065336947883995096155430507540241585721254254580424592205980159510706284387531118995907367857494783714904290183873744192571286273104598733634307044147200000000000000000000000000\n",
      "11 - 3347195868338108927404718706426723946057709735582942657442933796800384670514265781754617769128262842308954981046432442620863947192022611186118284149004150586069977377485619200000000000000000000000000\n",
      "10 - 33471958683381089274047187064267239460577097355829426574429337968003846705142657817546177691282628423089549810464324426208639471920226111861182841490041505860699773774856192000000000000000000000000000\n",
      "9 - 301247628150429803466424683578405155145193876202464839169864041712034620346283920357915599221543655807805948294178919835877755247282035006750645573410373552746297963973705728000000000000000000000000000\n",
      "8 - 2409981025203438427731397468627241241161551009619718713358912333696276962770271362863324793772349246462447586353431358687022041978256280054005164587282988421970383711789645824000000000000000000000000000\n",
      "7 - 16869867176424068994119782280390688688130857067338030993512386335873938739391899540043273556406444725237133104474019510809154293847793960378036152110980918953792685982527520768000000000000000000000000000\n",
      "6 - 101219203058544413964718693682344132128785142404028185961074318015243632436351397240259641338438668351422798626844117064854925763086763762268216912665885513722756115895165124608000000000000000000000000000\n",
      "5 - 506096015292722069823593468411720660643925712020140929805371590076218162181756986201298206692193341757113993134220585324274628815433818811341084563329427568613780579475825623040000000000000000000000000000\n",
      "4 - 2024384061170888279294373873646882642575702848080563719221486360304872648727027944805192826768773367028455972536882341297098515261735275245364338253317710274455122317903302492160000000000000000000000000000\n",
      "3 - 6073152183512664837883121620940647927727108544241691157664459080914617946181083834415578480306320101085367917610647023891295545785205825736093014759953130823365366953709907476480000000000000000000000000000\n",
      "2 - 12146304367025329675766243241881295855454217088483382315328918161829235892362167668831156960612640202170735835221294047782591091570411651472186029519906261646730733907419814952960000000000000000000000000000\n",
      "1 - 12146304367025329675766243241881295855454217088483382315328918161829235892362167668831156960612640202170735835221294047782591091570411651472186029519906261646730733907419814952960000000000000000000000000000\n"
     ]
    }
   ],
   "source": [
    "print(\"Vamos calcular o fatorial de um número.\")\n",
    "n = input(\"Entre com um valor inteiro: \")\n",
    "n = int(n)\n",
    "fat = 1\n",
    "for i in range(1,n+1):\n",
    "    fat *= i\n",
    "    print(i, \"-\", fat)\n",
    "print(1*2*3*4*5*6*7*8*9*10)\n",
    "fat = 1\n",
    "for i in range(n,0,-1):\n",
    "    fat *= i\n",
    "    print(i, \"-\", fat)"
   ]
  },
  {
   "cell_type": "code",
   "execution_count": 33,
   "metadata": {},
   "outputs": [
    {
     "name": "stdout",
     "output_type": "stream",
     "text": [
      "Graus Célcios - Kelvin\n",
      "-20 - 253\n",
      "-19 - 254\n",
      "-18 - 255\n",
      "-17 - 256\n",
      "-16 - 257\n",
      "-15 - 258\n",
      "-14 - 259\n",
      "-13 - 260\n",
      "-12 - 261\n",
      "-11 - 262\n",
      "-10 - 263\n",
      "-9 - 264\n",
      "-8 - 265\n",
      "-7 - 266\n",
      "-6 - 267\n",
      "-5 - 268\n",
      "-4 - 269\n",
      "-3 - 270\n",
      "-2 - 271\n",
      "-1 - 272\n",
      "0 - 273\n",
      "1 - 274\n",
      "2 - 275\n",
      "3 - 276\n",
      "4 - 277\n",
      "5 - 278\n",
      "6 - 279\n",
      "7 - 280\n",
      "8 - 281\n",
      "9 - 282\n",
      "10 - 283\n",
      "11 - 284\n",
      "12 - 285\n",
      "13 - 286\n",
      "14 - 287\n",
      "15 - 288\n",
      "16 - 289\n",
      "17 - 290\n",
      "18 - 291\n",
      "19 - 292\n",
      "20 - 293\n"
     ]
    }
   ],
   "source": [
    "# tabela de conversão de graus Celsius para Kelvin\n",
    "\n",
    "print(\"Graus Célcios - Kelvin\")\n",
    "for temp in range(-20,21):\n",
    "    print(f\"{temp} - {temp + 273}\")\n",
    "    #print(\"{} - {}\".format(temp, temp+273))  \n"
   ]
  },
  {
   "cell_type": "markdown",
   "metadata": {},
   "source": [
    "##### Estrutura de repetição while\n",
    "\n",
    "A estrutura `while`, como em __C/C++__, repete um bloco de código enquanto uma determinada condição for satisfeita. \n",
    "\n",
    "Veja o exemplo:"
   ]
  },
  {
   "cell_type": "code",
   "execution_count": 30,
   "metadata": {},
   "outputs": [
    {
     "name": "stdout",
     "output_type": "stream",
     "text": [
      "PpI: [ 1 3 5 7 9 ]\n",
      "PpI: [ 1 3 5 7 9 ]\n"
     ]
    }
   ],
   "source": [
    "#Estrutura de repetição controlada por contador\n",
    "i = 0 #inicializando o contador\n",
    "print(\"PpI: [ \", end='')\n",
    "while i < len(PpI): # verificando a condição de parada\n",
    "    print(PpI[i], end=' ')\n",
    "    i += 1 #incrementando o contador\n",
    "print(\"]\")\n",
    "\n",
    "#Estrutura de repetição controlada por sentinela\n",
    "i = 0 #inicializando o contador\n",
    "print(\"PpI: [ \", end='')\n",
    "while True:\n",
    "    try:\n",
    "        print(PpI[i], end=' ')\n",
    "    except:\n",
    "        break\n",
    "    i += 1 #incrementando o contador\n",
    "print(\"]\")"
   ]
  },
  {
   "cell_type": "markdown",
   "metadata": {},
   "source": [
    "Como vimos no exemplo anterior as estruturas de repetição podem ter sua execução modificada pelo uso de duas instruções: `break` e `continue`. Veja como modificar o código do laço `for` apresentado na seção anterior: "
   ]
  },
  {
   "cell_type": "code",
   "execution_count": 31,
   "metadata": {},
   "outputs": [
    {
     "name": "stdout",
     "output_type": "stream",
     "text": [
      "PpI: [3 7 ]\n"
     ]
    }
   ],
   "source": [
    "print(\"PpI: [\", end='')\n",
    "for i in range(len(PpI)):\n",
    "    if i%2 == 0 :\n",
    "        continue #pula para o fim da iteração atual e vai para a próxima iteração\n",
    "    print(PpI[i], end=' ')\n",
    "print(\"]\")"
   ]
  },
  {
   "cell_type": "markdown",
   "metadata": {},
   "source": [
    "Uma outra característica que pode ser comentada sobre as estruturas de repetição em __Python__ é a possibilidade de utilizar um estrutura `else` no final, tanto dos laços `for` quanto dos `while`. \n",
    "\n",
    "A utilização prática ou mesmo a necessidade de se ter este recurso desperta muitas dúvidas entre os programadores. Vamos apenas colocar um exemplo para documentar o uso do mesmo."
   ]
  },
  {
   "cell_type": "code",
   "execution_count": 32,
   "metadata": {},
   "outputs": [
    {
     "name": "stdout",
     "output_type": "stream",
     "text": [
      "PpI: [ 1 3 5 "
     ]
    }
   ],
   "source": [
    "# Uma situação simples baseada no exemplo anterior\n",
    "print(\"PpI: [\", end=' ')\n",
    "for i in range(len(PpI)):\n",
    "    if i > 2:\n",
    "        break # sai completamente da execução do laço\n",
    "    print(PpI[i], end=' ')  \n",
    "else: \n",
    "    print(\"]\")"
   ]
  }
 ],
 "metadata": {
  "kernelspec": {
   "display_name": "Python 3 (ipykernel)",
   "language": "python",
   "name": "python3"
  },
  "language_info": {
   "codemirror_mode": {
    "name": "ipython",
    "version": 3
   },
   "file_extension": ".py",
   "mimetype": "text/x-python",
   "name": "python",
   "nbconvert_exporter": "python",
   "pygments_lexer": "ipython3",
   "version": "3.10.14"
  }
 },
 "nbformat": 4,
 "nbformat_minor": 4
}
