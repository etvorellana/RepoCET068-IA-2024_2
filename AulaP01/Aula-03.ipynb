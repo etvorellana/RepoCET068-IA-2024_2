{
 "cells": [
  {
   "cell_type": "markdown",
   "metadata": {},
   "source": [
    "# Módulo de Programação Python: Introdução à Linguagem\n",
    "\n",
    "# Aula - 03\n",
    "\n",
    "## Apresentação de Python: Modularização de código, Funções."
   ]
  },
  {
   "cell_type": "markdown",
   "metadata": {},
   "source": [
    "__Objetivo__: Introduzir a técnica de modularização de código com ajuda de funções. Ensinar iteração avançada e compreensões de lista e dicionário."
   ]
  },
  {
   "cell_type": "markdown",
   "metadata": {},
   "source": [
    "### Funções, como utilizar e implementar\n",
    "\n",
    "Algoritmos simples podem ser implementados utilizando apenas variáveis e estruturas de controle de fluxo. O desenvolvimento de programas e códigos mais elaborados, exigem a utilização de funções, inclusive daquelas que aparecem na forma de métodos de classes. Paradigmas de programação como o de programação estruturada ou programação orientada a objetos, que visam entre outras coisas, podermos reutilizar códigos e estruturar os mesmo de forma a simplificar seu desenvolvimento e posterior manutenção, nos levam à necessidade de aprendermos a implementar funções de forma eficiente.  \n",
    "\n",
    "#### Que é uma função\n",
    "\n",
    "Uma função não é mais que um bloco de código  ou rotina, que pode ser utilizado múltiplas vezes e que permite estruturar o código de forma a garantir uma sequencia mais limpa e legível de instruções. O bloco sintáctico vinculado à função é sempre associado a um nome que serve para invocar a execução do mesmo a qualquer momento. Como na maioria das linguagens tradicionais, em __Python__, a chamada a uma funções evolve seu nome seguido de parêntesis que delimitam os parâmetros que deverão ser passados para a função. Mesmo funções que não recebem parâmetros são chamadas utilizando parêntesis. Os parêntesis ajudam a distinguir quando se esta fazendo referenciando uma variável ou fazendo a chamada a uma função. \n",
    "\n",
    "Semelhante ao conceito matemático de função, seu equivalente computacional pode ser utilizar para mapear um conjunto de entrada, ou domínio, em um conjunto de saída ou imagem. Entretanto as funções, computacionalmente falando, podem ter domínio vazio, não recebem parâmetros de entrada, e também podem ter imagem nula, não retornam nenhum resultado. \n",
    "\n",
    "Até aqui foram utilizados, em vários momentos, funções como o caso de: "
   ]
  },
  {
   "cell_type": "code",
   "execution_count": null,
   "metadata": {},
   "outputs": [],
   "source": [
    "print(\"Olha uma função aqui!!!\")\n",
    "print(type(print))\n",
    "print(type(print(\"nada\")))"
   ]
  },
  {
   "cell_type": "markdown",
   "metadata": {},
   "source": [
    "Vamos aprender então como criar nossas próprias funções em __Python__.\n",
    "\n",
    "#### Definindo funções\n",
    "\n",
    "Para se definir uma função em __Python__ utilizamos a palavra chave `def`, seguido do nome da função e, entre parêntesis, os parâmetros de entrada. O bloco de instruções associado a aquela função pode ser declarado, seguindo a sintaxes apropriada em __Python__, ou seja utilizar `:` e indentação para delimitar o bloco de instruções associada à mesma. Uma função em __Python__ é, então, um objeto que engloba um bloco sintáctico definido através da palavra chave `def` com a seguinte sintaxe:"
   ]
  },
  {
   "cell_type": "code",
   "execution_count": 1,
   "metadata": {},
   "outputs": [
    {
     "name": "stdout",
     "output_type": "stream",
     "text": [
      "<class 'function'>\n",
      "<class 'NoneType'>\n"
     ]
    }
   ],
   "source": [
    "# Uma função ainda não implementada\n",
    "def minhaFunção(): \n",
    "    pass \n",
    "\n",
    "# A função pode ser utilizada\n",
    "minhaFunção()\n",
    "print(type(minhaFunção))\n",
    "print(type(minhaFunção()))\n"
   ]
  },
  {
   "cell_type": "markdown",
   "metadata": {},
   "source": [
    "A `minhaFunção` está definida de forma que ela não recebe parâmetros nem faz absolutamente nada. A palavra chave `pass` pode ser utilizada quando queremos deixar definido um bloco de código para o qual ainda não temos uma implementação apropriada. \n"
   ]
  },
  {
   "cell_type": "code",
   "execution_count": 2,
   "metadata": {},
   "outputs": [
    {
     "name": "stdout",
     "output_type": "stream",
     "text": [
      "Esta Função Não Tem Argumentos\n",
      "<class 'function'>\n",
      "<class 'str'>\n"
     ]
    }
   ],
   "source": [
    "#Função sem argumentos. Retorna uma string\n",
    "def funSemArgumentos():\n",
    "    # Bloco sintático\n",
    "    saída = \"Esta função não tem argumentos\" \n",
    "    #saída = 3\n",
    "    #saída = 3.14\n",
    "    #saída = True\n",
    "    #saída = [1,2,3]\n",
    "    return saída\n",
    "\n",
    "print(funSemArgumentos().title())\n",
    "print(type(funSemArgumentos))\n",
    "print(type(funSemArgumentos()))"
   ]
  },
  {
   "cell_type": "code",
   "execution_count": 3,
   "metadata": {},
   "outputs": [
    {
     "name": "stdout",
     "output_type": "stream",
     "text": [
      "<class 'function'>\n",
      "Chamando a função com argumento: 1\n",
      "Esta função não tem argumentos\n",
      "<class 'str'>\n",
      "Chamando a função com argumento: 2\n",
      "3\n",
      "<class 'int'>\n",
      "Chamando a função com argumento: 3\n",
      "3.14\n",
      "<class 'float'>\n",
      "Chamando a função com argumento: 4\n",
      "True\n",
      "<class 'bool'>\n",
      "Chamando a função com argumento: 5\n",
      "[1, 2, 3]\n",
      "<class 'list'>\n",
      "Chamando a função com argumento: 6\n",
      "None\n",
      "<class 'NoneType'>\n"
     ]
    }
   ],
   "source": [
    "#Função com argumentos. Retorna ?\n",
    "def funComArgumentos(tipo):\n",
    "    # Bloco sintático\n",
    "    match tipo:\n",
    "        case 1:\n",
    "            saída = \"Esta função não tem argumentos\" \n",
    "        case 2:\n",
    "            saída = 3\n",
    "        case 3:\n",
    "            saída = 3.14\n",
    "        case 4:\n",
    "            saída = True\n",
    "        case 5:\n",
    "            saída = [1,2,3]\n",
    "        case _: saída = None\n",
    "    return saída\n",
    "\n",
    "print(type(funComArgumentos))\n",
    "for i in range(1,7):\n",
    "    print(\"Chamando a função com argumento: {}\".format(i))\n",
    "    print(funComArgumentos(i))\n",
    "    print(type(funComArgumentos(i)))"
   ]
  },
  {
   "cell_type": "code",
   "execution_count": 4,
   "metadata": {},
   "outputs": [
    {
     "name": "stdout",
     "output_type": "stream",
     "text": [
      "[]\n",
      "None\n",
      "[5]\n",
      "<class 'function'>\n",
      "<class 'NoneType'>\n"
     ]
    }
   ],
   "source": [
    "#Função com um argumento. Não retorna nada\n",
    "def funUmArgumento(arg1):\n",
    "    # Bloco sintático\n",
    "    arg1.append(5) # Colocando um novo elemento  o final da lista\n",
    "\n",
    "L = []\n",
    "print(L)\n",
    "print(funUmArgumento(L))\n",
    "print(L)\n",
    "print(type(funUmArgumento))\n",
    "print(type(funUmArgumento(L)))"
   ]
  },
  {
   "cell_type": "code",
   "execution_count": 6,
   "metadata": {},
   "outputs": [
    {
     "name": "stdout",
     "output_type": "stream",
     "text": [
      "2 + 2 =  4\n",
      "a + b = c\n",
      "[1, 2, 3, 'a', 3.2, None]\n",
      "1\n",
      "5.85\n",
      "5.71\n",
      "<class 'function'>\n",
      "<class 'int'>\n"
     ]
    }
   ],
   "source": [
    "#Função com dois argumentos. Retorna a adição dos mesmos    \n",
    "def funDoisArgumentos(arg1, arg2):\n",
    "    # Bloco sintático\n",
    "    valor = arg1 + arg2 \n",
    "    return valor\n",
    "\n",
    "print(\"2 + 2 = \", funDoisArgumentos(2,2))\n",
    "print(funDoisArgumentos(\"a + \", \"b = c\"))\n",
    "print(funDoisArgumentos([1, 2, 3], ['a', 3.2, None]))\n",
    "print(funDoisArgumentos(True, False))\n",
    "print(funDoisArgumentos(3.14, 2.71))\n",
    "print(funDoisArgumentos(3, 2.71))\n",
    "#print(funDoisArgumentos(3.14, \"2\"))\n",
    "print(type(funDoisArgumentos))\n",
    "print(type(funDoisArgumentos(2,2)))"
   ]
  },
  {
   "cell_type": "markdown",
   "metadata": {},
   "source": [
    "Vamos tentar outro exemplo de função  mais ilustrativo."
   ]
  },
  {
   "cell_type": "code",
   "execution_count": 7,
   "metadata": {},
   "outputs": [],
   "source": [
    "# Retorna os N primeiros termos da Sequência de Fibonacci\n",
    "def fibonacci(N):\n",
    "    L = [0]\n",
    "    a, b = 0, 1\n",
    "    while len(L) < N:\n",
    "        a, b = b, a + b\n",
    "        L.append(a)\n",
    "    return L"
   ]
  },
  {
   "cell_type": "markdown",
   "metadata": {},
   "source": [
    "Temos agora uma função que implementa um algoritmo que permite gerar N termos consecutivos da sequência de Fibonacci. Não lembra de como se calculam os termos da sequência? Veja esta [referência](https://pt.wikipedia.org/wiki/Sequ%C3%AAncia_de_Fibonacci)\n",
    "\n",
    "Podemos utilizar a função da seguinte forma:"
   ]
  },
  {
   "cell_type": "code",
   "execution_count": 8,
   "metadata": {},
   "outputs": [
    {
     "data": {
      "text/plain": [
       "[0, 1, 1, 2, 3, 5, 8, 13, 21, 34]"
      ]
     },
     "execution_count": 8,
     "metadata": {},
     "output_type": "execute_result"
    }
   ],
   "source": [
    "fibonacci(10)"
   ]
  },
  {
   "cell_type": "markdown",
   "metadata": {},
   "source": [
    "Reparem que na definição da função, ao contrário de linguagens mais tradicionais como __C/C++__, não estão incluídos o tipo de retorno da função ou os tipos dos parâmetros de entrada da mesma. Isto faz das funções em __Python__ um instrumento muito versátil, capaz de retornar valores diversos. O mecanismo de passagem de parâmetros também é bastante inovador, mas sobre ele falaremos mais para frente. \n",
    "\n",
    "Vejam o exemplo a seguir que mostra como retornar múltiplos resultados:"
   ]
  },
  {
   "cell_type": "code",
   "execution_count": 9,
   "metadata": {},
   "outputs": [
    {
     "name": "stdout",
     "output_type": "stream",
     "text": [
      "(3.0, 4.0, (3-4j))\n",
      "3.0 4.0 (3-4j)\n",
      "3.0 4.0 (3-4j)\n",
      "3.0 4.0\n"
     ]
    }
   ],
   "source": [
    "def real_imag_conj(val):\n",
    "    return val.real, val.imag, val.conjugate()\n",
    "# podemos pegar a tupla de retorno numa variável\n",
    "tripla = real_imag_conj(3 + 4j)\n",
    "print(tripla)\n",
    "print(tripla[0], tripla[1], tripla[2])\n",
    "# ou como elementos separados\n",
    "r, i, c = real_imag_conj(3 + 4j)\n",
    "print(r, i, c)\n",
    "# Podemos ainda descartar uma parte da saída\n",
    "r, _, c = real_imag_conj(3 + 4j)\n",
    "r, i = real_imag_conj(3 + 4j)[:2]\n",
    "print(r, i)\n"
   ]
  },
  {
   "cell_type": "markdown",
   "metadata": {},
   "source": [
    "Vejamos outro exemplo. A função no próximo exemplo recebe dois parâmetros, sem especificar o tipo, e utiliza o operador adição com eles para gerar o valor de saída. "
   ]
  },
  {
   "cell_type": "code",
   "execution_count": 10,
   "metadata": {},
   "outputs": [],
   "source": [
    "def soma(a, b):\n",
    "    return a + b"
   ]
  },
  {
   "cell_type": "markdown",
   "metadata": {},
   "source": [
    "Consideremos, entretanto, que o operador adição está definido para diferentes tipos de dados, e para cada tipo ele funciona de uma forma diferente. Esta função pode trabalhar então com qualquer variável em __Python__  para a qual esteja definido o operador adição. "
   ]
  },
  {
   "cell_type": "code",
   "execution_count": 11,
   "metadata": {},
   "outputs": [
    {
     "name": "stdout",
     "output_type": "stream",
     "text": [
      "4\n",
      "4.0\n",
      "(4+3j)\n",
      "dois + dois = quatro\n",
      "[1, 2, 3, 4, 5, 6]\n"
     ]
    }
   ],
   "source": [
    "# com tipos numéricos funciona como adição\n",
    "print(soma(2, 2))   \n",
    "print(soma(2.0, 2))\n",
    "print(soma(2.0+3j,2.0))\n",
    "# com strings e listas funciona como concatenação\n",
    "print(soma(\"dois + \", \"dois = quatro\"))\n",
    "print(soma([1,2,3], [4,5,6]))"
   ]
  },
  {
   "cell_type": "markdown",
   "metadata": {},
   "source": [
    "Isto significa que as funções em __Python__ são, essencialmente, polimórficas. Isto é, elas se comportam de acordo com o tipo dos objetos com que estão trabalhando. Vejamos este outro exemplo."
   ]
  },
  {
   "cell_type": "code",
   "execution_count": 13,
   "metadata": {},
   "outputs": [
    {
     "name": "stdout",
     "output_type": "stream",
     "text": [
      "['e', 'a', 'g', 'e', 'm']\n",
      "[1, 2, 3, 5, 7]\n",
      "['1', '1 3', '5']\n"
     ]
    }
   ],
   "source": [
    "def intersect(seq1, seq2):\n",
    "    res = []\n",
    "    for x in seq1:\n",
    "        if x in seq2:\n",
    "            res.append(x)\n",
    "    return res\n",
    "\n",
    "print(intersect(\"Modelagem\", \"viagem\"))\n",
    "print(intersect([1, 2, 3, 5, 7], [1, 2, 3, 4, 5, 6, 7]))\n",
    "print(intersect(['1', '2', '1 3', '4', '5'], \"1 3 5 7\"))"
   ]
  },
  {
   "cell_type": "markdown",
   "metadata": {},
   "source": [
    "As funções declaradas em __Python__ elas também são objetos. Entretanto elas somente viram uma instância específica da classe `function`, apenas quando são executadas. Como qualquer outra declaração, `def` pode ser utilizada nos contextos em que declarações são aceitas. Veja o seguinte exemplo em que declaramos uma nova função utilizando uma estrutura condicional `if-else`."
   ]
  },
  {
   "cell_type": "code",
   "execution_count": null,
   "metadata": {},
   "outputs": [],
   "source": [
    "cond = True\n",
    "cond = False\n",
    "\n",
    "if cond:\n",
    "    def minhaSoma(a, b):\n",
    "        return a + b\n",
    "else:\n",
    "    def minhaSoma(a, b):\n",
    "        return (1/a + 1/b)\n",
    "\n",
    "print (minhaSoma(2, 2))"
   ]
  },
  {
   "cell_type": "markdown",
   "metadata": {},
   "source": [
    "A palavra chave `def` cria um objeto, e _“atribui”_ uma referência para o mesmo a uma variável que é o nome da função. Isto abre a possibilidade de utilizar nomes diferentes para uma mesma função. Veja o exemplo a seguir."
   ]
  },
  {
   "cell_type": "code",
   "execution_count": 14,
   "metadata": {},
   "outputs": [
    {
     "name": "stdout",
     "output_type": "stream",
     "text": [
      "4\n",
      "dois + dois = quatro\n",
      "<class 'function'>\n",
      "<class 'int'>\n",
      "<class 'str'>\n",
      "4\n",
      "0\n"
     ]
    }
   ],
   "source": [
    "adição = soma\n",
    "print(adição(2, 2))\n",
    "print(adição(\"dois + \", \"dois = quatro\"))\n",
    "print(type(adição))\n",
    "print(type(adição(2,2)))\n",
    "print(type(adição(\"dois + \", \"dois = quatro\")))\n",
    "def soma():\n",
    "    return 0\n",
    "print(adição(2,2))\n",
    "print(soma())"
   ]
  },
  {
   "cell_type": "markdown",
   "metadata": {},
   "source": [
    "## Escopo das variáveis\n",
    "\n",
    "Um aspecto importante a ser analisado na hora de implementar funções é o escopo das variáveis. Até aqui não prestamos muita atenção a este aspecto. Assumimos que as variáveis declaradas dentro de uma função são variáveis locais. De forma geral em __Python__ o escopo de uma variável depende do local onde ela é declarada. Desta forma uma variável pode ser:\n",
    "\n",
    "* `local`: quando declarada dentro de uma função;\n",
    "* `nonlocal`: quando declarada dentro de uma função mas antes de uma outra função aninhada dentro dela;\n",
    "* `global`: quando declarada fora de todas as funções\n",
    "\n",
    "<img align=\"center\" style=\"padding-right:10px;\" src=\"Figuras/aula-03_fig_02.jpg\">\n",
    "\n",
    "(*) Fonte: __Learning Python. 5th Edition. _Mark Lutz_ .__\n",
    "\n",
    "Veja os exemplos a seguir"
   ]
  },
  {
   "cell_type": "code",
   "execution_count": 15,
   "metadata": {},
   "outputs": [
    {
     "name": "stdout",
     "output_type": "stream",
     "text": [
      "x Global =  99\n",
      "y Local =  1\n",
      "x Global =  99\n",
      "z Local =  100\n",
      "função(1) -->  100\n",
      "Fora da função não é possível acessar o seu escopo local !!!: \n",
      "x Global =  99\n"
     ]
    }
   ],
   "source": [
    "# Escopo global\n",
    "x = 99 # Aqui x é uma variável global\n",
    "print(\"x Global = \", x)\n",
    "def funçãoX(y): # y é um parâmetro, uma variável Local da função\n",
    "    #Escopo local\n",
    "    print(\"y Local = \", y)\n",
    "    print(\"x Global = \", x)\n",
    "    # z é atribuída dentro do corpo da função (local)\n",
    "    z = x + y  # já x, que não foi definido neste bloco, se refere à variável Global\n",
    "    print(\"z Local = \", z)\n",
    "    return z\n",
    "# Chamando a função\n",
    "print(\"função(1) --> \", funçãoX(1))\n",
    "# y e z não estão definidas fora da função\n",
    "try:\n",
    "    print(\"z Local = \", z)\n",
    "except: \n",
    "    print(\"Fora da função não é possível acessar o seu escopo local !!!: \")\n",
    "# x é uma variável global\n",
    "print(\"x Global = \", x)"
   ]
  },
  {
   "cell_type": "code",
   "execution_count": 16,
   "metadata": {},
   "outputs": [
    {
     "name": "stdout",
     "output_type": "stream",
     "text": [
      "x Global =  99\n",
      "Chamando à funcãoX()\n",
      "x Local =  11\n",
      "Mas x Global continua=  99\n"
     ]
    }
   ],
   "source": [
    "# Escopo global\n",
    "x = 99 # Aqui x é uma variável global\n",
    "\n",
    "def funçãoX():\n",
    "    #Escopo local\n",
    "    #print(x)\n",
    "    x = 11  # se cria uma nova referência com o nome x, no escopo local\n",
    "    print(\"x Local = \", x)\n",
    "\n",
    "    \n",
    "print(\"x Global = \", x)\n",
    "print(\"Chamando à funcãoX()\")\n",
    "funçãoX()\n",
    "print(\"Mas x Global continua= \", x)"
   ]
  },
  {
   "cell_type": "code",
   "execution_count": 17,
   "metadata": {},
   "outputs": [
    {
     "name": "stdout",
     "output_type": "stream",
     "text": [
      "x Global =  99\n",
      "Chamando à funcãoX()\n",
      "x Local da funçãoX:  11\n",
      "Chamando à funcãoY()\n",
      "x Local da funçãoY:  22\n",
      "Mas x Local da funçãoX continua =  11\n",
      "E x Global continua =  99\n"
     ]
    }
   ],
   "source": [
    "# Escopo global\n",
    "x = 99\n",
    "def funçãoX():\n",
    "    #Escopo local\n",
    "    x = 11\n",
    "    def funçãoY():\n",
    "        #Escopo local\n",
    "        x = 22\n",
    "        print(\"x Local da funçãoY: \", x)\n",
    "    print(\"x Local da funçãoX: \", x)\n",
    "    print(\"Chamando à funcãoY()\")\n",
    "    funçãoY()\n",
    "    print(\"Mas x Local da funçãoX continua = \", x)\n",
    "print(\"x Global = \", x)\n",
    "print(\"Chamando à funcãoX()\")\n",
    "funçãoX()\n",
    "print(\"E x Global continua = \", x)"
   ]
  },
  {
   "cell_type": "code",
   "execution_count": 18,
   "metadata": {},
   "outputs": [
    {
     "name": "stdout",
     "output_type": "stream",
     "text": [
      "x Global =  99\n",
      "Chamando à funcãoX()\n",
      "x Local da funçãoX:  11\n",
      "Chamando à funcãoY()\n",
      "y Local da funçãoY:  22\n",
      "x na funçãoY é Nonlocal:  11\n",
      "E x Global continua =  99\n"
     ]
    }
   ],
   "source": [
    "# Escopo global\n",
    "x = 99\n",
    "\n",
    "def funçãoX():\n",
    "    #Escopo local\n",
    "    x = 11\n",
    "    \n",
    "    def funçãoY():\n",
    "        #Escopo local\n",
    "        y = 22\n",
    "        print(\"y Local da funçãoY: \", y)\n",
    "        print(\"x na funçãoY é Nonlocal: \", x)\n",
    "    \n",
    "    print(\"x Local da funçãoX: \", x)\n",
    "    print(\"Chamando à funcãoY()\")\n",
    "    funçãoY()\n",
    "\n",
    "print(\"x Global = \", x)\n",
    "print(\"Chamando à funcãoX()\")\n",
    "funçãoX()\n",
    "print(\"E x Global continua = \", x)"
   ]
  },
  {
   "cell_type": "markdown",
   "metadata": {},
   "source": [
    "O escopo de uma variável pode ser modificado utilizando as palavras chaves `global` e `nonlocal`. Veja uma pequena variação do exemplo anterior."
   ]
  },
  {
   "cell_type": "code",
   "execution_count": null,
   "metadata": {},
   "outputs": [],
   "source": [
    "# Escopo global\n",
    "x = 99\n",
    "y = 3\n",
    "print(\"x Global = \", x)\n",
    "print(\"y Global = \", y)\n",
    "def funçãoX():\n",
    "    #Escopo global\n",
    "    # quando me refira a x dentro, da funçãoX, ...\n",
    "    global x # estou falando do x global\n",
    "    x = 11\n",
    "    print(\"x Global dentro da funçãoX agora é = \", x)\n",
    "    # já este y é local da função, ...\n",
    "    y = 99 # diferente do y de escopo global\n",
    "    print(\"y Local dentro da funçãoX = \", y)\n",
    "    def funçãoY():\n",
    "        #Escopo nonlocal\n",
    "        # quando me refira a y dentro, da funçãoY, ...\n",
    "        nonlocal y # estou falando do y local da funçãoX\n",
    "        print(\"y NonLocal dentro da funçãoY = \", y)\n",
    "        y = 22\n",
    "        \n",
    "    print(\"Chamando à funcãoY()\")\n",
    "    funçãoY()\n",
    "    print(\"Agora y Local  da funçãoY() é = \", y)\n",
    "   \n",
    "print(\"Chamando à funcãoX()\")\n",
    "funçãoX()\n",
    "print(\"Agora x Global é = \", x)\n",
    "print(\"E y Global é = \", y)"
   ]
  },
  {
   "cell_type": "markdown",
   "metadata": {},
   "source": [
    "### Passagem de parâmetros\n",
    "\n",
    "A passagem de parâmetros para funções pode ser feita, de forma geral, de duas formas: por valor ou por referência. \n",
    "* Na passagem de parâmetros por valor, cria-se dentro da função, uma cópia da variável original de forma que, alterações feitas dentro da função não afetam o valor originalmente armazenado. \n",
    "* Na passagem por referência se trabalha, dentro da função, no endereço da variável de origem. Por este motivo, modificações feitas neste contexto afetam o valor da variável fora da função. \n",
    "\n",
    "Em __Python__ a passagem de parâmetros é feita da seguinte forma:\n",
    "\n",
    "* São atribuídos referências a objetos para variáveis locais (parâmetros);\n",
    "* Fazer novas atribuições a estes parâmetros dentro da função não afeta as variáveis originais;\n",
    "* Modificar objetos mutáveis referenciados por parâmetros da função afeta as variáveis originais\n",
    "\n",
    "Isto significa que em __Python__, ainda que na realidade a passagem é sempre feita por referência, na prática:\n",
    "\n",
    "* A passagem de objetos mutáveis funciona como quando feita por referência\n",
    "* A passagem de objetos imutáveis funciona como quando feita por valor\n",
    "\n",
    "Veja como funciona."
   ]
  },
  {
   "cell_type": "code",
   "execution_count": null,
   "metadata": {},
   "outputs": [],
   "source": [
    "def testePassagemI(x):\n",
    "    print(\"x chego como = \", x, type(x))\n",
    "    x = \"string\"\n",
    "    print(\"Agora x = \", x, type(x))\n",
    "\n",
    "def testePassagemM(x):\n",
    "    print(\"x chego como = \", x, type(x))\n",
    "    try:\n",
    "        x[0] = 0\n",
    "    except: \n",
    "        pass\n",
    "    print(\"Agora x = \", x, type(x))\n",
    "\n",
    "print(\"Chamando à função testePassagemI()\")\n",
    "print(\"Objeto imutável: int\")\n",
    "a = 5\n",
    "print(\"Antes de chamar a função: a = \", a, type(a))\n",
    "testePassagemI(a)\n",
    "print(\"Depois de chamar a função = \", a, type(a))\n",
    "print(\"_________________________\")     \n",
    "    \n",
    "print(\"Objeto mutável: list\")\n",
    "a = [1,2,3]\n",
    "print(\"Antes de chamar a função: a = \", a, type(a))\n",
    "testePassagemM(a)\n",
    "print(\"Depois de chamar a função = \", a, type(a))\n",
    "\n",
    "print(\"_________________________\")\n",
    "\n",
    "print(\"Objeto mutável: list\")\n",
    "a = [1,2,3]\n",
    "print(\"Antes de chamar a função: a = \", a, type(a))\n",
    "testePassagemI(a)\n",
    "print(\"Depois de chamar a função = \", a, type(a))\n",
    "\n",
    "print(\"_________________________\")\n",
    "\n",
    "\n",
    "\n",
    "print(\"Objeto mutável: list\")\n",
    "a = (1,2,3)\n",
    "print(\"Antes de chamar a função: a = \", a, type(a))  \n",
    "testePassagemM(a)\n",
    "print(\"Depois de chamar a função = \", a, type(a))\n",
    "\n"
   ]
  },
  {
   "cell_type": "code",
   "execution_count": null,
   "metadata": {},
   "outputs": [],
   "source": [
    "def funTesteIndex(a):\n",
    "    try:\n",
    "        a[0] = \"M\" # Listas são sempre objetos mutáveis\n",
    "    except:\n",
    "        pass\n",
    "\n",
    "b = [1, 2, 3]\n",
    "print(b)\n",
    "funTesteIndex(b)\n",
    "print(b)\n",
    "c = (1, 2, 3)\n",
    "print(c)\n",
    "print(c[0])\n",
    "funTesteIndex(c)\n",
    "print(c)\n",
    "d = \"mudança\"\n",
    "print(d)\n",
    "print(d[0])\n",
    "funTesteIndex(d)\n",
    "print(d)"
   ]
  },
  {
   "cell_type": "markdown",
   "metadata": {},
   "source": [
    "No cabeçalho de uma função fica definido os nomes dos parâmetros que a função recebe e a ordem em que eles devem ser enviados. __Python__ estabelece alguns mecanismos que permitem criar chamadas a funções muito mais flexíveis. \n",
    "Além do mecanismo tradicional (posicional) pode-se destacar outros dois:\n",
    "\n",
    "* palavras chaves\n",
    "* valores predefinidos\n",
    "\n",
    "Veja o seguinte exemplo que demonstra com utilizar o conceito de palavras chaves na passagem de parâmetros."
   ]
  },
  {
   "cell_type": "code",
   "execution_count": 19,
   "metadata": {},
   "outputs": [
    {
     "name": "stdout",
     "output_type": "stream",
     "text": [
      "Help on function funçãoY in module __main__:\n",
      "\n",
      "funçãoY(a, b, c)\n",
      "    # A funçãoY tem três parâmetros de entrada. Pela sua ordem eles são a, b e c\n",
      "\n",
      "1 2 3\n",
      "7 1 4\n",
      "4 5 2\n",
      "1 4 2\n"
     ]
    }
   ],
   "source": [
    "# A funçãoY tem três parâmetros de entrada. Pela sua ordem eles são a, b e c\n",
    "def funçãoY(a, b, c):\n",
    "    print(a, b, c)\n",
    "\n",
    "help(funçãoY)\n",
    "# Posso chamar colocando apenas os valores pela ordem\n",
    "funçãoY(1, 2, 3) # isto significa que a recebe 1, b recebe 2 e c recebe 3\n",
    "# Posso especificar o valor que cada parâmetro vai receber\n",
    "funçãoY(c = 4, a = 7, b = 1) # isto significa que a recebe 7 b recebe 1 e c recebe 4\n",
    "# Posso utilizar parcialmente a ordem e os nomes        \n",
    "funçãoY(4, c = 2, b = 5) # isto significa que a recebe 4, b recebe 5 e c recebe 2\n",
    "funçãoY(b = 4, c = 2, a = 1)"
   ]
  },
  {
   "cell_type": "markdown",
   "metadata": {},
   "source": [
    "Desta forma __Python__ permite que você seja mais específico na hora de chamar a função. Identificar o que você está passando para uma função deixa seu código bem mais interessante e fácil de ler. Mas como saber quais parâmetros uma função recebe e qual a sua ordem? Veja [aqui](https://realpython.com/documenting-python-code/) e [aqui](https://www.python.org/dev/peps/pep-0257/) como documentar funções. "
   ]
  },
  {
   "cell_type": "code",
   "execution_count": null,
   "metadata": {},
   "outputs": [],
   "source": [
    "help(len)"
   ]
  },
  {
   "cell_type": "markdown",
   "metadata": {},
   "source": [
    "Uma pequena modificação na definição da funçãoY pode deixar ela mais simples de usar."
   ]
  },
  {
   "cell_type": "code",
   "execution_count": 20,
   "metadata": {},
   "outputs": [],
   "source": [
    "\n",
    "def funçãoY(a=1, b = 2, c = 3):\n",
    "    '''\n",
    "        A funçãoY tem três parâmetros de entrada. \n",
    "            a: com valor padrão 1\n",
    "            b: com valor padrão 2 \n",
    "            c: com valor padrão 3\n",
    "    '''\n",
    "    print(a, b, c)"
   ]
  },
  {
   "cell_type": "code",
   "execution_count": null,
   "metadata": {},
   "outputs": [],
   "source": [
    "help(funçãoY)"
   ]
  },
  {
   "cell_type": "code",
   "execution_count": 21,
   "metadata": {},
   "outputs": [
    {
     "name": "stdout",
     "output_type": "stream",
     "text": [
      "1 2 3\n",
      "4 5 6\n",
      "4 5 6\n",
      "1 5 6\n",
      "7 2 3\n",
      "1 2 4\n"
     ]
    }
   ],
   "source": [
    "# Posso chamar a função com os valores implícitos das variáveis    \n",
    "funçãoY() # os parâmetros tem seus valores padrão\n",
    "# Posso chamar a função passando valores explicitamente, pela ordem  \n",
    "funçãoY(4, 5, 6) # isto significa que a recebe 4, b recebe 5 e c recebe 6\n",
    "# Posso chamar a função passando valores explicitamente, pelo nome\n",
    "funçãoY(c = 6, a = 4, b = 5) # isto significa que a recebe 4, b recebe 5 e c recebe 6\n",
    "# Posso chamar a função passando valores explicitamente, pela ordem e pelo nome\n",
    "funçãoY(1, c = 6, b = 5) # isto significa que a recebe 1, b recebe 5 e c recebe 6\n",
    "# Posso chamar a função passando valores explicitamente, pela ordem e/ou pelo nome\n",
    "funçãoY(a=7) # e deixar alguns parâmetros com seus valores implícitos\n",
    "funçãoY(1, c=4)"
   ]
  },
  {
   "cell_type": "markdown",
   "metadata": {},
   "source": [
    "__Python__ ainda permite função com uma quantidade indeterminada de parâmetros. Com esta finalidade a função deve ser declarada da seguinte forma.\n",
    "\n",
    "1. O nome do parâmetros precedido de um asterisco (`*`) significa que a função espera uma lista de parâmetros;"
   ]
  },
  {
   "cell_type": "code",
   "execution_count": null,
   "metadata": {},
   "outputs": [],
   "source": [
    "print(\"a b\", \"c\", \"1\", \"Nome\")"
   ]
  },
  {
   "cell_type": "code",
   "execution_count": 22,
   "metadata": {},
   "outputs": [
    {
     "name": "stdout",
     "output_type": "stream",
     "text": [
      "5\n",
      "Ultimo elemento da lista: True\n",
      "Parametro 0 - 3\n",
      "Parametro 1 - 2.4\n",
      "Parametro 2 - teste\n",
      "Parametro 3 - [1, 2, 3]\n",
      "Parametro 4 - True\n",
      "5\n"
     ]
    }
   ],
   "source": [
    "def funFlexL(*ListaDeParâmetros):\n",
    "    print(len(ListaDeParâmetros))\n",
    "    print(\"Ultimo elemento da lista: \" + str(ListaDeParâmetros[-1]))\n",
    "    for index, item in enumerate(ListaDeParâmetros):\n",
    "        print(f\"Parametro {index} - {item}\")\n",
    "    return len(ListaDeParâmetros)\n",
    "\n",
    "print(funFlexL(3, 2.4, \"teste\", [1,2,3], True))"
   ]
  },
  {
   "cell_type": "markdown",
   "metadata": {},
   "source": [
    "A lista pode ter qualquer tamanho.\n",
    "\n",
    "2. O nome do parâmetros precedido de dois asterisco (`**`) significa que a função espera um dicionario;"
   ]
  },
  {
   "cell_type": "code",
   "execution_count": 23,
   "metadata": {},
   "outputs": [
    {
     "name": "stdout",
     "output_type": "stream",
     "text": [
      "Parâmetro a - 1\n",
      "Parâmetro beta - a\n",
      "Parâmetro y - 2.0\n",
      "Parâmetro L - [1, 3]\n"
     ]
    }
   ],
   "source": [
    "def funFlexD(**DicionarioDeParâmetros):\n",
    "    for key, value in DicionarioDeParâmetros.items():\n",
    "        print(f\"Parâmetro {key} - {value}\")\n",
    "\n",
    "funFlexD(a = 1, beta = 'a', y = 2.0, L = [1,3])"
   ]
  },
  {
   "cell_type": "markdown",
   "metadata": {},
   "source": [
    "3. A função pode receber ainda uma lista e um dicionario;"
   ]
  },
  {
   "cell_type": "code",
   "execution_count": null,
   "metadata": {},
   "outputs": [],
   "source": [
    "def funFlexLD(*ListaDeParâmetros, **DicionarioDeParâmetros):\n",
    "    for index, item in enumerate(ListaDeParâmetros):\n",
    "        print(f\"Parametro {index} - {item}\")\n",
    "    for key, value in DicionarioDeParâmetros.items():\n",
    "        print(f\"Parâmetro {key} - {value}\")\n",
    "\n",
    "funFlexLD(3, 2.4, \"teste\", [1,2,3], True, a = 1, beta = 'a', y = 2.0, L = [1,3])"
   ]
  },
  {
   "cell_type": "markdown",
   "metadata": {},
   "source": [
    "#### Funções anônimas (``lambda``)\n",
    "Além do mecanismo que vimos até qui para definir funções, utilizando a palavra reservada ``def``, é possível definir, em __Python__, outra maneira de definir funções curtas a instrução ``lambda``.\n",
    "Veja este exemplo simples:"
   ]
  },
  {
   "cell_type": "code",
   "execution_count": null,
   "metadata": {},
   "outputs": [],
   "source": [
    "troca = lambda x, y: (y, x)\n",
    "a = 1\n",
    "b = 2\n",
    "print(\"a = \", a, \"b = \", b)\n",
    "a, b = troca(a,b)\n",
    "print(\"a = \", a, \"b = \", b)"
   ]
  },
  {
   "cell_type": "markdown",
   "metadata": {},
   "source": [
    "Esta função ``lambda`` é equivalente à função: "
   ]
  },
  {
   "cell_type": "code",
   "execution_count": null,
   "metadata": {},
   "outputs": [],
   "source": [
    "def troca(x, y):\n",
    "    return y, x\n",
    "a = 1\n",
    "b = 2\n",
    "print(\"a = \", a, \"b = \", b)\n",
    "a, b = troca(a,b)\n",
    "print(\"a = \", a, \"b = \", b)"
   ]
  },
  {
   "cell_type": "markdown",
   "metadata": {},
   "source": [
    "Então, por que você iria querer usar uma função ``lambda``?\n",
    "Temos que lembrar que, em __Python__ *tudo é um objeto*, até mesmo as próprias funções!\n",
    "Ou seja, isto significa que funções podem ser passadas como argumentos para funções.\n",
    "\n",
    "Vejam este exemplo:"
   ]
  },
  {
   "cell_type": "code",
   "execution_count": null,
   "metadata": {},
   "outputs": [],
   "source": [
    "data = [{'Nome':'Thiago', 'Sobrenome':'Alves Sena', 'NumMatricula':202311234},\n",
    "        {'Nome':'Bruno', 'Sobrenome':'Barbosa Santana', 'NumMatricula':202324352},\n",
    "        {'Nome':'Breno',  'Sobrenome':'Carvalho Rios', 'NumMatricula':202224521}]"
   ]
  },
  {
   "cell_type": "markdown",
   "metadata": {},
   "source": [
    "Esta lista tem apenas três itens, poderia ter muito mais. Gostaríamos de ordenar a mesma mas, não temos um método definido para ordenar dicionários. Desta forma: "
   ]
  },
  {
   "cell_type": "code",
   "execution_count": null,
   "metadata": {},
   "outputs": [],
   "source": [
    "try:\n",
    "    sorted(data)\n",
    "except Exception as e:\n",
    "    print(e)"
   ]
  },
  {
   "cell_type": "markdown",
   "metadata": {},
   "source": [
    "Vejamos como podemos contornar esta limitação utilizando uma função ``lambda``"
   ]
  },
  {
   "cell_type": "code",
   "execution_count": null,
   "metadata": {},
   "outputs": [],
   "source": [
    "nome = lambda x: x['Nome']\n",
    "\n",
    "def nome(x):\n",
    "    return x['Nome']\n",
    "    \n",
    "nome(data[0])"
   ]
  },
  {
   "cell_type": "code",
   "execution_count": null,
   "metadata": {},
   "outputs": [],
   "source": [
    "# Podemos ordenar pelo campo nome\n",
    "help(sorted)"
   ]
  },
  {
   "cell_type": "code",
   "execution_count": null,
   "metadata": {},
   "outputs": [],
   "source": [
    "sorted(data, key = lambda x: x['Nome'])\n",
    "#sorted(data, key = nome)"
   ]
  },
  {
   "cell_type": "code",
   "execution_count": null,
   "metadata": {},
   "outputs": [],
   "source": [
    "lambda x:x**2"
   ]
  },
  {
   "cell_type": "markdown",
   "metadata": {},
   "source": [
    "### Tratamento de exceções.\n",
    "\n",
    "Independentemente das habilidades de um desenvolvedor e de sua equipe de colaboradores, erros de programação acontecem de forma rotineira no processo de desenvolvimento de softwares. Os erros podem ser classificados em uma das seguintes categorias:\n",
    "\n",
    "- *Erros de sintaxe:* Erros onde o código não segue as regras sintácticas de __Python__, ou seja não é um código __Python__ válido. Este tipo de erro é facilmente detetável, ainda mais com a ajuda de uma IDE apropriada.\n",
    "- *Erros de tempo de execução:* Erros em que o código está sintaticamente correto mas acontece uma falha na execução, eventualmente devido a uma entrada inválida do usuário. Este tipo de erro pode ser identificado e previsto.  \n",
    "- *Erros semânticos:* Erros na lógica da programação: o código é executado sem problemas, mas o resultado não é o esperado. Nestes casos o erro é mais difícil de rastrear e corrigir.\n",
    "\n",
    "Vamos abordar, nesta seção, como tratar os erros de tempo de execução\n",
    "Aqui vamos nos concentrar em como lidar de forma limpa com *erros de tempo de execução*. Já vimos, nas aulas até aqui, que __Python__ permite lidar com este tipo de erros utilizando uma estrutura apropriada para tratamento de exceções."
   ]
  },
  {
   "cell_type": "markdown",
   "metadata": {},
   "source": [
    "#### Gerenciando erros de tempo de execução\n",
    "\n",
    "Os erros de tempo de execução podem acontecer de diversas maneiras. Alguns exemplos simples podem se dar quando tentamos utilizar uma variável que ainda não foi definida:"
   ]
  },
  {
   "cell_type": "code",
   "execution_count": null,
   "metadata": {},
   "outputs": [],
   "source": [
    "#print(\"Valor da variável novaVar= \", novaVar)"
   ]
  },
  {
   "cell_type": "markdown",
   "metadata": {},
   "source": [
    "Ou quando tentamos utilizar uma operação que não está definida "
   ]
  },
  {
   "cell_type": "code",
   "execution_count": null,
   "metadata": {},
   "outputs": [],
   "source": [
    "#novaVar = [1,2,3] + \"outra Lista\""
   ]
  },
  {
   "cell_type": "markdown",
   "metadata": {},
   "source": [
    "Ou quiça, o mais conhecido dos erros de tempo de execução, quando tentamos calcular um resultado matematicamente indefinido:"
   ]
  },
  {
   "cell_type": "code",
   "execution_count": null,
   "metadata": {},
   "outputs": [],
   "source": [
    "#novaVar = 5 + 3.14 / 0"
   ]
  },
  {
   "cell_type": "markdown",
   "metadata": {},
   "source": [
    "Ja aconteceu também, em alguns exemplos anteriores, quando foi feito um acesso a uma posição de uma lista que não existe."
   ]
  },
  {
   "cell_type": "code",
   "execution_count": null,
   "metadata": {},
   "outputs": [],
   "source": [
    "novaVar = [1, 2, 3, 4]\n",
    "#print(novaVar[5])"
   ]
  },
  {
   "cell_type": "markdown",
   "metadata": {},
   "source": [
    "Repare que, em cada caso, Python foi capaz de indicar que um erro aconteceu e ainda entregar uma mensagem com informações sobre o que exatamente deu errado, junto com a linha exata de código onde o erro aconteceu.\n",
    "Ter acesso a erros significativos como esse é imensamente útil ao tentar rastrear a raiz dos problemas no seu código."
   ]
  },
  {
   "cell_type": "markdown",
   "metadata": {},
   "source": [
    "#### Capturando exceções: utilizando ``try`` e ``except``\n",
    "\n",
    "A principal ferramenta que o Python oferece para lidar com exceções de tempo de execução é a cláusula ``try``...``except``.\n",
    "\n",
    "Sua estrutura básica e dada da seguinte forma:"
   ]
  },
  {
   "cell_type": "code",
   "execution_count": null,
   "metadata": {},
   "outputs": [],
   "source": [
    "geraErro = False\n",
    "geraErro = True\n",
    "try:\n",
    "    print(\"Tentar executar isto primeiro ...\")\n",
    "    if geraErro:\n",
    "        novaVar = 1/0\n",
    "except:\n",
    "    print(\"Executar isto apenas se aconteceu um erro !!!\")"
   ]
  },
  {
   "cell_type": "markdown",
   "metadata": {},
   "source": [
    "Vamos entender melhor como esta estrutura funciona utilizando este exemplo de divisão por zero. Suponha que implementamos a seguinte função. "
   ]
  },
  {
   "cell_type": "code",
   "execution_count": null,
   "metadata": {},
   "outputs": [],
   "source": [
    "def divNum(a, b):\n",
    "    return a/b\n",
    "\n",
    "# Funciona para valores apropriados:\n",
    "print(\"4/2 = \", divNum(4, 2))\n",
    "# Mas gera um erro de execução se utilizamos uma divisão por zero:\n",
    "print(\"4/0 = \", divNum(4, 0))"
   ]
  },
  {
   "cell_type": "code",
   "execution_count": null,
   "metadata": {},
   "outputs": [],
   "source": [
    "# Podemos melhorar a implementação utilizando um tratamento de exceções\n",
    "def divNum(a, b):\n",
    "    try:\n",
    "        return a/b\n",
    "    except:\n",
    "        return 1E100 # Um número muito grande pode ser uma aproximação para infinito\n",
    "\n",
    "# Funciona para valores apropriados:\n",
    "print(\"4/2 = \", divNum(4, 2))\n",
    "# E agora funciona também para divisões por zero:\n",
    "print(\"4/0 = \", divNum(4, 0))"
   ]
  },
  {
   "cell_type": "code",
   "execution_count": null,
   "metadata": {},
   "outputs": [],
   "source": [
    "# Entretanto ela agora funciona também para outros erros:\n",
    "print(\"4/'0' = \", divNum(4, \"0\"))"
   ]
  },
  {
   "cell_type": "markdown",
   "metadata": {},
   "source": [
    "Nesta caso específico seria apropriado identificar que o erro de execução não é mais de divisão por zero. Desta  forma o tratamento deveria ser diferente. Seria recomendável então capturar qual o tipo de erro que aconteceu, ou seja, qual exceção foi gerada. Veja como fica quando capturamos uma exceção específica. "
   ]
  },
  {
   "cell_type": "code",
   "execution_count": null,
   "metadata": {},
   "outputs": [],
   "source": [
    "def divNum(a, b):\n",
    "    try:\n",
    "        return a/b\n",
    "    except ZeroDivisionError:\n",
    "        return 1E100 # Um número muito grande pode ser uma aproximação para infinito\n",
    "    except TypeError:\n",
    "        return None\n",
    "    \n",
    "print(\"4/2 = \", divNum(4, 2))\n",
    "print(\"4/0 = \", divNum(4, 0))        \n",
    "print(\"4/'0' = \", divNum(4, \"0\"))"
   ]
  },
  {
   "cell_type": "markdown",
   "metadata": {},
   "source": [
    "#### Lançando Exceções: ``raise``\n",
    "\n",
    "O lançamento de exceções é um recurso importante da linguagem para tratamento de erros de tempo de execução. As informações oferecidas por este tipo de evento permitem tratar de forma apropriada o código e evitar situações específicas que podem ser abordadas de forma mais seguras. Mas como gerar nossas próprias exceções? \n",
    "\n",
    "Para esta finalidade __Python__ disponibiliza a instrução ``raise``. Veja como usar"
   ]
  },
  {
   "cell_type": "code",
   "execution_count": null,
   "metadata": {},
   "outputs": [],
   "source": [
    "def divNum(a, b):\n",
    "    if type(b) == type('zero'):\n",
    "        raise TypeError(\"O divisor não pode ser uma string\")\n",
    "    try:\n",
    "        return a/b\n",
    "    except ZeroDivisionError:\n",
    "        return 1E100 # Um número muito grande pode ser uma aproximação para infinito\n",
    "\n",
    "print(\"4/2 = \", divNum(4, 2))\n",
    "print(\"4/0 = \", divNum(4, 0))\n",
    "#print(\"4/'0' = \", divNum(4, \"0\"))    \n",
    "    \n",
    "try:\n",
    "    print(\"4/2 = \", divNum(4, 2))\n",
    "    print(\"4/0 = \", divNum(4, 0))\n",
    "    print(\"4/'0' = \", divNum(4, \"0\"))\n",
    "except TypeError:\n",
    "    print(\"O divisor não pode ser uma string\")"
   ]
  },
  {
   "cell_type": "markdown",
   "metadata": {},
   "source": [
    "__Python__ fornece uma estrutura hierárquica de classes para exceções ([Veja aqui](https://docs.python.org/3/library/exceptions.html)): \n",
    "\n",
    "BaseException\\\n",
    " ├── BaseExceptionGroup\\\n",
    " ├── GeneratorExit\\\n",
    " ├── KeyboardInterrupt\\\n",
    " ├── SystemExit\\\n",
    " └── Exception\\\n",
    "     ├── ArithmeticError\\\n",
    "     │   ├── FloatingPointError\\\n",
    "     │   ├── OverflowError\\\n",
    "     │   └── ZeroDivisionError\\\n",
    "     ├── AssertionError\\\n",
    "     ├── AttributeError\\\n",
    "     ├── BufferError\\\n",
    "     ├── EOFError\\\n",
    "     ├── ExceptionGroup [BaseExceptionGroup]\\\n",
    "     ├── ImportError\\\n",
    "     │    └── ModuleNotFoundError\\\n",
    "     ├── LookupError\\\n",
    "     │    ├── IndexError\\\n",
    "     │    └── KeyError\\\n",
    "     ├── MemoryError\\\n",
    "     ├── NameError\\\n",
    "     │    └── UnboundLocalError\\\n",
    "      ├── OSError\\\n",
    "      │    ├── BlockingIOError\\\n",
    "      │    ├── ChildProcessError\\\n",
    "      │    ├── ConnectionError\\\n",
    "      │    │    ├── BrokenPipeError\\\n",
    "      │    │    ├── ConnectionAbortedError\\\n",
    "      │    │    ├── ConnectionRefusedError\\\n",
    "      │    │    └── ConnectionResetError\\\n",
    "      │    ├── FileExistsError\\\n",
    "      │    ├── FileNotFoundError\\\n",
    "      │    ├── InterruptedError\\\n",
    "      │    ├── IsADirectoryError\\\n",
    "      │    ├── NotADirectoryError\\\n",
    "      │    ├── PermissionError\\\n",
    "      │    ├── ProcessLookupError\\\n",
    "      │    └── TimeoutError\\\n",
    "      ├── ReferenceError\\\n",
    "      ├── RuntimeError\\\n",
    "      │    ├── NotImplementedError\\\n",
    "      │    └── RecursionError\\\n",
    "      ├── StopAsyncIteration\\\n",
    "      ├── StopIteration\\\n",
    "      ├── SyntaxError\\\n",
    "      │    └── IndentationError\\\n",
    "      │         └── TabError\\\n",
    "      ├── SystemError\\\n",
    "      ├── TypeError\\\n",
    "      ├── ValueError\\\n",
    "      │    └── UnicodeError\\\n",
    "      │         ├── UnicodeDecodeError\\\n",
    "      │         ├── UnicodeEncodeError\\\n",
    "      │         └── UnicodeTranslateError\\\n",
    "      └── Warning\\\n",
    "           ├── BytesWarning\\\n",
    "           ├── DeprecationWarning\\\n",
    "           ├── EncodingWarning\\\n",
    "           ├── FutureWarning\\\n",
    "           ├── ImportWarning\\\n",
    "           ├── PendingDeprecationWarning\\\n",
    "           ├── ResourceWarning\\\n",
    "           ├── RuntimeWarning\\\n",
    "           ├── SyntaxWarning\\\n",
    "           ├── UnicodeWarning\\\n",
    "           └── UserWarning\\"
   ]
  },
  {
   "cell_type": "markdown",
   "metadata": {},
   "source": [
    "Podemo criar nossas próprias exceções mas ... falaremos sobre isto na nossa próxima aula, após vermos POO em __Python__.\n",
    "\n",
    "Às vezes, em uma instrução ``try``...``except``, pode ser importante trabalhar com a própria mensagem gerada pela exceção.\n",
    "\n",
    "Isso pode ser feito com a palavra-chave ``as``. Veja o mesmo exemplo: "
   ]
  },
  {
   "cell_type": "code",
   "execution_count": null,
   "metadata": {},
   "outputs": [],
   "source": [
    "try:\n",
    "    print(\"4/2 = \", divNum(4, 2))\n",
    "    print(\"4/0 = \", divNum(4, 0))\n",
    "    #print(\"4/'0' = \", divNum(4, \"0\"))\n",
    "    print(\"4/[1,2,3] = \", divNum(4, [1,2,3]))\n",
    "except Exception as e:\n",
    "    print(\"O tipo de erro é: \", type(e))\n",
    "    print(\"A mensagem de erro: \", e)"
   ]
  },
  {
   "cell_type": "markdown",
   "metadata": {},
   "source": [
    "A sintaxes completa do ``try`` é:"
   ]
  },
  {
   "cell_type": "code",
   "execution_count": null,
   "metadata": {},
   "outputs": [],
   "source": [
    "geraErro = False\n",
    "geraErro = True\n",
    "try:\n",
    "    print(\"Tentar executar isto primeiro ...\")\n",
    "    if geraErro:\n",
    "        novaVar = 1/0\n",
    "except:\n",
    "    print(\"Executar isto apenas se aconteceu um erro !!!\")\n",
    "else:\n",
    "    print(\"Executar isto apenas se não aconteceu um erro !!!\")\n",
    "finally:\n",
    "    print(\"Executar isto sempre !!!\")\n",
    "\n"
   ]
  },
  {
   "cell_type": "markdown",
   "metadata": {},
   "source": [
    "### Iteradores\n",
    "\n",
    "Já apresentamos a instrução ``for`` utilizada para implementar estruturas de repetição com ajuda de um iterador. Até o momento utilizamos apenas dois iteradores: o ``range`` e o ``enumerate``\n"
   ]
  },
  {
   "cell_type": "code",
   "execution_count": null,
   "metadata": {},
   "outputs": [],
   "source": [
    "itera = range(10)\n",
    "print(type(itera))\n",
    "for i in itera:\n",
    "    print(i, end='')\n",
    "\n"
   ]
  },
  {
   "cell_type": "markdown",
   "metadata": {},
   "source": [
    "Como vimos nos exemplos anteriores, os iteradores são fundamentais para percorrer listas"
   ]
  },
  {
   "cell_type": "code",
   "execution_count": null,
   "metadata": {},
   "outputs": [],
   "source": [
    "L = ['a', 'b', 'c', 'd', 'e', 'f', 'g', 'h']\n",
    "for chr in L:\n",
    "    print(chr.upper(), end=' ')"
   ]
  },
  {
   "cell_type": "markdown",
   "metadata": {},
   "source": [
    "Esta sintaxe \"``for x in y``\" nos permite repetir alguma operação para cada valor da lista.\n",
    "O fato de a sintaxe do código ser tão próxima de sua descrição em inglês (\"*para [cada] valor na lista*\") é apenas uma das escolhas sintáticas que torna o Python uma linguagem tão intuitiva de aprender e usar.\n",
    "\n",
    "Mas o comportamento aparente não é de fato o que *realmente* está acontecendo.\n",
    "Quando você escreve algo como \"``for val in L``\", o interpretador Python verifica se ele possui uma interface *iterator*, que você mesmo pode verificar com a função ``iter``:"
   ]
  },
  {
   "cell_type": "code",
   "execution_count": null,
   "metadata": {},
   "outputs": [],
   "source": [
    "itera = iter(L)\n",
    "print(type(itera))\n",
    "print(itera)\n",
    "for chr in itera:\n",
    "    print(chr.upper(), end=' ')"
   ]
  },
  {
   "cell_type": "markdown",
   "metadata": {},
   "source": [
    "O iterador fornece a funcionalidade exigida pelo loop ``for`` para funcionar. O objeto ``iter`` é um contêiner que lhe dá acesso ao próximo objeto enquanto ele for válido, o que pode ser reproduzido utilizando a função ``next``:"
   ]
  },
  {
   "cell_type": "code",
   "execution_count": null,
   "metadata": {},
   "outputs": [],
   "source": [
    "itera = iter(L)\n",
    "print(next(itera))\n",
    "print(next(itera))\n",
    "print(next(itera))\n",
    "print(next(itera))\n",
    "print(next(itera))\n",
    "print(next(itera))\n",
    "print(next(itera))\n",
    "print(next(itera))\n",
    "print(next(itera))\n"
   ]
  },
  {
   "cell_type": "markdown",
   "metadata": {},
   "source": [
    "``range``, da mesma forma que as listas gera um iterator:"
   ]
  },
  {
   "cell_type": "code",
   "execution_count": null,
   "metadata": {},
   "outputs": [],
   "source": [
    "itera = iter(range(10))\n",
    "print(type(itera))\n",
    "print(next(itera))\n",
    "print(next(itera))\n",
    "print(next(itera))\n",
    "print(next(itera))"
   ]
  },
  {
   "cell_type": "markdown",
   "metadata": {},
   "source": [
    "Uma das vantagens desta abordagem baseada no uso de iteradores é que *a lista completa nunca é criada explicitamente!* \n",
    "\n",
    "Podemos ver isso fazendo um cálculo num intervalo que sobrecarregaria a memória do nosso sistema se realmente alocássemos a lista em questão. "
   ]
  },
  {
   "cell_type": "code",
   "execution_count": null,
   "metadata": {},
   "outputs": [],
   "source": [
    "N = 10 ** 100\n",
    "for i in range(N):\n",
    "    if i >= 10:\n",
    "        break\n",
    "    print(i, end=' ')\n",
    "print()"
   ]
  },
  {
   "cell_type": "markdown",
   "metadata": {},
   "source": [
    "#### Outros iteradores importantes \n",
    "\n",
    "Já vimos o ``enumerate`` em exemplos com listas:"
   ]
  },
  {
   "cell_type": "code",
   "execution_count": null,
   "metadata": {},
   "outputs": [],
   "source": [
    "for i in range(len(L)):\n",
    "    print(i, L[i])\n",
    "\n",
    "# melhor com enumerate\n",
    "print(\"________________\")\n",
    "for i, vale in enumerate(L):\n",
    "    print(i, vale)"
   ]
  },
  {
   "cell_type": "markdown",
   "metadata": {},
   "source": [
    "Quando se trabalha com múltiplas listas relacionas, pode ser necessário iterar simultaneamente nelas. Nestes casos podemo utilizar o iterador ``zip``, que compacta os iteráveis:"
   ]
  },
  {
   "cell_type": "code",
   "execution_count": null,
   "metadata": {},
   "outputs": [],
   "source": [
    "nomes = ['Ana', 'Beatriz', 'Carlos', 'Daniel', 'Eduardo', 'Fernanda', 'Gabriel', 'Hugo']\n",
    "index = [1, 2, 3, 4, 5, 6, 7, 8, 9, 10, 11, 12]\n",
    "for char, name, i in zip(L, nomes, index):\n",
    "    print(char, '-', name, '-', i)"
   ]
  },
  {
   "cell_type": "markdown",
   "metadata": {},
   "source": [
    "Podemos também mapear uma função em cada um dos elementos de uma lista com ``map``"
   ]
  },
  {
   "cell_type": "code",
   "execution_count": null,
   "metadata": {},
   "outputs": [],
   "source": [
    "\"\"\"\n",
    "def invert(x):\n",
    "    return 1/x;\n",
    "\"\"\"\n",
    "#invert = lambda x: 1/x\n",
    "\n",
    "LInt = list(range(1, 11))\n",
    "print(LInt)\n",
    "for val in map(lambda x: x**-2, LInt):\n",
    "    print(\"{:1.3f}\".format(val), end=' ')\n",
    "\n",
    "print()\n"
   ]
  },
  {
   "cell_type": "markdown",
   "metadata": {},
   "source": [
    "Tambem podemo filtrar os elemento de uma lista com uma função que retorne ``True`` ou ``False``"
   ]
  },
  {
   "cell_type": "code",
   "execution_count": null,
   "metadata": {},
   "outputs": [],
   "source": [
    "def ePar(x):\n",
    "    return x % 2 == 0;\n",
    "\n",
    "for val in filter(lambda x: x%2 == 0, LInt):\n",
    "    print(val, end=' ')"
   ]
  },
  {
   "cell_type": "markdown",
   "metadata": {},
   "source": [
    "Já vimos que quando colocamos um asterisco (``*``) na frente de um parâmetro de um função, estamos indicando que se trata de uma lista. Com os iteradores podemos fazer o mesmo e passar eles como argumentos de funções."
   ]
  },
  {
   "cell_type": "code",
   "execution_count": null,
   "metadata": {},
   "outputs": [],
   "source": [
    "itera = map(lambda x: x%2 == 0, LInt)\n",
    "# veja a diferença entre\n",
    "print(itera)\n",
    "# e \n",
    "print(*itera)\n",
    "print(*range(10))"
   ]
  },
  {
   "cell_type": "markdown",
   "metadata": {},
   "source": [
    "O módulo ``itertools`` contém uma série de iteradores úteis; vale a pena explorar o módulo para ver o que está disponível. Como exemplo, considere a função ``itertools.permutations``, que itera sobre todas as permutações de uma sequência:"
   ]
  },
  {
   "cell_type": "code",
   "execution_count": null,
   "metadata": {},
   "outputs": [],
   "source": [
    "from itertools import permutations\n",
    "p = permutations(range(3))\n",
    "print(*p)"
   ]
  },
  {
   "cell_type": "markdown",
   "metadata": {},
   "source": [
    "Da mesma forma, o ``itertools.combinations`` itera sobre todas as combinações únicas de ``N`` valores  dentro de uma lista:"
   ]
  },
  {
   "cell_type": "code",
   "execution_count": null,
   "metadata": {},
   "outputs": [],
   "source": [
    "from itertools import combinations\n",
    "c = combinations(range(4), 2)\n",
    "print(*c)"
   ]
  },
  {
   "cell_type": "code",
   "execution_count": null,
   "metadata": {},
   "outputs": [],
   "source": [
    "import itertools as it\n",
    "dir(it)"
   ]
  },
  {
   "cell_type": "markdown",
   "metadata": {},
   "source": [
    "### List Comprehensions\n",
    "\n",
    "Procurando por exemplos e tirando dúvidas na Internet você pode ter se deparado com um tipo de construção bem interessante em __Python__: *list comprehensions*.\n",
    "Veja um exemplo:"
   ]
  },
  {
   "cell_type": "code",
   "execution_count": null,
   "metadata": {},
   "outputs": [],
   "source": [
    "pares = [i for i in range(20) if i % 2 == 0]\n",
    "print(pares)"
   ]
  },
  {
   "cell_type": "markdown",
   "metadata": {},
   "source": [
    "As list comprehensions são uma maneira de compactar uma estrutura de repetição ``for``, utilizada na construção de lista, em uma única linha curta e legível.\n",
    "\n",
    "Veja por exemplo como gerar uma lista com os caracteres de uma _string_:"
   ]
  },
  {
   "cell_type": "code",
   "execution_count": 24,
   "metadata": {},
   "outputs": [
    {
     "name": "stdout",
     "output_type": "stream",
     "text": [
      "['E', 's', 'b', 'e', 'l', ' ', 'V', 'a', 'l', 'e', 'r', 'o', ' ', 'O', 'r', 'e', 'l', 'l', 'a', 'n', 'a']\n",
      "['E', 's', 'b', 'e', 'l', ' ', 'V', 'a', 'l', 'e', 'r', 'o', ' ', 'O', 'r', 'e', 'l', 'l', 'a', 'n', 'a']\n"
     ]
    }
   ],
   "source": [
    "nome = \"Esbel Valero Orellana\"\n",
    "lNome = []\n",
    "for char in nome:\n",
    "    lNome.append(char)\n",
    "print(lNome)\n",
    "\n",
    "# Utilizando list comprehensions\n",
    "lNome = [char for char in nome]\n",
    "print(lNome)"
   ]
  },
  {
   "cell_type": "markdown",
   "metadata": {},
   "source": [
    "Vejam que a leitura deste list comprehensions, como outras construções em __Python__, é muito simples: construa uma lista com todos os caracteres da string.\n",
    "\n",
    "As list comprehensions trabalham com estruturas ``for``que por sua vez estão baseadas no uso de iteradores. As list comprehensions pode ser utilizadas para iterar operar com múltiplos iteradores:"
   ]
  },
  {
   "cell_type": "code",
   "execution_count": 25,
   "metadata": {},
   "outputs": [
    {
     "name": "stdout",
     "output_type": "stream",
     "text": [
      "[(0, 0), (0, 1), (0, 2), (1, 0), (1, 1), (1, 2)]\n"
     ]
    }
   ],
   "source": [
    "conv = [(a, b) for a in [0,1] for b in [0,1,2]]\n",
    "print(conv)"
   ]
  },
  {
   "cell_type": "markdown",
   "metadata": {},
   "source": [
    "O mecanismo de geração da lista também pode incluir uma condição."
   ]
  },
  {
   "cell_type": "code",
   "execution_count": 26,
   "metadata": {},
   "outputs": [],
   "source": [
    "pares = [i for i in range(20) if i % 2 == 0]"
   ]
  },
  {
   "cell_type": "markdown",
   "metadata": {},
   "source": [
    "Vejam uma diferença fundamental entre as implementações deste problema"
   ]
  },
  {
   "cell_type": "code",
   "execution_count": 27,
   "metadata": {},
   "outputs": [
    {
     "name": "stdout",
     "output_type": "stream",
     "text": [
      "29.6 ms ± 2.09 ms per loop (mean ± std. dev. of 7 runs, 10 loops each)\n",
      "35.5 ms ± 370 µs per loop (mean ± std. dev. of 7 runs, 10 loops each)\n"
     ]
    }
   ],
   "source": [
    "%timeit [i for i in range(1000000) if i % 2 == 0]\n",
    "\n",
    "def pares(N):\n",
    "    pares = []\n",
    "    for i in range(N):\n",
    "        if i % 2 == 0:\n",
    "            pares.append(i)\n",
    "    return pares\n",
    "\n",
    "%timeit pares(1000000)"
   ]
  },
  {
   "cell_type": "markdown",
   "metadata": {},
   "source": [
    "O mecanismo de list comprehensions pode ser utilizado para gerar outros tips de dados. Basta mudar os delimitadores:"
   ]
  },
  {
   "cell_type": "code",
   "execution_count": null,
   "metadata": {},
   "outputs": [],
   "source": [
    "# Gerando conjuntos\n",
    "conj = {2**i for i in range(20)}\n",
    "print(conj)"
   ]
  },
  {
   "cell_type": "code",
   "execution_count": null,
   "metadata": {},
   "outputs": [],
   "source": [
    "# Gerando dicionários\n",
    "digits = {d:ord(d) for d in '0123456789'}\n",
    "print(digits)"
   ]
  }
 ],
 "metadata": {
  "kernelspec": {
   "display_name": "cet068IA",
   "language": "python",
   "name": "python3"
  },
  "language_info": {
   "codemirror_mode": {
    "name": "ipython",
    "version": 3
   },
   "file_extension": ".py",
   "mimetype": "text/x-python",
   "name": "python",
   "nbconvert_exporter": "python",
   "pygments_lexer": "ipython3",
   "version": "3.10.14"
  }
 },
 "nbformat": 4,
 "nbformat_minor": 2
}
