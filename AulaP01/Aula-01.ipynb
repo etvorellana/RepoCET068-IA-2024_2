{
 "cells": [
  {
   "cell_type": "markdown",
   "metadata": {},
   "source": [
    "# Módulo de Programação Python: Introdução à Linguagem\n",
    "\n",
    "# Aula - 01\n",
    "\n",
    "## Apresentação de Python: Sintaxes, tipos de dados e operadores\n"
   ]
  },
  {
   "cell_type": "markdown",
   "metadata": {},
   "source": [
    "__Objetivo__: Introduzir o __Python__ como linguagem de programação, configurar o ambiente de desenvolvimento e dar os primeiros passos. Ensinar a sintaxe básica de __Python__, variáveis, tipos de dados básicos e seus operadores.  Explorar o uso de tipos de dados avançados em __Python__: listas e tuplas, dicionários e conjuntos."
   ]
  },
  {
   "cell_type": "markdown",
   "metadata": {},
   "source": [
    "### Uma Introdução Rápida\n",
    "\n",
    "Concebida no fim dos anos 80 como uma linguagem de script, __Python__ se converteu nos últimos anos numa ferramenta essencial para muitos programadores, engenheiros e cientistas. Veja um pouco sobre a história do desenvolvimento de __Python__ em [A História do Python](http://mindbending.org/pt/a-historia-do-python \"A História do Python\").\n",
    "\n",
    "<img align=\"center\" style=\"padding-right:10px with=;\" src=\"Figuras/aula-01_fig_02.png\" width=700 height=230>\n",
    "\n",
    "> Fonte: [History of the Python language](https://www.preceden.com/timelines/5366-history-of-the-python-language)"
   ]
  },
  {
   "cell_type": "markdown",
   "metadata": {},
   "source": [
    "Python pode ser definida como uma linguagem de programação de alto nível que permite lidar com várias tarefas de programação, como computação numérica, desenvolvimento web, programação de banco de dados, programação de rede, processamento paralelo, etc. Pode-se acrescentar a isto o fato de estar disponível para os sistemas operacionais mais populares, como Windows, Mac e Linux. \n",
    "\n",
    "O fato de se tratar de uma linguagem interpretada permite que programadores possam testar o código em ambientes interativos, antes de incorporar no programa final, eliminando a necessidade de processos demorados de compilação. Entretanto, muitos programadores procuram Python com base na sua simplicidade e elegância, bem como devido à vantagem de contar com um ecossistema de ferramenta construídas em cima desta poderosa linguagem. \n",
    "\n",
    "<img align=\"center\" style=\"padding-right:10px;\" src=\"Figuras/aula-01_fig_03.png\">\n",
    "\n",
    "A modo de exemplo pode-se falar do desenvolvimento de aplicações em computação científica e ciência dos dados que são construídas em torno de um grupo de pacotes maduros e úteis:\n",
    "\n",
    "* __NumPy__ : fornece armazenamento e ferramentas de cômputo eficientes para arrays e matrizes de dados;\n",
    "* __SciPy__ : contém uma ampla gama de ferramentas numéricas, como rotinas para integração numérica ou interpolação;\n",
    "* __Pandas__ : fornece um DataFrame, juntamente com um poderoso conjunto de métodos para manipular, filtrar, agrupar e transformar dados.\n",
    "* __Matplotlib__ : disponibiliza uma interface útil para a criação de gráficos e figuras de qualidade para publicação; \n",
    "* __Scikit-Learn__ : fornece um conjunto de ferramentas para a aplicação de algoritmos de aprendizagem de máquina.\n",
    "* __IPython / Jupyter__ : fornece um terminal aprimorado e um ambiente de notebook interativo, muito útil para análises exploratórias, bem como para criação de documentos interativos e executáveis."
   ]
  },
  {
   "cell_type": "markdown",
   "metadata": {},
   "source": [
    "Como seu foco está na capacidade de programar mais rapidamente, a velocidade de execução é prejudicada em alguns casos. Um programa Python pode ser até 10 vezes mais lento do que um programa C equivalente, mas conterá menos linhas de código e pode ser programado para lidar facilmente com vários tipos de dados. \n",
    "\n",
    "<img align=\"center\" style=\"padding-right:10px;\" src=\"Figuras/aula-01_fig_05.png\">\n",
    "\n",
    "> Fonte: Pereira, R., Couto, M., Ribeiro, F., Rua, R., Cunha, J., Fernandes, J. P., &#38; Saraiva, J. (2017). Energy efficiency across programming languages: How do energy, time, and memory relate. SLE 2017 - Proceedings of the 10th ACM SIGPLAN International Conference on Software Language Engineering, Co-Located with SPLASH 2017, 256–267. [DOI](https://doi.org/10.1145/3136014.3136031)\n",
    "\n",
    "Essa desvantagem no código Python pode ser superada convertendo as partes computacionalmente intensivas do código para C/C++ ou pelo uso apropriado de estrutura de dados e módulos disponíveis.\n",
    "\n",
    "Para aproveitar o poder deste ecossistema, no desenvolvimento de aplicações em computação científica, primeiro é necessário ter uma determinada familiaridade com a própria linguagem Python. Muitos dos alunos deste curso tem familiaridade com outras linguagens - MATLAB, Pascal, Java, C ++, etc. - pelo que se tentaremos disponibilizar uma revisão breve, mas abrangente desta linguagem."
   ]
  },
  {
   "cell_type": "markdown",
   "metadata": {},
   "source": [
    "### Como executar código escrito em Python\n",
    "\n",
    "Um ponto de partida para criar seu ambiente de desenvolvimento pode ser instalar a ferramenta [Anaconda](https://conda.io/projects/conda/en/latest/user-guide/index.html)\n",
    "\n",
    "Basicamente dispomos de quatro mecanismos para executar código escrito em __Python__\n",
    "\n",
    "* O interpretador __Python__: Disponível nos principais __SO__ e distribuições __GNU/Linux__, o interpretador pode ser utilizado de forma simples e é bastante conveniente para experimentar pequenos fragmentos de códigos e sequências curtas de operações;\n",
    "\n",
    "<img align=\"center\" style=\"padding-right:10px;\" src=\"Figuras/aula-01_fig_06.png\">\n",
    "\n",
    "* O interpretador __IPython__: Desenvolvido como um ambiente interativo (__IPython__ = _Interactive Python_) acrescenta uma série de recursos importantes ao interpretador;\n",
    "\n",
    "<img align=\"center\" style=\"padding-right:10px;\" src=\"Figuras/aula-01_fig_07.png\">\n",
    "\n",
    "* Utilizando _scripts_: Para programas maiores e mais complicados é conveniente salvar o código na forma de um arquivo __.py__ que, posteriormente, pode ser executado com o interpretador;\n",
    "\n",
    "> [Exemplo](script_001.py)\n",
    "\n",
    "<img align=\"center\" style=\"padding-right:10px;\" src=\"Figuras/aula-01_fig_08.png\">"
   ]
  },
  {
   "cell_type": "code",
   "execution_count": 1,
   "metadata": {},
   "outputs": [
    {
     "name": "stdout",
     "output_type": "stream",
     "text": [
      "c = a + b =  1  +  2  =  3\n"
     ]
    }
   ],
   "source": [
    "%run script_001"
   ]
  },
  {
   "cell_type": "markdown",
   "metadata": {},
   "source": [
    "* Utilizando o __Jupyter notebook__: Criado como um híbrido de um terminal interativo com um arquivo de _script_, o _notebook_ é uma mistura de código executável, texto, gráficos, e outras ferramentas interativas em um único documento."
   ]
  },
  {
   "cell_type": "markdown",
   "metadata": {},
   "source": [
    "##### Uma revisão rápida da sintaxes de Python\n",
    "\n",
    "Veja o exemplo a seguir: "
   ]
  },
  {
   "cell_type": "code",
   "execution_count": 2,
   "metadata": {},
   "outputs": [
    {
     "name": "stdout",
     "output_type": "stream",
     "text": [
      "menores: [23, 87, 22]\n",
      "maiores: [147, 202, 132, 187, 172, 176, 222]\n"
     ]
    }
   ],
   "source": [
    "import random\n",
    "\n",
    "# definindo o ponto médio \n",
    "pontoMedio = 128\n",
    "\n",
    "# criando duas listas vazias\n",
    "menores = []; maiores = []\n",
    "\n",
    "# Separando os números entre menores e maiores\n",
    "for i in range(10):\n",
    "    pix = random.randint(0,255)\n",
    "    if(pix < pontoMedio):\n",
    "        menores.append(pix)\n",
    "    else:\n",
    "        maiores.append(pix)\n",
    "\n",
    "print(\"menores:\", menores)\n",
    "print(\"maiores:\", maiores)"
   ]
  },
  {
   "cell_type": "markdown",
   "metadata": {},
   "source": [
    "Deste pequeno exemplo podemos extrair alguns aspectos iniciais, importantes, da linguagem\n",
    "\n",
    "##### Comentários em Python\n",
    "\n",
    "Os comentários são uma parte importante de qualquer linguagem de programação. Comentários em __Python__ são indicados pelo jogo da velha (hash - `#`) e qualquer coisa após este símbolo é ignorado pelo interpretador. Desta forma comentários podem estar na forma de uma linha separada ou no final de uma linha de código, como no exemplo a seguir. "
   ]
  },
  {
   "cell_type": "code",
   "execution_count": 3,
   "metadata": {},
   "outputs": [],
   "source": [
    "pix = 128       # Operador de atribuição\n",
    "pix = pix + 2   # Operador de adição\n",
    "# Operador composto de soma a adição\n",
    "pix += 3        # equivalente a x = x + 3"
   ]
  },
  {
   "cell_type": "markdown",
   "metadata": {},
   "source": [
    "Quando se deseja incluir um comentário que se extende por várias linhas, podem ser utilizadas _strings_ delimitadas com aspas triplas (aspas simples triplas ou aspas duplas triplas) no início e no final do bloco."
   ]
  },
  {
   "cell_type": "code",
   "execution_count": 4,
   "metadata": {},
   "outputs": [],
   "source": [
    "'''\n",
    "Isto é um comentário \n",
    "de múltiplas linhas\n",
    "'''\n",
    "pix = 5"
   ]
  },
  {
   "cell_type": "code",
   "execution_count": 46,
   "metadata": {},
   "outputs": [],
   "source": [
    "\"\"\"\n",
    "Isto também é um comentário \n",
    "de múltiplas linhas\n",
    "\"\"\"\n",
    "pix = 128 "
   ]
  },
  {
   "cell_type": "markdown",
   "metadata": {},
   "source": [
    "##### Fim de linha encerra uma declaração\n",
    "\n",
    "Repare que no exemplo anterior é atribuída à variável `pix` o valor `128`. A declaração termina simplesmente com o fim de linha, ao contrário de outras linguagens como __C__, onde um finalizador (`;`) é necessário. \n",
    "\n",
    "Naqueles casos particulares em que se faz necessário continuar a declaração na próxima linha, pode-se utilizar a barra invertida ( `\\` ) , como no exemplo a seguir."
   ]
  },
  {
   "cell_type": "code",
   "execution_count": 47,
   "metadata": {},
   "outputs": [
    {
     "name": "stdout",
     "output_type": "stream",
     "text": [
      "128.0\n"
     ]
    }
   ],
   "source": [
    "pontoMedio = 32 + 64 + 96 \\\n",
    "    + 160 + 192 + 224\n",
    "pontoMedio = pontoMedio/6\n",
    "print(pontoMedio)"
   ]
  },
  {
   "cell_type": "markdown",
   "metadata": {},
   "source": [
    "A declaração anterior também pode ser implementada em múltiplas linha com a utilização de parênteses. A utilização de parênteses, delimitando uma expressão,  permite continuar a declaração na próxima linha. "
   ]
  },
  {
   "cell_type": "code",
   "execution_count": 48,
   "metadata": {},
   "outputs": [
    {
     "name": "stdout",
     "output_type": "stream",
     "text": [
      "128.0\n"
     ]
    }
   ],
   "source": [
    "pontoMedio = (32 + 64 + 96 +\n",
    "              160 + 192 + 224)/6\n",
    "print(pontoMedio)"
   ]
  },
  {
   "cell_type": "markdown",
   "metadata": {},
   "source": [
    "##### Uso de indentação\n",
    "\n",
    "Se prestar atenção no bloco principal do primeiro exemplo pode-se constatar que fazem parte do mesmo uma estrutura de repetição com um for e uma estrutura condicional com um if/else. Trata-se de um conjunto de instruções que podem ser tratadas como uma unidade ou bloco de código. Veja o seguinte exemplo:"
   ]
  },
  {
   "cell_type": "code",
   "execution_count": 49,
   "metadata": {},
   "outputs": [
    {
     "name": "stdout",
     "output_type": "stream",
     "text": [
      "128.0\n"
     ]
    }
   ],
   "source": [
    "pontoMedio = 0\n",
    "pix = 0\n",
    "for i in range(7):\n",
    "    pix += 32\n",
    "    if (pix != 128):\n",
    "        pontoMedio += pix\n",
    "pontoMedio /= 6\n",
    "print(pontoMedio)"
   ]
  },
  {
   "cell_type": "markdown",
   "metadata": {},
   "source": [
    "Em linguagens como __C__, os blocos de código são definidos por delimitadores específicos como as chaves `{` `}`. \n",
    "\n",
    "Em __Python__ os blocos de códigos são demarcados utilizando indentação. Os blocos de código indentados são sempre precedidos por dois pontos (`:`) no final da linha anterior.\n",
    "\n",
    "Desta forma, em __Python__, a indentação do código não é opcional. Isso torna o código legível. \n",
    "\n",
    "No entanto, um código com vários loops, ou outras construções que envolvam o uso de blocos sintácticos, aninhados será varias vezes recuado para a direita, dificultando a leitura do código.\n",
    "\n",
    "##### Uso de espaço\n",
    "\n",
    "O espaço em branco antes do começo da linha é utilizado para indentação e tem um significado específico na linguagem: linhas indentadas pertencem a um bloco sintáctico. \n",
    "\n",
    "Já o espaço no interior da linha não tem um significado específico mas pode ser utilizado para melhorar a legibilidade do código. \n",
    "\n",
    "De forma geral os programadores __Python__ recomendam utilizar um espaço antes e depois de cada operador binário e nenhum espaço em operadores unários.\n",
    "\n",
    "##### Uso de parênteses\n",
    "\n",
    "Os parênteses podem ser utilizados em diversos contextos. Como em outras linguagens podem ser utilizadas, por exemplo, para agrupar declarações ou operações matemáticas.   \n",
    "\n",
    "Neste contexto a expressão entre parênteses é avaliada antes, sobrepondo-se à ordem definida pela precedência de operadores. Veja a diferença entre as duas expressões utilizadas a seguir:"
   ]
  },
  {
   "cell_type": "code",
   "execution_count": 50,
   "metadata": {},
   "outputs": [
    {
     "name": "stdout",
     "output_type": "stream",
     "text": [
      "Resultado 1:  176.0\n",
      "Resultado 2:  128.0\n"
     ]
    }
   ],
   "source": [
    "# Ordem definida pela precedência dos operadores\n",
    "pontoMedio = 96 + 160 / 2          # primeiro / e depois +\n",
    "print(\"Resultado 1: \", pontoMedio)\n",
    "# Ordem definida pelos parênteses\n",
    "pontoMedio = (96 + 160) / 2        # primeiro + e depois /\n",
    "print(\"Resultado 2: \", pontoMedio)"
   ]
  },
  {
   "cell_type": "markdown",
   "metadata": {},
   "source": [
    "Os parênteses são utilizados também para especificar que se deseja  chamar uma função. Os parênteses que seguem ao nome da função, contém os argumentos da mesma. \n",
    "\n",
    "Mesmo nos casos específicos em que a função não precisa de passagem de parâmetros, também são  utilizados os parênteses. Veja os exemplos a seguir:"
   ]
  },
  {
   "cell_type": "code",
   "execution_count": 51,
   "metadata": {},
   "outputs": [
    {
     "name": "stdout",
     "output_type": "stream",
     "text": [
      "Lista original:  [32, 224, 96, 64, 192, 160]\n",
      "Lista ordenada:  [32, 64, 96, 160, 192, 224]\n"
     ]
    }
   ],
   "source": [
    "L = [32, 224, 96, 64, 192, 160]\n",
    "print(\"Lista original: \", L)  # chamando à função print\n",
    "L.sort()                      # chamando à função sort\n",
    "print(\"Lista ordenada: \", L)"
   ]
  },
  {
   "cell_type": "markdown",
   "metadata": {},
   "source": [
    "Repare que **print** é uma função que espera argumentos, o que desejamos imprimir. Já **sort** é uma função específica de listas, um método, que não recebe parâmetros. \n",
    "\n",
    "> __Leituras recomendadas__: Uma leitura interessante para quem quiser utilizar uma sintaxes padronizada é [PEP 8 -- Style Guide for Python Code](https://peps.python.org/pep-0008/)"
   ]
  },
  {
   "cell_type": "markdown",
   "metadata": {},
   "source": [
    "##### Python: Variáveis e Objetos\n",
    "\n",
    "Trabalhar com variáveis em __Python__ é mais simples que outras linguagens de programação. \n",
    "\n",
    "Para atribuir um valor a uma variável basta apenas colocar o nome da mesma a esquerda seguido pelo operador de atribuição (`=`) e o valor a ela atribuída a direita. \n",
    "\n",
    "Em linguagens mais tradicionais, como __C/C++__, as variáveis podem ser pensadas como um receptáculo de tamanho específico, de acordo com o tipo da variável. Desta forma, antes de atribuir qualquer valor, sempre se faz necessário declarar a variável, ou seja, definir qual tipo precisa ser utilizado (o tamanho do receptáculo). \n",
    "\n",
    "Em __Python__ as variáveis podem ser interpretadas como um ponteiro, ou uma referência, para um receptáculo apropriado para armazenar o valor que a ela está sendo atribuída. Desta forma não é necessário \"declarar\" a variável, o mesmo exigir que uma variável sempre aponte para um mesmo tipo de receptáculo. Veja o exemplo a seguir:"
   ]
  },
  {
   "cell_type": "code",
   "execution_count": 52,
   "metadata": {},
   "outputs": [
    {
     "name": "stdout",
     "output_type": "stream",
     "text": [
      "pix aponta para um inteiro: pix =  128\n",
      "pix aponta agora para uma string: pix =  Pixel\n",
      "pix aponta agora para uma lista: pix =  [64, 128, 196]\n"
     ]
    }
   ],
   "source": [
    "pix = 128             # pix aponta para um inteiro\n",
    "print(\"pix aponta para um inteiro: pix = \", pix)\n",
    "pix = 'Pixel'          # pix aponta agora para uma string\n",
    "print(\"pix aponta agora para uma string: pix = \", pix)\n",
    "pix = [64, 128, 196]     # pix aponta agora para uma lista\n",
    "print(\"pix aponta agora para uma lista: pix = \", pix)"
   ]
  },
  {
   "cell_type": "markdown",
   "metadata": {},
   "source": [
    "Podemos então definir __Python__ como uma linguagem dinamicamente tipada. Esta escolha pode ser elencada como uma das características que fazem da linguagem uma das mais simples e eficientes, em termos de desenvolvimento de código, de se utilizar. \n",
    "\n",
    "Mas tratar variáveis como ponteiros tem suas especificidades e, quando não tratado de forma adequada, pode ter consequências indesejadas. Veja o exemplo a seguir e tire suas próprias conclusões."
   ]
  },
  {
   "cell_type": "code",
   "execution_count": 3,
   "metadata": {},
   "outputs": [
    {
     "name": "stdout",
     "output_type": "stream",
     "text": [
      "Como podemos ver:\n",
      "L1 =  [1, 2, 3]\n",
      "e \n",
      "L2 =  [1, 2, 3]\n",
      "apontam para a mesma lista.\n",
      "Ou seja, se modificarmos a lista referenciamos por L1 ...\n",
      "estamos modificando a lista referenciada por L2 \n",
      "L2 =  [1, 2, 3, 4]\n",
      "Agora, se modoficamos receptáculo para o qual L1 esta apontando ...\n",
      "A variável L2 continua apontando para \n",
      "L2 =  [1, 2, 3, 4]\n",
      "Ao contrario de L1 que\n",
      "L1 =  Agora é uma string\n"
     ]
    }
   ],
   "source": [
    "L1 = [1, 2, 3]          # L1 aponta para uma lista\n",
    "L2 = L1                 # L2 aponta para a mesma lista que L1\n",
    "print(\"Como podemos ver:\")\n",
    "print(\"L1 = \", L1)\n",
    "print(\"e \")\n",
    "print(\"L2 = \", L2)\n",
    "print(\"apontam para a mesma lista.\")\n",
    "print(\"Ou seja, se modificarmos a lista referenciamos por L1 ...\")\n",
    "L1.append(4)            # acrescentando um elemanto na lista\n",
    "print(\"estamos modificando a lista referenciada por L2 \")\n",
    "print(\"L2 = \", L2)\n",
    "print(\"Agora, se modoficamos receptáculo para o qual L1 esta apontando ...\")\n",
    "L1 = \"Agora é uma string\"  \n",
    "print(\"A variável L2 continua apontando para \") \n",
    "print(\"L2 = \", L2)\n",
    "print(\"Ao contrario de L1 que\")\n",
    "print(\"L1 = \", L1)"
   ]
  },
  {
   "cell_type": "markdown",
   "metadata": {},
   "source": [
    "O tratamento de variáveis em __Python__ também utiliza o conceito de variáveis __mutáveis__ e __imutáveis__. \n",
    "\n",
    "Para simplificar o tratamento das operações aritméticas, em __Python__ os números, strings e outros tipos de variáveis simples são tratados como __imutáveis__. Isto significa que não é possível mudar os valores armazenados na variável mas, apenas, mudar para qual espaço da memória está sendo referenciado. Veja o exemplo a seguir."
   ]
  },
  {
   "cell_type": "code",
   "execution_count": 54,
   "metadata": {},
   "outputs": [
    {
     "name": "stdout",
     "output_type": "stream",
     "text": [
      "Inicialmente: \n",
      "pix_1 =  64.0\n",
      "e \n",
      "pix_2 =  64.0\n",
      "Após incrmentar o valor de pix_1 em 1 temos que ...\n",
      "Agora\n",
      "pix_1 =  65.0\n",
      "enquanto \n",
      "pix_2 =  64.0\n"
     ]
    }
   ],
   "source": [
    "# Exemplo com variáveis imutáveis\n",
    "pix_1 = 64.0          # pix_1 referência um inteiro\n",
    "pix_2 = pix_1       # pix_2 referência o mesmo espaço na memória\n",
    "print(\"Inicialmente: \")\n",
    "print(\"pix_1 = \", pix_1)\n",
    "print(\"e \")\n",
    "print(\"pix_2 = \", pix_2)\n",
    "print(\"Após incrmentar o valor de pix_1 em 1 temos que ...\")\n",
    "pix_1 += 1         # incrementando pix_1 em 1\n",
    "print(\"Agora\")\n",
    "print(\"pix_1 = \", pix_1)\n",
    "print(\"enquanto \")\n",
    "print(\"pix_2 = \", pix_2)"
   ]
  },
  {
   "cell_type": "markdown",
   "metadata": {},
   "source": [
    "##### Todas as variáveis são Objetos\n",
    "\n",
    "Podemos anotar num cantinho acessível do caderno: Em __Python__, uma linguagem de programação orientada a objetos, todas as variáveis são na realidade \"referências\" a objetos. \n",
    "\n",
    "Se alguém teve até aqui a ideia de que __Python__ é uma linguagem livre de tipos ou fracamente tipada, pode mudar seus conceitos a respeito. Veja o seguinte exemplo que utiliza tipos simples:"
   ]
  },
  {
   "cell_type": "code",
   "execution_count": 55,
   "metadata": {},
   "outputs": [
    {
     "name": "stdout",
     "output_type": "stream",
     "text": [
      "O valor de x =  4.5\n",
      "O tipo de x é <class 'float'>\n",
      "O tipo de 3.14:  <class 'float'>\n",
      "O valor de i =  4\n",
      "O tipo de i é <class 'int'>\n",
      "Qem lembra de números complexos ou imaginarios?\n",
      "4.5 + 0.0 j\n",
      "Ainda que o tipo de x continua sendo  <class 'float'>\n",
      "Podemos testar também os métodos desta clase\n",
      "Por exemplo: x é um valor inteiro?  False\n",
      "Mas se mudamos o valor de x para x =  4.0\n",
      "Agora: x é um inteiro?  True\n"
     ]
    }
   ],
   "source": [
    "x = 4.5    # x referencia um valor de ponto flutuante\n",
    "i = 4      # i referencia um valor inteiro \n",
    "print(\"O valor de x = \", x)\n",
    "print(\"O tipo de x é\", type(x))\n",
    "print(\"O tipo de 3.14: \", type(3.14))\n",
    "print(\"O valor de i = \", i)\n",
    "print(\"O tipo de i é\", type(i))\n",
    "# Como instância da classe float x pode ser tratado como ...\n",
    "print(\"Qem lembra de números complexos ou imaginarios?\")\n",
    "print(x.real, \"+\", x.imag, \"j\")\n",
    "print(\"Ainda que o tipo de x continua sendo \", type(x))\n",
    "print(\"Podemos testar também os métodos desta clase\")\n",
    "print(\"Por exemplo: x é um valor inteiro? \", x.is_integer())\n",
    "x = 4.0\n",
    "print(\"Mas se mudamos o valor de x para x = \", x)\n",
    "print(\"Agora: x é um inteiro? \", x.is_integer())"
   ]
  },
  {
   "cell_type": "markdown",
   "metadata": {},
   "source": [
    "A afirmação todo em __Python__ é objeto pode ser estendida aos atributos e métodos de uma classe que são, por sua vez, objetos com seus próprios atributos  métodos. Por exemplo:"
   ]
  },
  {
   "cell_type": "code",
   "execution_count": 56,
   "metadata": {},
   "outputs": [
    {
     "name": "stdout",
     "output_type": "stream",
     "text": [
      "<class 'builtin_function_or_method'>\n",
      "<class 'bool'>\n",
      "<class 'float'>\n"
     ]
    }
   ],
   "source": [
    "print(type(x.is_integer))    # Uma função (o método da classe) \n",
    "print(type(x.is_integer()))  # O tipo de retorno da função\n",
    "print(type(x.real))          # Um atributo da classe"
   ]
  },
  {
   "cell_type": "markdown",
   "metadata": {},
   "source": [
    "#### Tipos nativos da dados\n",
    "\n",
    "Vamos começar comentando os tipos nativos de dados mais simples.\n",
    "\n",
    "| Type        | Example        | Description                                                  |\n",
    "|-------------|----------------|--------------------------------------------------------------|\n",
    "| ``int``     | ``x = 1``      | Números inteiros                                             |\n",
    "| ``float``   | ``x = 1.0``    | Números de ponto flutuante                                   |\n",
    "| ``complex`` | ``x = 1 + 2j`` | Números complexos                                            |\n",
    "| ``bool``    | ``x = True``   | Valores booleanos (True ou False)                            |\n",
    "| ``str``     | ``x = 'abc'``  | Cadeias de caracteres, Strings                               |\n",
    "| ``NoneType``| ``x = None``   | Objeto especial indicando null                               |\n",
    "\n",
    "Falaremos um pouco mais sobre cada um destes tipos\n",
    "\n",
    "##### Números Inteiros\n",
    "\n",
    "O tipo numérico mais simples é aquele que representa valores sem caças decimais. Estes valores são representados pela classe `int` que implementa um tipo imutável de dado."
   ]
  },
  {
   "cell_type": "code",
   "execution_count": 57,
   "metadata": {},
   "outputs": [
    {
     "name": "stdout",
     "output_type": "stream",
     "text": [
      "A variavel a armazena o valor  1  e é de tipo:  <class 'int'>\n"
     ]
    }
   ],
   "source": [
    "a = 1\n",
    "print(\"A variavel a armazena o valor \", a, \" e é de tipo: \", type(a))"
   ]
  },
  {
   "cell_type": "markdown",
   "metadata": {},
   "source": [
    "O tipo inteiros em __Python__ tem características importantes que o destacam de tipos equivalentes em outras linguagens. Para começar: as linguagens imperativas tradicionais tratam os tipos inteiros como valores de tamanho _fixo_ e geram condições de _overflow_ para valores acima de determinado limite. Em __Python__ os inteiros têm tamanho variável e podendo, sem nenhum problema, realizar operações com valores muito grandes."
   ]
  },
  {
   "cell_type": "code",
   "execution_count": 58,
   "metadata": {},
   "outputs": [
    {
     "data": {
      "text/plain": [
       "6668014432879854274079851790721257797144758322315908160396257811764037237817632071521432200871554290742929910593433240445888801654119365080363356052330830046095157579514014558463078285911814024728965016135886601981690748037476461291163877376"
      ]
     },
     "execution_count": 58,
     "metadata": {},
     "output_type": "execute_result"
    }
   ],
   "source": [
    "2**800"
   ]
  },
  {
   "cell_type": "markdown",
   "metadata": {},
   "source": [
    "##### Números de Ponto Flutuante\n",
    "\n",
    "Para tratar de valores com caças decimais são utilizados os números de ponto flutuante. \n",
    "Os números de ponto flutuante podem ser representados em notação decimal tradicional ou em notação científica. Veja os exemplos a seguir."
   ]
  },
  {
   "cell_type": "code",
   "execution_count": 59,
   "metadata": {},
   "outputs": [
    {
     "name": "stdout",
     "output_type": "stream",
     "text": [
      "True\n",
      "True\n"
     ]
    }
   ],
   "source": [
    "x = 0.00001 # Representação tradicional\n",
    "y = 1e-5    # Mas pode utilizar e ou E para notação científica\n",
    "print(x == y)\n",
    "\n",
    "x = 1400000.00\n",
    "y = 1.4E6  # Pode utilizar e ou E\n",
    "print(x == y)"
   ]
  },
  {
   "cell_type": "markdown",
   "metadata": {},
   "source": [
    "A representação computacional de valores de ponto flutuante impõe limitações na utilização na implementação da aritmética de ponto flutuante. Estas limitações independem da linguagem utilizada e tem a ver com a quantidade de bits utilizados na representação dos valores. Veja o exemplo a seguir e comente:"
   ]
  },
  {
   "cell_type": "code",
   "execution_count": 4,
   "metadata": {},
   "outputs": [
    {
     "data": {
      "text/plain": [
       "False"
      ]
     },
     "execution_count": 4,
     "metadata": {},
     "output_type": "execute_result"
    }
   ],
   "source": [
    "0.1 + 0.2 == 0.3"
   ]
  },
  {
   "cell_type": "markdown",
   "metadata": {},
   "source": [
    "Veja como estes valores são realmente representados. Para isto vasta agregar algumas caças decimais na hora de imprimir."
   ]
  },
  {
   "cell_type": "code",
   "execution_count": 61,
   "metadata": {},
   "outputs": [
    {
     "name": "stdout",
     "output_type": "stream",
     "text": [
      "0.1 = 0.10000000000000001\n",
      "0.2 = 0.20000000000000001\n",
      "0.1 + 0.2 = 0.30000000000000004\n",
      "0.3 = 0.29999999999999999\n"
     ]
    }
   ],
   "source": [
    "# Veja como são representados os valores anteriores\n",
    "print(\"0.1 = {0:.17f}\".format(0.1))  # formatação que lembra o printf de c\n",
    "print(\"0.2 = {0:.17f}\".format(0.2))\n",
    "print(\"0.1 + 0.2 = {0:.17f}\".format(0.1 + 0.2))\n",
    "print(\"0.3 = {0:.17f}\".format(0.3))"
   ]
  },
  {
   "cell_type": "markdown",
   "metadata": {},
   "source": [
    "Em __Python__ os números de ponto flutuante são truncados internamente, por padrão, em 52 bits após o primeiro bit diferente de zero. Devemos então levar em consideração que a aritmética de ponto flutuante é sempre aproximada e testes de igualdade estrita não são recomendados quando envolvidas este tipo de operações.\n",
    "\n",
    "Veja mais detalhes sobre as operações com valores de ponto flutuante em [# Floating Point Arithmetic: Issues and Limitations](https://docs.python.org/3/tutorial/floatingpoint.html)"
   ]
  },
  {
   "cell_type": "markdown",
   "metadata": {},
   "source": [
    "##### Números Complexos\n",
    "\n",
    "Nos casos em que se faz necessário trabalhar com valores do domínio dos números complexos, __Python__ apresenta uma classe específica para representar este tipo de valores. Trata-se de números com parte real e imaginárias que podem ser definidos com valores inteiros ou de ponto flutuante. "
   ]
  },
  {
   "cell_type": "code",
   "execution_count": 62,
   "metadata": {},
   "outputs": [
    {
     "name": "stdout",
     "output_type": "stream",
     "text": [
      "lam_1 =  (1+2j)  :  <class 'complex'>\n",
      "lam_2 =  (1+2j)  :  <class 'complex'>\n",
      "lam_1 == lam_2 ->  True\n"
     ]
    }
   ],
   "source": [
    "lam_1 = complex(1, 2)   # Representação via complex\n",
    "lam_2 = 1 + 2j;         # Notação para numeros complexos j ou J\n",
    "print(\"lam_1 = \", lam_1, \" : \", type(lam_1))\n",
    "print(\"lam_2 = \", lam_2, \" : \", type(lam_2))\n",
    "print(\"lam_1 == lam_2 -> \", lam_1 == lam_2)"
   ]
  },
  {
   "cell_type": "markdown",
   "metadata": {},
   "source": [
    "A classe `complex` implementa uma serie de atributos e métodos com características e operações básicas para tratar números complexos. Veja alguns exemplos das mesmas, assim como do uso de operadores aritméticos"
   ]
  },
  {
   "cell_type": "code",
   "execution_count": 63,
   "metadata": {},
   "outputs": [
    {
     "name": "stdout",
     "output_type": "stream",
     "text": [
      "lam_1 =  (1+2j)\n",
      "Parte real de lam_1:  1.0\n",
      "Parte imaginária de lam_1:  2.0\n",
      "O complexo conjugado de lam_1:  (1-2j)\n",
      "O môdulo e valor absoluto de lam_1:  2.23606797749979\n"
     ]
    }
   ],
   "source": [
    "print(\"lam_1 = \", lam_1)\n",
    "print(\"Parte real de lam_1: \", lam_1.real)\n",
    "print(\"Parte imaginária de lam_1: \", lam_1.imag)\n",
    "print(\"O complexo conjugado de lam_1: \", lam_1.conjugate())\n",
    "print(\"O môdulo e valor absoluto de lam_1: \", abs(lam_1))"
   ]
  },
  {
   "cell_type": "markdown",
   "metadata": {},
   "source": [
    "##### Cadeias de caracteres (Strings)\n",
    "\n",
    "Cadeias de caracteres ou _strins_ são amplamente utilizados em diferentes aplicações.  Podemos definir uma _string_ em __Python__ como um conjunto de caracteres delimitados utilizando aspas simples ou duplas. Os objetos de tipo _string_ representam tipos imutáveis e possuem uma serie de métodos implementados muito uteis. Veja os exemplos a seguir."
   ]
  },
  {
   "cell_type": "code",
   "execution_count": 64,
   "metadata": {},
   "outputs": [
    {
     "name": "stdout",
     "output_type": "stream",
     "text": [
      "Tamanho de disciplina:  34\n",
      "Professor:  ESBEL T. VALERO ORELLANA\n",
      "Disciplina:  cet1202 - algoritmos e programação\n",
      "Alguem tem dúvidas?\n",
      "Alguem Tem Dúvidas?\n",
      "Objetos imutáveis: \n",
      "CET1202 - Algoritmos e Programação\n",
      "Esbel T. Valero Orellana\n",
      "CET1202 - Algoritmos e Programação em andamento\n",
      "+++++++++++++++++++++++++\n",
      "Código:  CET1202\n",
      "Isto é uma 'String' que contem aspas simples\n",
      "Agora a mesma \"String\" contem aspas duplas\n",
      "Não posso modificar objetos inmutáveis!!!\n",
      "CET1202 - Algoritmos e Programação\n"
     ]
    }
   ],
   "source": [
    "disciplina = \"CET1202 - Algoritmos e Programação\"\n",
    "professor = 'Esbel T. Valero Orellana'\n",
    "\n",
    "# Tamanho da string\n",
    "print(\"Tamanho de disciplina: \", len(disciplina))\n",
    "# transformando maiusculas e minusculas\n",
    "print(\"Professor: \", professor.upper())\n",
    "print(\"Disciplina: \", disciplina.lower())\n",
    "print(\"alguem tem dúvidas?\".capitalize())\n",
    "print(\"alguem tem dúvidas?\".title())\n",
    "\n",
    "#Os métodos anteriores criaram novos objetos sem modificar \n",
    "#o objeto original (imutável)\n",
    "print('Objetos imutáveis: ')\n",
    "print(disciplina)\n",
    "print(professor)\n",
    "\n",
    "# Alguns operadores algebricos funcionam com Strings como:\n",
    "# Para concatenar strings\n",
    "print(disciplina + \" em andamento\")\n",
    "# Ou para repetir uma string\n",
    "print(5*\"+++++\")\n",
    "# Acessando os caracteres da string\n",
    "print(\"Código: \", disciplina[0:7])\n",
    "# Por que utilizar aspas simples ou duplas?\n",
    "stringComAspas = \"Isto é uma 'String' que contem aspas simples\"\n",
    "print(stringComAspas)\n",
    "stringComAspas = 'Agora a mesma \"String\" contem aspas duplas'\n",
    "print(stringComAspas)\n",
    "# As String são objetos inmutaveis então\n",
    "try:\n",
    "    disciplina[0] = professor[0]\n",
    "except:\n",
    "    print(\"Não posso modificar objetos inmutáveis!!!\")\n",
    "    print(disciplina)"
   ]
  },
  {
   "cell_type": "markdown",
   "metadata": {},
   "source": [
    "##### Tipo None\n",
    "\n",
    "O tipo __None__ pode ser comparado, pela sua funcionalidade, ao tipo __NULL__ do __C/C++__. Pode ser utilizado em diversos contextos mas, de forma geral, uma da suas aplicações mais frequentes é como o tipo de retorno padrão das funções. Veja o exemplo da função `print()`, lembrar que em __Python__ todo pode ser entendido como referências a objetos."
   ]
  },
  {
   "cell_type": "code",
   "execution_count": 65,
   "metadata": {},
   "outputs": [
    {
     "name": "stdout",
     "output_type": "stream",
     "text": [
      "Alguma coisa\n",
      "None\n"
     ]
    }
   ],
   "source": [
    "valor_de_retorno = print(\"Alguma coisa\")\n",
    "print(valor_de_retorno)"
   ]
  },
  {
   "cell_type": "markdown",
   "metadata": {},
   "source": [
    "##### Tipo Boolean\n",
    "\n",
    "As variáveis de tipo _boolean_ em __Python__ podem conter dois valores possíveis, `True` ou `False`. Normalmente este é o tipo retornado pelos operadores relacionais. Variáveis _booleans_ também podem ser construídas via _casting_ explícito a partir de variáveis numéricas. Para os herdeiros de __C/C++__, qualquer valor numérico diferente de zero é convertido em `True`. _Strings_ não vazias também geram `True`. As _Strings_ vazias, a variável `None` e zero sempre são convertidos em `False`."
   ]
  },
  {
   "cell_type": "code",
   "execution_count": 66,
   "metadata": {},
   "outputs": [
    {
     "name": "stdout",
     "output_type": "stream",
     "text": [
      "x > 4.0 ->  True\n",
      "b == 4 ->  False\n",
      "bool(x) ->  True\n",
      "bool(zero) ->  False\n",
      "bool(nada) ->  False\n",
      "bool(nulo) ->  False\n"
     ]
    }
   ],
   "source": [
    "x = 5.0\n",
    "b = 3\n",
    "txt = \"texto\"\n",
    "zero = 0\n",
    "nada = \"\"\n",
    "nulo = None\n",
    "print(\"x > 4.0 -> \", x > 4.0)\n",
    "print(\"b == 4 -> \", b == 4)\n",
    "print(\"bool(x) -> \", bool(x))\n",
    "print(\"bool(zero) -> \", bool(zero))\n",
    "print(\"bool(nada) -> \", bool(nada))\n",
    "print(\"bool(nulo) -> \", bool(nulo))"
   ]
  },
  {
   "cell_type": "markdown",
   "metadata": {},
   "source": [
    "#### Python: Operadores\n",
    "\n",
    "Após esclarecermos de forma resumida como se trabalha com variáveis em __Python__, e antes de revisar os diferentes tipos básicos disponíveis, vamos analisar os operadores que estão disponíveis para processar os dados armazenados nestas variáveis.\n",
    "\n",
    "##### Operadores aritméticos\n",
    "\n",
    "Em __Python__ são implementados um conjunto básico de operadores binários e unários, comumente utilizadas em outras linguagens. \n",
    "\n",
    "\n",
    "| Operador     | Nome             | Descrição                                       |\n",
    "|--------------|------------------|-------------------------------------------------|\n",
    "| `a + b`      | Adição           | Soma de `a` e `b`                               |\n",
    "| `a - b`      | Subtração        | Diferença entre `a` e `b`                       |\n",
    "| `a * b`      | Multiplicação    | Producto de `a` e `b`                           |\n",
    "| `a / b`      | Divisão real     | Quociente de `a` e `b`                          |\n",
    "| `a // b`     | Divisão truncada | Quociente de `a` e `b`, removendo a parte fracionária|\n",
    "| `a % b`      | Módulo           | Resto inteiro da divisão de `a` por `b`         |\n",
    "| `a ** b`     | Exponenciação    | `a` elevado à potência de `b`                   |\n",
    "| `-a`         | Unário negativo  | O negativo de `a`                               |\n",
    "\n",
    "Estes operadores pode ser utilizado de forma individual ou combinados e agrupados pelas regras de precedência, ou utilizando parênteses. \n",
    "\n",
    "As regras de precedência dos operadores aritméticos estabelece que, em uma expressão que envolva diferentes operadores, serão avaliadas primeiramente as expressões dentro de parênteses e  depois aquelas que utilizam o operador de exponenciação. Posteriormente são avaliadas aquelas que envolvem os operadores unários de sinal e somente depois as operações de multiplicação, divisão e resto da divisão, que possuem a mesma ordem de precedência. Operações de adição e subtração serão as últimas a serem avaliadas. \n",
    "\n",
    "Quando uma expressão envolver mais de um operador com a mesma ordem de precedência, a mesma é avaliada da esquerda para direita.  \n",
    "\n",
    "Uma novidade, em relação a outras linguagens de programação, é a existência de dois operadores para a divisão. Nas primeiras versões de __Python__ (__Python 2__) operador de divisão se comportava de acordo com as variáveis envolvidas na expressão:\n",
    "\n",
    "* Quando a expressão envolve apenas variáveis inteiras se implementa a divisão truncada que retorna um valor inteiro;\n",
    "* Quando a expressão envolve pelo menos uma variável de ponto flutuante se implementa a divisão real que retorna um valor fracionário;\n",
    "\n",
    "O novo operador de divisão real, implementados a partir de __Python 3__, independe da natureza das variáveis numéricas envolvidas e sempre retornam um valor de ponto flutuante. Veja os exemplos a seguir?"
   ]
  },
  {
   "cell_type": "code",
   "execution_count": 67,
   "metadata": {},
   "outputs": [
    {
     "name": "stdout",
     "output_type": "stream",
     "text": [
      "1 / 3     ->  0.3333333333333333\n",
      "6 / 3     ->  2.0\n",
      "256 / 10     ->  25.6\n",
      "1 / 3.0   ->  0.3333333333333333\n",
      "6.0 / 3   ->  2.0\n",
      "256.0 / 0.5 ->  512.0\n"
     ]
    }
   ],
   "source": [
    "#Divisão real\n",
    "print(\"1 / 3     -> \", 1 / 3)      # variáveis inteiras \n",
    "print(\"6 / 3     -> \", 6 / 3)\n",
    "print(\"256 / 10     -> \", 256 / 10)\n",
    "print(\"1 / 3.0   -> \", 1 / 3.0)    # variáveis de ponto flutuante\n",
    "print(\"6.0 / 3   -> \" , 6.0 / 3)\n",
    "print(\"256.0 / 0.5 -> \", 256.0 / 0.5)"
   ]
  },
  {
   "cell_type": "markdown",
   "metadata": {},
   "source": [
    "Já o operador de divisão truncada preserva o comportamento do operador de divisão tradicional de outras linguagens. Veja os exemplos?"
   ]
  },
  {
   "cell_type": "code",
   "execution_count": 68,
   "metadata": {},
   "outputs": [
    {
     "name": "stdout",
     "output_type": "stream",
     "text": [
      "1 // 3     ->  0\n",
      "6 // 3     ->  2\n",
      "256 // 10     ->  25\n",
      "1 // 3.0   ->  0.0\n",
      "6.0 // 3   ->  2.0\n",
      "256.0 // 0.5 ->  512.0\n"
     ]
    }
   ],
   "source": [
    "#Divisão truncada\n",
    "print(\"1 // 3     -> \", 1 // 3)      # variáveis inteiras \n",
    "print(\"6 // 3     -> \", 6 // 3)\n",
    "print(\"256 // 10     -> \", 256 // 10)\n",
    "print(\"1 // 3.0   -> \", 1 // 3.0)    # variáveis de ponto flutuante\n",
    "print(\"6.0 // 3   -> \" , 6.0 // 3)\n",
    "print(\"256.0 // 0.5 -> \", 256.0 // 0.5)"
   ]
  },
  {
   "cell_type": "markdown",
   "metadata": {},
   "source": [
    "##### Operadores bit a bit\n",
    "\n",
    "Complementando os operadores aritméticos, __Python__ define um conjunto de operadores que permitem trabalhar operações lógicas bit a bit em variáveis inteiras.\n",
    "\n",
    "| Operador     | Nome            | Descrição                                 |\n",
    "|--------------|-----------------|---------------------------------------------|\n",
    "| `a & b`    | AND bit a bit   | Bits igualmente definidos em `a` e `b`        |\n",
    "| <code>a &#124; b</code>| OR bit a bit   | Bits definidos em `a` ou em `b` ou em ambos |\n",
    "| `a ^ b`    | XOR bit a bit   | Bits definidos em `a` ou em `b` mas não em ambos     |\n",
    "| `a << b`   | Deslocamento à esquerda | Desloca os bits de `a` à esquerda `b` unidades     |\n",
    "| `a >> b`   | Deslocamento à direita | Desloca os bits de `a` à direita `b` unidades    |\n",
    "| `~a`       | NOT bit a bit     | Negação bit a bit de `a`                          |\n",
    "\n",
    "\n",
    "Os operadores bit a bit somente fazem sentido quando trabalhamos os valores inteiros utilizando sua representação em binário. Cada bit pode estar associado com algum tipo de informação específica (um interruptor ligado, um gene activado, ...). Neste caso podemos trabalhar os bits individualmente de forma bastante eficiente. \n",
    "\n",
    "Imaginemos, por exemplo, que cada um dos bits de um inteiro representam genes ativados ou não numa determinada sequência genética. "
   ]
  },
  {
   "cell_type": "code",
   "execution_count": 69,
   "metadata": {},
   "outputs": [
    {
     "data": {
      "text/plain": [
       "'0b1111000'"
      ]
     },
     "execution_count": 69,
     "metadata": {},
     "output_type": "execute_result"
    }
   ],
   "source": [
    "# Quais genes estão ativados no individuo com sequencia 120?\n",
    "ind_1 = 120\n",
    "bin(ind_1)"
   ]
  },
  {
   "cell_type": "code",
   "execution_count": 70,
   "metadata": {},
   "outputs": [
    {
     "data": {
      "text/plain": [
       "'0b111111'"
      ]
     },
     "execution_count": 70,
     "metadata": {},
     "output_type": "execute_result"
    }
   ],
   "source": [
    "#Quais genes estão ativados no individuo com sequencia 63?\n",
    "ind_2 = 63\n",
    "bin(ind_2)"
   ]
  },
  {
   "cell_type": "code",
   "execution_count": 71,
   "metadata": {},
   "outputs": [
    {
     "name": "stdout",
     "output_type": "stream",
     "text": [
      "      120  ->  0b1111000\n",
      "      63   ->   0b111111\n",
      "AND:  56   ->   0b111000\n",
      "_________________________________________\n",
      "      120  ->  0b1111000\n",
      "      63   ->   0b111111\n",
      "OR :  127  ->  0b1111111\n",
      "_________________________________________\n",
      "      120  ->  0b1111000\n",
      "      63   ->   0b111111\n",
      "XOR:  71   ->  0b1000111\n",
      "_________________________________________\n",
      "63  ->  0b111111\n",
      "62  ->  0b111110\n",
      "_________________________________________\n"
     ]
    }
   ],
   "source": [
    "# Quais genes estão ativados em ambos indivíduos?\n",
    "print(\"     \", ind_1 , \" -> \", bin(ind_1))\n",
    "print(\"     \", ind_2 , \"  ->  \", bin(ind_2))\n",
    "print(\"AND: \", ind_1 & ind_2, \"  ->  \", bin(ind_1 & ind_2))\n",
    "print(\"_________________________________________\")\n",
    "# Quais genes estão ativados em um ou em outro indivíduo?\n",
    "print(\"     \", ind_1 , \" -> \", bin(120))\n",
    "print(\"     \", ind_2 , \"  ->  \", bin(ind_2))\n",
    "print(\"OR : \", ind_1 | ind_2, \" -> \", bin(ind_1 | ind_2))\n",
    "print(\"_________________________________________\")\n",
    "# Quais genes estão ativados em um ou em outro indivíduo mas não em ambos?\n",
    "print(\"     \", ind_1 , \" -> \", bin(ind_1))\n",
    "print(\"     \", ind_2 , \"  ->  \", bin(ind_2))\n",
    "print(\"XOR: \", ind_1 ^ ind_2, \"  -> \", bin(ind_1 ^ ind_2))\n",
    "# Garanta que o gene mais a direita do segundo indivíduo esteja desligado\n",
    "print(\"_________________________________________\")\n",
    "print(ind_2, \" -> \", bin(ind_2))\n",
    "ind_2 = (ind_2 >> 1) << 1\n",
    "print(ind_2, \" -> \", bin(ind_2))\n",
    "print(\"_________________________________________\")"
   ]
  },
  {
   "cell_type": "markdown",
   "metadata": {},
   "source": [
    "##### Operador de atribuição\n",
    "\n",
    "Até agora utilizamos o operador `=`, de forma natural, como operador de atribuição. Entretanto, nas variáveis imutáveis como as numéricas,  no momento da atribuição não está se atualizando ou alterando o valor contido no espaço de memória referenciado pela variável, como acontece em outras linguagens mais tradicionais. Trata-se de uma atualização do objeto que está sendo referenciado. \n",
    "\n",
    "Quando utilizado em conjunto com os operadores binários, apresentados anteriormente, o operador de atribuição funciona como um operador composto. Ou seja: para cada operador binário `#`, é possível substituir a operação `a = a # b` por `a #= b`. Desta forma teremos\n",
    "\n",
    "\n",
    "| Operador | Exemplo | Equivalente|\n",
    "|----------|---------|------------|\n",
    "|   `+=`     |  `a += b`| `a = a + b`    | \n",
    "|`-=` |`a -= b`| `a = a - b`|\n",
    "|`*=` |`a *= b`| `a = a * b`|  \n",
    "|`/=` |  `a /= b`| `a = a / b` |\n",
    "|`//=` |`a //= b`| `a = a //  b` | \n",
    "|`%=` | `a %= b`| `a = a % b ` | \n",
    "|` **= ` | `a **= b`| `a = a ** b `| \n",
    "|`&=` | `a &= b`| `a = a & b` |\n",
    "| <code> &#124;= </code> | <code> a &#124;= b </code>| <code> a = a &#124; b </code>|\n",
    "| `ˆ=` |`a ^= b`| `a = a ˆ b` |\n",
    "| `<<=` |`a <<= b`| `a = a << b `|\n",
    "| `>>=` |`a >>= b`| `a = a >> b` |"
   ]
  },
  {
   "cell_type": "markdown",
   "metadata": {},
   "source": [
    "##### Operadores lógicos e relacionais\n",
    "\n",
    "Para trabalhar expressões de comparação  __Python__ implementa um conjunto de operadores básicos que retornam `True` ou `False`.\n",
    "\n",
    "\n",
    "| Operação      | Descrição                 | Operação      | Descrição                 |\n",
    "|---------------|---------------------------|---------------|---------------------------|\n",
    "| `a == b`      | `a` igual a `b`           | `a != b`      | `a` diferente de `b`      |\n",
    "| `a < b`       | `a` menor que `b`         | `a > b`       | `a` maior que `b`         |\n",
    "| `a <= b`      | `a` menor ou igual que `b`| `a >= b`      | `a` maior ou igual que `b`|\n",
    "\n",
    "Veja alguns exemplos que combinam operadores aritméticos e relacionais:"
   ]
  },
  {
   "cell_type": "code",
   "execution_count": 72,
   "metadata": {},
   "outputs": [
    {
     "name": "stdout",
     "output_type": "stream",
     "text": [
      " 6 / 5 > 7 / 8 ->  True\n",
      " 6 / 5 < 7 / 8 ->  False\n",
      " 6 / 5 == 7 / 8 ->  False\n",
      " 6 / 5 != 7 / 8 ->  True\n",
      " 6 / 5 >= 7 / 8 ->  True\n",
      " 6 / 5 <= 7 / 8 ->  False\n"
     ]
    }
   ],
   "source": [
    "a = 6 / 5\n",
    "b = 7 / 8\n",
    "print( \" 6 / 5 > 7 / 8 -> \", a > b)\n",
    "print( \" 6 / 5 < 7 / 8 -> \", a < b)\n",
    "print( \" 6 / 5 == 7 / 8 -> \", a == b)\n",
    "print( \" 6 / 5 != 7 / 8 -> \", a != b)\n",
    "print( \" 6 / 5 >= 7 / 8 -> \", a >= b)\n",
    "print( \" 6 / 5 <= 7 / 8 -> \", a <= b)"
   ]
  },
  {
   "cell_type": "code",
   "execution_count": 73,
   "metadata": {},
   "outputs": [
    {
     "name": "stdout",
     "output_type": "stream",
     "text": [
      "6 é um número par? ->  True\n",
      " e 7 é par? ->  False\n"
     ]
    }
   ],
   "source": [
    "print(\"6 é um número par? -> \", (6 % 2) == 0)\n",
    "print(\" e 7 é par? -> \", (7 % 2) == 0)"
   ]
  },
  {
   "cell_type": "markdown",
   "metadata": {},
   "source": [
    "Veja um exemplo um pouco mais complexo de uso de operadores relacionais. "
   ]
  },
  {
   "cell_type": "code",
   "execution_count": 74,
   "metadata": {},
   "outputs": [
    {
     "name": "stdout",
     "output_type": "stream",
     "text": [
      "Valores de L dentro do intervalo fechado (15, 30)\n",
      "15 <  10  < 30 ->  False\n",
      "15 <  25  < 30 ->  True\n",
      "15 <  40  < 30 ->  False\n"
     ]
    }
   ],
   "source": [
    "L = [ 10, 25, 40]\n",
    "print(\"Valores de L dentro do intervalo fechado (15, 30)\")\n",
    "for x in L:\n",
    "    print(\"15 < \", x, \" < 30 -> \", 15 < x < 30)"
   ]
  },
  {
   "cell_type": "markdown",
   "metadata": {},
   "source": [
    "As operações envolvendo variáveis com valores booleanos, muitas vezes precisam ser combinadas. Para trabalhar estas operações de álgebra booleana estão implementados os operadores básicos `and`, `or` e `not`. O operador `xor` lógico não está explicitamente definido na linguagem."
   ]
  },
  {
   "cell_type": "code",
   "execution_count": 75,
   "metadata": {},
   "outputs": [
    {
     "name": "stdout",
     "output_type": "stream",
     "text": [
      "Valores de L dentro do intervalo fechado (15, 30)\n",
      "15 <  10  < 30 ->  False\n",
      "15 <  25  < 30 ->  True\n",
      "15 <  40  < 30 ->  False\n"
     ]
    }
   ],
   "source": [
    "print(\"Valores de L dentro do intervalo fechado (15, 30)\")\n",
    "for x in L:\n",
    "    print(\"15 < \", x, \" < 30 -> \", (15 < x) and (x < 30))"
   ]
  },
  {
   "cell_type": "code",
   "execution_count": 76,
   "metadata": {},
   "outputs": [
    {
     "name": "stdout",
     "output_type": "stream",
     "text": [
      "Valores de L fora do intervalo fechado (15, 30)\n",
      "15 >=  10  >= 30 ->  True\n",
      "15 >=  25  >= 30 ->  False\n",
      "15 >=  40  >= 30 ->  True\n"
     ]
    }
   ],
   "source": [
    "print(\"Valores de L fora do intervalo fechado (15, 30)\")\n",
    "for x in L:\n",
    "    print(\"15 >= \", x, \" >= 30 -> \", (15 >= x) or (x >= 30))"
   ]
  },
  {
   "cell_type": "markdown",
   "metadata": {},
   "source": [
    "##### Operadores identidade e pertence \n",
    "\n",
    "__Python__ introduz também dois operadores particularmente importantes que serão muito utilizados. Estes operadores permitam avaliar se duas referências estão se apontando ao mesmo objeto (operador identidade) e se u um objeto pertence a um conjunto.  \n",
    "\n",
    "| Operador      | Descrição                                         |\n",
    "|---------------|---------------------------------------------------|\n",
    "| `a is b`    | `True` se `a`  e `b` são objetos idênticos       |\n",
    "| `a is not b`| `True` se `a` e `b` não são objetos idênticos   |\n",
    "| `a in b`    | `True` se `a` é membro do conjunto `b`          |\n",
    "| `a not in b`| True se `a` não é membro do conjunto `b`      |\n",
    "\n",
    "Importante ressaltar que objetos idênticos não é a mesma coisa que objetos iguais. Veja o seguinte exemplo."
   ]
  },
  {
   "cell_type": "code",
   "execution_count": 5,
   "metadata": {},
   "outputs": [
    {
     "name": "stdout",
     "output_type": "stream",
     "text": [
      "L:  [10, 25, 40]\n",
      "Lc:  [10, 25, 40]\n",
      "1 - L é igual a Lc? True\n",
      "2 - L é idêntico a Lc? False\n",
      "3 - L é igual a Lc? True\n",
      "4 - L é idêntico a Lc? True\n"
     ]
    }
   ],
   "source": [
    "L = [ 10, 25, 40]\n",
    "Lc = [10, 25, 40]\n",
    "print(\"L: \", L)\n",
    "print(\"Lc: \", Lc)\n",
    "print(\"1 - L é igual a Lc?\", L == Lc)\n",
    "print(\"2 - L é idêntico a Lc?\", L is Lc)\n",
    "Lc = L\n",
    "print(\"3 - L é igual a Lc?\", L == Lc)\n",
    "print(\"4 - L é idêntico a Lc?\", L is Lc)"
   ]
  },
  {
   "cell_type": "markdown",
   "metadata": {},
   "source": [
    "O operador `in` é um exemplo clássico dos recursos que fazem de __Python__ um linguagem de fácil leitura e escrita. As operações de busca em conjuntos são, de forma geral, implementadas utilizando estruturas de repetição custosas e, geralmente, de difícil leitura. Veja estes exemplos simples, que funcionam de forma eficiente.  "
   ]
  },
  {
   "cell_type": "code",
   "execution_count": 78,
   "metadata": {},
   "outputs": [
    {
     "name": "stdout",
     "output_type": "stream",
     "text": [
      "L:  [10, 25, 40]\n",
      "5 pertence a L? False\n",
      "5 não pertence a L? True\n",
      "25 pertence a L? True\n",
      "37 não pertence a L? True\n"
     ]
    }
   ],
   "source": [
    "L = [ 10, 25, 40]\n",
    "print(\"L: \", L)\n",
    "print(\"5 pertence a L?\", 5 in L)\n",
    "print(\"5 não pertence a L?\", 5 not in L)\n",
    "print(\"25 pertence a L?\", 25 in L)\n",
    "print(\"37 não pertence a L?\", 37 not in L)"
   ]
  },
  {
   "cell_type": "markdown",
   "metadata": {},
   "source": [
    "Para finalizar veja a tabela a seguir que apresenta os operadores em ordem decrescente de precedência em __Python__\n",
    "\n",
    "\n",
    "| Operador | Descrição                     |\n",
    "|-----------|-----------------------|\n",
    "| `()`             |   Parênteses               |\n",
    "| `**`             |   Exponenciação        |\n",
    "| `+x`, `-x`, `~x` | Unário positivo, unário negativo, NOT bit a bit |\n",
    "| `*`, `/`, `//`, `%`  | Multiplicação, Divisão real, Divisão truncada, Módulo |\n",
    "| `+`, `-`              |  Adição, Subtração|\n",
    "|  `<<`, `>>`     | Deslocamentos bit a bit |\n",
    "| `&`         | Operador `AND` bit a bit   |\n",
    "| `^`        |  Operador `XOR` bit a bit    |\n",
    "| <code> &#124; </code>          | Operador `OR` bit a bot |\n",
    "| `==`, `!=`, `>`, `>=`, `<`, `<=`, `is`, `is not`, `in`, `not in` | Operadores relacionais, identidade e pertence |\n",
    "| `not` | Operador `NOT` lógico |\n",
    "| `and` | Operador AND`lógico |\n",
    "| `or` | Operador ÒR`lógico |\n"
   ]
  },
  {
   "cell_type": "markdown",
   "metadata": {},
   "source": [
    "#### Tipos de dados estruturados nativos \n",
    "\n",
    "Além dos tipos mais simples __Python__ fornece um conjunto de tipos de dados estruturados muito rico e interessante. \n",
    "\n",
    "| Nome      | Exemplo                   | Descrição                              | \n",
    "|-----------|---------------------------|--------------------------------------- |\n",
    "| `list`    | `[1, 2, 3]`               | Coleção ordenada                       |\n",
    "| `tuple`   | `(1, 2, 3)`               | Coleção imutável ordenada             |\n",
    "| `dict`    | `{'a':1, 'b':2, 'c':3}`   | Mapeamento do tipo (chave, valor)      |\n",
    "| `set`     | `{1, 2, 3}`               | Coleção não ordenada de valores únicos |\n",
    "\n",
    "Novamente vamos nos debruçar sobre cada um destes tipos.\n",
    "\n",
    "##### Listas\n",
    "\n",
    "Em __Python__ uma lista é definida como uma estrutura básica, ordenada e mutável. Mais espec[ificamente, uma lista se define como um conjunto de valores, separados por virgula e delimitados por `[ ... ]`. Veja o seguinte exemplo, onde demonstramos algumas das propriedades e métodos das listas. Maiores informações sobre listas podem ser acessadas na documentação oficial [More on Lists](https://docs.python.org/3/library/stdtypes.html)"
   ]
  },
  {
   "cell_type": "code",
   "execution_count": 79,
   "metadata": {},
   "outputs": [
    {
     "name": "stdout",
     "output_type": "stream",
     "text": [
      "Uma lista P formada por números pares:  [2, 4, 6, 8, 10]\n",
      "De tamanho len(P):  5\n",
      "Adicionando o elemento 12 no final da lista.\n",
      "A lista agora ficou assim:  [2, 4, 6, 8, 10, 12]\n",
      "Uma nova lista PpI resultado de concatenar P com uma lista de números ímpares\n",
      "[2, 4, 6, 8, 10, 12, 1, 3, 5, 7, 9, 11]\n",
      "A lista Pt3 resultado de repetir os elementos de P 3 vezes\n",
      "[2, 4, 6, 8, 10, 12, 2, 4, 6, 8, 10, 12, 2, 4, 6, 8, 10, 12]\n",
      "A lista PpI ordenada com o método short():  [1, 2, 3, 4, 5, 6, 7, 8, 9, 10, 11, 12]\n",
      "A lista ordenada:  [1, 2, 3, 4, 5, 6, 7, 8, 9, 10, 11, 12]\n",
      "Alterando o elemento PpI[0]:  [0, 2, 3, 4, 5, 6, 7, 8, 9, 10, 11, 12]\n"
     ]
    }
   ],
   "source": [
    "# A lista dos 5 primeiros números pares\n",
    "P = [ 2, 4, 6, 8, 10]\n",
    "print(\"Uma lista P formada por números pares: \", P)\n",
    "print(\"De tamanho len(P): \", len(P)) # Tamanho da lista: a função len() retorna o tamanho da lista\n",
    "print(\"Adicionando o elemento 12 no final da lista.\")#Acrescentando um valor no final da lista\n",
    "P.append(12)\n",
    "print(\"A lista agora ficou assim: \", P)\n",
    "# Os operadores aritméticos também funcionam com listas da mesma forma que \n",
    "# com strings\n",
    "# Concatenando lista\n",
    "print(\"Uma nova lista PpI resultado de concatenar P com uma lista de números ímpares\")\n",
    "PpI = P + [1, 3, 5, 7, 9, 11]\n",
    "print(PpI)\n",
    "# Repetindo os elementos da lista\n",
    "print(\"A lista Pt3 resultado de repetir os elementos de P 3 vezes\")      \n",
    "Pt3 = 3*P\n",
    "print(Pt3)\n",
    "# Ordenando a lista\n",
    "PpI.sort()\n",
    "print(\"A lista PpI ordenada com o método short(): \", PpI)\n",
    "# A lista, ao contrario de uma string, é mutável\n",
    "print(\"A lista ordenada: \", PpI)\n",
    "PpI[0] = 0\n",
    "print(\"Alterando o elemento PpI[0]: \", PpI)"
   ]
  },
  {
   "cell_type": "markdown",
   "metadata": {},
   "source": [
    "Mas se você está achando que as listas em __Python__ são o equivalente aos _arrays_ em outras linguagens, como __C/C++__, está errado. As listas que vimos até agora armazenam dados do mesmo tipo. Mas as listas estão mais para listas de compras onde pode entrar líquidos, sólidos, perecíveis, biscoitos, legumes, cerveja, itens de limpeza, por quilos, por litros, por quantidade, etc. Ou seja, listas não se restringem a um tipo específico, e podem armazenar dados de tipos diferentes. Uma lista pode até ser formada por outras listas. Veja os exemplos a seguir."
   ]
  },
  {
   "cell_type": "code",
   "execution_count": 80,
   "metadata": {},
   "outputs": [
    {
     "name": "stdout",
     "output_type": "stream",
     "text": [
      "[1, 2.0, 'três', [4, 5.0]]\n",
      "Não consegui ordenar:  '<' not supported between instances of 'str' and 'float'\n"
     ]
    }
   ],
   "source": [
    "Lh = [1, 2.0, \"três\", [16//4, 10/2]]\n",
    "print(Lh)\n",
    "try:\n",
    "    print(Lh.sort())\n",
    "except Exception as inst:\n",
    "    print(\"Não consegui ordenar: \", inst)\n",
    "#print(Lh.sort())"
   ]
  },
  {
   "cell_type": "markdown",
   "metadata": {},
   "source": [
    "##### Indexando listas, slicing\n",
    "\n",
    "Os elementos de uma lista podem ser acessados individualmente através do índice que identifica cada um de maneira única. Em __Python__, da mesma forma que em __C/C++__, se implementa a indexação começando em zero. Como novidade, podemos utilizar índices negativos para acessar a lista de trás para frente. Desta forma:"
   ]
  },
  {
   "cell_type": "code",
   "execution_count": 81,
   "metadata": {},
   "outputs": [
    {
     "name": "stdout",
     "output_type": "stream",
     "text": [
      "Lista:  [0, 2, 3, 4, 5, 6, 7, 8, 9, 10, 11, 12]\n",
      "PpI[0] =  0\n",
      "PpI[1] =  2\n",
      "Tamanho da lista n =  12\n",
      "PpI[n-1] =  12\n",
      "PpI[-1] =  12\n",
      "PpI[-2] =  11\n",
      "Utilizando indexação fora dos limites da lista\n",
      "Não consegui imprimir:  list index out of range\n"
     ]
    }
   ],
   "source": [
    "# A lista PpI anteriormente definida\n",
    "print(\"Lista: \", PpI)\n",
    "# O primeiro elemento da lista é \n",
    "print(\"PpI[0] = \", PpI[0])\n",
    "# e o segundo é\n",
    "print(\"PpI[1] = \", PpI[1])\n",
    "# O tamanho da lista \n",
    "n = len(PpI)\n",
    "print(\"Tamanho da lista n = \", n)\n",
    "# O último elemento da lista pode ser acessado como:\n",
    "print(\"PpI[n-1] = \", PpI[n-1])\n",
    "# O é então como:\n",
    "print(\"PpI[-1] = \", PpI[-1])\n",
    "# e o anterior a ele\n",
    "print(\"PpI[-2] = \", PpI[-2])\n",
    "print(\"Utilizando indexação fora dos limites da lista\")\n",
    "try:\n",
    "    print(\"O elemento PpI[n] = \", PpI[n])\n",
    "except Exception as inst:\n",
    "    print(\"Não consegui imprimir: \", inst)"
   ]
  },
  {
   "cell_type": "markdown",
   "metadata": {},
   "source": [
    "Os elementos podem ser acessados também como sub listas geradas utilizando o mecanismo de _slicing_. O _slicing_ consiste do uso de uma sintaxe, baseada no emprego de `[ini:fim]`, para identificar o início (`ini`) da sub lista, incluído nela, e o final, não incluído. Podemos omitir o início da sub lista (`[:fim]`) e, neste caso, a mesma começa no elemento de índice 0. Também podemos omitir o final (`[ini:]`) e serão incluídos os elementos até o final da lista. Um terceiro inteiro pode ser utilizado no slicing, `[ini:fim:passo]` para definir o intervalo entre um elemento e outro a ser selecionado para integrar a sub lista. Veja os exemplos a seguir:"
   ]
  },
  {
   "cell_type": "code",
   "execution_count": 82,
   "metadata": {},
   "outputs": [
    {
     "name": "stdout",
     "output_type": "stream",
     "text": [
      "P[:3] =  [2, 4, 6]\n",
      "P[1:] =  [4, 6, 8, 10]\n",
      "P[1:4] =  [4, 6, 8]\n",
      "PpI[::2] =  [0, 3, 5, 7, 9, 11]\n"
     ]
    }
   ],
   "source": [
    "P = [ 2, 4, 6, 8, 10]\n",
    "# Os primeiros três elementos de P\n",
    "print(\"P[:3] = \", P[:3]) # equivale a P[0:3], retorna os elemento de índice 0, 1 e 2\n",
    "# Os elementos da lista excluindo o primeiro\n",
    "print(\"P[1:] = \",P[1:]) # equivale a P[1:len(P)]\n",
    "# Uma sub lista da original, retorna os elementos de índice 1, 2 e 3\n",
    "print(\"P[1:4] = \", P[1:4])\n",
    "# Extraindo os elementos com índice par da lista completa\n",
    "print(\"PpI[::2] = \",PpI[::2]) # equivale a PpI[0:len(PpI):2]"
   ]
  },
  {
   "cell_type": "markdown",
   "metadata": {},
   "source": [
    "A sintaxes do _slicing_ pode ser utilizada também em outras estruturas, como _strings_, tuplas ou nos arrays definidos em pacotes como o __NumPy__ e o __Pandas__. Vejamos como mostrar uma string ao contrario usando slicing"
   ]
  },
  {
   "cell_type": "code",
   "execution_count": 83,
   "metadata": {},
   "outputs": [
    {
     "name": "stdout",
     "output_type": "stream",
     "text": [
      "kjihgfedcba\n",
      "[9, 8, 7, 6, 5, 4, 3, 2, 1]\n"
     ]
    }
   ],
   "source": [
    "texto = \"abcdefghijk\"\n",
    "print(texto[::-1])\n",
    "lista = [1,2,3,4,5,6,7,8,9]\n",
    "print(lista[: :-1])"
   ]
  },
  {
   "cell_type": "markdown",
   "metadata": {},
   "source": [
    "##### Tuplas\n",
    "\n",
    "Tuplas são bastante similares a listas em alguns aspectos. São definidas como um conjunto de elementos separados por vírgula e delimitados por parênteses. As tuplas também tem tamanho definido (`len`) e os elementos da mesma também podem ser acessados pelo seu índice. A principal diferença é que as tuplas são imutáveis, ou seja, uma vez criadas seu tamanho e seu conteúdo não podem ser alterados. Veja os exemplos:"
   ]
  },
  {
   "cell_type": "code",
   "execution_count": 84,
   "metadata": {},
   "outputs": [
    {
     "name": "stdout",
     "output_type": "stream",
     "text": [
      "(2, 3.6)\n",
      "('a', 'b', 3)\n",
      "tripla[0] ->  a\n",
      "Não consegui modificar a tupla:  'tuple' object does not support item assignment\n"
     ]
    }
   ],
   "source": [
    "dupla = (2,3.6)\n",
    "print(dupla)\n",
    "c = 3\n",
    "tripla = (\"a\", 'b', c)\n",
    "print(tripla)\n",
    "print(\"tripla[0] -> \", tripla[0])\n",
    "# Sobre o fato de serem imutaveis \n",
    "try:\n",
    "    tripla[2] = 3\n",
    "except Exception as inst:\n",
    "    print(\"Não consegui modificar a tupla: \", inst)"
   ]
  },
  {
   "cell_type": "markdown",
   "metadata": {},
   "source": [
    "As tuplas podem ser utilizadas em diversos contextos. Um exemplo simples pode ser o caso das funções que precisam retornar mais de uma variável. Veja este exemplo interessante que demonstra as potencialidade de __Python__."
   ]
  },
  {
   "cell_type": "code",
   "execution_count": 85,
   "metadata": {},
   "outputs": [
    {
     "name": "stdout",
     "output_type": "stream",
     "text": [
      "<class 'tuple'>\n",
      "(1, 8)\n",
      "1 / 8\n",
      "1 / 8\n",
      "0.125\n",
      "p1 =  (1.0, 2.3)\n",
      "p2 =  (1.0, 2.3)\n",
      "p1 =  (1.0, 2.3, 3.4)\n",
      "p2 =  (1.0, 2.3)\n",
      "P1 é uma tupla de  3  componentes.\n",
      "O último componente da tupla é P1[-1] =  3.4\n"
     ]
    }
   ],
   "source": [
    "# X armazena um valor de ponto flutuante\n",
    "x = 0.125\n",
    "# Na realidade este valor pode ser representado como uma fração\n",
    "fracão = x.as_integer_ratio()\n",
    "print(type(fracão))\n",
    "print(x.as_integer_ratio()) # método da classe dos objetos da classe ponto flutuante\n",
    "numerador, denominador = x.as_integer_ratio() # o método retorna uma dupla\n",
    "print(numerador, \"/\", denominador) # aqui escrevendo como uma fração\n",
    "print(fracão[0], \"/\", fracão[1])\n",
    "print(numerador / denominador) # aqui escrevendo novamente como um ponto flutuante\n",
    "# referenciando Tuplas\n",
    "p1 = (1.0, 2.3)\n",
    "print(\"p1 = \", p1)\n",
    "p2 = p1\n",
    "print(\"p2 = \", p2)\n",
    "p1 = (1.0, 2.3, 3.4)\n",
    "print(\"p1 = \", p1)\n",
    "print(\"p2 = \", p2)\n",
    "# Sobre indexamento e tamanho das tuplas\n",
    "print(\"P1 é uma tupla de \", len(p1), \" componentes.\")\n",
    "print(\"O último componente da tupla é P1[-1] = \", p1[-1])"
   ]
  },
  {
   "cell_type": "markdown",
   "metadata": {},
   "source": [
    "Veja este outro exemplo utilizando o classico problema de trocar os valores de duas variáveis:"
   ]
  },
  {
   "cell_type": "code",
   "execution_count": 86,
   "metadata": {},
   "outputs": [
    {
     "name": "stdout",
     "output_type": "stream",
     "text": [
      "a =  5  e b =  4\n",
      "a =  4  e b =  5\n",
      "a =  5  e b =  4\n"
     ]
    }
   ],
   "source": [
    "a = 5\n",
    "b = 4\n",
    "print(\"a = \", a, \" e b = \", b)\n",
    "# Trocando da forma tradicional\n",
    "swap = a\n",
    "a = b\n",
    "b = swap\n",
    "print(\"a = \", a, \" e b = \", b)\n",
    "#trocando usando tuplas\n",
    "a, b = b, a\n",
    "print(\"a = \", a, \" e b = \", b)"
   ]
  }
 ],
 "metadata": {
  "kernelspec": {
   "display_name": "Python 3 (ipykernel)",
   "language": "python",
   "name": "python3"
  },
  "language_info": {
   "codemirror_mode": {
    "name": "ipython",
    "version": 3
   },
   "file_extension": ".py",
   "mimetype": "text/x-python",
   "name": "python",
   "nbconvert_exporter": "python",
   "pygments_lexer": "ipython3",
   "version": "3.10.14"
  }
 },
 "nbformat": 4,
 "nbformat_minor": 4
}
